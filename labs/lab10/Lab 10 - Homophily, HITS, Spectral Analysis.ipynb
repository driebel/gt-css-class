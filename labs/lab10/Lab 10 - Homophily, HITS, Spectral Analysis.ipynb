{
 "cells": [
  {
   "cell_type": "markdown",
   "metadata": {},
   "source": [
    "# Lab 10: Homophily, Hits, Spectral Analysis\n",
    "\n",
    "In this lab, we continue to explore a social network of legislators and the organizations that contribute to their campaigns.\n",
    "\n",
    "The data is from [opensecrets.org](opensecrets.org), which collects public records about campaign finance in the United States.\n",
    "\n",
    "We'll use `networkx`, a python package for social network analysis."
   ]
  },
  {
   "cell_type": "code",
   "execution_count": 17,
   "metadata": {
    "collapsed": true
   },
   "outputs": [],
   "source": [
    "import pandas as pd\n",
    "import networkx as nx\n",
    "import numpy as np\n",
    "%matplotlib inline\n",
    "import matplotlib.pyplot as plt"
   ]
  },
  {
   "cell_type": "code",
   "execution_count": null,
   "metadata": {
    "collapsed": true
   },
   "outputs": [],
   "source": [
    "#update networkx to version 2.0"
   ]
  },
  {
   "cell_type": "code",
   "execution_count": 109,
   "metadata": {},
   "outputs": [
    {
     "name": "stdout",
     "output_type": "stream",
     "text": [
      "Collecting networkx\n",
      "  Downloading networkx-2.0.zip (1.5MB)\n",
      "\u001b[K    100% |████████████████████████████████| 1.6MB 289kB/s ta 0:00:011\n",
      "\u001b[?25hCollecting decorator>=4.1.0 (from networkx)\n",
      "  Using cached decorator-4.1.2-py2.py3-none-any.whl\n",
      "Building wheels for collected packages: networkx\n",
      "  Running setup.py bdist_wheel for networkx ... \u001b[?25ldone\n",
      "\u001b[?25h  Stored in directory: /Users/shawnramirez/Library/Caches/pip/wheels/27/82/23/785d5d01de2271edf929ac2761cb5dafc0dfa76a0861bfd128\n",
      "Successfully built networkx\n",
      "Installing collected packages: decorator, networkx\n",
      "Successfully installed decorator-4.1.2 networkx-2.0\n"
     ]
    }
   ],
   "source": [
    "! pip install --user --upgrade networkx"
   ]
  },
  {
   "cell_type": "markdown",
   "metadata": {},
   "source": [
    "## Reading in the data"
   ]
  },
  {
   "cell_type": "code",
   "execution_count": 92,
   "metadata": {
    "collapsed": true
   },
   "outputs": [],
   "source": [
    "#read in basic data on legislators\n",
    "df = pd.read_csv('legislators.csv',index_col=0)"
   ]
  },
  {
   "cell_type": "code",
   "execution_count": 93,
   "metadata": {},
   "outputs": [
    {
     "data": {
      "text/plain": [
       "(539, 21)"
      ]
     },
     "execution_count": 93,
     "metadata": {},
     "output_type": "execute_result"
    }
   ],
   "source": [
    "df.shape"
   ]
  },
  {
   "cell_type": "code",
   "execution_count": 94,
   "metadata": {
    "collapsed": true
   },
   "outputs": [],
   "source": [
    "get_leg_by_name = lambda name : df.loc[df['firstlast']==name]\n",
    "get_leg_by_cid = lambda cid : df.loc[df['cid']==cid]"
   ]
  },
  {
   "cell_type": "code",
   "execution_count": 95,
   "metadata": {
    "collapsed": true
   },
   "outputs": [],
   "source": [
    "#read in the contributions data\n",
    "G = nx.read_gexf('contributions.xml')"
   ]
  },
  {
   "cell_type": "code",
   "execution_count": 96,
   "metadata": {
    "collapsed": true
   },
   "outputs": [],
   "source": [
    "#create code to crossreference columns in the legislator data  \n",
    "leg_attr = lambda leg, attr : leg[attr].values[0]\n",
    "\n",
    "# might break if two legislators have the same name\n",
    "name_to_cid = lambda name : leg_attr(get_leg_by_name(name),'cid')\n",
    "\n",
    "cid_to_name = lambda cid : leg_attr(get_leg_by_cid(cid),'firstlast')"
   ]
  },
  {
   "cell_type": "code",
   "execution_count": 97,
   "metadata": {
    "collapsed": true
   },
   "outputs": [],
   "source": [
    "#separate the legislator nodes from the contributors nodes\n",
    "leg_nodes = [node for node in G.nodes() if node in df['cid'].values]\n",
    "contrib_nodes = [node for node in G.nodes() if node not in leg_nodes]"
   ]
  },
  {
   "cell_type": "code",
   "execution_count": 98,
   "metadata": {
    "collapsed": true
   },
   "outputs": [],
   "source": [
    "#and identify the biggest contributors\n",
    "big_contribs = [node for node in contrib_nodes if nx.degree(G,node)>=20]"
   ]
  },
  {
   "cell_type": "code",
   "execution_count": 25,
   "metadata": {},
   "outputs": [
    {
     "data": {
      "text/plain": [
       "537"
      ]
     },
     "execution_count": 25,
     "metadata": {},
     "output_type": "execute_result"
    }
   ],
   "source": [
    "len(leg_nodes)"
   ]
  },
  {
   "cell_type": "code",
   "execution_count": 26,
   "metadata": {},
   "outputs": [
    {
     "data": {
      "text/plain": [
       "1876"
      ]
     },
     "execution_count": 26,
     "metadata": {},
     "output_type": "execute_result"
    }
   ],
   "source": [
    "len(contrib_nodes)"
   ]
  },
  {
   "cell_type": "markdown",
   "metadata": {},
   "source": [
    "## Projection\n",
    "\n",
    "The legislator-contributor network is an example of an **affiliation network**. \n",
    "\n",
    "We can **project** across either set of nodes, inducing a network of legislators who share donors, or a network of contributors who donate to the same legislators. Let's now briefly investigate the projected legislator network."
   ]
  },
  {
   "cell_type": "code",
   "execution_count": 99,
   "metadata": {
    "collapsed": true
   },
   "outputs": [],
   "source": [
    "#this creates a projection of legislators who share the same donors\n",
    "G_leg = nx.projected_graph(G,leg_nodes)"
   ]
  },
  {
   "cell_type": "code",
   "execution_count": 100,
   "metadata": {},
   "outputs": [
    {
     "data": {
      "text/plain": [
       "537"
      ]
     },
     "execution_count": 100,
     "metadata": {},
     "output_type": "execute_result"
    }
   ],
   "source": [
    "G_leg.number_of_nodes()"
   ]
  },
  {
   "cell_type": "code",
   "execution_count": 29,
   "metadata": {},
   "outputs": [
    {
     "data": {
      "text/plain": [
       "32944"
      ]
     },
     "execution_count": 29,
     "metadata": {},
     "output_type": "execute_result"
    }
   ],
   "source": [
    "G_leg.number_of_edges()"
   ]
  },
  {
   "cell_type": "markdown",
   "metadata": {},
   "source": [
    "Let's plot the degree distribution of this graph"
   ]
  },
  {
   "cell_type": "code",
   "execution_count": 101,
   "metadata": {
    "collapsed": true
   },
   "outputs": [],
   "source": [
    "degrees = {leg:nx.degree(G_leg,leg) for leg in leg_nodes}"
   ]
  },
  {
   "cell_type": "code",
   "execution_count": 102,
   "metadata": {},
   "outputs": [
    {
     "data": {
      "image/png": "[encoded data removed]",
      "text/plain": [
       "<matplotlib.figure.Figure at 0x1144dd630>"
      ]
     },
     "metadata": {},
     "output_type": "display_data"
    }
   ],
   "source": [
    "plt.loglog(sorted(degrees.values(),reverse=True))\n",
    "plt.xlabel('rank')\n",
    "plt.ylabel('degree');"
   ]
  },
  {
   "cell_type": "markdown",
   "metadata": {},
   "source": [
    "Almost all nodes here have degree > 100. Definitely not a scale-free network: the number of links originating from a node does not exhibit a power law distribution. This indicates that we do not observe evidence of hubs or preferential attachment."
   ]
  },
  {
   "cell_type": "markdown",
   "metadata": {},
   "source": [
    "## Homophily\n",
    "\n",
    "The property of homophily or assortative mixing is that individuals with similar properties tend to be connected. Homophily or assortative mixing means that the attributes of vertices correlate across edges. That is, when I observe some edge (i, j) in a network and then examine the attributes of i and j, I see that those attributes are similar to each other."
   ]
  },
  {
   "cell_type": "code",
   "execution_count": 103,
   "metadata": {
    "collapsed": true
   },
   "outputs": [],
   "source": [
    "#first, let's obtain some attributes that we're interested in\n",
    "parties = {row['cid']:row['party'] for _,row in df.iterrows()}"
   ]
  },
  {
   "cell_type": "code",
   "execution_count": 15,
   "metadata": {},
   "outputs": [
    {
     "data": {
      "text/plain": [
       "{'N00000078': 'D',\n",
       " 'N00000153': 'D',\n",
       " 'N00000179': 'D',\n",
       " 'N00000267': 'D',\n",
       " 'N00000270': 'D',\n",
       " 'N00000362': 'D',\n",
       " 'N00000491': 'R',\n",
       " 'N00000515': 'D',\n",
       " 'N00000528': 'D',\n",
       " 'N00000575': 'D',\n",
       " 'N00000615': 'D',\n",
       " 'N00000684': 'R',\n",
       " 'N00000699': 'D',\n",
       " 'N00000743': 'R',\n",
       " 'N00000751': 'D',\n",
       " 'N00000781': 'D',\n",
       " 'N00000851': 'R',\n",
       " 'N00000898': 'R',\n",
       " 'N00000939': 'D',\n",
       " 'N00000964': 'D',\n",
       " 'N00001003': 'D',\n",
       " 'N00001024': 'D',\n",
       " 'N00001093': 'D',\n",
       " 'N00001102': 'D',\n",
       " 'N00001127': 'D',\n",
       " 'N00001171': 'D',\n",
       " 'N00001193': 'R',\n",
       " 'N00001285': 'R',\n",
       " 'N00001311': 'D',\n",
       " 'N00001373': 'D',\n",
       " 'N00001489': 'R',\n",
       " 'N00001619': 'D',\n",
       " 'N00001633': 'R',\n",
       " 'N00001746': 'D',\n",
       " 'N00001758': 'R',\n",
       " 'N00001811': 'R',\n",
       " 'N00001813': 'D',\n",
       " 'N00001821': 'D',\n",
       " 'N00001945': 'D',\n",
       " 'N00001955': 'D',\n",
       " 'N00001971': 'D',\n",
       " 'N00002097': 'D',\n",
       " 'N00002147': 'D',\n",
       " 'N00002221': 'R',\n",
       " 'N00002260': 'D',\n",
       " 'N00002299': 'R',\n",
       " 'N00002408': 'D',\n",
       " 'N00002424': 'R',\n",
       " 'N00002577': 'D',\n",
       " 'N00002593': 'R',\n",
       " 'N00002674': 'D',\n",
       " 'N00002713': 'D',\n",
       " 'N00002793': 'R',\n",
       " 'N00002858': 'R',\n",
       " 'N00002884': 'D',\n",
       " 'N00002893': 'D',\n",
       " 'N00003028': 'R',\n",
       " 'N00003062': 'R',\n",
       " 'N00003105': 'R',\n",
       " 'N00003132': 'D',\n",
       " 'N00003209': 'R',\n",
       " 'N00003225': 'D',\n",
       " 'N00003280': 'R',\n",
       " 'N00003288': 'D',\n",
       " 'N00003328': 'R',\n",
       " 'N00003389': 'R',\n",
       " 'N00003467': 'R',\n",
       " 'N00003473': 'R',\n",
       " 'N00003522': 'D',\n",
       " 'N00003535': 'D',\n",
       " 'N00003675': 'R',\n",
       " 'N00003682': 'R',\n",
       " 'N00003689': 'R',\n",
       " 'N00003813': 'D',\n",
       " 'N00003845': 'R',\n",
       " 'N00003950': 'D',\n",
       " 'N00004029': 'D',\n",
       " 'N00004118': 'D',\n",
       " 'N00004133': 'R',\n",
       " 'N00004291': 'R',\n",
       " 'N00004357': 'R',\n",
       " 'N00004367': 'D',\n",
       " 'N00004403': 'D',\n",
       " 'N00004436': 'R',\n",
       " 'N00004558': 'D',\n",
       " 'N00004572': 'R',\n",
       " 'N00004614': 'R',\n",
       " 'N00004719': 'R',\n",
       " 'N00004724': 'D',\n",
       " 'N00004874': 'D',\n",
       " 'N00004884': 'D',\n",
       " 'N00004887': 'D',\n",
       " 'N00004961': 'R',\n",
       " 'N00004981': 'D',\n",
       " 'N00005195': 'R',\n",
       " 'N00005282': 'R',\n",
       " 'N00005285': 'R',\n",
       " 'N00005293': 'D',\n",
       " 'N00005559': 'R',\n",
       " 'N00005582': 'R',\n",
       " 'N00005656': 'R',\n",
       " 'N00005681': 'R',\n",
       " 'N00005736': 'R',\n",
       " 'N00005818': 'D',\n",
       " 'N00005870': 'D',\n",
       " 'N00005883': 'R',\n",
       " 'N00006008': 'D',\n",
       " 'N00006023': 'D',\n",
       " 'N00006052': 'R',\n",
       " 'N00006134': 'D',\n",
       " 'N00006236': 'R',\n",
       " 'N00006249': 'R',\n",
       " 'N00006263': 'R',\n",
       " 'N00006267': 'R',\n",
       " 'N00006423': 'R',\n",
       " 'N00006424': 'R',\n",
       " 'N00006446': 'R',\n",
       " 'N00006460': 'R',\n",
       " 'N00006561': 'D',\n",
       " 'N00006671': 'D',\n",
       " 'N00006690': 'D',\n",
       " 'N00006692': 'D',\n",
       " 'N00006701': 'D',\n",
       " 'N00006789': 'D',\n",
       " 'N00006806': 'D',\n",
       " 'N00006863': 'R',\n",
       " 'N00006897': 'D',\n",
       " 'N00007017': 'R',\n",
       " 'N00007021': 'D',\n",
       " 'N00007099': 'R',\n",
       " 'N00007151': 'R',\n",
       " 'N00007232': 'D',\n",
       " 'N00007248': 'R',\n",
       " 'N00007312': 'D',\n",
       " 'N00007335': 'D',\n",
       " 'N00007360': 'D',\n",
       " 'N00007364': 'D',\n",
       " 'N00007419': 'D',\n",
       " 'N00007479': 'D',\n",
       " 'N00007690': 'R',\n",
       " 'N00007724': 'D',\n",
       " 'N00007727': 'D',\n",
       " 'N00007781': 'D',\n",
       " 'N00007833': 'D',\n",
       " 'N00007836': 'D',\n",
       " 'N00007876': 'D',\n",
       " 'N00007999': 'R',\n",
       " 'N00008028': 'R',\n",
       " 'N00008046': 'D',\n",
       " 'N00008122': 'D',\n",
       " 'N00008264': 'R',\n",
       " 'N00008274': 'D',\n",
       " 'N00008799': 'R',\n",
       " 'N00009154': 'R',\n",
       " 'N00009573': 'R',\n",
       " 'N00009585': 'D',\n",
       " 'N00009604': 'D',\n",
       " 'N00009659': 'R',\n",
       " 'N00009660': 'R',\n",
       " 'N00009699': 'R',\n",
       " 'N00009724': 'D',\n",
       " 'N00009738': 'R',\n",
       " 'N00009759': 'D',\n",
       " 'N00009771': 'R',\n",
       " 'N00009774': 'D',\n",
       " 'N00009795': 'R',\n",
       " 'N00009816': 'R',\n",
       " 'N00009829': 'D',\n",
       " 'N00009869': 'R',\n",
       " 'N00009888': 'R',\n",
       " 'N00009918': 'D',\n",
       " 'N00009920': 'R',\n",
       " 'N00009922': 'D',\n",
       " 'N00009926': 'D',\n",
       " 'N00009975': 'R',\n",
       " 'N00012233': 'R',\n",
       " 'N00012460': 'D',\n",
       " 'N00012508': 'D',\n",
       " 'N00012539': 'R',\n",
       " 'N00012546': 'R',\n",
       " 'N00012611': 'D',\n",
       " 'N00012672': 'R',\n",
       " 'N00012739': 'R',\n",
       " 'N00012942': 'D',\n",
       " 'N00013323': 'R',\n",
       " 'N00013345': 'D',\n",
       " 'N00013770': 'R',\n",
       " 'N00013799': 'R',\n",
       " 'N00013817': 'D',\n",
       " 'N00013820': 'D',\n",
       " 'N00013846': 'R',\n",
       " 'N00013855': 'D',\n",
       " 'N00013873': 'R',\n",
       " 'N00021207': 'D',\n",
       " 'N00024753': 'R',\n",
       " 'N00024759': 'R',\n",
       " 'N00024790': 'D',\n",
       " 'N00024809': 'R',\n",
       " 'N00024842': 'D',\n",
       " 'N00024852': 'R',\n",
       " 'N00024870': 'D',\n",
       " 'N00024871': 'D',\n",
       " 'N00024922': 'R',\n",
       " 'N00024978': 'D',\n",
       " 'N00024992': 'R',\n",
       " 'N00025095': 'R',\n",
       " 'N00025175': 'R',\n",
       " 'N00025219': 'R',\n",
       " 'N00025237': 'R',\n",
       " 'N00025280': 'D',\n",
       " 'N00025284': 'D',\n",
       " 'N00025292': 'R',\n",
       " 'N00025337': 'R',\n",
       " 'N00025482': 'D',\n",
       " 'N00025495': 'R',\n",
       " 'N00025726': 'R',\n",
       " 'N00025881': 'D',\n",
       " 'N00026041': 'R',\n",
       " 'N00026043': 'R',\n",
       " 'N00026050': 'R',\n",
       " 'N00026106': 'D',\n",
       " 'N00026148': 'R',\n",
       " 'N00026160': 'R',\n",
       " 'N00026163': 'R',\n",
       " 'N00026166': 'R',\n",
       " 'N00026171': 'R',\n",
       " 'N00026314': 'R',\n",
       " 'N00026335': 'R',\n",
       " 'N00026341': 'D',\n",
       " 'N00026368': 'R',\n",
       " 'N00026457': 'R',\n",
       " 'N00026460': 'R',\n",
       " 'N00026586': 'D',\n",
       " 'N00026595': 'R',\n",
       " 'N00026627': 'R',\n",
       " 'N00026631': 'R',\n",
       " 'N00026686': 'D',\n",
       " 'N00026710': 'R',\n",
       " 'N00026790': 'D',\n",
       " 'N00026885': 'R',\n",
       " 'N00026914': 'D',\n",
       " 'N00026926': 'D',\n",
       " 'N00026961': 'D',\n",
       " 'N00027035': 'D',\n",
       " 'N00027060': 'D',\n",
       " 'N00027229': 'R',\n",
       " 'N00027239': 'D',\n",
       " 'N00027441': 'R',\n",
       " 'N00027459': 'D',\n",
       " 'N00027462': 'R',\n",
       " 'N00027467': 'D',\n",
       " 'N00027500': 'D',\n",
       " 'N00027503': 'D',\n",
       " 'N00027509': 'R',\n",
       " 'N00027510': 'D',\n",
       " 'N00027514': 'D',\n",
       " 'N00027522': 'R',\n",
       " 'N00027523': 'D',\n",
       " 'N00027533': 'D',\n",
       " 'N00027566': 'D',\n",
       " 'N00027605': 'D',\n",
       " 'N00027623': 'R',\n",
       " 'N00027626': 'R',\n",
       " 'N00027649': 'R',\n",
       " 'N00027658': 'D',\n",
       " 'N00027694': 'D',\n",
       " 'N00027741': 'D',\n",
       " 'N00027751': 'D',\n",
       " 'N00027848': 'D',\n",
       " 'N00027860': 'D',\n",
       " 'N00027894': 'R',\n",
       " 'N00028073': 'D',\n",
       " 'N00028133': 'R',\n",
       " 'N00028138': 'D',\n",
       " 'N00028139': 'D',\n",
       " 'N00028152': 'R',\n",
       " 'N00028249': 'D',\n",
       " 'N00028257': 'D',\n",
       " 'N00028418': 'D',\n",
       " 'N00028463': 'R',\n",
       " 'N00028958': 'R',\n",
       " 'N00029016': 'D',\n",
       " 'N00029018': 'R',\n",
       " 'N00029026': 'D',\n",
       " 'N00029070': 'D',\n",
       " 'N00029077': 'R',\n",
       " 'N00029127': 'D',\n",
       " 'N00029139': 'D',\n",
       " 'N00029147': 'R',\n",
       " 'N00029258': 'R',\n",
       " 'N00029260': 'D',\n",
       " 'N00029273': 'R',\n",
       " 'N00029277': 'D',\n",
       " 'N00029285': 'R',\n",
       " 'N00029303': 'D',\n",
       " 'N00029391': 'R',\n",
       " 'N00029400': 'D',\n",
       " 'N00029404': 'R',\n",
       " 'N00029441': 'R',\n",
       " 'N00029459': 'R',\n",
       " 'N00029513': 'D',\n",
       " 'N00029562': 'D',\n",
       " 'N00029574': 'R',\n",
       " 'N00029632': 'R',\n",
       " 'N00029649': 'D',\n",
       " 'N00029662': 'R',\n",
       " 'N00029675': 'R',\n",
       " 'N00029679': 'R',\n",
       " 'N00029736': 'R',\n",
       " 'N00029788': 'R',\n",
       " 'N00029835': 'D',\n",
       " 'N00029891': 'D',\n",
       " 'N00030026': 'R',\n",
       " 'N00030071': 'D',\n",
       " 'N00030184': 'D',\n",
       " 'N00030191': 'D',\n",
       " 'N00030196': 'D',\n",
       " 'N00030197': 'R',\n",
       " 'N00030245': 'R',\n",
       " 'N00030490': 'D',\n",
       " 'N00030581': 'D',\n",
       " 'N00030600': 'D',\n",
       " 'N00030602': 'R',\n",
       " 'N00030608': 'D',\n",
       " 'N00030612': 'R',\n",
       " 'N00030622': 'D',\n",
       " 'N00030645': 'R',\n",
       " 'N00030650': 'D',\n",
       " 'N00030667': 'R',\n",
       " 'N00030670': 'R',\n",
       " 'N00030673': 'R',\n",
       " 'N00030676': 'R',\n",
       " 'N00030693': 'D',\n",
       " 'N00030709': 'D',\n",
       " 'N00030717': 'D',\n",
       " 'N00030736': 'D',\n",
       " 'N00030744': 'R',\n",
       " 'N00030752': 'R',\n",
       " 'N00030768': 'R',\n",
       " 'N00030770': 'R',\n",
       " 'N00030771': 'R',\n",
       " 'N00030780': 'R',\n",
       " 'N00030788': 'R',\n",
       " 'N00030801': 'R',\n",
       " 'N00030815': 'R',\n",
       " 'N00030829': 'R',\n",
       " 'N00030836': 'R',\n",
       " 'N00030856': 'D',\n",
       " 'N00030875': 'D',\n",
       " 'N00030880': 'R',\n",
       " 'N00030891': 'R',\n",
       " 'N00030910': 'R',\n",
       " 'N00030949': 'R',\n",
       " 'N00030957': 'R',\n",
       " 'N00030962': 'R',\n",
       " 'N00030967': 'R',\n",
       " 'N00030968': 'R',\n",
       " 'N00030980': 'R',\n",
       " 'N00031005': 'R',\n",
       " 'N00031006': 'R',\n",
       " 'N00031064': 'R',\n",
       " 'N00031103': 'R',\n",
       " 'N00031104': 'R',\n",
       " 'N00031127': 'R',\n",
       " 'N00031128': 'R',\n",
       " 'N00031129': 'R',\n",
       " 'N00031134': 'R',\n",
       " 'N00031141': 'R',\n",
       " 'N00031177': 'R',\n",
       " 'N00031226': 'R',\n",
       " 'N00031227': 'R',\n",
       " 'N00031233': 'R',\n",
       " 'N00031244': 'R',\n",
       " 'N00031253': 'R',\n",
       " 'N00031265': 'R',\n",
       " 'N00031317': 'D',\n",
       " 'N00031377': 'R',\n",
       " 'N00031412': 'R',\n",
       " 'N00031417': 'R',\n",
       " 'N00031502': 'R',\n",
       " 'N00031513': 'R',\n",
       " 'N00031539': 'R',\n",
       " 'N00031545': 'R',\n",
       " 'N00031557': 'D',\n",
       " 'N00031559': 'R',\n",
       " 'N00031593': 'R',\n",
       " 'N00031647': 'R',\n",
       " 'N00031672': 'R',\n",
       " 'N00031681': 'R',\n",
       " 'N00031685': 'D',\n",
       " 'N00031688': 'R',\n",
       " 'N00031696': 'R',\n",
       " 'N00031741': 'R',\n",
       " 'N00031777': 'R',\n",
       " 'N00031782': 'R',\n",
       " 'N00031820': 'D',\n",
       " 'N00031857': 'R',\n",
       " 'N00031877': 'D',\n",
       " 'N00031933': 'D',\n",
       " 'N00031934': 'R',\n",
       " 'N00031938': 'R',\n",
       " 'N00031958': 'R',\n",
       " 'N00031998': 'R',\n",
       " 'N00032019': 'D',\n",
       " 'N00032022': 'R',\n",
       " 'N00032029': 'R',\n",
       " 'N00032088': 'R',\n",
       " 'N00032243': 'R',\n",
       " 'N00032416': 'R',\n",
       " 'N00032441': 'R',\n",
       " 'N00032457': 'R',\n",
       " 'N00032546': 'R',\n",
       " 'N00032838': 'D',\n",
       " 'N00033030': 'D',\n",
       " 'N00033054': 'R',\n",
       " 'N00033085': 'R',\n",
       " 'N00033091': 'D',\n",
       " 'N00033106': 'R',\n",
       " 'N00033177': 'D',\n",
       " 'N00033217': 'D',\n",
       " 'N00033220': 'R',\n",
       " 'N00033274': 'D',\n",
       " 'N00033281': 'D',\n",
       " 'N00033310': 'R',\n",
       " 'N00033316': 'D',\n",
       " 'N00033363': 'R',\n",
       " 'N00033367': 'R',\n",
       " 'N00033373': 'D',\n",
       " 'N00033390': 'D',\n",
       " 'N00033395': 'D',\n",
       " 'N00033399': 'R',\n",
       " 'N00033410': 'R',\n",
       " 'N00033443': 'R',\n",
       " 'N00033474': 'D',\n",
       " 'N00033492': 'D',\n",
       " 'N00033495': 'R',\n",
       " 'N00033508': 'D',\n",
       " 'N00033510': 'D',\n",
       " 'N00033518': 'R',\n",
       " 'N00033527': 'R',\n",
       " 'N00033532': 'R',\n",
       " 'N00033539': 'R',\n",
       " 'N00033540': 'D',\n",
       " 'N00033549': 'D',\n",
       " 'N00033591': 'D',\n",
       " 'N00033630': 'R',\n",
       " 'N00033631': 'R',\n",
       " 'N00033640': 'D',\n",
       " 'N00033720': 'R',\n",
       " 'N00033744': 'R',\n",
       " 'N00033782': 'D',\n",
       " 'N00033814': 'R',\n",
       " 'N00033832': 'R',\n",
       " 'N00033839': 'D',\n",
       " 'N00033842': 'R',\n",
       " 'N00033897': 'D',\n",
       " 'N00033904': 'D',\n",
       " 'N00033932': 'R',\n",
       " 'N00033982': 'R',\n",
       " 'N00033983': 'D',\n",
       " 'N00033987': 'R',\n",
       " 'N00033997': 'D',\n",
       " 'N00034041': 'R',\n",
       " 'N00034044': 'D',\n",
       " 'N00034068': 'D',\n",
       " 'N00034120': 'R',\n",
       " 'N00034128': 'D',\n",
       " 'N00034224': 'R',\n",
       " 'N00034254': 'D',\n",
       " 'N00034277': 'D',\n",
       " 'N00034349': 'D',\n",
       " 'N00034416': 'R',\n",
       " 'N00034453': 'D',\n",
       " 'N00034547': 'D',\n",
       " 'N00034580': 'I',\n",
       " 'N00034584': 'R',\n",
       " 'N00034639': 'D',\n",
       " 'N00034746': 'R',\n",
       " 'N00034784': 'R',\n",
       " 'N00035007': 'R',\n",
       " 'N00035187': 'R',\n",
       " 'N00035215': 'D',\n",
       " 'N00035267': 'D',\n",
       " 'N00035278': 'D',\n",
       " 'N00035282': 'R',\n",
       " 'N00035307': 'D',\n",
       " 'N00035311': 'R',\n",
       " 'N00035346': 'R',\n",
       " 'N00035347': 'R',\n",
       " 'N00035380': 'R',\n",
       " 'N00035391': 'R',\n",
       " 'N00035403': 'R',\n",
       " 'N00035420': 'R',\n",
       " 'N00035431': 'D',\n",
       " 'N00035440': 'R',\n",
       " 'N00035451': 'D',\n",
       " 'N00035483': 'R',\n",
       " 'N00035492': 'R',\n",
       " 'N00035509': 'R',\n",
       " 'N00035516': 'R',\n",
       " 'N00035523': 'R',\n",
       " 'N00035527': 'R',\n",
       " 'N00035531': 'R',\n",
       " 'N00035535': 'D',\n",
       " 'N00035544': 'R',\n",
       " 'N00035607': 'R',\n",
       " 'N00035616': 'R',\n",
       " 'N00035628': 'R',\n",
       " 'N00035688': 'D',\n",
       " 'N00035691': 'R',\n",
       " 'N00035717': 'R',\n",
       " 'N00035774': 'R',\n",
       " 'N00035792': 'R',\n",
       " 'N00035820': 'R',\n",
       " 'N00035825': 'D',\n",
       " 'N00035854': 'R',\n",
       " 'N00035927': 'D',\n",
       " 'N00035934': 'R',\n",
       " 'N00035972': 'R',\n",
       " 'N00036013': 'R',\n",
       " 'N00036018': 'D',\n",
       " 'N00036023': 'R',\n",
       " 'N00036097': 'D',\n",
       " 'N00036107': 'D',\n",
       " 'N00036135': 'R',\n",
       " 'N00036149': 'D',\n",
       " 'N00036154': 'D',\n",
       " 'N00036155': 'R',\n",
       " 'N00036158': 'D',\n",
       " 'N00036175': 'R',\n",
       " 'N00036275': 'R',\n",
       " 'N00036403': 'R',\n",
       " 'N00036409': 'R',\n",
       " 'N00036449': 'R',\n",
       " 'N00036633': 'R',\n",
       " 'N00036928': 'R',\n",
       " 'N00037003': 'R',\n",
       " 'N00037031': 'R',\n",
       " 'N00038767': 'R'}"
      ]
     },
     "execution_count": 15,
     "metadata": {},
     "output_type": "execute_result"
    }
   ],
   "source": [
    "parties"
   ]
  },
  {
   "cell_type": "code",
   "execution_count": 104,
   "metadata": {
    "collapsed": true
   },
   "outputs": [],
   "source": [
    "genders = {row['cid']:row['gender'] for _,row in df.iterrows()}"
   ]
  },
  {
   "cell_type": "code",
   "execution_count": 26,
   "metadata": {},
   "outputs": [
    {
     "data": {
      "text/plain": [
       "{'N00000078': 'F',\n",
       " 'N00000153': 'M',\n",
       " 'N00000179': 'M',\n",
       " 'N00000267': 'M',\n",
       " 'N00000270': 'M',\n",
       " 'N00000362': 'M',\n",
       " 'N00000491': 'F',\n",
       " 'N00000515': 'M',\n",
       " 'N00000528': 'M',\n",
       " 'N00000575': 'M',\n",
       " 'N00000615': 'F',\n",
       " 'N00000684': 'M',\n",
       " 'N00000699': 'M',\n",
       " 'N00000743': 'M',\n",
       " 'N00000751': 'M',\n",
       " 'N00000781': 'M',\n",
       " 'N00000851': 'M',\n",
       " 'N00000898': 'M',\n",
       " 'N00000939': 'M',\n",
       " 'N00000964': 'M',\n",
       " 'N00001003': 'M',\n",
       " 'N00001024': 'F',\n",
       " 'N00001093': 'M',\n",
       " 'N00001102': 'F',\n",
       " 'N00001127': 'M',\n",
       " 'N00001171': 'M',\n",
       " 'N00001193': 'M',\n",
       " 'N00001285': 'M',\n",
       " 'N00001311': 'F',\n",
       " 'N00001373': 'M',\n",
       " 'N00001489': 'M',\n",
       " 'N00001619': 'M',\n",
       " 'N00001633': 'M',\n",
       " 'N00001746': 'M',\n",
       " 'N00001758': 'M',\n",
       " 'N00001811': 'M',\n",
       " 'N00001813': 'M',\n",
       " 'N00001821': 'M',\n",
       " 'N00001945': 'F',\n",
       " 'N00001955': 'M',\n",
       " 'N00001971': 'M',\n",
       " 'N00002097': 'M',\n",
       " 'N00002147': 'M',\n",
       " 'N00002221': 'M',\n",
       " 'N00002260': 'M',\n",
       " 'N00002299': 'M',\n",
       " 'N00002408': 'M',\n",
       " 'N00002424': 'M',\n",
       " 'N00002577': 'M',\n",
       " 'N00002593': 'M',\n",
       " 'N00002674': 'M',\n",
       " 'N00002713': 'F',\n",
       " 'N00002793': 'M',\n",
       " 'N00002858': 'F',\n",
       " 'N00002884': 'M',\n",
       " 'N00002893': 'F',\n",
       " 'N00003028': 'M',\n",
       " 'N00003062': 'M',\n",
       " 'N00003105': 'F',\n",
       " 'N00003132': 'M',\n",
       " 'N00003209': 'M',\n",
       " 'N00003225': 'M',\n",
       " 'N00003280': 'M',\n",
       " 'N00003288': 'M',\n",
       " 'N00003328': 'M',\n",
       " 'N00003389': 'M',\n",
       " 'N00003467': 'M',\n",
       " 'N00003473': 'M',\n",
       " 'N00003522': 'F',\n",
       " 'N00003535': 'M',\n",
       " 'N00003675': 'M',\n",
       " 'N00003682': 'M',\n",
       " 'N00003689': 'M',\n",
       " 'N00003813': 'M',\n",
       " 'N00003845': 'M',\n",
       " 'N00003950': 'M',\n",
       " 'N00004029': 'M',\n",
       " 'N00004118': 'F',\n",
       " 'N00004133': 'M',\n",
       " 'N00004291': 'M',\n",
       " 'N00004357': 'M',\n",
       " 'N00004367': 'F',\n",
       " 'N00004403': 'M',\n",
       " 'N00004436': 'M',\n",
       " 'N00004558': 'M',\n",
       " 'N00004572': 'M',\n",
       " 'N00004614': 'M',\n",
       " 'N00004719': 'M',\n",
       " 'N00004724': 'F',\n",
       " 'N00004874': 'M',\n",
       " 'N00004884': 'M',\n",
       " 'N00004887': 'M',\n",
       " 'N00004961': 'M',\n",
       " 'N00004981': 'M',\n",
       " 'N00005195': 'M',\n",
       " 'N00005282': 'M',\n",
       " 'N00005285': 'M',\n",
       " 'N00005293': 'M',\n",
       " 'N00005559': 'M',\n",
       " 'N00005582': 'M',\n",
       " 'N00005656': 'M',\n",
       " 'N00005681': 'M',\n",
       " 'N00005736': 'M',\n",
       " 'N00005818': 'F',\n",
       " 'N00005870': 'M',\n",
       " 'N00005883': 'M',\n",
       " 'N00006008': 'M',\n",
       " 'N00006023': 'M',\n",
       " 'N00006052': 'M',\n",
       " 'N00006134': 'F',\n",
       " 'N00006236': 'M',\n",
       " 'N00006249': 'M',\n",
       " 'N00006263': 'M',\n",
       " 'N00006267': 'M',\n",
       " 'N00006423': 'M',\n",
       " 'N00006424': 'M',\n",
       " 'N00006446': 'M',\n",
       " 'N00006460': 'M',\n",
       " 'N00006561': 'M',\n",
       " 'N00006671': 'F',\n",
       " 'N00006690': 'F',\n",
       " 'N00006692': 'F',\n",
       " 'N00006701': 'M',\n",
       " 'N00006789': 'F',\n",
       " 'N00006806': 'F',\n",
       " 'N00006863': 'M',\n",
       " 'N00006897': 'M',\n",
       " 'N00007017': 'M',\n",
       " 'N00007021': 'M',\n",
       " 'N00007099': 'M',\n",
       " 'N00007151': 'M',\n",
       " 'N00007232': 'F',\n",
       " 'N00007248': 'M',\n",
       " 'N00007312': 'M',\n",
       " 'N00007335': 'F',\n",
       " 'N00007360': 'F',\n",
       " 'N00007364': 'F',\n",
       " 'N00007419': 'M',\n",
       " 'N00007479': 'F',\n",
       " 'N00007690': 'M',\n",
       " 'N00007724': 'M',\n",
       " 'N00007727': 'M',\n",
       " 'N00007781': 'M',\n",
       " 'N00007833': 'M',\n",
       " 'N00007836': 'F',\n",
       " 'N00007876': 'F',\n",
       " 'N00007999': 'M',\n",
       " 'N00008028': 'M',\n",
       " 'N00008046': 'F',\n",
       " 'N00008122': 'F',\n",
       " 'N00008264': 'M',\n",
       " 'N00008274': 'F',\n",
       " 'N00008799': 'F',\n",
       " 'N00009154': 'M',\n",
       " 'N00009573': 'M',\n",
       " 'N00009585': 'M',\n",
       " 'N00009604': 'F',\n",
       " 'N00009659': 'M',\n",
       " 'N00009660': 'M',\n",
       " 'N00009699': 'M',\n",
       " 'N00009724': 'M',\n",
       " 'N00009738': 'M',\n",
       " 'N00009759': 'M',\n",
       " 'N00009771': 'F',\n",
       " 'N00009774': 'M',\n",
       " 'N00009795': 'F',\n",
       " 'N00009816': 'M',\n",
       " 'N00009829': 'M',\n",
       " 'N00009869': 'M',\n",
       " 'N00009888': 'M',\n",
       " 'N00009918': 'M',\n",
       " 'N00009920': 'M',\n",
       " 'N00009922': 'M',\n",
       " 'N00009926': 'M',\n",
       " 'N00009975': 'M',\n",
       " 'N00012233': 'M',\n",
       " 'N00012460': 'M',\n",
       " 'N00012508': 'M',\n",
       " 'N00012539': 'M',\n",
       " 'N00012546': 'M',\n",
       " 'N00012611': 'M',\n",
       " 'N00012672': 'M',\n",
       " 'N00012739': 'M',\n",
       " 'N00012942': 'F',\n",
       " 'N00013323': 'M',\n",
       " 'N00013345': 'M',\n",
       " 'N00013770': 'M',\n",
       " 'N00013799': 'M',\n",
       " 'N00013817': 'F',\n",
       " 'N00013820': 'M',\n",
       " 'N00013846': 'M',\n",
       " 'N00013855': 'M',\n",
       " 'N00013873': 'M',\n",
       " 'N00021207': 'M',\n",
       " 'N00024753': 'M',\n",
       " 'N00024759': 'M',\n",
       " 'N00024790': 'F',\n",
       " 'N00024809': 'M',\n",
       " 'N00024842': 'M',\n",
       " 'N00024852': 'M',\n",
       " 'N00024870': 'F',\n",
       " 'N00024871': 'M',\n",
       " 'N00024922': 'M',\n",
       " 'N00024978': 'M',\n",
       " 'N00024992': 'M',\n",
       " 'N00025095': 'M',\n",
       " 'N00025175': 'M',\n",
       " 'N00025219': 'M',\n",
       " 'N00025237': 'M',\n",
       " 'N00025280': 'M',\n",
       " 'N00025284': 'M',\n",
       " 'N00025292': 'M',\n",
       " 'N00025337': 'M',\n",
       " 'N00025482': 'M',\n",
       " 'N00025495': 'M',\n",
       " 'N00025726': 'M',\n",
       " 'N00025881': 'F',\n",
       " 'N00026041': 'M',\n",
       " 'N00026043': 'M',\n",
       " 'N00026050': 'F',\n",
       " 'N00026106': 'F',\n",
       " 'N00026148': 'M',\n",
       " 'N00026160': 'M',\n",
       " 'N00026163': 'M',\n",
       " 'N00026166': 'F',\n",
       " 'N00026171': 'M',\n",
       " 'N00026314': 'F',\n",
       " 'N00026335': 'M',\n",
       " 'N00026341': 'M',\n",
       " 'N00026368': 'M',\n",
       " 'N00026457': 'M',\n",
       " 'N00026460': 'M',\n",
       " 'N00026586': 'M',\n",
       " 'N00026595': 'M',\n",
       " 'N00026627': 'M',\n",
       " 'N00026631': 'M',\n",
       " 'N00026686': 'M',\n",
       " 'N00026710': 'M',\n",
       " 'N00026790': 'M',\n",
       " 'N00026885': 'M',\n",
       " 'N00026914': 'F',\n",
       " 'N00026926': 'M',\n",
       " 'N00026961': 'F',\n",
       " 'N00027035': 'M',\n",
       " 'N00027060': 'M',\n",
       " 'N00027229': 'M',\n",
       " 'N00027239': 'M',\n",
       " 'N00027441': 'M',\n",
       " 'N00027459': 'F',\n",
       " 'N00027462': 'M',\n",
       " 'N00027467': 'M',\n",
       " 'N00027500': 'F',\n",
       " 'N00027503': 'M',\n",
       " 'N00027509': 'M',\n",
       " 'N00027510': 'M',\n",
       " 'N00027514': 'F',\n",
       " 'N00027522': 'M',\n",
       " 'N00027523': 'M',\n",
       " 'N00027533': 'M',\n",
       " 'N00027566': 'M',\n",
       " 'N00027605': 'M',\n",
       " 'N00027623': 'M',\n",
       " 'N00027626': 'M',\n",
       " 'N00027649': 'M',\n",
       " 'N00027658': 'F',\n",
       " 'N00027694': 'F',\n",
       " 'N00027741': 'M',\n",
       " 'N00027751': 'M',\n",
       " 'N00027848': 'M',\n",
       " 'N00027860': 'F',\n",
       " 'N00027894': 'M',\n",
       " 'N00028073': 'M',\n",
       " 'N00028133': 'M',\n",
       " 'N00028138': 'M',\n",
       " 'N00028139': 'F',\n",
       " 'N00028152': 'M',\n",
       " 'N00028249': 'F',\n",
       " 'N00028257': 'M',\n",
       " 'N00028418': 'M',\n",
       " 'N00028463': 'M',\n",
       " 'N00028958': 'M',\n",
       " 'N00029016': 'M',\n",
       " 'N00029018': 'M',\n",
       " 'N00029026': 'F',\n",
       " 'N00029070': 'M',\n",
       " 'N00029077': 'F',\n",
       " 'N00029127': 'M',\n",
       " 'N00029139': 'M',\n",
       " 'N00029147': 'M',\n",
       " 'N00029258': 'M',\n",
       " 'N00029260': 'F',\n",
       " 'N00029273': 'M',\n",
       " 'N00029277': 'M',\n",
       " 'N00029285': 'M',\n",
       " 'N00029303': 'M',\n",
       " 'N00029391': 'M',\n",
       " 'N00029400': 'F',\n",
       " 'N00029404': 'M',\n",
       " 'N00029441': 'M',\n",
       " 'N00029459': 'M',\n",
       " 'N00029513': 'M',\n",
       " 'N00029562': 'M',\n",
       " 'N00029574': 'M',\n",
       " 'N00029632': 'M',\n",
       " 'N00029649': 'F',\n",
       " 'N00029662': 'M',\n",
       " 'N00029675': 'M',\n",
       " 'N00029679': 'M',\n",
       " 'N00029736': 'M',\n",
       " 'N00029788': 'F',\n",
       " 'N00029835': 'M',\n",
       " 'N00029891': 'M',\n",
       " 'N00030026': 'M',\n",
       " 'N00030071': 'M',\n",
       " 'N00030184': 'M',\n",
       " 'N00030191': 'F',\n",
       " 'N00030196': 'M',\n",
       " 'N00030197': 'M',\n",
       " 'N00030245': 'M',\n",
       " 'N00030490': 'F',\n",
       " 'N00030581': 'M',\n",
       " 'N00030600': 'F',\n",
       " 'N00030602': 'M',\n",
       " 'N00030608': 'M',\n",
       " 'N00030612': 'M',\n",
       " 'N00030622': 'F',\n",
       " 'N00030645': 'M',\n",
       " 'N00030650': 'F',\n",
       " 'N00030667': 'M',\n",
       " 'N00030670': 'M',\n",
       " 'N00030673': 'M',\n",
       " 'N00030676': 'M',\n",
       " 'N00030693': 'F',\n",
       " 'N00030709': 'M',\n",
       " 'N00030717': 'M',\n",
       " 'N00030736': 'M',\n",
       " 'N00030744': 'M',\n",
       " 'N00030752': 'M',\n",
       " 'N00030768': 'F',\n",
       " 'N00030770': 'M',\n",
       " 'N00030771': 'M',\n",
       " 'N00030780': 'M',\n",
       " 'N00030788': 'M',\n",
       " 'N00030801': 'M',\n",
       " 'N00030815': 'M',\n",
       " 'N00030829': 'M',\n",
       " 'N00030836': 'M',\n",
       " 'N00030856': 'M',\n",
       " 'N00030875': 'F',\n",
       " 'N00030880': 'M',\n",
       " 'N00030891': 'M',\n",
       " 'N00030910': 'M',\n",
       " 'N00030949': 'M',\n",
       " 'N00030957': 'M',\n",
       " 'N00030962': 'M',\n",
       " 'N00030967': 'M',\n",
       " 'N00030968': 'M',\n",
       " 'N00030980': 'F',\n",
       " 'N00031005': 'F',\n",
       " 'N00031006': 'M',\n",
       " 'N00031064': 'M',\n",
       " 'N00031103': 'M',\n",
       " 'N00031104': 'M',\n",
       " 'N00031127': 'M',\n",
       " 'N00031128': 'M',\n",
       " 'N00031129': 'M',\n",
       " 'N00031134': 'M',\n",
       " 'N00031141': 'M',\n",
       " 'N00031177': 'M',\n",
       " 'N00031226': 'F',\n",
       " 'N00031227': 'M',\n",
       " 'N00031233': 'M',\n",
       " 'N00031244': 'M',\n",
       " 'N00031253': 'M',\n",
       " 'N00031265': 'M',\n",
       " 'N00031317': 'M',\n",
       " 'N00031377': 'M',\n",
       " 'N00031412': 'M',\n",
       " 'N00031417': 'M',\n",
       " 'N00031502': 'M',\n",
       " 'N00031513': 'F',\n",
       " 'N00031539': 'F',\n",
       " 'N00031545': 'M',\n",
       " 'N00031557': 'M',\n",
       " 'N00031559': 'F',\n",
       " 'N00031593': 'M',\n",
       " 'N00031647': 'M',\n",
       " 'N00031672': 'M',\n",
       " 'N00031681': 'M',\n",
       " 'N00031685': 'M',\n",
       " 'N00031688': 'M',\n",
       " 'N00031696': 'M',\n",
       " 'N00031741': 'M',\n",
       " 'N00031777': 'M',\n",
       " 'N00031782': 'M',\n",
       " 'N00031820': 'M',\n",
       " 'N00031857': 'M',\n",
       " 'N00031877': 'F',\n",
       " 'N00031933': 'M',\n",
       " 'N00031934': 'M',\n",
       " 'N00031938': 'M',\n",
       " 'N00031958': 'M',\n",
       " 'N00031998': 'M',\n",
       " 'N00032019': 'M',\n",
       " 'N00032022': 'F',\n",
       " 'N00032029': 'M',\n",
       " 'N00032088': 'M',\n",
       " 'N00032243': 'M',\n",
       " 'N00032416': 'M',\n",
       " 'N00032441': 'M',\n",
       " 'N00032457': 'M',\n",
       " 'N00032546': 'M',\n",
       " 'N00032838': 'M',\n",
       " 'N00033030': 'M',\n",
       " 'N00033054': 'M',\n",
       " 'N00033085': 'M',\n",
       " 'N00033091': 'M',\n",
       " 'N00033106': 'F',\n",
       " 'N00033177': 'M',\n",
       " 'N00033217': 'F',\n",
       " 'N00033220': 'M',\n",
       " 'N00033274': 'M',\n",
       " 'N00033281': 'F',\n",
       " 'N00033310': 'M',\n",
       " 'N00033316': 'M',\n",
       " 'N00033363': 'M',\n",
       " 'N00033367': 'M',\n",
       " 'N00033373': 'M',\n",
       " 'N00033390': 'F',\n",
       " 'N00033395': 'M',\n",
       " 'N00033399': 'M',\n",
       " 'N00033410': 'M',\n",
       " 'N00033443': 'F',\n",
       " 'N00033474': 'F',\n",
       " 'N00033492': 'F',\n",
       " 'N00033495': 'F',\n",
       " 'N00033508': 'M',\n",
       " 'N00033510': 'M',\n",
       " 'N00033518': 'M',\n",
       " 'N00033527': 'M',\n",
       " 'N00033532': 'M',\n",
       " 'N00033539': 'M',\n",
       " 'N00033540': 'M',\n",
       " 'N00033549': 'M',\n",
       " 'N00033591': 'M',\n",
       " 'N00033630': 'M',\n",
       " 'N00033631': 'M',\n",
       " 'N00033640': 'M',\n",
       " 'N00033720': 'M',\n",
       " 'N00033744': 'M',\n",
       " 'N00033782': 'F',\n",
       " 'N00033814': 'M',\n",
       " 'N00033832': 'M',\n",
       " 'N00033839': 'M',\n",
       " 'N00033842': 'F',\n",
       " 'N00033897': 'M',\n",
       " 'N00033904': 'F',\n",
       " 'N00033932': 'M',\n",
       " 'N00033982': 'F',\n",
       " 'N00033983': 'F',\n",
       " 'N00033987': 'M',\n",
       " 'N00033997': 'M',\n",
       " 'N00034041': 'M',\n",
       " 'N00034044': 'M',\n",
       " 'N00034068': 'F',\n",
       " 'N00034120': 'M',\n",
       " 'N00034128': 'M',\n",
       " 'N00034224': 'M',\n",
       " 'N00034254': 'F',\n",
       " 'N00034277': 'M',\n",
       " 'N00034349': 'M',\n",
       " 'N00034416': 'M',\n",
       " 'N00034453': 'M',\n",
       " 'N00034547': 'F',\n",
       " 'N00034580': 'M',\n",
       " 'N00034584': 'M',\n",
       " 'N00034639': 'M',\n",
       " 'N00034746': 'M',\n",
       " 'N00034784': 'M',\n",
       " 'N00035007': 'M',\n",
       " 'N00035187': 'M',\n",
       " 'N00035215': 'F',\n",
       " 'N00035267': 'M',\n",
       " 'N00035278': 'F',\n",
       " 'N00035282': 'M',\n",
       " 'N00035307': 'M',\n",
       " 'N00035311': 'M',\n",
       " 'N00035346': 'M',\n",
       " 'N00035347': 'M',\n",
       " 'N00035380': 'M',\n",
       " 'N00035391': 'F',\n",
       " 'N00035403': 'M',\n",
       " 'N00035420': 'M',\n",
       " 'N00035431': 'M',\n",
       " 'N00035440': 'M',\n",
       " 'N00035451': 'F',\n",
       " 'N00035483': 'F',\n",
       " 'N00035492': 'M',\n",
       " 'N00035509': 'M',\n",
       " 'N00035516': 'M',\n",
       " 'N00035523': 'F',\n",
       " 'N00035527': 'M',\n",
       " 'N00035531': 'M',\n",
       " 'N00035535': 'M',\n",
       " 'N00035544': 'M',\n",
       " 'N00035607': 'M',\n",
       " 'N00035616': 'M',\n",
       " 'N00035628': 'M',\n",
       " 'N00035688': 'F',\n",
       " 'N00035691': 'M',\n",
       " 'N00035717': 'M',\n",
       " 'N00035774': 'M',\n",
       " 'N00035792': 'M',\n",
       " 'N00035820': 'M',\n",
       " 'N00035825': 'M',\n",
       " 'N00035854': 'M',\n",
       " 'N00035927': 'F',\n",
       " 'N00035934': 'M',\n",
       " 'N00035972': 'M',\n",
       " 'N00036013': 'M',\n",
       " 'N00036018': 'M',\n",
       " 'N00036023': 'F',\n",
       " 'N00036097': 'M',\n",
       " 'N00036107': 'F',\n",
       " 'N00036135': 'M',\n",
       " 'N00036149': 'F',\n",
       " 'N00036154': 'M',\n",
       " 'N00036155': 'M',\n",
       " 'N00036158': 'F',\n",
       " 'N00036175': 'M',\n",
       " 'N00036275': 'M',\n",
       " 'N00036403': 'M',\n",
       " 'N00036409': 'M',\n",
       " 'N00036449': 'M',\n",
       " 'N00036633': 'M',\n",
       " 'N00036928': 'M',\n",
       " 'N00037003': 'M',\n",
       " 'N00037031': 'M',\n",
       " 'N00038767': 'M'}"
      ]
     },
     "execution_count": 26,
     "metadata": {},
     "output_type": "execute_result"
    }
   ],
   "source": [
    "genders"
   ]
  },
  {
   "cell_type": "code",
   "execution_count": 105,
   "metadata": {
    "collapsed": true
   },
   "outputs": [],
   "source": [
    "states = {row['cid']:row['office'][:2] for _,row in df.iterrows()}"
   ]
  },
  {
   "cell_type": "code",
   "execution_count": 27,
   "metadata": {},
   "outputs": [
    {
     "data": {
      "text/plain": [
       "{'N00000078': 'NY',\n",
       " 'N00000153': 'MA',\n",
       " 'N00000179': 'MA',\n",
       " 'N00000267': 'MA',\n",
       " 'N00000270': 'MA',\n",
       " 'N00000362': 'RI',\n",
       " 'N00000491': 'ME',\n",
       " 'N00000515': 'VT',\n",
       " 'N00000528': 'VT',\n",
       " 'N00000575': 'CT',\n",
       " 'N00000615': 'CT',\n",
       " 'N00000684': 'NJ',\n",
       " 'N00000699': 'NJ',\n",
       " 'N00000743': 'NJ',\n",
       " 'N00000751': 'NJ',\n",
       " 'N00000781': 'NJ',\n",
       " 'N00000851': 'NJ',\n",
       " 'N00000898': 'NJ',\n",
       " 'N00000939': 'NY',\n",
       " 'N00000964': 'NY',\n",
       " 'N00001003': 'NY',\n",
       " 'N00001024': 'NY',\n",
       " 'N00001093': 'NY',\n",
       " 'N00001102': 'NY',\n",
       " 'N00001127': 'NY',\n",
       " 'N00001171': 'NY',\n",
       " 'N00001193': 'NY',\n",
       " 'N00001285': 'NY',\n",
       " 'N00001311': 'NY',\n",
       " 'N00001373': 'PA',\n",
       " 'N00001489': 'PA',\n",
       " 'N00001619': 'PA',\n",
       " 'N00001633': 'PA',\n",
       " 'N00001746': 'PA',\n",
       " 'N00001758': 'IA',\n",
       " 'N00001811': 'TX',\n",
       " 'N00001813': 'NY',\n",
       " 'N00001821': 'MD',\n",
       " 'N00001945': 'MD',\n",
       " 'N00001955': 'MD',\n",
       " 'N00001971': 'MD',\n",
       " 'N00002097': 'VA',\n",
       " 'N00002147': 'VA',\n",
       " 'N00002221': 'NC',\n",
       " 'N00002260': 'NC',\n",
       " 'N00002299': 'NC',\n",
       " 'N00002408': 'SC',\n",
       " 'N00002424': 'SC',\n",
       " 'N00002577': 'GA',\n",
       " 'N00002593': 'GA',\n",
       " 'N00002674': 'GA',\n",
       " 'N00002713': 'FL',\n",
       " 'N00002793': 'FL',\n",
       " 'N00002858': 'FL',\n",
       " 'N00002884': 'FL',\n",
       " 'N00002893': 'FL',\n",
       " 'N00003028': 'AL',\n",
       " 'N00003062': 'AL',\n",
       " 'N00003105': 'TN',\n",
       " 'N00003132': 'TN',\n",
       " 'N00003209': 'TN',\n",
       " 'N00003225': 'TN',\n",
       " 'N00003280': 'MS',\n",
       " 'N00003288': 'MS',\n",
       " 'N00003328': 'MS',\n",
       " 'N00003389': 'KY',\n",
       " 'N00003467': 'KY',\n",
       " 'N00003473': 'KY',\n",
       " 'N00003522': 'OH',\n",
       " 'N00003535': 'OH',\n",
       " 'N00003675': 'OH',\n",
       " 'N00003682': 'OH',\n",
       " 'N00003689': 'OH',\n",
       " 'N00003813': 'IN',\n",
       " 'N00003845': 'IN',\n",
       " 'N00003950': 'MI',\n",
       " 'N00004029': 'MI',\n",
       " 'N00004118': 'MI',\n",
       " 'N00004133': 'MI',\n",
       " 'N00004291': 'WI',\n",
       " 'N00004357': 'WI',\n",
       " 'N00004367': 'WI',\n",
       " 'N00004403': 'WI',\n",
       " 'N00004436': 'MN',\n",
       " 'N00004558': 'MN',\n",
       " 'N00004572': 'SD',\n",
       " 'N00004614': 'ND',\n",
       " 'N00004719': 'IL',\n",
       " 'N00004724': 'IL',\n",
       " 'N00004874': 'IL',\n",
       " 'N00004884': 'IL',\n",
       " 'N00004887': 'IL',\n",
       " 'N00004961': 'IL',\n",
       " 'N00004981': 'IL',\n",
       " 'N00005195': 'MO',\n",
       " 'N00005282': 'KS',\n",
       " 'N00005285': 'KS',\n",
       " 'N00005293': 'NE',\n",
       " 'N00005559': 'OK',\n",
       " 'N00005582': 'OK',\n",
       " 'N00005656': 'TX',\n",
       " 'N00005681': 'TX',\n",
       " 'N00005736': 'TX',\n",
       " 'N00005818': 'TX',\n",
       " 'N00005870': 'TX',\n",
       " 'N00005883': 'TX',\n",
       " 'N00006008': 'TX',\n",
       " 'N00006023': 'TX',\n",
       " 'N00006052': 'TX',\n",
       " 'N00006134': 'CO',\n",
       " 'N00006236': 'WY',\n",
       " 'N00006249': 'WY',\n",
       " 'N00006263': 'ID',\n",
       " 'N00006267': 'ID',\n",
       " 'N00006423': 'AZ',\n",
       " 'N00006424': 'AZ',\n",
       " 'N00006446': 'AZ',\n",
       " 'N00006460': 'AZ',\n",
       " 'N00006561': 'NM',\n",
       " 'N00006671': 'CA',\n",
       " 'N00006690': 'CA',\n",
       " 'N00006692': 'CA',\n",
       " 'N00006701': 'CA',\n",
       " 'N00006789': 'CA',\n",
       " 'N00006806': 'CA',\n",
       " 'N00006863': 'CA',\n",
       " 'N00006897': 'CA',\n",
       " 'N00007017': 'CA',\n",
       " 'N00007021': 'CA',\n",
       " 'N00007099': 'CA',\n",
       " 'N00007151': 'CA',\n",
       " 'N00007232': 'CA',\n",
       " 'N00007248': 'CA',\n",
       " 'N00007312': 'CA',\n",
       " 'N00007335': 'CA',\n",
       " 'N00007360': 'CA',\n",
       " 'N00007364': 'CA',\n",
       " 'N00007419': 'CA',\n",
       " 'N00007479': 'CA',\n",
       " 'N00007690': 'OR',\n",
       " 'N00007724': 'OR',\n",
       " 'N00007727': 'OR',\n",
       " 'N00007781': 'OR',\n",
       " 'N00007833': 'WA',\n",
       " 'N00007836': 'WA',\n",
       " 'N00007876': 'WA',\n",
       " 'N00007999': 'AK',\n",
       " 'N00008028': 'TX',\n",
       " 'N00008046': 'CA',\n",
       " 'N00008122': 'TX',\n",
       " 'N00008264': 'CA',\n",
       " 'N00008274': 'CA',\n",
       " 'N00008799': 'TX',\n",
       " 'N00009154': 'VA',\n",
       " 'N00009573': 'AZ',\n",
       " 'N00009585': 'CA',\n",
       " 'N00009604': 'CA',\n",
       " 'N00009659': 'LA',\n",
       " 'N00009660': 'LA',\n",
       " 'N00009699': 'OH',\n",
       " 'N00009724': 'RI',\n",
       " 'N00009738': 'TX',\n",
       " 'N00009759': 'WA',\n",
       " 'N00009771': 'WV',\n",
       " 'N00009774': 'CA',\n",
       " 'N00009795': 'MI',\n",
       " 'N00009816': 'NJ',\n",
       " 'N00009829': 'WA',\n",
       " 'N00009869': 'UT',\n",
       " 'N00009888': 'TN',\n",
       " 'N00009918': 'VT',\n",
       " 'N00009920': 'AL',\n",
       " 'N00009922': 'NV',\n",
       " 'N00009926': 'FL',\n",
       " 'N00009975': 'SC',\n",
       " 'N00012233': 'OH',\n",
       " 'N00012460': 'MO',\n",
       " 'N00012508': 'DE',\n",
       " 'N00012539': 'IL',\n",
       " 'N00012546': 'IN',\n",
       " 'N00012611': 'CA',\n",
       " 'N00012672': 'NM',\n",
       " 'N00012739': 'FL',\n",
       " 'N00012942': 'MN',\n",
       " 'N00013323': 'MO',\n",
       " 'N00013345': 'NY',\n",
       " 'N00013770': 'PA',\n",
       " 'N00013799': 'VA',\n",
       " 'N00013817': 'ME',\n",
       " 'N00013820': 'MD',\n",
       " 'N00013846': 'FL',\n",
       " 'N00013855': 'MA',\n",
       " 'N00013873': 'AR',\n",
       " 'N00021207': 'MN',\n",
       " 'N00024753': 'CO',\n",
       " 'N00024759': 'AL',\n",
       " 'N00024790': 'NH',\n",
       " 'N00024809': 'SC',\n",
       " 'N00024842': 'CT',\n",
       " 'N00024852': 'TX',\n",
       " 'N00024870': 'CA',\n",
       " 'N00024871': 'GA',\n",
       " 'N00024922': 'TX',\n",
       " 'N00024978': 'TX',\n",
       " 'N00024992': 'PA',\n",
       " 'N00025095': 'TX',\n",
       " 'N00025175': 'OH',\n",
       " 'N00025219': 'TX',\n",
       " 'N00025237': 'IA',\n",
       " 'N00025280': 'OH',\n",
       " 'N00025284': 'AZ',\n",
       " 'N00025292': 'UT',\n",
       " 'N00025337': 'FL',\n",
       " 'N00025482': 'MD',\n",
       " 'N00025495': 'PA',\n",
       " 'N00025726': 'OK',\n",
       " 'N00025881': 'HI',\n",
       " 'N00026041': 'TX',\n",
       " 'N00026043': 'TX',\n",
       " 'N00026050': 'AK',\n",
       " 'N00026106': 'FL',\n",
       " 'N00026148': 'TX',\n",
       " 'N00026160': 'GA',\n",
       " 'N00026163': 'GA',\n",
       " 'N00026166': 'NC',\n",
       " 'N00026171': 'PA',\n",
       " 'N00026314': 'WA',\n",
       " 'N00026335': 'FL',\n",
       " 'N00026341': 'CA',\n",
       " 'N00026368': 'MI',\n",
       " 'N00026457': 'TX',\n",
       " 'N00026460': 'TX',\n",
       " 'N00026586': 'IN',\n",
       " 'N00026595': 'LA',\n",
       " 'N00026627': 'NC',\n",
       " 'N00026631': 'NE',\n",
       " 'N00026686': 'TX',\n",
       " 'N00026710': 'TX',\n",
       " 'N00026790': 'MO',\n",
       " 'N00026885': 'WA',\n",
       " 'N00026914': 'WI',\n",
       " 'N00026926': 'CA',\n",
       " 'N00026961': 'NY',\n",
       " 'N00027035': 'NC',\n",
       " 'N00027060': 'NY',\n",
       " 'N00027229': 'PA',\n",
       " 'N00027239': 'IL',\n",
       " 'N00027441': 'TN',\n",
       " 'N00027459': 'CA',\n",
       " 'N00027462': 'FL',\n",
       " 'N00027467': 'MN',\n",
       " 'N00027500': 'MN',\n",
       " 'N00027503': 'PA',\n",
       " 'N00027509': 'CO',\n",
       " 'N00027510': 'CO',\n",
       " 'N00027514': 'FL',\n",
       " 'N00027522': 'NV',\n",
       " 'N00027523': 'NJ',\n",
       " 'N00027533': 'RI',\n",
       " 'N00027566': 'CT',\n",
       " 'N00027605': 'MT',\n",
       " 'N00027623': 'NE',\n",
       " 'N00027626': 'FL',\n",
       " 'N00027649': 'KS',\n",
       " 'N00027658': 'NY',\n",
       " 'N00027694': 'MO',\n",
       " 'N00027741': 'IA',\n",
       " 'N00027751': 'MD',\n",
       " 'N00027848': 'GA',\n",
       " 'N00027860': 'IL',\n",
       " 'N00027894': 'OH',\n",
       " 'N00028073': 'KY',\n",
       " 'N00028133': 'CO',\n",
       " 'N00028138': 'HI',\n",
       " 'N00028139': 'HI',\n",
       " 'N00028152': 'CA',\n",
       " 'N00028249': 'MD',\n",
       " 'N00028257': 'MN',\n",
       " 'N00028418': 'FL',\n",
       " 'N00028463': 'TN',\n",
       " 'N00028958': 'UT',\n",
       " 'N00029016': 'MN',\n",
       " 'N00029018': 'FL',\n",
       " 'N00029026': 'MA',\n",
       " 'N00029070': 'CT',\n",
       " 'N00029077': 'KS',\n",
       " 'N00029127': 'CO',\n",
       " 'N00029139': 'IL',\n",
       " 'N00029147': 'MD',\n",
       " 'N00029258': 'CA',\n",
       " 'N00029260': 'AZ',\n",
       " 'N00029273': 'IL',\n",
       " 'N00029277': 'MI',\n",
       " 'N00029285': 'TX',\n",
       " 'N00029303': 'OR',\n",
       " 'N00029391': 'MN',\n",
       " 'N00029400': 'NM',\n",
       " 'N00029404': 'NY',\n",
       " 'N00029441': 'ID',\n",
       " 'N00029459': 'VA',\n",
       " 'N00029513': 'IN',\n",
       " 'N00029562': 'NM',\n",
       " 'N00029574': 'OH',\n",
       " 'N00029632': 'MS',\n",
       " 'N00029649': 'CA',\n",
       " 'N00029662': 'FL',\n",
       " 'N00029675': 'KY',\n",
       " 'N00029679': 'LA',\n",
       " 'N00029736': 'PA',\n",
       " 'N00029788': 'WY',\n",
       " 'N00029835': 'NM',\n",
       " 'N00029891': 'VA',\n",
       " 'N00030026': 'MO',\n",
       " 'N00030071': 'OR',\n",
       " 'N00030184': 'LA',\n",
       " 'N00030191': 'NV',\n",
       " 'N00030196': 'NY',\n",
       " 'N00030197': 'NY',\n",
       " 'N00030245': 'LA',\n",
       " 'N00030490': 'OH',\n",
       " 'N00030581': 'IL',\n",
       " 'N00030600': 'CA',\n",
       " 'N00030602': 'TX',\n",
       " 'N00030608': 'CO',\n",
       " 'N00030612': 'FL',\n",
       " 'N00030622': 'AL',\n",
       " 'N00030645': 'FL',\n",
       " 'N00030650': 'FL',\n",
       " 'N00030667': 'IL',\n",
       " 'N00030670': 'IN',\n",
       " 'N00030673': 'MI',\n",
       " 'N00030676': 'MO',\n",
       " 'N00030693': 'WA',\n",
       " 'N00030709': 'CA',\n",
       " 'N00030717': 'CA',\n",
       " 'N00030736': 'DE',\n",
       " 'N00030744': 'KS',\n",
       " 'N00030752': 'SC',\n",
       " 'N00030768': 'AL',\n",
       " 'N00030770': 'AR',\n",
       " 'N00030771': 'AZ',\n",
       " 'N00030780': 'CO',\n",
       " 'N00030788': 'GA',\n",
       " 'N00030801': 'NH',\n",
       " 'N00030815': 'TN',\n",
       " 'N00030829': 'CO',\n",
       " 'N00030836': 'KY',\n",
       " 'N00030856': 'CA',\n",
       " 'N00030875': 'NH',\n",
       " 'N00030880': 'SC',\n",
       " 'N00030891': 'IN',\n",
       " 'N00030910': 'AL',\n",
       " 'N00030949': 'NY',\n",
       " 'N00030957': 'TN',\n",
       " 'N00030962': 'VA',\n",
       " 'N00030967': 'WI',\n",
       " 'N00030968': 'WI',\n",
       " 'N00030980': 'NH',\n",
       " 'N00031005': 'MO',\n",
       " 'N00031006': 'MS',\n",
       " 'N00031064': 'PA',\n",
       " 'N00031103': 'IL',\n",
       " 'N00031104': 'IL',\n",
       " 'N00031127': 'OH',\n",
       " 'N00031128': 'OH',\n",
       " 'N00031129': 'OK',\n",
       " 'N00031134': 'PA',\n",
       " 'N00031141': 'TN',\n",
       " 'N00031177': 'NV',\n",
       " 'N00031226': 'IN',\n",
       " 'N00031227': 'IN',\n",
       " 'N00031233': 'KY',\n",
       " 'N00031244': 'NV',\n",
       " 'N00031253': 'PA',\n",
       " 'N00031265': 'VA',\n",
       " 'N00031317': 'FL',\n",
       " 'N00031377': 'ID',\n",
       " 'N00031412': 'SC',\n",
       " 'N00031417': 'TX',\n",
       " 'N00031502': 'KS',\n",
       " 'N00031513': 'NC',\n",
       " 'N00031539': 'TN',\n",
       " 'N00031545': 'TX',\n",
       " 'N00031557': 'WA',\n",
       " 'N00031559': 'WA',\n",
       " 'N00031593': 'CA',\n",
       " 'N00031647': 'PA',\n",
       " 'N00031672': 'TX',\n",
       " 'N00031681': 'WV',\n",
       " 'N00031685': 'CT',\n",
       " 'N00031688': 'ND',\n",
       " 'N00031696': 'UT',\n",
       " 'N00031741': 'IN',\n",
       " 'N00031777': 'PA',\n",
       " 'N00031782': 'SC',\n",
       " 'N00031820': 'DE',\n",
       " 'N00031857': 'AR',\n",
       " 'N00031877': 'CA',\n",
       " 'N00031933': 'MA',\n",
       " 'N00031934': 'MI',\n",
       " 'N00031938': 'MI',\n",
       " 'N00031958': 'MS',\n",
       " 'N00031998': 'NY',\n",
       " 'N00032019': 'RI',\n",
       " 'N00032022': 'SD',\n",
       " 'N00032029': 'VA',\n",
       " 'N00032088': 'OH',\n",
       " 'N00032243': 'GA',\n",
       " 'N00032416': 'GA',\n",
       " 'N00032441': 'FL',\n",
       " 'N00032457': 'GA',\n",
       " 'N00032546': 'WI',\n",
       " 'N00032838': 'WV',\n",
       " 'N00033030': 'CA',\n",
       " 'N00033054': 'MT',\n",
       " 'N00033085': 'TX',\n",
       " 'N00033091': 'FL',\n",
       " 'N00033106': 'MO',\n",
       " 'N00033177': 'VA',\n",
       " 'N00033217': 'CT',\n",
       " 'N00033220': 'FL',\n",
       " 'N00033274': 'CA',\n",
       " 'N00033281': 'HI',\n",
       " 'N00033310': 'OH',\n",
       " 'N00033316': 'TX',\n",
       " 'N00033363': 'AR',\n",
       " 'N00033367': 'CA',\n",
       " 'N00033373': 'CA',\n",
       " 'N00033390': 'IL',\n",
       " 'N00033395': 'MI',\n",
       " 'N00033399': 'NC',\n",
       " 'N00033410': 'OK',\n",
       " 'N00033443': 'NE',\n",
       " 'N00033474': 'OR',\n",
       " 'N00033492': 'MA',\n",
       " 'N00033495': 'IN',\n",
       " 'N00033508': 'CA',\n",
       " 'N00033510': 'CA',\n",
       " 'N00033518': 'GA',\n",
       " 'N00033527': 'NC',\n",
       " 'N00033532': 'OK',\n",
       " 'N00033539': 'TX',\n",
       " 'N00033540': 'TX',\n",
       " 'N00033549': 'WI',\n",
       " 'N00033591': 'CA',\n",
       " 'N00033630': 'NC',\n",
       " 'N00033631': 'NC',\n",
       " 'N00033640': 'NY',\n",
       " 'N00033720': 'GA',\n",
       " 'N00033744': 'IA',\n",
       " 'N00033782': 'ND',\n",
       " 'N00033814': 'WV',\n",
       " 'N00033832': 'SC',\n",
       " 'N00033839': 'TX',\n",
       " 'N00033842': 'UT',\n",
       " 'N00033897': 'MD',\n",
       " 'N00033904': 'OH',\n",
       " 'N00033932': 'UT',\n",
       " 'N00033982': 'AZ',\n",
       " 'N00033983': 'AZ',\n",
       " 'N00033987': 'CA',\n",
       " 'N00033997': 'CA',\n",
       " 'N00034041': 'KY',\n",
       " 'N00034044': 'MA',\n",
       " 'N00034068': 'MI',\n",
       " 'N00034120': 'PA',\n",
       " 'N00034128': 'PA',\n",
       " 'N00034224': 'CA',\n",
       " 'N00034254': 'CA',\n",
       " 'N00034277': 'NY',\n",
       " 'N00034349': 'TX',\n",
       " 'N00034416': 'NC',\n",
       " 'N00034453': 'WA',\n",
       " 'N00034547': 'NY',\n",
       " 'N00034580': 'ME',\n",
       " 'N00034584': 'ME',\n",
       " 'N00034639': 'NJ',\n",
       " 'N00034746': 'FL',\n",
       " 'N00034784': 'IL',\n",
       " 'N00035007': 'OH',\n",
       " 'N00035187': 'SD',\n",
       " 'N00035215': 'IL',\n",
       " 'N00035267': 'NJ',\n",
       " 'N00035278': 'MA',\n",
       " 'N00035282': 'MO',\n",
       " 'N00035307': 'PA',\n",
       " 'N00035311': 'NC',\n",
       " 'N00035346': 'GA',\n",
       " 'N00035347': 'GA',\n",
       " 'N00035380': 'AL',\n",
       " 'N00035391': 'CA',\n",
       " 'N00035403': 'FL',\n",
       " 'N00035420': 'IL',\n",
       " 'N00035431': 'MA',\n",
       " 'N00035440': 'MN',\n",
       " 'N00035451': 'NC',\n",
       " 'N00035483': 'IA',\n",
       " 'N00035492': 'NC',\n",
       " 'N00035509': 'IA',\n",
       " 'N00035516': 'GA',\n",
       " 'N00035523': 'NY',\n",
       " 'N00035527': 'AR',\n",
       " 'N00035531': 'WV',\n",
       " 'N00035535': 'HI',\n",
       " 'N00035544': 'NE',\n",
       " 'N00035607': 'MI',\n",
       " 'N00035616': 'MT',\n",
       " 'N00035628': 'NV',\n",
       " 'N00035688': 'FL',\n",
       " 'N00035691': 'AL',\n",
       " 'N00035717': 'FL',\n",
       " 'N00035774': 'AK',\n",
       " 'N00035792': 'AR',\n",
       " 'N00035820': 'CA',\n",
       " 'N00035825': 'CA',\n",
       " 'N00035854': 'FL',\n",
       " 'N00035927': 'NY',\n",
       " 'N00035934': 'NY',\n",
       " 'N00035972': 'TX',\n",
       " 'N00036013': 'VA',\n",
       " 'N00036018': 'VA',\n",
       " 'N00036023': 'VA',\n",
       " 'N00036097': 'AZ',\n",
       " 'N00036107': 'CA',\n",
       " 'N00036135': 'LA',\n",
       " 'N00036149': 'MI',\n",
       " 'N00036154': 'NJ',\n",
       " 'N00036155': 'NJ',\n",
       " 'N00036158': 'NJ',\n",
       " 'N00036175': 'OK',\n",
       " 'N00036275': 'MI',\n",
       " 'N00036403': 'WA',\n",
       " 'N00036409': 'WI',\n",
       " 'N00036449': 'MI',\n",
       " 'N00036633': 'LA',\n",
       " 'N00036928': 'NY',\n",
       " 'N00037003': 'MS',\n",
       " 'N00037031': 'IL',\n",
       " 'N00038767': 'OH'}"
      ]
     },
     "execution_count": 27,
     "metadata": {},
     "output_type": "execute_result"
    }
   ],
   "source": [
    "states"
   ]
  },
  {
   "cell_type": "code",
   "execution_count": 31,
   "metadata": {},
   "outputs": [
    {
     "data": {
      "text/html": [
       "<div>\n",
       "<style>\n",
       "    .dataframe thead tr:only-child th {\n",
       "        text-align: right;\n",
       "    }\n",
       "\n",
       "    .dataframe thead th {\n",
       "        text-align: left;\n",
       "    }\n",
       "\n",
       "    .dataframe tbody tr th {\n",
       "        vertical-align: top;\n",
       "    }\n",
       "</style>\n",
       "<table border=\"1\" class=\"dataframe\">\n",
       "  <thead>\n",
       "    <tr style=\"text-align: right;\">\n",
       "      <th></th>\n",
       "      <th>bioguide_id</th>\n",
       "      <th>birthdate</th>\n",
       "      <th>cid</th>\n",
       "      <th>comments</th>\n",
       "      <th>congress_office</th>\n",
       "      <th>exit_code</th>\n",
       "      <th>facebook_id</th>\n",
       "      <th>fax</th>\n",
       "      <th>feccandid</th>\n",
       "      <th>first_elected</th>\n",
       "      <th>...</th>\n",
       "      <th>gender</th>\n",
       "      <th>lastname</th>\n",
       "      <th>office</th>\n",
       "      <th>party</th>\n",
       "      <th>phone</th>\n",
       "      <th>twitter_id</th>\n",
       "      <th>votesmart_id</th>\n",
       "      <th>webform</th>\n",
       "      <th>website</th>\n",
       "      <th>youtube_url</th>\n",
       "    </tr>\n",
       "  </thead>\n",
       "  <tbody>\n",
       "    <tr>\n",
       "      <th>173</th>\n",
       "      <td>G000556</td>\n",
       "      <td>1958-03-13</td>\n",
       "      <td>N00028418</td>\n",
       "      <td>Lost Senate primary</td>\n",
       "      <td>303 Cannon House Office Building</td>\n",
       "      <td>20</td>\n",
       "      <td>NaN</td>\n",
       "      <td>202-225-9742</td>\n",
       "      <td>H6FL08213</td>\n",
       "      <td>2012</td>\n",
       "      <td>...</td>\n",
       "      <td>M</td>\n",
       "      <td>GRAYSON</td>\n",
       "      <td>FL09</td>\n",
       "      <td>D</td>\n",
       "      <td>202-225-9889</td>\n",
       "      <td>NaN</td>\n",
       "      <td>68184.0</td>\n",
       "      <td>https://grayson.house.gov/contact/email-me</td>\n",
       "      <td>http://grayson.house.gov</td>\n",
       "      <td>NaN</td>\n",
       "    </tr>\n",
       "  </tbody>\n",
       "</table>\n",
       "<p>1 rows × 21 columns</p>\n",
       "</div>"
      ],
      "text/plain": [
       "    bioguide_id   birthdate        cid             comments  \\\n",
       "173     G000556  1958-03-13  N00028418  Lost Senate primary   \n",
       "\n",
       "                      congress_office  exit_code facebook_id           fax  \\\n",
       "173  303 Cannon House Office Building         20         NaN  202-225-9742   \n",
       "\n",
       "     feccandid  first_elected     ...     gender lastname office party  \\\n",
       "173  H6FL08213           2012     ...          M  GRAYSON   FL09     D   \n",
       "\n",
       "            phone twitter_id votesmart_id  \\\n",
       "173  202-225-9889        NaN      68184.0   \n",
       "\n",
       "                                        webform                   website  \\\n",
       "173  https://grayson.house.gov/contact/email-me  http://grayson.house.gov   \n",
       "\n",
       "    youtube_url  \n",
       "173         NaN  \n",
       "\n",
       "[1 rows x 21 columns]"
      ]
     },
     "execution_count": 31,
     "metadata": {},
     "output_type": "execute_result"
    }
   ],
   "source": [
    "#we are encountering a problem with cid = 'N00028418'. Let's see who that is:\n",
    "get_leg_by_cid('N00028418')"
   ]
  },
  {
   "cell_type": "code",
   "execution_count": 36,
   "metadata": {},
   "outputs": [
    {
     "data": {
      "text/html": [
       "<div>\n",
       "<style>\n",
       "    .dataframe thead tr:only-child th {\n",
       "        text-align: right;\n",
       "    }\n",
       "\n",
       "    .dataframe thead th {\n",
       "        text-align: left;\n",
       "    }\n",
       "\n",
       "    .dataframe tbody tr th {\n",
       "        vertical-align: top;\n",
       "    }\n",
       "</style>\n",
       "<table border=\"1\" class=\"dataframe\">\n",
       "  <thead>\n",
       "    <tr style=\"text-align: right;\">\n",
       "      <th></th>\n",
       "      <th>bioguide_id</th>\n",
       "      <th>birthdate</th>\n",
       "      <th>cid</th>\n",
       "      <th>comments</th>\n",
       "      <th>congress_office</th>\n",
       "      <th>exit_code</th>\n",
       "      <th>facebook_id</th>\n",
       "      <th>fax</th>\n",
       "      <th>feccandid</th>\n",
       "      <th>first_elected</th>\n",
       "      <th>...</th>\n",
       "      <th>gender</th>\n",
       "      <th>lastname</th>\n",
       "      <th>office</th>\n",
       "      <th>party</th>\n",
       "      <th>phone</th>\n",
       "      <th>twitter_id</th>\n",
       "      <th>votesmart_id</th>\n",
       "      <th>webform</th>\n",
       "      <th>website</th>\n",
       "      <th>youtube_url</th>\n",
       "    </tr>\n",
       "  </thead>\n",
       "  <tbody>\n",
       "    <tr>\n",
       "      <th>66</th>\n",
       "      <td>M000087</td>\n",
       "      <td>1946-02-19</td>\n",
       "      <td>N00000078</td>\n",
       "      <td>NaN</td>\n",
       "      <td>2308 Rayburn House Office Building</td>\n",
       "      <td>0</td>\n",
       "      <td>pages/foo/397176447066236</td>\n",
       "      <td>202-225-4709</td>\n",
       "      <td>H2NY14037</td>\n",
       "      <td>1992</td>\n",
       "      <td>...</td>\n",
       "      <td>F</td>\n",
       "      <td>MALONEY</td>\n",
       "      <td>NY12</td>\n",
       "      <td>D</td>\n",
       "      <td>202-225-7944</td>\n",
       "      <td>RepMaloney</td>\n",
       "      <td>26978.0</td>\n",
       "      <td>https://maloney.house.gov/contact-me/email-me</td>\n",
       "      <td>http://maloney.house.gov</td>\n",
       "      <td>NaN</td>\n",
       "    </tr>\n",
       "  </tbody>\n",
       "</table>\n",
       "<p>1 rows × 21 columns</p>\n",
       "</div>"
      ],
      "text/plain": [
       "   bioguide_id   birthdate        cid comments  \\\n",
       "66     M000087  1946-02-19  N00000078      NaN   \n",
       "\n",
       "                       congress_office  exit_code                facebook_id  \\\n",
       "66  2308 Rayburn House Office Building          0  pages/foo/397176447066236   \n",
       "\n",
       "             fax  feccandid  first_elected     ...     gender lastname office  \\\n",
       "66  202-225-4709  H2NY14037           1992     ...          F  MALONEY   NY12   \n",
       "\n",
       "   party         phone  twitter_id votesmart_id  \\\n",
       "66     D  202-225-7944  RepMaloney      26978.0   \n",
       "\n",
       "                                          webform                   website  \\\n",
       "66  https://maloney.house.gov/contact-me/email-me  http://maloney.house.gov   \n",
       "\n",
       "   youtube_url  \n",
       "66         NaN  \n",
       "\n",
       "[1 rows x 21 columns]"
      ]
     },
     "execution_count": 36,
     "metadata": {},
     "output_type": "execute_result"
    }
   ],
   "source": [
    "#let's put in one that works:\n",
    "get_leg_by_cid('N00000078')"
   ]
  },
  {
   "cell_type": "code",
   "execution_count": 33,
   "metadata": {},
   "outputs": [
    {
     "data": {
      "text/plain": [
       "539"
      ]
     },
     "execution_count": 33,
     "metadata": {},
     "output_type": "execute_result"
    }
   ],
   "source": [
    "#is it a problem because we're at the end?\n",
    "len(parties)"
   ]
  },
  {
   "cell_type": "code",
   "execution_count": 34,
   "metadata": {},
   "outputs": [
    {
     "data": {
      "text/plain": [
       "537"
      ]
     },
     "execution_count": 34,
     "metadata": {},
     "output_type": "execute_result"
    }
   ],
   "source": [
    "len(G_leg)"
   ]
  },
  {
   "cell_type": "code",
   "execution_count": 89,
   "metadata": {},
   "outputs": [
    {
     "data": {
      "text/plain": [
       "{'gender': 'F', 'label': 'N00000078', 'party': 'D', 'state': 'NY'}"
      ]
     },
     "execution_count": 89,
     "metadata": {},
     "output_type": "execute_result"
    }
   ],
   "source": [
    "#maybe it's a problem in the G_leg graph?\n",
    "G_leg.node['N00000078']"
   ]
  },
  {
   "cell_type": "code",
   "execution_count": 90,
   "metadata": {},
   "outputs": [
    {
     "ename": "KeyError",
     "evalue": "'N00028418'",
     "output_type": "error",
     "traceback": [
      "\u001b[0;31m---------------------------------------------------------------------------\u001b[0m",
      "\u001b[0;31mKeyError\u001b[0m                                  Traceback (most recent call last)",
      "\u001b[0;32m<ipython-input-90-14612eb453cd>\u001b[0m in \u001b[0;36m<module>\u001b[0;34m()\u001b[0m\n\u001b[0;32m----> 1\u001b[0;31m \u001b[0mG_leg\u001b[0m\u001b[0;34m.\u001b[0m\u001b[0mnode\u001b[0m\u001b[0;34m[\u001b[0m\u001b[0;34m'N00028418'\u001b[0m\u001b[0;34m]\u001b[0m\u001b[0;34m\u001b[0m\u001b[0m\n\u001b[0m",
      "\u001b[0;31mKeyError\u001b[0m: 'N00028418'"
     ]
    }
   ],
   "source": [
    "G_leg.node['N00028418']\n",
    "#yes, the issue is that it does not exist. So why is it trying to access this cid?"
   ]
  },
  {
   "cell_type": "code",
   "execution_count": 106,
   "metadata": {},
   "outputs": [],
   "source": [
    "nx.set_node_attributes(G_leg,name='party',values=parties)"
   ]
  },
  {
   "cell_type": "code",
   "execution_count": 108,
   "metadata": {},
   "outputs": [
    {
     "data": {
      "text/plain": [
       "'1.11'"
      ]
     },
     "execution_count": 108,
     "metadata": {},
     "output_type": "execute_result"
    }
   ],
   "source": [
    "nx.__version__"
   ]
  },
  {
   "cell_type": "code",
   "execution_count": 107,
   "metadata": {},
   "outputs": [],
   "source": [
    "nx.set_node_attributes(G_leg,name='gender',values=genders)"
   ]
  },
  {
   "cell_type": "code",
   "execution_count": 108,
   "metadata": {},
   "outputs": [],
   "source": [
    "nx.set_node_attributes(G_leg,name='state',values=states)"
   ]
  },
  {
   "cell_type": "code",
   "execution_count": 109,
   "metadata": {},
   "outputs": [
    {
     "data": {
      "text/plain": [
       "{'D': {'D': 18764, 'I': 12, 'R': 12576},\n",
       " 'I': {'D': 12, 'R': 3},\n",
       " 'R': {'D': 12576, 'I': 3, 'R': 21942}}"
      ]
     },
     "execution_count": 109,
     "metadata": {},
     "output_type": "execute_result"
    }
   ],
   "source": [
    "nx.attribute_mixing_dict(G_leg,'party')"
   ]
  },
  {
   "cell_type": "markdown",
   "metadata": {},
   "source": [
    "This says: \n",
    "\n",
    "- 18764 links are between two democrats\n",
    "- 21942 links are between two republicans\n",
    "- $12576 \\times 2$ links are between a democrat and republican\n",
    "\n",
    "What is the probability of a mixing matrix like this arising by chance? We'll come back to this later."
   ]
  },
  {
   "cell_type": "code",
   "execution_count": 110,
   "metadata": {},
   "outputs": [
    {
     "name": "stdout",
     "output_type": "stream",
     "text": [
      "[[  0.00000000e+00   1.82127246e-04   4.55318116e-05]\n",
      " [  1.82127246e-04   2.84786304e-01   1.90869354e-01]\n",
      " [  4.55318116e-05   1.90869354e-01   3.33019670e-01]]\n"
     ]
    }
   ],
   "source": [
    "#here's another view\n",
    "M_party = nx.attribute_mixing_matrix(G_leg,'party')\n",
    "print(M_party)"
   ]
  },
  {
   "cell_type": "code",
   "execution_count": 111,
   "metadata": {},
   "outputs": [
    {
     "data": {
      "text/plain": [
       "{'F': {'F': 2818, 'M': 9659}, 'M': {'F': 9659, 'M': 43752}}"
      ]
     },
     "execution_count": 111,
     "metadata": {},
     "output_type": "execute_result"
    }
   ],
   "source": [
    "nx.attribute_mixing_dict(G_leg,'gender')"
   ]
  },
  {
   "cell_type": "code",
   "execution_count": 112,
   "metadata": {},
   "outputs": [
    {
     "name": "stdout",
     "output_type": "stream",
     "text": [
      "[[ 0.66403594  0.14659726]\n",
      " [ 0.14659726  0.04276955]]\n"
     ]
    }
   ],
   "source": [
    "#here's another view\n",
    "M_gender = nx.attribute_mixing_matrix(G_leg,'gender')\n",
    "print(M_gender)"
   ]
  },
  {
   "cell_type": "code",
   "execution_count": 113,
   "metadata": {},
   "outputs": [
    {
     "name": "stdout",
     "output_type": "stream",
     "text": [
      "0.0620143273434\n"
     ]
    }
   ],
   "source": [
    "#here's another view: \n",
    "#The trace of this matrix is the fraction of edges with the same value of the attribute.\n",
    "M_state = nx.attribute_mixing_matrix(G_leg,'state')\n",
    "print(M_state.trace())"
   ]
  },
  {
   "cell_type": "code",
   "execution_count": 114,
   "metadata": {},
   "outputs": [
    {
     "data": {
      "text/plain": [
       "0.70680548810101995"
      ]
     },
     "execution_count": 114,
     "metadata": {},
     "output_type": "execute_result"
    }
   ],
   "source": [
    "M_gender.trace()"
   ]
  },
  {
   "cell_type": "code",
   "execution_count": 45,
   "metadata": {
    "collapsed": true
   },
   "outputs": [],
   "source": [
    "from collections import Counter"
   ]
  },
  {
   "cell_type": "markdown",
   "metadata": {},
   "source": [
    "Base rate for gender"
   ]
  },
  {
   "cell_type": "code",
   "execution_count": 115,
   "metadata": {},
   "outputs": [
    {
     "data": {
      "text/plain": [
       "0.6862877382357903"
      ]
     },
     "execution_count": 115,
     "metadata": {},
     "output_type": "execute_result"
    }
   ],
   "source": [
    "gender_counts = Counter(df['gender'])\n",
    "sum([(g_val/len(df))**2 for g_val in gender_counts.values()])"
   ]
  },
  {
   "cell_type": "markdown",
   "metadata": {},
   "source": [
    "The trace of this matrix is the fraction of edges with the same value of the attribute."
   ]
  },
  {
   "cell_type": "code",
   "execution_count": 116,
   "metadata": {},
   "outputs": [
    {
     "name": "stdout",
     "output_type": "stream",
     "text": [
      "0.617805973774\n"
     ]
    }
   ],
   "source": [
    "observed_trace = M_party.trace()\n",
    "print(observed_trace)"
   ]
  },
  {
   "cell_type": "markdown",
   "metadata": {},
   "source": [
    "**Your turn:** compute the same matrix for the state from which each legislators is from. The state is identified by the first two characters of the `office` attribute."
   ]
  },
  {
   "cell_type": "code",
   "execution_count": 48,
   "metadata": {},
   "outputs": [
    {
     "data": {
      "text/plain": [
       "['CA',\n",
       " 'CA',\n",
       " 'CA',\n",
       " 'CA',\n",
       " 'CA',\n",
       " 'CA',\n",
       " 'CA',\n",
       " 'CA',\n",
       " 'CA',\n",
       " 'CA',\n",
       " 'CA',\n",
       " 'CA',\n",
       " 'CA',\n",
       " 'CA',\n",
       " 'CA',\n",
       " 'CA',\n",
       " 'CA',\n",
       " 'CA',\n",
       " 'CA',\n",
       " 'CA',\n",
       " 'CA',\n",
       " 'CA',\n",
       " 'CA',\n",
       " 'CA',\n",
       " 'CA',\n",
       " 'CA',\n",
       " 'CA',\n",
       " 'CA',\n",
       " 'CA',\n",
       " 'CA',\n",
       " 'CA',\n",
       " 'CA',\n",
       " 'CA',\n",
       " 'CA',\n",
       " 'CA',\n",
       " 'CA',\n",
       " 'CA',\n",
       " 'CA',\n",
       " 'CA',\n",
       " 'CA',\n",
       " 'CA',\n",
       " 'CA',\n",
       " 'CA',\n",
       " 'CA',\n",
       " 'CA',\n",
       " 'CA',\n",
       " 'CA',\n",
       " 'CA',\n",
       " 'CA',\n",
       " 'CA',\n",
       " 'CA',\n",
       " 'CA',\n",
       " 'CA',\n",
       " 'CA',\n",
       " 'CA',\n",
       " 'NY',\n",
       " 'NY',\n",
       " 'NY',\n",
       " 'NY',\n",
       " 'NY',\n",
       " 'NY',\n",
       " 'NY',\n",
       " 'NY',\n",
       " 'NY',\n",
       " 'NY',\n",
       " 'NY',\n",
       " 'NY',\n",
       " 'NY',\n",
       " 'NY',\n",
       " 'NY',\n",
       " 'NY',\n",
       " 'NY',\n",
       " 'NY',\n",
       " 'NY',\n",
       " 'NY',\n",
       " 'NY',\n",
       " 'NY',\n",
       " 'NY',\n",
       " 'NY',\n",
       " 'NY',\n",
       " 'NY',\n",
       " 'NY',\n",
       " 'NY',\n",
       " 'NY',\n",
       " 'CO',\n",
       " 'CO',\n",
       " 'CO',\n",
       " 'CO',\n",
       " 'CO',\n",
       " 'CO',\n",
       " 'CO',\n",
       " 'CO',\n",
       " 'CO',\n",
       " 'AK',\n",
       " 'AK',\n",
       " 'AK',\n",
       " 'NV',\n",
       " 'NV',\n",
       " 'NV',\n",
       " 'NV',\n",
       " 'NV',\n",
       " 'NV',\n",
       " 'UT',\n",
       " 'UT',\n",
       " 'UT',\n",
       " 'UT',\n",
       " 'UT',\n",
       " 'UT',\n",
       " 'KY',\n",
       " 'KY',\n",
       " 'KY',\n",
       " 'KY',\n",
       " 'KY',\n",
       " 'KY',\n",
       " 'KY',\n",
       " 'KY',\n",
       " 'IL',\n",
       " 'IL',\n",
       " 'IL',\n",
       " 'IL',\n",
       " 'IL',\n",
       " 'IL',\n",
       " 'IL',\n",
       " 'IL',\n",
       " 'IL',\n",
       " 'IL',\n",
       " 'IL',\n",
       " 'IL',\n",
       " 'IL',\n",
       " 'IL',\n",
       " 'IL',\n",
       " 'IL',\n",
       " 'IL',\n",
       " 'IL',\n",
       " 'IL',\n",
       " 'IL',\n",
       " 'IL',\n",
       " 'SC',\n",
       " 'SC',\n",
       " 'SC',\n",
       " 'SC',\n",
       " 'SC',\n",
       " 'SC',\n",
       " 'SC',\n",
       " 'SC',\n",
       " 'SC',\n",
       " 'NM',\n",
       " 'NM',\n",
       " 'NM',\n",
       " 'NM',\n",
       " 'NM',\n",
       " 'NJ',\n",
       " 'NJ',\n",
       " 'NJ',\n",
       " 'NJ',\n",
       " 'NJ',\n",
       " 'NJ',\n",
       " 'NJ',\n",
       " 'NJ',\n",
       " 'NJ',\n",
       " 'NJ',\n",
       " 'NJ',\n",
       " 'NJ',\n",
       " 'NJ',\n",
       " 'NJ',\n",
       " 'FL',\n",
       " 'FL',\n",
       " 'FL',\n",
       " 'FL',\n",
       " 'FL',\n",
       " 'FL',\n",
       " 'FL',\n",
       " 'FL',\n",
       " 'FL',\n",
       " 'FL',\n",
       " 'FL',\n",
       " 'FL',\n",
       " 'FL',\n",
       " 'FL',\n",
       " 'FL',\n",
       " 'FL',\n",
       " 'FL',\n",
       " 'FL',\n",
       " 'FL',\n",
       " 'FL',\n",
       " 'FL',\n",
       " 'FL',\n",
       " 'FL',\n",
       " 'FL',\n",
       " 'FL',\n",
       " 'FL',\n",
       " 'FL',\n",
       " 'FL',\n",
       " 'FL',\n",
       " 'WV',\n",
       " 'WV',\n",
       " 'WV',\n",
       " 'WV',\n",
       " 'WV',\n",
       " 'GA',\n",
       " 'GA',\n",
       " 'GA',\n",
       " 'GA',\n",
       " 'GA',\n",
       " 'GA',\n",
       " 'GA',\n",
       " 'GA',\n",
       " 'GA',\n",
       " 'GA',\n",
       " 'GA',\n",
       " 'GA',\n",
       " 'GA',\n",
       " 'GA',\n",
       " 'GA',\n",
       " 'GA',\n",
       " 'OK',\n",
       " 'OK',\n",
       " 'OK',\n",
       " 'OK',\n",
       " 'OK',\n",
       " 'OK',\n",
       " 'OK',\n",
       " 'TN',\n",
       " 'TN',\n",
       " 'TN',\n",
       " 'TN',\n",
       " 'TN',\n",
       " 'TN',\n",
       " 'TN',\n",
       " 'TN',\n",
       " 'TN',\n",
       " 'TN',\n",
       " 'TN',\n",
       " 'OR',\n",
       " 'OR',\n",
       " 'OR',\n",
       " 'OR',\n",
       " 'OR',\n",
       " 'OR',\n",
       " 'OR',\n",
       " 'ID',\n",
       " 'ID',\n",
       " 'ID',\n",
       " 'ID',\n",
       " 'MO',\n",
       " 'MO',\n",
       " 'MO',\n",
       " 'MO',\n",
       " 'MO',\n",
       " 'MO',\n",
       " 'MO',\n",
       " 'MO',\n",
       " 'MO',\n",
       " 'MO',\n",
       " 'VT',\n",
       " 'VT',\n",
       " 'VT',\n",
       " 'WI',\n",
       " 'WI',\n",
       " 'WI',\n",
       " 'WI',\n",
       " 'WI',\n",
       " 'WI',\n",
       " 'WI',\n",
       " 'WI',\n",
       " 'WI',\n",
       " 'WI',\n",
       " 'ME',\n",
       " 'ME',\n",
       " 'ME',\n",
       " 'ME',\n",
       " 'AL',\n",
       " 'AL',\n",
       " 'AL',\n",
       " 'AL',\n",
       " 'AL',\n",
       " 'AL',\n",
       " 'AL',\n",
       " 'AL',\n",
       " 'AL',\n",
       " 'RI',\n",
       " 'RI',\n",
       " 'RI',\n",
       " 'RI',\n",
       " 'MS',\n",
       " 'MS',\n",
       " 'MS',\n",
       " 'MS',\n",
       " 'MS',\n",
       " 'MS',\n",
       " 'MS',\n",
       " 'NC',\n",
       " 'NC',\n",
       " 'NC',\n",
       " 'NC',\n",
       " 'NC',\n",
       " 'NC',\n",
       " 'NC',\n",
       " 'NC',\n",
       " 'NC',\n",
       " 'NC',\n",
       " 'NC',\n",
       " 'NC',\n",
       " 'NC',\n",
       " 'NC',\n",
       " 'NC',\n",
       " 'MI',\n",
       " 'MI',\n",
       " 'MI',\n",
       " 'MI',\n",
       " 'MI',\n",
       " 'MI',\n",
       " 'MI',\n",
       " 'MI',\n",
       " 'MI',\n",
       " 'MI',\n",
       " 'MI',\n",
       " 'MI',\n",
       " 'MI',\n",
       " 'MI',\n",
       " 'MI',\n",
       " 'MI',\n",
       " 'IA',\n",
       " 'IA',\n",
       " 'IA',\n",
       " 'IA',\n",
       " 'IA',\n",
       " 'IA',\n",
       " 'DE',\n",
       " 'DE',\n",
       " 'DE',\n",
       " 'SD',\n",
       " 'SD',\n",
       " 'SD',\n",
       " 'KS',\n",
       " 'KS',\n",
       " 'KS',\n",
       " 'KS',\n",
       " 'KS',\n",
       " 'KS',\n",
       " 'OH',\n",
       " 'OH',\n",
       " 'OH',\n",
       " 'OH',\n",
       " 'OH',\n",
       " 'OH',\n",
       " 'OH',\n",
       " 'OH',\n",
       " 'OH',\n",
       " 'OH',\n",
       " 'OH',\n",
       " 'OH',\n",
       " 'OH',\n",
       " 'OH',\n",
       " 'OH',\n",
       " 'OH',\n",
       " 'OH',\n",
       " 'OH',\n",
       " 'OH',\n",
       " 'TX',\n",
       " 'TX',\n",
       " 'TX',\n",
       " 'TX',\n",
       " 'TX',\n",
       " 'TX',\n",
       " 'TX',\n",
       " 'TX',\n",
       " 'TX',\n",
       " 'TX',\n",
       " 'TX',\n",
       " 'TX',\n",
       " 'TX',\n",
       " 'TX',\n",
       " 'TX',\n",
       " 'TX',\n",
       " 'TX',\n",
       " 'TX',\n",
       " 'TX',\n",
       " 'TX',\n",
       " 'TX',\n",
       " 'TX',\n",
       " 'TX',\n",
       " 'TX',\n",
       " 'TX',\n",
       " 'TX',\n",
       " 'TX',\n",
       " 'TX',\n",
       " 'TX',\n",
       " 'TX',\n",
       " 'TX',\n",
       " 'TX',\n",
       " 'TX',\n",
       " 'TX',\n",
       " 'TX',\n",
       " 'TX',\n",
       " 'TX',\n",
       " 'TX',\n",
       " 'VA',\n",
       " 'VA',\n",
       " 'VA',\n",
       " 'VA',\n",
       " 'VA',\n",
       " 'VA',\n",
       " 'VA',\n",
       " 'VA',\n",
       " 'VA',\n",
       " 'VA',\n",
       " 'VA',\n",
       " 'VA',\n",
       " 'VA',\n",
       " 'IN',\n",
       " 'IN',\n",
       " 'IN',\n",
       " 'IN',\n",
       " 'IN',\n",
       " 'IN',\n",
       " 'IN',\n",
       " 'IN',\n",
       " 'IN',\n",
       " 'IN',\n",
       " 'IN',\n",
       " 'AZ',\n",
       " 'AZ',\n",
       " 'AZ',\n",
       " 'AZ',\n",
       " 'AZ',\n",
       " 'AZ',\n",
       " 'AZ',\n",
       " 'AZ',\n",
       " 'AZ',\n",
       " 'AZ',\n",
       " 'AZ',\n",
       " 'PA',\n",
       " 'PA',\n",
       " 'PA',\n",
       " 'PA',\n",
       " 'PA',\n",
       " 'PA',\n",
       " 'PA',\n",
       " 'PA',\n",
       " 'PA',\n",
       " 'PA',\n",
       " 'PA',\n",
       " 'PA',\n",
       " 'PA',\n",
       " 'PA',\n",
       " 'PA',\n",
       " 'PA',\n",
       " 'PA',\n",
       " 'PA',\n",
       " 'PA',\n",
       " 'PA',\n",
       " 'LA',\n",
       " 'LA',\n",
       " 'LA',\n",
       " 'LA',\n",
       " 'LA',\n",
       " 'LA',\n",
       " 'LA',\n",
       " 'LA',\n",
       " 'WY',\n",
       " 'WY',\n",
       " 'WY',\n",
       " 'AR',\n",
       " 'AR',\n",
       " 'AR',\n",
       " 'AR',\n",
       " 'AR',\n",
       " 'AR',\n",
       " 'NE',\n",
       " 'NE',\n",
       " 'NE',\n",
       " 'NE',\n",
       " 'NE',\n",
       " 'HI',\n",
       " 'HI',\n",
       " 'HI',\n",
       " 'HI',\n",
       " 'HI',\n",
       " 'MA',\n",
       " 'MA',\n",
       " 'MA',\n",
       " 'MA',\n",
       " 'MA',\n",
       " 'MA',\n",
       " 'MA',\n",
       " 'MA',\n",
       " 'MA',\n",
       " 'MA',\n",
       " 'MA',\n",
       " 'CT',\n",
       " 'CT',\n",
       " 'CT',\n",
       " 'CT',\n",
       " 'CT',\n",
       " 'CT',\n",
       " 'CT',\n",
       " 'ND',\n",
       " 'ND',\n",
       " 'ND',\n",
       " 'MD',\n",
       " 'MD',\n",
       " 'MD',\n",
       " 'MD',\n",
       " 'MD',\n",
       " 'MD',\n",
       " 'MD',\n",
       " 'MD',\n",
       " 'MD',\n",
       " 'MD',\n",
       " 'MT',\n",
       " 'MT',\n",
       " 'MT',\n",
       " 'MN',\n",
       " 'MN',\n",
       " 'MN',\n",
       " 'MN',\n",
       " 'MN',\n",
       " 'MN',\n",
       " 'MN',\n",
       " 'MN',\n",
       " 'MN',\n",
       " 'MN',\n",
       " 'NH',\n",
       " 'NH',\n",
       " 'NH',\n",
       " 'NH',\n",
       " 'WA',\n",
       " 'WA',\n",
       " 'WA',\n",
       " 'WA',\n",
       " 'WA',\n",
       " 'WA',\n",
       " 'WA',\n",
       " 'WA',\n",
       " 'WA',\n",
       " 'WA',\n",
       " 'WA',\n",
       " 'WA']"
      ]
     },
     "execution_count": 48,
     "metadata": {},
     "output_type": "execute_result"
    }
   ],
   "source": [
    "[office[:2] for office in df['office']]"
   ]
  },
  {
   "cell_type": "code",
   "execution_count": 161,
   "metadata": {},
   "outputs": [],
   "source": [
    "df = df.assign( offices = [office[:2] for office in df['office']] )"
   ]
  },
  {
   "cell_type": "code",
   "execution_count": 162,
   "metadata": {},
   "outputs": [],
   "source": [
    "offices_dict = {row['cid']:row['offices'] for _,row in df.iterrows()}"
   ]
  },
  {
   "cell_type": "code",
   "execution_count": 165,
   "metadata": {
    "collapsed": true
   },
   "outputs": [],
   "source": [
    "G_leg = nx.projected_graph(G,leg_nodes)"
   ]
  },
  {
   "cell_type": "code",
   "execution_count": 167,
   "metadata": {},
   "outputs": [],
   "source": [
    "nx.set_node_attributes(G_leg,name='offices',values=offices_dict)"
   ]
  },
  {
   "cell_type": "code",
   "execution_count": 168,
   "metadata": {},
   "outputs": [
    {
     "name": "stdout",
     "output_type": "stream",
     "text": [
      "0.0620143273434\n"
     ]
    }
   ],
   "source": [
    "M_office = nx.attribute_mixing_matrix(G_leg,'offices')\n",
    "print(M_office.trace())"
   ]
  },
  {
   "cell_type": "markdown",
   "metadata": {},
   "source": [
    "The base probability of two nodes having the same attribute is $\\theta = \\sum_i P(i)^2$, summing over all possible values of the attribute. \n",
    "\n",
    "Under the null hypothesis, the trace of the attribute mixing matrix is drawn from a binomial distribution with parameters $(\\theta, N)$, where $N$ is the total number of edges. Using this, we can compute $p$-values for these assortativity statistics."
   ]
  },
  {
   "cell_type": "code",
   "execution_count": 118,
   "metadata": {
    "collapsed": true
   },
   "outputs": [],
   "source": [
    "M_party_counts = M_party * len(G_leg.edges())"
   ]
  },
  {
   "cell_type": "code",
   "execution_count": 119,
   "metadata": {},
   "outputs": [
    {
     "data": {
      "text/plain": [
       "20353.0"
      ]
     },
     "execution_count": 119,
     "metadata": {},
     "output_type": "execute_result"
    }
   ],
   "source": [
    "M_party_counts.trace()"
   ]
  },
  {
   "cell_type": "code",
   "execution_count": 49,
   "metadata": {
    "collapsed": true
   },
   "outputs": [],
   "source": [
    "from collections import Counter"
   ]
  },
  {
   "cell_type": "code",
   "execution_count": 120,
   "metadata": {},
   "outputs": [
    {
     "data": {
      "text/plain": [
       "Counter({'D': 234, 'I': 1, 'R': 304})"
      ]
     },
     "execution_count": 120,
     "metadata": {},
     "output_type": "execute_result"
    }
   ],
   "source": [
    "party_counts = Counter(parties.values())\n",
    "party_counts"
   ]
  },
  {
   "cell_type": "markdown",
   "metadata": {},
   "source": [
    "Now let's compute the base distribution over political parties."
   ]
  },
  {
   "cell_type": "code",
   "execution_count": 121,
   "metadata": {},
   "outputs": [
    {
     "data": {
      "text/plain": [
       "array([ 0.56400742,  0.43413729,  0.00185529])"
      ]
     },
     "execution_count": 121,
     "metadata": {},
     "output_type": "execute_result"
    }
   ],
   "source": [
    "p_party = np.array(list(party_counts.values()))/sum(party_counts.values())\n",
    "p_party "
   ]
  },
  {
   "cell_type": "markdown",
   "metadata": {},
   "source": [
    "The baseline chance of agreement is the sum of the squares:"
   ]
  },
  {
   "cell_type": "code",
   "execution_count": 122,
   "metadata": {},
   "outputs": [
    {
     "data": {
      "text/plain": [
       "0.50658300088461761"
      ]
     },
     "execution_count": 122,
     "metadata": {},
     "output_type": "execute_result"
    }
   ],
   "source": [
    "p_agree = (p_party **2).sum()\n",
    "p_agree"
   ]
  },
  {
   "cell_type": "markdown",
   "metadata": {},
   "source": [
    "**Your turn**: compute the same baseline agreement rate for states."
   ]
  },
  {
   "cell_type": "code",
   "execution_count": 128,
   "metadata": {},
   "outputs": [
    {
     "data": {
      "text/plain": [
       "Counter({'AK': 3,\n",
       "         'AL': 9,\n",
       "         'AR': 6,\n",
       "         'AZ': 11,\n",
       "         'CA': 55,\n",
       "         'CO': 9,\n",
       "         'CT': 7,\n",
       "         'DE': 3,\n",
       "         'FL': 29,\n",
       "         'GA': 16,\n",
       "         'HI': 5,\n",
       "         'IA': 6,\n",
       "         'ID': 4,\n",
       "         'IL': 21,\n",
       "         'IN': 11,\n",
       "         'KS': 6,\n",
       "         'KY': 8,\n",
       "         'LA': 8,\n",
       "         'MA': 11,\n",
       "         'MD': 10,\n",
       "         'ME': 4,\n",
       "         'MI': 16,\n",
       "         'MN': 10,\n",
       "         'MO': 10,\n",
       "         'MS': 7,\n",
       "         'MT': 3,\n",
       "         'NC': 15,\n",
       "         'ND': 3,\n",
       "         'NE': 5,\n",
       "         'NH': 4,\n",
       "         'NJ': 14,\n",
       "         'NM': 5,\n",
       "         'NV': 6,\n",
       "         'NY': 29,\n",
       "         'OH': 19,\n",
       "         'OK': 7,\n",
       "         'OR': 7,\n",
       "         'PA': 20,\n",
       "         'RI': 4,\n",
       "         'SC': 9,\n",
       "         'SD': 3,\n",
       "         'TN': 11,\n",
       "         'TX': 38,\n",
       "         'UT': 6,\n",
       "         'VA': 13,\n",
       "         'VT': 3,\n",
       "         'WA': 12,\n",
       "         'WI': 10,\n",
       "         'WV': 5,\n",
       "         'WY': 3})"
      ]
     },
     "execution_count": 128,
     "metadata": {},
     "output_type": "execute_result"
    }
   ],
   "source": [
    "state_counts = Counter(states.values())\n",
    "state_counts"
   ]
  },
  {
   "cell_type": "code",
   "execution_count": 129,
   "metadata": {},
   "outputs": [
    {
     "data": {
      "text/plain": [
       "array([ 0.10204082,  0.05380334,  0.01669759,  0.00556586,  0.01113173,\n",
       "        0.01113173,  0.0148423 ,  0.03896104,  0.01669759,  0.00927644,\n",
       "        0.02597403,  0.05380334,  0.00927644,  0.0296846 ,  0.01298701,\n",
       "        0.02040816,  0.01298701,  0.00742115,  0.01855288,  0.00556586,\n",
       "        0.01855288,  0.00742115,  0.01669759,  0.00742115,  0.01298701,\n",
       "        0.02782931,  0.0296846 ,  0.01113173,  0.00556586,  0.00556586,\n",
       "        0.01113173,  0.03525046,  0.07050093,  0.02411874,  0.02040816,\n",
       "        0.02040816,  0.03710575,  0.0148423 ,  0.00556586,  0.01113173,\n",
       "        0.00927644,  0.00927644,  0.02040816,  0.01298701,  0.00556586,\n",
       "        0.01855288,  0.00556586,  0.01855288,  0.00742115,  0.02226345])"
      ]
     },
     "execution_count": 129,
     "metadata": {},
     "output_type": "execute_result"
    }
   ],
   "source": [
    "#compute the base distribution over all states\n",
    "p_state = np.array(list(state_counts.values()))/sum(state_counts.values())\n",
    "p_state"
   ]
  },
  {
   "cell_type": "code",
   "execution_count": 130,
   "metadata": {},
   "outputs": [
    {
     "data": {
      "text/plain": [
       "0.035993955686508032"
      ]
     },
     "execution_count": 130,
     "metadata": {},
     "output_type": "execute_result"
    }
   ],
   "source": [
    "#now compute the baseline chance of agreement (the sum of squares)\n",
    "p_agree_state = (p_state **2).sum()\n",
    "p_agree_state"
   ]
  },
  {
   "cell_type": "markdown",
   "metadata": {},
   "source": [
    "## Randomized test\n",
    "\n",
    "Now let's try a shuffle test, to see if these extremely low $p$-values are plausible."
   ]
  },
  {
   "cell_type": "code",
   "execution_count": 60,
   "metadata": {
    "collapsed": true
   },
   "outputs": [],
   "source": [
    "from random import shuffle"
   ]
  },
  {
   "cell_type": "markdown",
   "metadata": {},
   "source": [
    "The node metadata is stored in a dict, `parties`. We're going to make the keys into a list, and repeatedly shuffle that list, thereby shuffling the assignment of parties to nodes in the network."
   ]
  },
  {
   "cell_type": "code",
   "execution_count": 123,
   "metadata": {
    "collapsed": true
   },
   "outputs": [],
   "source": [
    "party_keys = list(parties.keys())"
   ]
  },
  {
   "cell_type": "markdown",
   "metadata": {},
   "source": [
    "Here's how this looks:"
   ]
  },
  {
   "cell_type": "code",
   "execution_count": 124,
   "metadata": {},
   "outputs": [
    {
     "name": "stdout",
     "output_type": "stream",
     "text": [
      "['N00029562', 'N00031226', 'N00001971', 'N00035278', 'N00036409', 'N00001003', 'N00026885', 'N00033549']\n",
      "['N00026106', 'N00035820', 'N00036023', 'N00031005', 'N00003288', 'N00034349', 'N00024753', 'N00031377']\n",
      "['N00029026', 'N00035792', 'N00001758', 'N00033217', 'N00034044', 'N00008046', 'N00035187', 'N00001127']\n",
      "['N00005195', 'N00005582', 'N00005656', 'N00007724', 'N00033904', 'N00035509', 'N00026457', 'N00001311']\n",
      "['N00003028', 'N00033630', 'N00001102', 'N00005293', 'N00030676', 'N00009795', 'N00035972', 'N00002260']\n"
     ]
    }
   ],
   "source": [
    "#let's shuffle the cids 5 times. Each row gives a \"new\" order of CIDs.\n",
    "for _ in range(5):\n",
    "    shuffle(party_keys)\n",
    "    print(party_keys[:8])"
   ]
  },
  {
   "cell_type": "markdown",
   "metadata": {},
   "source": [
    "Okay, let's do it. We'll store a list of traces of the mixing matrix, which is the null distribution over the fraction of edges in which both nodes have the same attribute."
   ]
  },
  {
   "cell_type": "code",
   "execution_count": 142,
   "metadata": {},
   "outputs": [],
   "source": [
    "traces = []\n",
    "for _ in range(200):\n",
    "    shuffle(party_keys)\n",
    "    nx.set_node_attributes(G_leg,name='party',\n",
    "                           values=\n",
    "                           {party_keys[i]:parties[cid] \n",
    "                            for i,cid \n",
    "                            in enumerate(parties.keys())})\n",
    "    traces.append(nx.attribute_mixing_matrix(G_leg,'party').trace())"
   ]
  },
  {
   "cell_type": "code",
   "execution_count": 143,
   "metadata": {},
   "outputs": [
    {
     "name": "stdout",
     "output_type": "stream",
     "text": [
      "P(agree) according to shuffle: 0.505579771734\n",
      "P(agree), analytic: 0.506583000885\n"
     ]
    }
   ],
   "source": [
    "print('P(agree) according to shuffle:',np.array(traces).mean())\n",
    "print('P(agree), analytic:',p_agree)"
   ]
  },
  {
   "cell_type": "markdown",
   "metadata": {},
   "source": [
    "Very close! Now let's plot the null distribution."
   ]
  },
  {
   "cell_type": "code",
   "execution_count": 144,
   "metadata": {
    "collapsed": true
   },
   "outputs": [],
   "source": [
    "observed_trace = M_party.trace()"
   ]
  },
  {
   "cell_type": "code",
   "execution_count": 145,
   "metadata": {},
   "outputs": [
    {
     "data": {
      "image/png": "[encoded data removed]",
      "text/plain": [
       "<matplotlib.figure.Figure at 0x1146e4cf8>"
      ]
     },
     "metadata": {},
     "output_type": "display_data"
    }
   ],
   "source": [
    "max_val = np.histogram(traces)[0].max()\n",
    "plt.hist(traces,alpha=0.7);\n",
    "# observed\n",
    "plt.plot([observed_trace,observed_trace],[0,max_val],'r--',linewidth=3)\n",
    "plt.text(observed_trace,max_val,'observed',color='r')\n",
    "#analytical expectation\n",
    "plt.plot([p_agree,p_agree],[0,max_val],'k--',linewidth=3)\n",
    "plt.text(p_agree,max_val,'expected')\n",
    "plt.axis('tight');"
   ]
  },
  {
   "cell_type": "markdown",
   "metadata": {},
   "source": [
    "**Your turn** Do the same randomized test for states."
   ]
  },
  {
   "cell_type": "code",
   "execution_count": 146,
   "metadata": {
    "collapsed": true
   },
   "outputs": [],
   "source": [
    "state_keys = list(states.keys())"
   ]
  },
  {
   "cell_type": "code",
   "execution_count": 147,
   "metadata": {},
   "outputs": [],
   "source": [
    "traces = []\n",
    "for _ in range(200):\n",
    "    shuffle(state_keys)\n",
    "    nx.set_node_attributes(G_leg,name='state',\n",
    "                           values=\n",
    "                           {state_keys[i]:states[cid] \n",
    "                            for i,cid \n",
    "                            in enumerate(states.keys())})\n",
    "    traces.append(nx.attribute_mixing_matrix(G_leg,'state').trace())"
   ]
  },
  {
   "cell_type": "code",
   "execution_count": 148,
   "metadata": {},
   "outputs": [
    {
     "name": "stdout",
     "output_type": "stream",
     "text": [
      "P(agree) according to shuffle: 0.0343441901408\n",
      "P(agree), analytic: 0.0359939556865\n"
     ]
    }
   ],
   "source": [
    "print('P(agree) according to shuffle:',np.array(traces).mean())\n",
    "print('P(agree), analytic:',p_agree_state)"
   ]
  },
  {
   "cell_type": "code",
   "execution_count": 149,
   "metadata": {
    "collapsed": true
   },
   "outputs": [],
   "source": [
    "#reset the observed trace\n",
    "observed_trace = M_state.trace()"
   ]
  },
  {
   "cell_type": "code",
   "execution_count": 150,
   "metadata": {},
   "outputs": [
    {
     "data": {
      "image/png": "[encoded data removed]",
      "text/plain": [
       "<matplotlib.figure.Figure at 0x1144687b8>"
      ]
     },
     "metadata": {},
     "output_type": "display_data"
    }
   ],
   "source": [
    "max_val = np.histogram(traces)[0].max()\n",
    "plt.hist(traces,alpha=0.7);\n",
    "# observed\n",
    "plt.plot([observed_trace,observed_trace],[0,max_val],'r--',linewidth=3)\n",
    "plt.text(observed_trace,max_val,'observed',color='r')\n",
    "#analytical expectation\n",
    "plt.plot([p_agree_state,p_agree_state],[0,max_val],'k--',linewidth=3)\n",
    "plt.text(p_agree_state,max_val,'expected')\n",
    "plt.axis('tight');\n",
    "#QUESTION: Something is plotted incorrectl here. The observed trace should be closer to .03, no?"
   ]
  },
  {
   "cell_type": "markdown",
   "metadata": {},
   "source": [
    "## Party assortativity, controlling for state\n",
    "\n",
    "A potential confound is the state from which each legislator is from. Why is this a confound?\n",
    "\n",
    "- The state might affect the *treatment*: whether two legislators are linked in the network. This is because some contributors focus on specific states.\n",
    "- The state might affect the *outcome*: whether two legislators are from the same party.\n",
    "\n",
    "To control for this, let's compute the same test, using only edges between legislators who are from the same state. We'll do this by iterating over the list of states, and focusing on the subgraph containing only these legislators."
   ]
  },
  {
   "cell_type": "code",
   "execution_count": 125,
   "metadata": {
    "collapsed": true
   },
   "outputs": [],
   "source": [
    "# just in case this got shuffled\n",
    "nx.set_node_attributes(G_leg,name='party',values=parties)"
   ]
  },
  {
   "cell_type": "code",
   "execution_count": 108,
   "metadata": {
    "collapsed": true
   },
   "outputs": [],
   "source": [
    "states = sorted(list(set([office[:2] for office in df['office']])))"
   ]
  },
  {
   "cell_type": "code",
   "execution_count": 110,
   "metadata": {},
   "outputs": [
    {
     "name": "stdout",
     "output_type": "stream",
     "text": [
      "['AK', 'AL', 'AR', 'AZ', 'CA', 'CO', 'CT', 'DE', 'FL', 'GA', 'HI', 'IA', 'ID', 'IL', 'IN', 'KS', 'KY', 'LA', 'MA', 'MD', 'ME', 'MI', 'MN', 'MO', 'MS', 'MT', 'NC', 'ND', 'NE', 'NH', 'NJ', 'NM', 'NV', 'NY', 'OH', 'OK', 'OR', 'PA', 'RI', 'SC', 'SD', 'TN', 'TX', 'UT', 'VA', 'VT', 'WA', 'WI', 'WV', 'WY']\n"
     ]
    }
   ],
   "source": [
    "print(states)"
   ]
  },
  {
   "cell_type": "markdown",
   "metadata": {},
   "source": [
    "Here's how we get a subgraph of all nodes in a single state."
   ]
  },
  {
   "cell_type": "code",
   "execution_count": 129,
   "metadata": {},
   "outputs": [
    {
     "name": "stdout",
     "output_type": "stream",
     "text": [
      "['N00035346', 'N00002674', 'N00026163', 'N00027848', 'N00002577', 'N00026160', 'N00032416', 'N00032457', 'N00033518', 'N00032243', 'N00035347', 'N00033720', 'N00024871', 'N00030788', 'N00035516', 'N00002593']\n"
     ]
    }
   ],
   "source": [
    "the_locals = [node['cid'] for _,node in df.iterrows() if node['office'][:2] == 'GA']\n",
    "print(the_locals)\n",
    "G_state = G_leg.subgraph(the_locals)"
   ]
  },
  {
   "cell_type": "markdown",
   "metadata": {},
   "source": [
    "Here's the trace of the mixing matrix for that subgraph"
   ]
  },
  {
   "cell_type": "code",
   "execution_count": 131,
   "metadata": {},
   "outputs": [
    {
     "data": {
      "text/plain": [
       "0.60824742268041232"
      ]
     },
     "execution_count": 131,
     "metadata": {},
     "output_type": "execute_result"
    }
   ],
   "source": [
    "nx.attribute_mixing_matrix(G_state,'party').trace()"
   ]
  },
  {
   "cell_type": "markdown",
   "metadata": {},
   "source": [
    "Here are the raw counts, which is what we will aggregate when iterating over states"
   ]
  },
  {
   "cell_type": "code",
   "execution_count": 134,
   "metadata": {},
   "outputs": [
    {
     "data": {
      "text/plain": [
       "{'D': {'D': 12, 'R': 38}, 'R': {'D': 38, 'R': 106}}"
      ]
     },
     "execution_count": 134,
     "metadata": {},
     "output_type": "execute_result"
    }
   ],
   "source": [
    "nx.attribute_mixing_dict(G_state,'party')"
   ]
  },
  {
   "cell_type": "markdown",
   "metadata": {},
   "source": [
    "Here are some helper functions for keeping track of these counts."
   ]
  },
  {
   "cell_type": "code",
   "execution_count": 153,
   "metadata": {
    "collapsed": true
   },
   "outputs": [],
   "source": [
    "from collections import defaultdict"
   ]
  },
  {
   "cell_type": "code",
   "execution_count": 148,
   "metadata": {
    "collapsed": true
   },
   "outputs": [],
   "source": [
    "get_initial_counts = lambda : defaultdict(lambda : defaultdict(int))\n",
    "def add_counts(counts1,counts2):\n",
    "    for party1,row in counts2.items():\n",
    "        for part2,count in row.items():\n",
    "            counts1[party1][part2] += count\n",
    "    return counts1"
   ]
  },
  {
   "cell_type": "markdown",
   "metadata": {},
   "source": [
    "Here's how they work."
   ]
  },
  {
   "cell_type": "code",
   "execution_count": 152,
   "metadata": {},
   "outputs": [
    {
     "name": "stdout",
     "output_type": "stream",
     "text": [
      "{'R': defaultdict(<class 'int'>, {'R': 106, 'D': 38}), 'D': defaultdict(<class 'int'>, {'R': 38, 'D': 12})}\n",
      "{'R': defaultdict(<class 'int'>, {'R': 212, 'D': 76}), 'D': defaultdict(<class 'int'>, {'R': 76, 'D': 24})}\n"
     ]
    }
   ],
   "source": [
    "counts = get_initial_counts()\n",
    "counts = add_counts(counts,nx.attribute_mixing_dict(G_state,'party'))\n",
    "print(dict(counts))\n",
    "counts = add_counts(counts,nx.attribute_mixing_dict(G_state,'party'))\n",
    "print(dict(counts))"
   ]
  },
  {
   "cell_type": "markdown",
   "metadata": {},
   "source": [
    "**Your turn** use these functions to fill in the function below, which should aggregate across states and compute the total mixing counts."
   ]
  },
  {
   "cell_type": "code",
   "execution_count": 154,
   "metadata": {
    "collapsed": true
   },
   "outputs": [],
   "source": [
    "# your code here"
   ]
  },
  {
   "cell_type": "code",
   "execution_count": 157,
   "metadata": {
    "collapsed": true
   },
   "outputs": [],
   "source": [
    "counts = get_state_aggregated_mixing_counts(G_leg,df)"
   ]
  },
  {
   "cell_type": "code",
   "execution_count": 158,
   "metadata": {},
   "outputs": [
    {
     "name": "stdout",
     "output_type": "stream",
     "text": [
      "defaultdict(<function <lambda>.<locals>.<lambda> at 0x7f78ad2febf8>, {'R': defaultdict(<class 'int'>, {'R': 1340, 'D': 675}), 'D': defaultdict(<class 'int'>, {'R': 675, 'D': 1396})})\n"
     ]
    }
   ],
   "source": [
    "print(counts)"
   ]
  },
  {
   "cell_type": "markdown",
   "metadata": {},
   "source": [
    "Now we can compute the fraction of edges with the same party"
   ]
  },
  {
   "cell_type": "code",
   "execution_count": 167,
   "metadata": {
    "collapsed": true
   },
   "outputs": [],
   "source": [
    "def get_same_party_edges(counts):\n",
    "    agree = counts['D']['D'] + counts['D']['R']\n",
    "    disagree = counts['D']['R'] + counts['R']['D']\n",
    "    return(agree/(agree+disagree))"
   ]
  },
  {
   "cell_type": "code",
   "execution_count": 168,
   "metadata": {},
   "outputs": [
    {
     "name": "stdout",
     "output_type": "stream",
     "text": [
      "0.6053785442852967\n"
     ]
    }
   ],
   "source": [
    "observed_agreements_per_state = get_same_party_edges(counts)\n",
    "print(observed_agreements_per_state)"
   ]
  },
  {
   "cell_type": "markdown",
   "metadata": {},
   "source": [
    "To build the randomized test, we must shuffle only edges within each state."
   ]
  },
  {
   "cell_type": "code",
   "execution_count": 191,
   "metadata": {},
   "outputs": [
    {
     "name": "stdout",
     "output_type": "stream",
     "text": [
      "{'D': {'R': 39, 'D': 12}, 'R': {'D': 39, 'R': 104}}\n",
      "{'R': {'R': 110, 'D': 38}, 'D': {'R': 38, 'D': 8}}\n",
      "{'D': {'D': 12, 'R': 40}, 'R': {'D': 40, 'R': 102}}\n"
     ]
    }
   ],
   "source": [
    "state_party_attrs = nx.get_node_attributes(G_state,'party')\n",
    "keys = list(state_party_attrs.keys())\n",
    "values = state_party_attrs.values()\n",
    "for _ in range(3):\n",
    "    shuffle(keys)\n",
    "    nx.set_node_attributes(G_state,name='party',\n",
    "                           values={keys[i]:parties[cid] for i,cid in enumerate(state_party_attrs.keys())})\n",
    "    print(nx.attribute_mixing_dict(G_state,'party'))"
   ]
  },
  {
   "cell_type": "markdown",
   "metadata": {},
   "source": [
    "Let's incorporate this code into a randomized test"
   ]
  },
  {
   "cell_type": "code",
   "execution_count": 223,
   "metadata": {},
   "outputs": [
    {
     "name": "stdout",
     "output_type": "stream",
     "text": [
      "AK AL AR AZ CA CO CT DE FL GA HI IA ID IL IN KS KY LA MA MD ME MI MN MO MS MT NC ND NE NH NJ NM NV NY OH OK OR PA RI SC SD TN TX UT VA VT WA WI WV WY "
     ]
    }
   ],
   "source": [
    "N_samples = 200\n",
    "trace_counts = []\n",
    "for i in range(N_samples):\n",
    "    trace_counts.append(get_initial_counts())\n",
    "for state in states:\n",
    "    G_state = G_leg.subgraph([node['cid'] for _,node in df.iterrows() if node['office'][:2]==state])\n",
    "    state_party_attrs = nx.get_node_attributes(G_state,'party')\n",
    "    keys = list(state_party_attrs.keys())\n",
    "    for i in range(N_samples):\n",
    "        shuffle(keys)\n",
    "        nx.set_node_attributes(G_state,name='party',\n",
    "                               values={keys[i]:parties[cid] for i,cid in enumerate(state_party_attrs.keys())})\n",
    "        state_counts = nx.attribute_mixing_dict(G_state,'party')\n",
    "        trace_counts[i] = add_counts(trace_counts[i],state_counts)\n",
    "    print(state,end=' ')"
   ]
  },
  {
   "cell_type": "code",
   "execution_count": 224,
   "metadata": {
    "collapsed": true
   },
   "outputs": [],
   "source": [
    "samples = [get_same_party_edges(trace_count) for trace_count in trace_counts]"
   ]
  },
  {
   "cell_type": "code",
   "execution_count": 225,
   "metadata": {},
   "outputs": [
    {
     "name": "stdout",
     "output_type": "stream",
     "text": [
      "0.546826952709\n"
     ]
    }
   ],
   "source": [
    "print(np.array(samples).mean())"
   ]
  },
  {
   "cell_type": "markdown",
   "metadata": {},
   "source": [
    "Not surprisingly, the null distribution is a little higher after controlling for the confound"
   ]
  },
  {
   "cell_type": "code",
   "execution_count": 226,
   "metadata": {},
   "outputs": [
    {
     "data": {
      "image/png": "[encoded data removed]",
      "text/plain": [
       "<matplotlib.figure.Figure at 0x7f78b1bfab70>"
      ]
     },
     "metadata": {},
     "output_type": "display_data"
    }
   ],
   "source": [
    "max_val = np.histogram(samples)[0].max()\n",
    "plt.hist(samples,alpha=0.3);\n",
    "# observed\n",
    "plt.plot([observed_agreements_per_state,observed_agreements_per_state],[0,max_val],'r--',linewidth=3)\n",
    "plt.text(observed_agreements_per_state,max_val,'observed',color='r')\n",
    "plt.axis('tight');"
   ]
  },
  {
   "cell_type": "markdown",
   "metadata": {},
   "source": [
    "But even after controlling for the confound of state membership, there's still significant assortativity by political party in the projected network."
   ]
  },
  {
   "cell_type": "markdown",
   "metadata": {},
   "source": [
    "## Hubs and authorities\n",
    "\n",
    "Let's run the \"Hubs and Authorities\" algorithm from the reading on a directed network."
   ]
  },
  {
   "cell_type": "code",
   "execution_count": 182,
   "metadata": {
    "collapsed": true
   },
   "outputs": [],
   "source": [
    "G2 = nx.DiGraph() #directed graph"
   ]
  },
  {
   "cell_type": "code",
   "execution_count": 183,
   "metadata": {
    "collapsed": true
   },
   "outputs": [],
   "source": [
    "#tell it the direction for each of the connections (edges)\n",
    "for i,j in G.edges():\n",
    "    if i in leg_nodes: #make sure the legislator is the first argument and the contributor is the second argument\n",
    "        G2.add_edge(i,j)\n",
    "    else:\n",
    "        G2.add_edge(j,i)"
   ]
  },
  {
   "cell_type": "code",
   "execution_count": 184,
   "metadata": {},
   "outputs": [
    {
     "data": {
      "text/plain": [
       "[('N00003328', 'Biloxi Freezing & Processing'),\n",
       " ('N00003328', 'Tenax Aerospace'),\n",
       " ('N00003328', 'Huntington Ingalls Industries'),\n",
       " ('N00003328', 'Boeing Co'),\n",
       " ('N00003328', 'Votesane PAC')]"
      ]
     },
     "execution_count": 184,
     "metadata": {},
     "output_type": "execute_result"
    }
   ],
   "source": [
    "#now it indicates the network through directed connections\n",
    "[_ for _ in G2.edges()][:5]"
   ]
  },
  {
   "cell_type": "code",
   "execution_count": 185,
   "metadata": {},
   "outputs": [],
   "source": [
    "h,a = nx.hits(G2)"
   ]
  },
  {
   "cell_type": "code",
   "execution_count": 186,
   "metadata": {},
   "outputs": [
    {
     "data": {
      "text/plain": [
       "[('N00003328', 0.0),\n",
       " ('Biloxi Freezing & Processing', 0.00014680144247484865),\n",
       " ('N00013855', 0.0),\n",
       " ('Fannie Mae', 0.00022628729059890232),\n",
       " ('N00025219', 0.0)]"
      ]
     },
     "execution_count": 186,
     "metadata": {},
     "output_type": "execute_result"
    }
   ],
   "source": [
    "#authorities have arrows running into it. A contributor gives to a legislator. \n",
    "#Some contributors give to many legislators. Those contributors with higher hits give to more legislators.\n",
    "#This gives a different measure of the top contributors. \n",
    "list(a.items())[:5]"
   ]
  },
  {
   "cell_type": "markdown",
   "metadata": {},
   "source": [
    "Authorities are contributors, so legislators have zero values.\n",
    "\n",
    "Who are the top contributors, according to this method?"
   ]
  },
  {
   "cell_type": "code",
   "execution_count": 187,
   "metadata": {},
   "outputs": [],
   "source": [
    "#create a data frame listing the authority values and the names for each contributor\n",
    "contrib_df = pd.DataFrame({'authority':[a[node] for node in contrib_nodes],\n",
    "                                 'name':contrib_nodes})"
   ]
  },
  {
   "cell_type": "code",
   "execution_count": 188,
   "metadata": {},
   "outputs": [
    {
     "data": {
      "text/html": [
       "<div>\n",
       "<style>\n",
       "    .dataframe thead tr:only-child th {\n",
       "        text-align: right;\n",
       "    }\n",
       "\n",
       "    .dataframe thead th {\n",
       "        text-align: left;\n",
       "    }\n",
       "\n",
       "    .dataframe tbody tr th {\n",
       "        vertical-align: top;\n",
       "    }\n",
       "</style>\n",
       "<table border=\"1\" class=\"dataframe\">\n",
       "  <thead>\n",
       "    <tr style=\"text-align: right;\">\n",
       "      <th></th>\n",
       "      <th>authority</th>\n",
       "      <th>name</th>\n",
       "    </tr>\n",
       "  </thead>\n",
       "  <tbody>\n",
       "    <tr>\n",
       "      <th>211</th>\n",
       "      <td>0.025076</td>\n",
       "      <td>American Crystal Sugar</td>\n",
       "    </tr>\n",
       "    <tr>\n",
       "      <th>952</th>\n",
       "      <td>0.023295</td>\n",
       "      <td>Intl Brotherhood of Electrical Workers</td>\n",
       "    </tr>\n",
       "    <tr>\n",
       "      <th>945</th>\n",
       "      <td>0.020308</td>\n",
       "      <td>Carpenters &amp; Joiners Union</td>\n",
       "    </tr>\n",
       "    <tr>\n",
       "      <th>70</th>\n",
       "      <td>0.020183</td>\n",
       "      <td>Blue Cross/Blue Shield</td>\n",
       "    </tr>\n",
       "    <tr>\n",
       "      <th>20</th>\n",
       "      <td>0.020069</td>\n",
       "      <td>American Federation of Teachers</td>\n",
       "    </tr>\n",
       "    <tr>\n",
       "      <th>1077</th>\n",
       "      <td>0.019292</td>\n",
       "      <td>AT&amp;T Inc</td>\n",
       "    </tr>\n",
       "    <tr>\n",
       "      <th>230</th>\n",
       "      <td>0.019276</td>\n",
       "      <td>Boeing Co</td>\n",
       "    </tr>\n",
       "    <tr>\n",
       "      <th>502</th>\n",
       "      <td>0.018680</td>\n",
       "      <td>Machinists/Aerospace Workers Union</td>\n",
       "    </tr>\n",
       "    <tr>\n",
       "      <th>1802</th>\n",
       "      <td>0.014333</td>\n",
       "      <td>Honeywell International</td>\n",
       "    </tr>\n",
       "    <tr>\n",
       "      <th>649</th>\n",
       "      <td>0.012064</td>\n",
       "      <td>Comcast Corp</td>\n",
       "    </tr>\n",
       "  </tbody>\n",
       "</table>\n",
       "</div>"
      ],
      "text/plain": [
       "      authority                                    name\n",
       "211    0.025076                  American Crystal Sugar\n",
       "952    0.023295  Intl Brotherhood of Electrical Workers\n",
       "945    0.020308              Carpenters & Joiners Union\n",
       "70     0.020183                  Blue Cross/Blue Shield\n",
       "20     0.020069         American Federation of Teachers\n",
       "1077   0.019292                                AT&T Inc\n",
       "230    0.019276                               Boeing Co\n",
       "502    0.018680      Machinists/Aerospace Workers Union\n",
       "1802   0.014333                 Honeywell International\n",
       "649    0.012064                            Comcast Corp"
      ]
     },
     "execution_count": 188,
     "metadata": {},
     "output_type": "execute_result"
    }
   ],
   "source": [
    "#then sort the data frame to list the top contributors\n",
    "contrib_df.loc[contrib_df['authority'].argsort()[::-1]][:10]"
   ]
  },
  {
   "cell_type": "code",
   "execution_count": 237,
   "metadata": {},
   "outputs": [
    {
     "data": {
      "text/plain": [
       "[0.012063521400309547,\n",
       " 0.014333388502020216,\n",
       " 0.018679908095481878,\n",
       " 0.019275662573116335,\n",
       " 0.019291882673237302,\n",
       " 0.02006880532991155,\n",
       " 0.02018275969196496,\n",
       " 0.020307520771649025,\n",
       " 0.023294509057027925,\n",
       " 0.025075795119359715]"
      ]
     },
     "execution_count": 237,
     "metadata": {},
     "output_type": "execute_result"
    }
   ],
   "source": [
    "#could we also have sorted the list? QUESTION Why can't I do this? \n",
    "sorted(a.values())[-10:]"
   ]
  },
  {
   "cell_type": "markdown",
   "metadata": {},
   "source": [
    "## Spectral clustering\n",
    "\n",
    "Spectral clustering is a technique for clustering data based on a matrix of similarity scores between instances. We can use the adjacency matrix of the graph over legislators.\n",
    "\n",
    "The first step is to compute the normalized Laplacian. We saw the Laplacian in class, $L = D - A$, where $D$ is the diagonal degree matrix."
   ]
  },
  {
   "cell_type": "code",
   "execution_count": 238,
   "metadata": {},
   "outputs": [
    {
     "data": {
      "text/plain": [
       "<537x537 sparse matrix of type '<class 'numpy.float64'>'\n",
       "\twith 66423 stored elements in Compressed Sparse Row format>"
      ]
     },
     "execution_count": 238,
     "metadata": {},
     "output_type": "execute_result"
    }
   ],
   "source": [
    "nx.normalized_laplacian_matrix(G_leg)"
   ]
  },
  {
   "cell_type": "code",
   "execution_count": 239,
   "metadata": {
    "collapsed": true
   },
   "outputs": [],
   "source": [
    "# need this for sparse linear algebra\n",
    "from scipy.sparse import linalg"
   ]
  },
  {
   "cell_type": "markdown",
   "metadata": {},
   "source": [
    "The clustering is based on the eigenvector with the second-smallest eigenvalue.\n",
    "\n",
    "`which='SM'` tells the algorithm to return the smallest magnitude eigenvalues."
   ]
  },
  {
   "cell_type": "code",
   "execution_count": 240,
   "metadata": {},
   "outputs": [
    {
     "name": "stderr",
     "output_type": "stream",
     "text": [
      "/Users/shawnramirez/anaconda/lib/python3.6/site-packages/ipykernel_launcher.py:2: ComplexWarning: Casting complex values to real discards the imaginary part\n",
      "  \n"
     ]
    }
   ],
   "source": [
    "vals, vecs = linalg.eigs(nx.normalized_laplacian_matrix(G_leg),which='SM')\n",
    "vecs = vecs.astype('f')"
   ]
  },
  {
   "cell_type": "code",
   "execution_count": 241,
   "metadata": {
    "collapsed": true
   },
   "outputs": [],
   "source": [
    "node_idxs = list(G_leg.nodes())"
   ]
  },
  {
   "cell_type": "markdown",
   "metadata": {},
   "source": [
    "Let's see if the associated eigenvectors distinguish the legislators by political party."
   ]
  },
  {
   "cell_type": "code",
   "execution_count": 242,
   "metadata": {},
   "outputs": [
    {
     "data": {
      "image/png": "[encoded data removed]",
      "text/plain": [
       "<matplotlib.figure.Figure at 0x1103f6c88>"
      ]
     },
     "metadata": {},
     "output_type": "display_data"
    }
   ],
   "source": [
    "for cid in leg_nodes:\n",
    "    leg = get_leg_by_cid(cid)\n",
    "    if leg_attr(leg,'office')[:2] == 'GA' or leg_attr(leg,'office')[:2] == 'NJ':\n",
    "        idx = node_idxs.index(cid)\n",
    "        color = 'g'\n",
    "        if leg_attr(leg,'party') == 'D':\n",
    "            color = 'b'\n",
    "        elif leg_attr(leg,'party') == 'R':\n",
    "            color='r'\n",
    "        plt.scatter(vecs[idx,0],vecs[idx,1],.5,color=color)\n",
    "        plt.text(vecs[idx,0],vecs[idx,1],leg_attr(leg,'firstlast'),color=color)\n",
    "#plt.axis('tight');"
   ]
  },
  {
   "cell_type": "markdown",
   "metadata": {},
   "source": [
    "Not perfect, but pretty good."
   ]
  },
  {
   "cell_type": "markdown",
   "metadata": {},
   "source": [
    "**Your turn**: try some other states and see if it still works."
   ]
  },
  {
   "cell_type": "code",
   "execution_count": 243,
   "metadata": {},
   "outputs": [
    {
     "data": {
      "image/png": "[encoded data removed]",
      "text/plain": [
       "<matplotlib.figure.Figure at 0x1100b9ba8>"
      ]
     },
     "metadata": {},
     "output_type": "display_data"
    }
   ],
   "source": [
    "for cid in leg_nodes:\n",
    "    leg = get_leg_by_cid(cid)\n",
    "    if leg_attr(leg,'office')[:2] == 'WA' or leg_attr(leg,'office')[:2] == 'NY':\n",
    "        idx = node_idxs.index(cid)\n",
    "        color = 'g'\n",
    "        if leg_attr(leg,'party') == 'D':\n",
    "            color = 'b'\n",
    "        elif leg_attr(leg,'party') == 'R':\n",
    "            color='r'\n",
    "        plt.scatter(vecs[idx,0],vecs[idx,1],.5,color=color)\n",
    "        plt.text(vecs[idx,0],vecs[idx,1],leg_attr(leg,'firstlast'),color=color)\n",
    "#plt.axis('tight');"
   ]
  },
  {
   "cell_type": "code",
   "execution_count": 244,
   "metadata": {},
   "outputs": [
    {
     "data": {
      "image/png": "[encoded data removed]",
      "text/plain": [
       "<matplotlib.figure.Figure at 0x11064ab38>"
      ]
     },
     "metadata": {},
     "output_type": "display_data"
    }
   ],
   "source": [
    "for cid in leg_nodes:\n",
    "    leg = get_leg_by_cid(cid)\n",
    "    if leg_attr(leg,'office')[:2] == 'GA' or leg_attr(leg,'office')[:2] == 'NY':\n",
    "        idx = node_idxs.index(cid)\n",
    "        color = 'g'\n",
    "        if leg_attr(leg,'party') == 'D':\n",
    "            color = 'b'\n",
    "        elif leg_attr(leg,'party') == 'R':\n",
    "            color='r'\n",
    "        plt.scatter(vecs[idx,0],vecs[idx,1],.5,color=color)\n",
    "        plt.text(vecs[idx,0],vecs[idx,1],leg_attr(leg,'firstlast'),color=color)\n",
    "#plt.axis('tight');"
   ]
  },
  {
   "cell_type": "markdown",
   "metadata": {},
   "source": [
    "**Your turn**: can you see how to make the same sort of figure for the contributors?"
   ]
  }
 ],
 "metadata": {
  "kernelspec": {
   "display_name": "Python 3",
   "language": "python",
   "name": "python3"
  },
  "language_info": {
   "codemirror_mode": {
    "name": "ipython",
    "version": 3
   },
   "file_extension": ".py",
   "mimetype": "text/x-python",
   "name": "python",
   "nbconvert_exporter": "python",
   "pygments_lexer": "ipython3",
   "version": "3.6.1"
  }
 },
 "nbformat": 4,
 "nbformat_minor": 2
}
