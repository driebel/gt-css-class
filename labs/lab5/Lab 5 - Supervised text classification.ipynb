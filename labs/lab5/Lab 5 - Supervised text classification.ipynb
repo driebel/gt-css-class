{
 "cells": [
  {
   "cell_type": "markdown",
   "metadata": {},
   "source": [
    "Project 3: Text analysis of political social media\n",
    "======\n",
    "\n",
    "- By Jacob Eisenstein\n",
    "- For CS 8803-CSS, September 2017\n",
    "\n"
   ]
  },
  {
   "cell_type": "markdown",
   "metadata": {},
   "source": [
    "For this project, we'll use scikit learn. Install it with the line below."
   ]
  },
  {
   "cell_type": "code",
   "execution_count": 1,
   "metadata": {
    "collapsed": true
   },
   "outputs": [],
   "source": [
    "from __future__ import print_function"
   ]
  },
  {
   "cell_type": "code",
   "execution_count": 2,
   "metadata": {},
   "outputs": [
    {
     "name": "stdout",
     "output_type": "stream",
     "text": [
      "Requirement already satisfied: sklearn in /Users/shawnramirez/Library/Python/3.6/lib/python/site-packages\n",
      "Requirement already satisfied: scikit-learn in /Users/shawnramirez/Library/Python/3.6/lib/python/site-packages (from sklearn)\n"
     ]
    }
   ],
   "source": [
    "! pip3 install --user sklearn"
   ]
  },
  {
   "cell_type": "code",
   "execution_count": 3,
   "metadata": {
    "collapsed": true
   },
   "outputs": [],
   "source": [
    "import codecs #unicode compliance -- maybe not necessary in python 3?\n",
    "import glob #wildcard filenames"
   ]
  },
  {
   "cell_type": "markdown",
   "metadata": {},
   "source": [
    "# Data processing"
   ]
  },
  {
   "cell_type": "markdown",
   "metadata": {},
   "source": [
    "First let's read the data. Here's some hacky code by yours truly."
   ]
  },
  {
   "cell_type": "code",
   "execution_count": 4,
   "metadata": {},
   "outputs": [
    {
     "name": "stdout",
     "output_type": "stream",
     "text": [
      "Anarchism.txt\n",
      "Conservative.txt\n",
      "Libertarian.txt\n",
      "Progressive.txt\n",
      "Socialism.txt\n"
     ]
    }
   ],
   "source": [
    "# some hacky text formatting by yours truly\n",
    "linebreak = '-----==----==---==-----'\n",
    "subreddits = dict()\n",
    "for subreddit_file in sorted(glob.glob('*.txt')):\n",
    "    print(subreddit_file)\n",
    "    subreddit = subreddit_file[:-4]\n",
    "    comments = []\n",
    "    #with codecs.open('.'.join([subreddit,'txt']),'r','utf-8-sig') as fin:\n",
    "    with codecs.open(subreddit_file,'r','utf-8-sig') as fin:\n",
    "        comment = ''        \n",
    "        for line in fin:\n",
    "            b\n",
    "                #print line\n",
    "                #comment += line.decode('utf-8')\n",
    "                comment += line\n",
    "            else:\n",
    "                comments.append(comment)\n",
    "                comment = ''\n",
    "    subreddits[subreddit] = comments"
   ]
  },
  {
   "cell_type": "markdown",
   "metadata": {},
   "source": [
    "`subreddits` is a dict from labels to lists of text comments"
   ]
  },
  {
   "cell_type": "code",
   "execution_count": 5,
   "metadata": {},
   "outputs": [
    {
     "data": {
      "text/plain": [
       "dict_keys(['Anarchism', 'Conservative', 'Libertarian', 'Progressive', 'Socialism'])"
      ]
     },
     "execution_count": 5,
     "metadata": {},
     "output_type": "execute_result"
    }
   ],
   "source": [
    "subreddits.keys()"
   ]
  },
  {
   "cell_type": "code",
   "execution_count": 6,
   "metadata": {},
   "outputs": [
    {
     "name": "stdout",
     "output_type": "stream",
     "text": [
      "Im not the biggest fan of non violent tactics and im highly critical of it but seeing 70% of folks walkout while that radscum was speaking really made me happy.\n",
      "\n",
      "\"Attendees were required to check their bags before entering, and security and police forces were standing by throughout all parts of the EMU Ballroom. Regardless of strong police preparation in case of a violent of rowdy demonstration, the event remained calm for all but for a quiet walkout during Keith’s performance and a rally in the EMU amphitheater.\"\n",
      "\n",
      "I would much prefer an open discussion on gender theory and analysis.  \n",
      "\n"
     ]
    }
   ],
   "source": [
    "for comment in subreddits['Anarchism'][:3]:\n",
    "    print(comment)"
   ]
  },
  {
   "cell_type": "markdown",
   "metadata": {},
   "source": [
    "**Your turn** take a look at the top three comments in one of the other subreddits"
   ]
  },
  {
   "cell_type": "code",
   "execution_count": 7,
   "metadata": {},
   "outputs": [
    {
     "name": "stdout",
     "output_type": "stream",
     "text": [
      "Hi Steve, do you think we're on the cusp of having a viable third party in the form of the LP? What makes you think so? I think there's a growing element of the electorate who is either looking for an alternative or beginning to see the advantages of libertarian philosophy. How do we maintain this momentum, attract financial backing, etc? Your thoughts? Thank you!\n",
      "\n",
      "Here is the summary (with some assumptions made in my part; if my assumptions are correct, I have lost all faith in government)...\n",
      "\n",
      "• Man goes through security and is stopped by two TSA supervisors\n",
      "\n",
      "• They found lapel pins in his bag with the word \"bitcoin\"\n",
      "\n",
      "• They believe they have found actual currency\n",
      "\n",
      "• The man is interrogated, suspected of smuggling or laundering money via lapel pins\n",
      "\n",
      "• The TSA demonstrates their own incompetence for all the world to see clearly\n",
      "\n",
      "Meanwhile actual gold is *not* considered a currency. Bernanke's law.\n",
      "\n"
     ]
    }
   ],
   "source": [
    "# your code here\n",
    "for comment in subreddits['Libertarian'][:3]:\n",
    "    print(comment)"
   ]
  },
  {
   "cell_type": "markdown",
   "metadata": {},
   "source": [
    "## Building feature vectors\n",
    "\n",
    "The [scikit-learn](http://scikit-learn.org/) library has a convenient package for converting string data into feature vectors, called `CountVectorizer`."
   ]
  },
  {
   "cell_type": "code",
   "execution_count": 8,
   "metadata": {
    "collapsed": true
   },
   "outputs": [],
   "source": [
    "from sklearn.feature_extraction.text import CountVectorizer"
   ]
  },
  {
   "cell_type": "code",
   "execution_count": 9,
   "metadata": {
    "collapsed": true
   },
   "outputs": [],
   "source": [
    "vect = CountVectorizer()"
   ]
  },
  {
   "cell_type": "markdown",
   "metadata": {},
   "source": [
    "`CountVectorizer` takes a number of interesting arguments, which we will explore later. \n",
    "\n",
    "You can see the documentation by running the cell below."
   ]
  },
  {
   "cell_type": "code",
   "execution_count": 18,
   "metadata": {
    "collapsed": true
   },
   "outputs": [],
   "source": [
    "?CountVectorizer"
   ]
  },
  {
   "cell_type": "markdown",
   "metadata": {},
   "source": [
    "The input to CountVectorizer is a flattened list of all documents, which we'll produce using this not-very-pythonic for loop."
   ]
  },
  {
   "cell_type": "code",
   "execution_count": 10,
   "metadata": {
    "collapsed": true
   },
   "outputs": [],
   "source": [
    "doc_list = []\n",
    "y = []\n",
    "# note the frequent use of `sorted`, to make sure that the labels and the instances are lined up correctly\n",
    "for subreddit in sorted(subreddits.keys()):\n",
    "    doc_list += subreddits[subreddit]\n",
    "    y += [subreddit]*len(subreddits[subredditb])"
   ]
  },
  {
   "cell_type": "code",
   "execution_count": 11,
   "metadata": {},
   "outputs": [
    {
     "name": "stdout",
     "output_type": "stream",
     "text": [
      "['Anarchism', 'Anarchism', 'Anarchism']\n",
      "['Socialism', 'Socialism', 'Socialism']\n"
     ]
    }
   ],
   "source": [
    "# let's print a few of the labels\n",
    "print(y[:3])\n",
    "print(y[-3:])"
   ]
  },
  {
   "cell_type": "code",
   "execution_count": 16,
   "metadata": {},
   "outputs": [
    {
     "data": {
      "text/plain": [
       "'\"Attendees were required to check their bags before entering, and security and police forces were standing by throughout all parts of the EMU Ballroom. Regardless of strong police preparation in case of a violent of rowdy demonstration, the event remained calm for all but for a quiet walkout during Keith’s performance and a rally in the EMU amphitheater.\"\\n'"
      ]
     },
     "execution_count": 16,
     "metadata": {},
     "output_type": "execute_result"
    }
   ],
   "source": [
    "doc_list[1]"
   ]
  },
  {
   "cell_type": "markdown",
   "metadata": {},
   "source": [
    "`CountVectorizer.fit()` reads the data and produces a feature dictionary: a mapping from word types to indices in a feature vector."
   ]
  },
  {
   "cell_type": "code",
   "execution_count": 17,
   "metadata": {},
   "outputs": [
    {
     "data": {
      "text/plain": [
       "CountVectorizer(analyzer='word', binary=False, decode_error='strict',\n",
       "        dtype=<class 'numpy.int64'>, encoding='utf-8', input='content',\n",
       "        lowercase=True, max_df=1.0, max_features=None, min_df=1,\n",
       "        ngram_range=(1, 1), preprocessor=None, stop_words=None,\n",
       "        strip_accents=None, token_pattern='(?u)\\\\b\\\\w\\\\w+\\\\b',\n",
       "        tokenizer=None, vocabulary=None)"
      ]
     },
     "execution_count": 17,
     "metadata": {},
     "output_type": "execute_result"
    }
   ],
   "source": [
    "vect.fit(doc_list)"
   ]
  },
  {
   "cell_type": "code",
   "execution_count": 16,
   "metadata": {},
   "outputs": [
    {
     "data": {
      "text/plain": [
       "17139"
      ]
     },
     "execution_count": 16,
     "metadata": {},
     "output_type": "execute_result"
    }
   ],
   "source": [
    "len(vect.vocabulary_)"
   ]
  },
  {
   "cell_type": "code",
   "execution_count": 17,
   "metadata": {},
   "outputs": [
    {
     "data": {
      "text/plain": [
       "['rethugnicans',\n",
       " 'rethugs',\n",
       " 'retire',\n",
       " 'retired',\n",
       " 'retirement',\n",
       " 'retiring',\n",
       " 'retort',\n",
       " 'retract',\n",
       " 'retracted',\n",
       " 'retreat']"
      ]
     },
     "execution_count": 17,
     "metadata": {},
     "output_type": "execute_result"
    }
   ],
   "source": [
    "vect.get_feature_names()[13000:13010]"
   ]
  },
  {
   "cell_type": "markdown",
   "metadata": {},
   "source": [
    "**Your turn** \n",
    "\n",
    "- Use the `min_df` argument of CountVectorizer to include only words that appear in at least three documents. \n",
    "- Print the resulting vocabulary size.\n",
    "- Find a few words that appear in the original feature set, but not in this one."
   ]
  },
  {
   "cell_type": "code",
   "execution_count": 20,
   "metadata": {},
   "outputs": [
    {
     "data": {
      "text/plain": [
       "5964"
      ]
     },
     "execution_count": 20,
     "metadata": {},
     "output_type": "execute_result"
    }
   ],
   "source": [
    "vect2 = CountVectorizer(min_df=3) # add arguments here\n",
    "vect2.fit(doc_list)\n",
    "# then print the vocabulary size\n",
    "len(vect2.vocabulary_)"
   ]
  },
  {
   "cell_type": "code",
   "execution_count": 23,
   "metadata": {},
   "outputs": [
    {
     "data": {
      "text/plain": [
       "11175"
      ]
     },
     "execution_count": 23,
     "metadata": {},
     "output_type": "execute_result"
    }
   ],
   "source": [
    "# then find some features that do not appear here\n",
    "uniquefeatures = set(vect.vocabulary_) - set(vect2.vocabulary_)\n",
    "len(uniquefeatures)"
   ]
  },
  {
   "cell_type": "code",
   "execution_count": 31,
   "metadata": {},
   "outputs": [
    {
     "data": {
      "text/plain": [
       "['202008', 'bollocks', 'triumph', 'unix']"
      ]
     },
     "execution_count": 31,
     "metadata": {},
     "output_type": "execute_result"
    }
   ],
   "source": [
    "list(uniquefeatures)[1:5]"
   ]
  },
  {
   "cell_type": "markdown",
   "metadata": {},
   "source": [
    "Now that we have fit the vectorizer, we can use it to transform the data into a vector.\n",
    "\n",
    "Note that you can fit and transform in one step, using `vect.fit_transform()`"
   ]
  },
  {
   "cell_type": "code",
   "execution_count": 32,
   "metadata": {
    "collapsed": true
   },
   "outputs": [],
   "source": [
    "X = vect.transform(doc_list)"
   ]
  },
  {
   "cell_type": "code",
   "execution_count": 33,
   "metadata": {},
   "outputs": [
    {
     "data": {
      "text/plain": [
       "<4291x17139 sparse matrix of type '<class 'numpy.int64'>'\n",
       "\twith 159004 stored elements in Compressed Sparse Row format>"
      ]
     },
     "execution_count": 33,
     "metadata": {},
     "output_type": "execute_result"
    }
   ],
   "source": [
    "X"
   ]
  },
  {
   "cell_type": "markdown",
   "metadata": {},
   "source": [
    "The output is a sparse matrix: 4291 documents, 17139 words.\n",
    "\n",
    "\"Sparse matrix\" means it's stored as key-value pairs, so size grows with number of non-zero elements.\n",
    "\n",
    "This is essential for working with large-scale datasets."
   ]
  },
  {
   "cell_type": "markdown",
   "metadata": {},
   "source": [
    "## Making a training and test set\n",
    "\n",
    "To estimate the accuracy on unseen data, let's hold out a test set.\n",
    "\n",
    "Again, sklearn provides a nice function for this."
   ]
  },
  {
   "cell_type": "code",
   "execution_count": 34,
   "metadata": {
    "collapsed": true
   },
   "outputs": [],
   "source": [
    "#call the function to hold out a test set\n",
    "from sklearn.model_selection import train_test_split"
   ]
  },
  {
   "cell_type": "code",
   "execution_count": 35,
   "metadata": {
    "collapsed": true
   },
   "outputs": [],
   "source": [
    "X_train, X_test, y_train, y_test = train_test_split(X, y,\n",
    "                                                    random_state=42,\n",
    "                                                    stratify=y,\n",
    "                                                    test_size=0.1)"
   ]
  },
  {
   "cell_type": "code",
   "execution_count": 37,
   "metadata": {},
   "outputs": [
    {
     "data": {
      "text/plain": [
       "<3861x17139 sparse matrix of type '<class 'numpy.int64'>'\n",
       "\twith 144245 stored elements in Compressed Sparse Row format>"
      ]
     },
     "execution_count": 37,
     "metadata": {},
     "output_type": "execute_result"
    }
   ],
   "source": [
    "X_train"
   ]
  },
  {
   "cell_type": "markdown",
   "metadata": {},
   "source": [
    "Same vocabulary size, fewer instances."
   ]
  },
  {
   "cell_type": "code",
   "execution_count": 38,
   "metadata": {},
   "outputs": [
    {
     "data": {
      "text/plain": [
       "<430x17139 sparse matrix of type '<class 'numpy.int64'>'\n",
       "\twith 14759 stored elements in Compressed Sparse Row format>"
      ]
     },
     "execution_count": 38,
     "metadata": {},
     "output_type": "execute_result"
    }
   ],
   "source": [
    "X_test"
   ]
  },
  {
   "cell_type": "code",
   "execution_count": 39,
   "metadata": {},
   "outputs": [
    {
     "data": {
      "text/plain": [
       "4291"
      ]
     },
     "execution_count": 39,
     "metadata": {},
     "output_type": "execute_result"
    }
   ],
   "source": [
    "3861+430 \n",
    "#total number of documents is the training documents + test documents"
   ]
  },
  {
   "cell_type": "markdown",
   "metadata": {},
   "source": [
    "# Training a classifier\n",
    "\n",
    "Let's start with logistic regression, which we covered in class a few weeks ago."
   ]
  },
  {
   "cell_type": "code",
   "execution_count": 40,
   "metadata": {
    "collapsed": true
   },
   "outputs": [],
   "source": [
    "from sklearn.linear_model import LogisticRegression"
   ]
  },
  {
   "cell_type": "code",
   "execution_count": 41,
   "metadata": {
    "collapsed": true
   },
   "outputs": [],
   "source": [
    "lr = LogisticRegression()"
   ]
  },
  {
   "cell_type": "code",
   "execution_count": 42,
   "metadata": {},
   "outputs": [
    {
     "data": {
      "text/plain": [
       "LogisticRegression(C=1.0, class_weight=None, dual=False, fit_intercept=True,\n",
       "          intercept_scaling=1, max_iter=100, multi_class='ovr', n_jobs=1,\n",
       "          penalty='l2', random_state=None, solver='liblinear', tol=0.0001,\n",
       "          verbose=0, warm_start=False)"
      ]
     },
     "execution_count": 42,
     "metadata": {},
     "output_type": "execute_result"
    }
   ],
   "source": [
    "lr.fit(X_train,y_train)"
   ]
  },
  {
   "cell_type": "markdown",
   "metadata": {},
   "source": [
    "The output of the `fit` command shows some of the parameters that we could use to tune the behavior of the logistic regression classifier. We'll play with those in a moment. For now, let's look at the classifier state."
   ]
  },
  {
   "cell_type": "code",
   "execution_count": 43,
   "metadata": {},
   "outputs": [
    {
     "data": {
      "text/plain": [
       "array(['Anarchism', 'Conservative', 'Libertarian', 'Progressive',\n",
       "       'Socialism'], \n",
       "      dtype='<U12')"
      ]
     },
     "execution_count": 43,
     "metadata": {},
     "output_type": "execute_result"
    }
   ],
   "source": [
    "lr.classes_\n",
    "#QUESTION: this is what the regression will fit the data into (this is our DV)"
   ]
  },
  {
   "cell_type": "markdown",
   "metadata": {},
   "source": [
    "## Examining the coefficients\n",
    "\n",
    "Before we even consider accuracy, let's look at the top keywords per class.\n",
    "\n",
    "The coefficients are available in the `coef_` variable"
   ]
  },
  {
   "cell_type": "code",
   "execution_count": 44,
   "metadata": {},
   "outputs": [
    {
     "data": {
      "text/plain": [
       "array([[ 0.02816353, -0.09181549, -0.05651259, ..., -0.04310196,\n",
       "        -0.04310196,  0.31047687],\n",
       "       [ 0.05978943,  0.03829756, -0.09651658, ..., -0.04120992,\n",
       "        -0.04120992, -0.10168796],\n",
       "       [-0.00799441, -0.21680771,  0.49257969, ..., -0.05626993,\n",
       "        -0.05626993, -0.1013342 ],\n",
       "       [ 0.04217216,  0.3016668 , -0.11404509, ..., -0.06841012,\n",
       "        -0.06841012, -0.02510917],\n",
       "       [-0.06172687, -0.03533454, -0.17939723, ...,  0.15034917,\n",
       "         0.15034917, -0.11662899]])"
      ]
     },
     "execution_count": 44,
     "metadata": {},
     "output_type": "execute_result"
    }
   ],
   "source": [
    "lr.coef_\n",
    "#QUESTION: what are these coefficients? Each row is a label (a class). And \n",
    "#each element is the corresponding coefficient for the probability of the word (Feature)\n",
    "#in being part of that class??"
   ]
  },
  {
   "cell_type": "markdown",
   "metadata": {},
   "source": [
    "This is an array with one row per class, and one column per feature. \n",
    "\n",
    "To get the top features, we can use `argsort`.\n",
    "\n",
    "`argsort` sorts by ascending order, so we need to reverse it. We do this using `[::-1]`."
   ]
  },
  {
   "cell_type": "code",
   "execution_count": 45,
   "metadata": {},
   "outputs": [
    {
     "data": {
      "text/plain": [
       "array([ 1164,  1162,  1169,  6148, 11448,  1176, 10357, 13588, 16438,  1181])"
      ]
     },
     "execution_count": 45,
     "metadata": {},
     "output_type": "execute_result"
    }
   ],
   "source": [
    "# top 5 features for label 0\n",
    "lr.coef_[0].argsort()[::-1][:10]"
   ]
  },
  {
   "cell_type": "markdown",
   "metadata": {},
   "source": [
    "Finally, to get the features themselves, we can call `vect.get_feature_names()`"
   ]
  },
  {
   "cell_type": "code",
   "execution_count": 46,
   "metadata": {},
   "outputs": [
    {
     "data": {
      "text/plain": [
       "['socialism', 'socialist', 'communism', 'walmart', 'venezuela']"
      ]
     },
     "execution_count": 46,
     "metadata": {},
     "output_type": "execute_result"
    }
   ],
   "source": [
    "[vect.get_feature_names()[i] for i in lr.coef_[4].argsort()[::-1][:5]]"
   ]
  },
  {
   "cell_type": "markdown",
   "metadata": {},
   "source": [
    "**Your turn:** get the top 5 features for a different label."
   ]
  },
  {
   "cell_type": "code",
   "execution_count": 47,
   "metadata": {},
   "outputs": [
    {
     "data": {
      "text/plain": [
       "array([ 9501,  9064,  9068, 10529,  8672,  7288, 12333,  3606,   676,  9484])"
      ]
     },
     "execution_count": 47,
     "metadata": {},
     "output_type": "execute_result"
    }
   ],
   "source": [
    "# your code here: top 5 features for label 1\n",
    "lr.coef_[1].argsort()[::-1][:10]"
   ]
  },
  {
   "cell_type": "code",
   "execution_count": 48,
   "metadata": {},
   "outputs": [
    {
     "data": {
      "text/plain": [
       "['marriage', 'liberal', 'liberals', 'obama', 'kennedy']"
      ]
     },
     "execution_count": 48,
     "metadata": {},
     "output_type": "execute_result"
    }
   ],
   "source": [
    "[vect.get_feature_names()[i] for i in lr.coef_[1].argsort()[::-1][:5]]"
   ]
  },
  {
   "cell_type": "code",
   "execution_count": 49,
   "metadata": {},
   "outputs": [
    {
     "data": {
      "text/plain": [
       "['anarchist', 'anarchism', 'anarchists', 'feminist', 'pigs']"
      ]
     },
     "execution_count": 49,
     "metadata": {},
     "output_type": "execute_result"
    }
   ],
   "source": [
    "[vect.get_feature_names()[i] for i in lr.coef_[0].argsort()[::-1][:5]]"
   ]
  },
  {
   "cell_type": "code",
   "execution_count": 50,
   "metadata": {},
   "outputs": [
    {
     "data": {
      "text/plain": [
       "['libertarianism', 'libertarian', 'bitcoin', 'libertarians', 'fda']"
      ]
     },
     "execution_count": 50,
     "metadata": {},
     "output_type": "execute_result"
    }
   ],
   "source": [
    "[vect.get_feature_names()[i] for i in lr.coef_[2].argsort()[::-1][:5]]"
   ]
  },
  {
   "cell_type": "code",
   "execution_count": 51,
   "metadata": {},
   "outputs": [
    {
     "data": {
      "text/plain": [
       "['fox', 'pat', 'zimmerman', 'eat', 'gop']"
      ]
     },
     "execution_count": 51,
     "metadata": {},
     "output_type": "execute_result"
    }
   ],
   "source": [
    "[vect.get_feature_names()[i] for i in lr.coef_[3].argsort()[::-1][:5]]"
   ]
  },
  {
   "cell_type": "code",
   "execution_count": 52,
   "metadata": {},
   "outputs": [
    {
     "data": {
      "text/plain": [
       "['socialism', 'socialist', 'communism', 'walmart', 'venezuela']"
      ]
     },
     "execution_count": 52,
     "metadata": {},
     "output_type": "execute_result"
    }
   ],
   "source": [
    "[vect.get_feature_names()[i] for i in lr.coef_[4].argsort()[::-1][:5]]"
   ]
  },
  {
   "cell_type": "markdown",
   "metadata": {},
   "source": [
    "Just for fun, let's scatter plot the weights for the same feature for two different classes."
   ]
  },
  {
   "cell_type": "code",
   "execution_count": 54,
   "metadata": {
    "collapsed": true
   },
   "outputs": [],
   "source": [
    "import matplotlib.pyplot as plt\n",
    "%matplotlib inline"
   ]
  },
  {
   "cell_type": "code",
   "execution_count": 55,
   "metadata": {},
   "outputs": [
    {
     "data": {
      "image/png": "[encoded data removed]",
      "text/plain": [
       "<matplotlib.figure.Figure at 0x1148825c0>"
      ]
     },
     "metadata": {},
     "output_type": "display_data"
    }
   ],
   "source": [
    "plt.scatter(lr.coef_[3],lr.coef_[1])\n",
    "plt.xlabel(lr.classes_[3])\n",
    "plt.ylabel(lr.classes_[1])\n",
    "plt.title('feature weights');"
   ]
  },
  {
   "cell_type": "markdown",
   "metadata": {},
   "source": [
    "Logistic regression employs a regularization penalty to control the norm of the weights. \n",
    "\n",
    "- In $\\ell_2$ regularization, the penalty is on the Euclidean norm, also called the $\\ell_2$ norm,\n",
    "$R(\\theta) = \\lambda \\sum_i \\theta_i^2$\n",
    "\n",
    "- In $\\ell_1$ regularization, the penalty is on the $\\ell_1$ norm,\n",
    "$R(\\theta) = \\lambda \\sum_i | \\theta_i |$\n",
    "\n",
    "Let's try it.\n"
   ]
  },
  {
   "cell_type": "code",
   "execution_count": 56,
   "metadata": {
    "collapsed": true
   },
   "outputs": [],
   "source": [
    "lr_l1 = LogisticRegression(penalty='l1')"
   ]
  },
  {
   "cell_type": "code",
   "execution_count": 57,
   "metadata": {},
   "outputs": [
    {
     "data": {
      "text/plain": [
       "LogisticRegression(C=1.0, class_weight=None, dual=False, fit_intercept=True,\n",
       "          intercept_scaling=1, max_iter=100, multi_class='ovr', n_jobs=1,\n",
       "          penalty='l1', random_state=None, solver='liblinear', tol=0.0001,\n",
       "          verbose=0, warm_start=False)"
      ]
     },
     "execution_count": 57,
     "metadata": {},
     "output_type": "execute_result"
    }
   ],
   "source": [
    "lr_l1.fit(X_train,y_train)"
   ]
  },
  {
   "cell_type": "code",
   "execution_count": 58,
   "metadata": {},
   "outputs": [
    {
     "data": {
      "image/png": "[encoded data removed]",
      "text/plain": [
       "<matplotlib.figure.Figure at 0x114a0f940>"
      ]
     },
     "metadata": {},
     "output_type": "display_data"
    }
   ],
   "source": [
    "plt.scatter(lr_l1.coef_[3],lr_l1.coef_[1])\n",
    "plt.xlabel(lr_l1.classes_[3])\n",
    "plt.ylabel(lr_l1.classes_[1])\n",
    "plt.title('feature weights');\n",
    "#QUESTION: I'm not sure what I'm looking at. what is regularization? I don't understand \n",
    "#the discussion that follows. "
   ]
  },
  {
   "cell_type": "markdown",
   "metadata": {},
   "source": [
    "**Discuss** Try to explain what you see in this figure, and why $\\ell_1$ regularization might make it possible to add $n$-gram features."
   ]
  },
  {
   "cell_type": "code",
   "execution_count": 59,
   "metadata": {},
   "outputs": [
    {
     "name": "stdout",
     "output_type": "stream",
     "text": [
      "L1 ['anarchist', 'anarchists', 'anarchism', 'protestors', 'ancap']\n",
      "L2 ['anarchist', 'anarchism', 'anarchists', 'feminist', 'pigs']\n"
     ]
    }
   ],
   "source": [
    "print('L1',[vect.get_feature_names()[i] for i in lr_l1.coef_[0].argsort()[::-1][:5]])\n",
    "print('L2',[vect.get_feature_names()[i] for i in lr.coef_[0].argsort()[::-1][:5]])"
   ]
  },
  {
   "cell_type": "markdown",
   "metadata": {},
   "source": [
    "No big difference in the word lists, but things might be different if we change the regularization parameters $C = \\frac{1}{\\lambda}$."
   ]
  },
  {
   "cell_type": "markdown",
   "metadata": {},
   "source": [
    "## Predictive accuracy\n",
    "\n",
    "Using the classifier to make predictions is easy."
   ]
  },
  {
   "cell_type": "code",
   "execution_count": 60,
   "metadata": {
    "collapsed": true
   },
   "outputs": [],
   "source": [
    "y_hat = lr.predict(X_test)"
   ]
  },
  {
   "cell_type": "code",
   "execution_count": 96,
   "metadata": {},
   "outputs": [
    {
     "data": {
      "text/plain": [
       "array(['Libertarian', 'Socialism', 'Libertarian', 'Progressive',\n",
       "       'Anarchism'], \n",
       "      dtype='<U12')"
      ]
     },
     "execution_count": 96,
     "metadata": {},
     "output_type": "execute_result"
    }
   ],
   "source": [
    "y_hat[:5]"
   ]
  },
  {
   "cell_type": "code",
   "execution_count": 62,
   "metadata": {},
   "outputs": [
    {
     "name": "stdout",
     "output_type": "stream",
     "text": [
      "accuracy: 0.423\n"
     ]
    }
   ],
   "source": [
    "acc = (y_hat == y_test).mean()\n",
    "print('accuracy: %.3f'%acc)"
   ]
  },
  {
   "cell_type": "markdown",
   "metadata": {},
   "source": [
    "**Your turn**: compute the number of true positives, false negatives, and false positives for the `Socialism` label"
   ]
  },
  {
   "cell_type": "code",
   "execution_count": 63,
   "metadata": {
    "collapsed": true
   },
   "outputs": [],
   "source": [
    "import numpy as np"
   ]
  },
  {
   "cell_type": "code",
   "execution_count": 69,
   "metadata": {},
   "outputs": [
    {
     "data": {
      "text/plain": [
       "430"
      ]
     },
     "execution_count": 69,
     "metadata": {},
     "output_type": "execute_result"
    }
   ],
   "source": [
    "len(y_hat)"
   ]
  },
  {
   "cell_type": "code",
   "execution_count": 70,
   "metadata": {},
   "outputs": [
    {
     "data": {
      "text/plain": [
       "430"
      ]
     },
     "execution_count": 70,
     "metadata": {},
     "output_type": "execute_result"
    }
   ],
   "source": [
    "len(y_test)"
   ]
  },
  {
   "cell_type": "code",
   "execution_count": 104,
   "metadata": {
    "collapsed": true
   },
   "outputs": [],
   "source": [
    "label = 'Socialism'\n",
    "# your code here"
   ]
  },
  {
   "cell_type": "code",
   "execution_count": 109,
   "metadata": {
    "collapsed": true
   },
   "outputs": [],
   "source": [
    "yh=np.array(y_hat)\n",
    "yt=np.array(y_test)"
   ]
  },
  {
   "cell_type": "code",
   "execution_count": 114,
   "metadata": {},
   "outputs": [
    {
     "data": {
      "text/plain": [
       "47"
      ]
     },
     "execution_count": 114,
     "metadata": {},
     "output_type": "execute_result"
    }
   ],
   "source": [
    "#why doesn't this work? sum(np.logical_and(y_hat == label, y_test == label))\n",
    "#this works:\n",
    "sum(np.logical_and(yh == label, yt == label))\n",
    "#QUESTION: is this because y_test is an array already? (see code above) And when you use \n",
    "#yt=np.array(y_test), then numpy is allowing us to work with arrays using true/false\n",
    "#conditions?"
   ]
  },
  {
   "cell_type": "code",
   "execution_count": 111,
   "metadata": {},
   "outputs": [
    {
     "name": "stdout",
     "output_type": "stream",
     "text": [
      "47\n"
     ]
    }
   ],
   "source": [
    "tp = sum((yt==label) & (yh==label))\n",
    "print(tp)"
   ]
  },
  {
   "cell_type": "code",
   "execution_count": 112,
   "metadata": {},
   "outputs": [
    {
     "name": "stdout",
     "output_type": "stream",
     "text": [
      "45\n"
     ]
    }
   ],
   "source": [
    "fp = sum((yt!=label) & (yh==label))\n",
    "print(fp)"
   ]
  },
  {
   "cell_type": "code",
   "execution_count": 113,
   "metadata": {},
   "outputs": [
    {
     "name": "stdout",
     "output_type": "stream",
     "text": [
      "53\n"
     ]
    }
   ],
   "source": [
    "fn = sum((yt==label) & (yh!=label))\n",
    "print(fn)\n",
    "#QUESTION: WHAT IS F1 FOR? Why do we care about the true or false positives and negatives?"
   ]
  },
  {
   "cell_type": "code",
   "execution_count": 43,
   "metadata": {},
   "outputs": [
    {
     "name": "stdout",
     "output_type": "stream",
     "text": [
      "47 45 53\n"
     ]
    }
   ],
   "source": [
    "print(tp,fp,fn)"
   ]
  },
  {
   "cell_type": "code",
   "execution_count": 127,
   "metadata": {},
   "outputs": [
    {
     "name": "stdout",
     "output_type": "stream",
     "text": [
      "precision: 0.511\n"
     ]
    }
   ],
   "source": [
    "prec = tp/(tp+fp)\n",
    "print('precision: %.3f'%(prec))"
   ]
  },
  {
   "cell_type": "code",
   "execution_count": 129,
   "metadata": {},
   "outputs": [
    {
     "name": "stdout",
     "output_type": "stream",
     "text": [
      "100\n"
     ]
    }
   ],
   "source": [
    "totpos =  sum(yt==label)\n",
    "print(totpos)"
   ]
  },
  {
   "cell_type": "code",
   "execution_count": 131,
   "metadata": {},
   "outputs": [
    {
     "name": "stdout",
     "output_type": "stream",
     "text": [
      "recall: 0.470\n"
     ]
    }
   ],
   "source": [
    "rec = tp/totpos\n",
    "print('recall: %.3f'%(rec))\n",
    "#my spam filter is overactive. So it has high recall, but low precision (because it gives too \n",
    "#many false positives). "
   ]
  },
  {
   "cell_type": "code",
   "execution_count": 132,
   "metadata": {},
   "outputs": [
    {
     "name": "stdout",
     "output_type": "stream",
     "text": [
      "f1: 0.490\n"
     ]
    }
   ],
   "source": [
    "f1 = 2 * prec * rec / (prec + rec)\n",
    "print('f1: %.3f'%(f1))\n",
    "#how come I get a different F1 score? I'm computing this only for socialism. "
   ]
  },
  {
   "cell_type": "markdown",
   "metadata": {},
   "source": [
    "`sklearn` has some useful functions here as well"
   ]
  },
  {
   "cell_type": "code",
   "execution_count": 115,
   "metadata": {
    "collapsed": true
   },
   "outputs": [],
   "source": [
    "from sklearn.metrics import accuracy_score, f1_score"
   ]
  },
  {
   "cell_type": "code",
   "execution_count": 116,
   "metadata": {},
   "outputs": [
    {
     "data": {
      "text/plain": [
       "0.42325581395348838"
      ]
     },
     "execution_count": 116,
     "metadata": {},
     "output_type": "execute_result"
    }
   ],
   "source": [
    "accuracy_score(y_test,y_hat)"
   ]
  },
  {
   "cell_type": "markdown",
   "metadata": {},
   "source": [
    "Recall that $f_1$ is the geometric mean of recall and precision.\n",
    "\n",
    "*Macro*-averaging means average across labels.\n",
    "\n",
    "In this case, we have roughly the same number of documents per label, so macro and micro should be roughly the same."
   ]
  },
  {
   "cell_type": "code",
   "execution_count": 117,
   "metadata": {},
   "outputs": [
    {
     "data": {
      "text/plain": [
       "0.4134410346651185"
      ]
     },
     "execution_count": 117,
     "metadata": {},
     "output_type": "execute_result"
    }
   ],
   "source": [
    "f1_score(y_test,y_hat,average='macro')\n",
    "#Macro looks at the f1 for all my labels, and averages them all together. \n",
    "#do this when you care about the rare cases. even if the label only appears a small \n",
    "#fraction of the time, we want to get it right. "
   ]
  },
  {
   "cell_type": "code",
   "execution_count": 118,
   "metadata": {},
   "outputs": [
    {
     "data": {
      "text/plain": [
       "0.42325581395348838"
      ]
     },
     "execution_count": 118,
     "metadata": {},
     "output_type": "execute_result"
    }
   ],
   "source": [
    "f1_score(y_test,y_hat,average='micro')\n",
    "#QUESTION: On an instance level, if I care about being right then I want to look at micro.\n",
    "#on the average observation. \n",
    "#compute tp, fp, fn, and sum them up for all the labels. Then compute the grand f1.\n",
    "#\n",
    "# so for this problem, when all the labels appear about the same number of times, the \n",
    "#micro and macro are about the same. "
   ]
  },
  {
   "cell_type": "markdown",
   "metadata": {},
   "source": [
    "# Improving the classifier\n",
    "\n",
    "**Your turn** Try improving the classifier by:\n",
    "\n",
    "- Not lowercasing the input\n",
    "- Only including words that appear in at least two documents"
   ]
  },
  {
   "cell_type": "code",
   "execution_count": 144,
   "metadata": {
    "collapsed": true
   },
   "outputs": [],
   "source": [
    "vect3 = CountVectorizer(min_df=2, lowercase=False) # your code here"
   ]
  },
  {
   "cell_type": "code",
   "execution_count": 145,
   "metadata": {
    "collapsed": true
   },
   "outputs": [],
   "source": [
    "X = vect3.fit_transform(doc_list)"
   ]
  },
  {
   "cell_type": "code",
   "execution_count": 146,
   "metadata": {},
   "outputs": [
    {
     "data": {
      "text/plain": [
       "(4291, 9309)"
      ]
     },
     "execution_count": 146,
     "metadata": {},
     "output_type": "execute_result"
    }
   ],
   "source": [
    "X.shape"
   ]
  },
  {
   "cell_type": "code",
   "execution_count": 147,
   "metadata": {
    "collapsed": true
   },
   "outputs": [],
   "source": [
    "X_train, X_test, y_train, y_test = train_test_split(X, y,\n",
    "                                                    random_state=42,\n",
    "                                                    stratify=y,\n",
    "                                                    test_size=0.1)"
   ]
  },
  {
   "cell_type": "markdown",
   "metadata": {},
   "source": [
    "**Your turn** Run logistic regression, compute accuracy and $F_1$"
   ]
  },
  {
   "cell_type": "code",
   "execution_count": 148,
   "metadata": {},
   "outputs": [
    {
     "data": {
      "text/plain": [
       "LogisticRegression(C=1.0, class_weight=None, dual=False, fit_intercept=True,\n",
       "          intercept_scaling=1, max_iter=100, multi_class='ovr', n_jobs=1,\n",
       "          penalty='l2', random_state=None, solver='liblinear', tol=0.0001,\n",
       "          verbose=0, warm_start=False)"
      ]
     },
     "execution_count": 148,
     "metadata": {},
     "output_type": "execute_result"
    }
   ],
   "source": [
    "lr.fit(X_train,y_train)"
   ]
  },
  {
   "cell_type": "code",
   "execution_count": 149,
   "metadata": {
    "collapsed": true
   },
   "outputs": [],
   "source": [
    "y_hat = lr.predict(X_test)"
   ]
  },
  {
   "cell_type": "code",
   "execution_count": 150,
   "metadata": {},
   "outputs": [
    {
     "data": {
      "text/plain": [
       "0.43488372093023253"
      ]
     },
     "execution_count": 150,
     "metadata": {},
     "output_type": "execute_result"
    }
   ],
   "source": [
    "accuracy_score(y_test,y_hat)"
   ]
  },
  {
   "cell_type": "code",
   "execution_count": 151,
   "metadata": {},
   "outputs": [
    {
     "name": "stdout",
     "output_type": "stream",
     "text": [
      "0.41920845591 0.43488372093\n"
     ]
    }
   ],
   "source": [
    "print(f1_score(y_test,y_hat,average='macro'),f1_score(y_test,y_hat,average='micro'))\n",
    "#QUESTION: I'm not sure what the macro and micro here means..."
   ]
  },
  {
   "cell_type": "markdown",
   "metadata": {},
   "source": [
    "# Support vector machines\n",
    "\n",
    "Support vector machines (SVMs) are another classifier. This code shows you how to try it."
   ]
  },
  {
   "cell_type": "code",
   "execution_count": 138,
   "metadata": {
    "collapsed": true
   },
   "outputs": [],
   "source": [
    "from sklearn.svm import LinearSVC"
   ]
  },
  {
   "cell_type": "code",
   "execution_count": 139,
   "metadata": {
    "collapsed": true
   },
   "outputs": [],
   "source": [
    "svc = LinearSVC(C=0.01) "
   ]
  },
  {
   "cell_type": "code",
   "execution_count": 140,
   "metadata": {},
   "outputs": [
    {
     "data": {
      "text/plain": [
       "LinearSVC(C=0.01, class_weight=None, dual=True, fit_intercept=True,\n",
       "     intercept_scaling=1, loss='squared_hinge', max_iter=1000,\n",
       "     multi_class='ovr', penalty='l2', random_state=None, tol=0.0001,\n",
       "     verbose=0)"
      ]
     },
     "execution_count": 140,
     "metadata": {},
     "output_type": "execute_result"
    }
   ],
   "source": [
    "svc.fit(X_train,y_train)"
   ]
  },
  {
   "cell_type": "code",
   "execution_count": 141,
   "metadata": {
    "collapsed": true
   },
   "outputs": [],
   "source": [
    "y_hat = svc.predict(X_test)"
   ]
  },
  {
   "cell_type": "code",
   "execution_count": 142,
   "metadata": {},
   "outputs": [
    {
     "data": {
      "text/plain": [
       "0.4511627906976744"
      ]
     },
     "execution_count": 142,
     "metadata": {},
     "output_type": "execute_result"
    }
   ],
   "source": [
    "accuracy_score(y_test,y_hat)"
   ]
  },
  {
   "cell_type": "code",
   "execution_count": 143,
   "metadata": {},
   "outputs": [
    {
     "name": "stdout",
     "output_type": "stream",
     "text": [
      "0.429545466194 0.451162790698\n"
     ]
    }
   ],
   "source": [
    "print(f1_score(y_test,y_hat,average='macro'),f1_score(y_test,y_hat,average='micro'))"
   ]
  },
  {
   "cell_type": "code",
   "execution_count": null,
   "metadata": {
    "collapsed": true
   },
   "outputs": [],
   "source": [
    "#QUESTION: ok, so I think what we're doing here is that we're looking at the words (features)\n",
    "#in a bunch of documents. And we're going to see if those words help us sort the documents\n",
    "#according to their prespecified labels. But to do that, we need to tell the computer how \n",
    "#to read the words. And CountVectorizer has simple ways to do that by telling it\n",
    "#to only use words that appear a certain number of times, or lowercase all the words,\n",
    "#or not to lowercase them... etc. "
   ]
  }
 ],
 "metadata": {
  "kernelspec": {
   "display_name": "Python 3",
   "language": "python",
   "name": "python3"
  },
  "language_info": {
   "codemirror_mode": {
    "name": "ipython",
    "version": 3
   },
   "file_extension": ".py",
   "mimetype": "text/x-python",
   "name": "python",
   "nbconvert_exporter": "python",
   "pygments_lexer": "ipython3",
   "version": "3.6.1"
  }
 },
 "nbformat": 4,
 "nbformat_minor": 2
}
