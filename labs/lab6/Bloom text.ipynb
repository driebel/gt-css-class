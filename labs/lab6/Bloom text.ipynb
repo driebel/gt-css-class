{
 "cells": [
  {
   "cell_type": "markdown",
   "metadata": {},
   "source": [
    "Experimenting with the Umm Waqqas Tweets \n",
    "======\n",
    "\n",
    "- Tweets provided by Mia Bloom\n",
    "- Code by Shawn L. Ramirez\n",
    "- October 2017"
   ]
  },
  {
   "cell_type": "code",
   "execution_count": 16,
   "metadata": {},
   "outputs": [
    {
     "name": "stdout",
     "output_type": "stream",
     "text": [
      "Requirement already satisfied: python-docx in /Users/shawnramirez/.local/lib/python3.6/site-packages\r\n",
      "Requirement already satisfied: lxml>=2.3.2 in /Users/shawnramirez/anaconda/lib/python3.6/site-packages (from python-docx)\r\n"
     ]
    }
   ],
   "source": [
    "! pip install --pre python-docx\n",
    "! pip3 install --user lxml"
   ]
  },
  {
   "cell_type": "code",
   "execution_count": 98,
   "metadata": {},
   "outputs": [
    {
     "name": "stdout",
     "output_type": "stream",
     "text": [
      "['', '/Users/shawnramirez/anaconda/lib/python36.zip', '/Users/shawnramirez/anaconda/lib/python3.6', '/Users/shawnramirez/anaconda/lib/python3.6/lib-dynload', '/Users/shawnramirez/.local/lib/python3.6/site-packages', '/Users/shawnramirez/anaconda/lib/python3.6/site-packages', '/Users/shawnramirez/anaconda/lib/python3.6/site-packages/Sphinx-1.5.6-py3.6.egg', '/Users/shawnramirez/anaconda/lib/python3.6/site-packages/aeosa', '/Users/shawnramirez/anaconda/lib/python3.6/site-packages/setuptools-27.2.0-py3.6.egg', '/Users/shawnramirez/anaconda/lib/python3.6/site-packages/IPython/extensions', '/Users/shawnramirez/.ipython', '/Users/shawnramirez/.local/lib/python3.6/site-packages', '/Users/shawnramirez/.local/lib/python3.6/site-packages', '/Users/shawnramirez/.local/lib/python3.6/site-packages']\n"
     ]
    }
   ],
   "source": [
    "import sys\n",
    "sys.path.append(\"/Users/shawnramirez/.local/lib/python3.6/site-packages\")\n",
    "print(sys.path)"
   ]
  },
  {
   "cell_type": "code",
   "execution_count": 99,
   "metadata": {
    "collapsed": true
   },
   "outputs": [],
   "source": [
    "import numpy as np\n",
    "import pandas as pd"
   ]
  },
  {
   "cell_type": "code",
   "execution_count": 100,
   "metadata": {
    "collapsed": true
   },
   "outputs": [],
   "source": [
    "from docx import Document"
   ]
  },
  {
   "cell_type": "code",
   "execution_count": 101,
   "metadata": {
    "collapsed": true
   },
   "outputs": [],
   "source": [
    "document = Document('UmmWaqqasTweets.docx')"
   ]
  },
  {
   "cell_type": "code",
   "execution_count": 102,
   "metadata": {},
   "outputs": [
    {
     "name": "stdout",
     "output_type": "stream",
     "text": [
      "_UmmWaqqas\tThe test in our struggles is our ability to stay patient in times of hardships. Allah says in the Quran \"Allah Loves those who are PATIENT\"Nothing is impossible for Allah, & if something is meant for you it will happen. Regardless of how it does it eventually willIn life we face so many hardships & think there's no way out of them yet forget that Allah is Wali Al-Hamid. He will make a way out for youAllah says \"I will make a way for you from sources you could not imagine\"When you think your back is against the wall, & you feel like there is no way out for you PLACE your trust in Allah & watch things go smooth3. Alhamdulilah she made it to Ash-Shaam.  She is a sister whom I love dearly & admire, now the lesson in all of this is...2. She placed her trust in Allah & tied her camel & set out to make Hijrah. Though the path was tough & though there were obstacles2. One BIG PROBELM she was under watch by the government & was being tracked by her every move.1. Bismillah.... \n",
      "\n",
      "There was a sister who wanted to make Hijrah & be in a place where she can practice her deenSo I will narrate a story to you that happen to a sister, & the lesson I want you lot to take from it.\"Say: Verily, my prayers, my sacrifice, my life, and my death are for Allah, the Lord of All the Worlds.\"--Surah An'am Ayah 162I wanted to become a journalist, but looking at how bad that field has gotten ima stick with being a teacher@Maxabbes Someone leaked it. SubhanAllahAny who there is nothing better than hearing the Athan live throughout the streets. Especially Fajr AthanRT @Muwahida1: He who goes out in search of knowledge is in God’s path till he returns.\n",
      "\n",
      " (Tirmidhi)Lool at those articles. The crap journalists say nowadays is mad funny, & people belive it SMHLol I would post the article talking about Umm Layth but I can't because she's a Niqabi & her face is shown...Female recruiter ya know @FlamessOfwar  \n",
      "\n",
      "http://t.co/PPqSvThW9I\n",
      "\n",
      "I love reading articlesPretty much that article is saying ALL of Muslim twitter (excluding me) is a Fan Girl lolOi that article in the news paper just categorized all of us \"Umm's\" mate.RT @UmmSabah: Identifying you fan girls will be easier now. \n",
      "\n",
      "1. Anyone with Umm in their names\n",
      "\n",
      "Whoops\"@Umm_Kulthum: @_UmmWaqqas http://t.co/nZ2t4d01wl\"\n",
      "\n",
      "Yo @FlamessOfwar look at this news paperNot all of us \"Umm's\" are fan girls, some of us actually have an ounce of ilm. Lol we don't all list over Mujahideen ya know.\"@Umm_Kulthum: Lol there goes all of Muslim twitter... http://t.co/VYZoc2FVaP\"\n",
      "\n",
      "I'm in tears wallah... Bait Groupies!!!@Umm_Kulthum show me the rest of the article lol its talking about my friend Umm Ubaydiah looolThis Deen is beautiful & the more you learn the more you honestly fall in love with it\"Allah makes the path to Jannah easy for a student of Knowledge.\"Studying the Deen under Ulema is a honest blessing.\"We no longer wish for our men to be like the Men of the Sahaba, in this day & age we would be happy if they were like the women Sahaba.\"@thenobleimams Tabarani, also in Sunan Dawud.Those who slander & back bite about yu truly do care for ur akhria.They're giving away all their good deeds to on a silver platterI've been getting so many people's good deeds & I had no clue all this time... \n",
      "\n",
      "Thanks 4 da deeds keep them coming pls I'm in great need.“No love between two souls is greater than what is between the spouses.”\n",
      "\n",
      "[Tafsir Ibn Kathir 3/525]\"The world is nothing except like a man who dreams of things that he loves, then he wakes up.\"\n",
      "\n",
      "[al-Hasan, Hilyah 270/6]@Ridwan_Patel I don't know what you're talking about :/The Day Bayaah was given to me on Muslim Twitter... Good times http://t.co/05WiZN2L58@Khalid_Maghrebi Loool you sound like a Coconut. Legit people were saying that in the beginningRT @Khalid_Maghrebi: @_UmmWaqqas \"you don't know what's in their harts\" \"only Allah can judge them\"That awkward moment when Muslims still believe Bashar Asad & the Nusayris are muslim.\n",
      "\n",
      "K... You need to learn the basic principles of IslamMy mood whenever I look at my mentions after 2-3 days.... \n",
      "\n",
      "FGS ... http://t.co/HZxx8KBj14@ZaramBukhari @UmmSulaym_ you sound like a complete idiot for your sake I pray you're not muslim\"@ahasnoor: Makes u cry\n",
      "\n",
      "\"Longest Gitmo prisoner, Fawzi Al-Oudah, 37, reunited w family 13 years http://t.co/Gmwaf19wGi\"\n",
      "\n",
      "AlhamdulilahRT @ahasnoor: Makes u cry\n",
      "\n",
      "\"@Martijn5155: RT @GUJA44: Longest Gitmo prisoner, Fawzi Al-Oudah, 37, reunited w family 13 years http://t.co/AF…A sister said \"Sheikh Abu Sufyaan Surmi was given 3 concubines & within the first week of getting them they ALL became Muslim.\" AlhamdulilahWhen people stupidity enters my mentions I just grab a glass of tea & \"LOOOOOOOOOOOOOOOOL\" continuously \n",
      "\n",
      "Sorry idiots NOT welcome“Your souls are precious, and can only be equal to the price of Paradise. Therefore, sell them only at that price.\"-Ali ibn Abi Talib\"@Ridwan_Patel: I've never mentioned who my favourite tweeters are, so here's a comprehensive list #FF:\n",
      "@_UmmWaqqas\n",
      "@_UmmWaqqas\n",
      "@_UmmWaqqas\"RT @UmmSulaym_: @_UmmWaqqas and how the coconuts love to conceal that ayah, may Allah rid us of them@UmmSuleym Thanks for replying back to my KIKDid you know? \n",
      "\n",
      "The word \"ir7ab\" is actually mentioned in the Quran...Terrorists = Mujahideen\n",
      "\n",
      "Terrorism = Jihad\n",
      "\n",
      "They changed the words so you hate that which you are meant to love\"You have to have the determination & the ability to walk alone.\"- Sheikh Anwar Awlaki Rahimullah\n",
      "\n",
      "I honestly love this man Feesaabilillah!5. Some times you have to be willing to walk the road alone and situations may occur &no one is willing to stand by you.\"\n",
      "\n",
      "That's it for now4. Today is a time when the ummah is at a center stage so whatever is happening in the world is sure to influence you one way or another.3. Start preparing yourself spiritually most importantly for what is yet to come. Because even if your are not going to witness these events2. He said \"Dear Brother and sisters get ready, prepare yourself,  don't take anything for granted.Don't continue to live this daily routine1. I end this with an advice from Sheikh Anwar Awlaki Rahimullah.Tadkhiyah means the willingness to sacrifice.\n",
      "\n",
      "You have to be prepared to sacrifice whatever Allah wants from you.Thabaat means steadfastness\n",
      "\n",
      "You will need to be steadfast and firm like a mountain, so that nothing changes you. Your iman has to be STRONG2. Yet the Sahaba never turned their back, they sacrificed their limbs & with their blood established this Deen.1. What made the Sahaba Special? \n",
      "\n",
      "The were not only a nation That established islam but they also had the whole world against themSubhanAllah look at us now, nations have gathered to destroy Iraq & Ash-Shaam. \n",
      "\n",
      "Allahu MustaanDid you know? \n",
      "\n",
      "During the invasion of Iraq back the Ulema predicted that this could be the stepping stone for Al-Malhama...Points from this hadith: \n",
      "\n",
      "- Al-Ajam-referrs to Non-Arabs & also Non - Muslims (Errm UN did that) \n",
      "- The heart of Ash-Shaam is Al Quds4. \"There will be a Khalifah in my Ummah who will give out money without counting.\"3. So the Sahaba said \"who would do this\" he Sallallahu Alayhi Wasallam replied \"Ar-Ruum\" And then he said \"there will be a khalifah in my2. He Sallallahu Alayhi Wasallam said \"Al-Ajam\" & then Rasulullah Sallallahu Alayhi Wasallam said \"Then Ash-Shaam will go through an embargo1. An interesting hadith\n",
      "\n",
      "Rasulullah Sallallahu Alayhi Wasallam said \"A time will come when Iraq will be in a siege.\" He was asked \"by who?\"Lessons from this Hadith: \n",
      "\n",
      "3. Istanbul will once again come into the hand of the Muslims.Lessons from this Hadith: \n",
      "\n",
      "1. Running away from the Battle field is a MAJOR SIN in Islam - Hadith is in Bukhari\n",
      "2. Al-A'maq is in Shaam7. They will continue till they open Constantinople.\" (present day Istanbul)6. Rasulullah Sallallahu Alayhi Wasallam adds \"This 1/3 who will win this battle will not be harmed by fitnah nor will they get discouraged5. 1/3 of that army will be killed & they are the best Shuhada in the eyes of Allah, & the last third will be victorious.\"4. 1/3 of that (muslim) army will be defeated & run away & Rasulullah Sallallahu Alayhi Wasallam says \"Allah will NEVER accept their tawbah\"3. The Muslims will reply back \"we will never hand over our brothers.\" So they will fight.2. Will go out & meet them, they are the BEST of believers at that time. And they will line up & the Romans will say \"Hand over our people\"1. Hadith- Rasulullah Sallallahu Alayhi Wasallam said \"The Romans will attack you until they camp in Al-A'maq, so an army from Madina will3. Who became Muslim & in which we will reply \"we will NEVER hand over our BROTHERS.\"\n",
      "\n",
      "Not exact hadith,but it can be found in Kitab Al-Fitn2. Also there is a hadith that states whilst we Muslims are Fighting the Romans they will ask us to hand over those \"Romans\" who have become1. Note: this is not saying that ALL the Romans are our enemies, because we know that in the west islam is the fastest growing religionNote:\n",
      "\n",
      "During this time there are great trails of Fitnah & it is during this time that the Dijjal will emerge & Isa Alayhi Sallam will come2. During that time the \"Romans\" were Europeans therefore it will carry on in that meaning. So the Romans are Europe & it's offshoot...1. During Rasulullah Sallallahu Alayhi Wasallam's time the word \"Romans\" wasn't referring to a political entity rather to an ethnic group.Question: who are the Romans?\n",
      "Answer: Europe & it's extensions (North America & Australia)Question: who will take part in Al-Malhama?\n",
      "\n",
      "Answer: Rasulullah Sallallahu Alayhi Wasallam said \"Al-Malhama is between the Muslims & Romans\"Question: What is Al-Malhama?\n",
      "Answer: Al-Malhama is a series of battles (a long conflict)Class is in session.\n",
      "\n",
      "(Tryina spread the Khayr & ilm as I go along, any Khayr is solely from Allah & Allah alone)\n",
      "\n",
      "I hope you lot take notesI'm In tears this is the interview with Shafi'i... \n",
      "\n",
      "Wallah comedy  http://t.co/lQxSsODWbkRT @YouDontKnowMee_: How can they attack a place of worship. Throw bombs & shoot bullets in a place where they bow down to their Creator? h…Israel is a terror state, they're terrorists that terrorize.Israel gets away with EVERYTHING. Hell they even got away with shooting a father & son on live TV...\n",
      "\n",
      "bet they thought we forgot about that@Shxnkaron I was listening to a lecture & the sheikh pointed it out, also if you study in depth the history of the life after the KhalifahSo should we delay for even a moment in rejoicing upon its return?\"\n",
      "\n",
      "(Lol I added my own flavor to the original speech only at the end.)We drank all sorts of bitterness, dreaming of the day when the khalifah would return.We were patient for years in the face of being killed, imprisoned, having OUR bones broken & OUR limbs severed.\"We spilled rivers of OUR blood to water the seeds of the Khalifah,Laid it's foundation with OUR skulls &built it's towers over OUR corpsesHow relevant are those PRTs to our time today Adunyaaa5. But they refer instead to opinions, desires & customs that people themselves have invented ALL of which have NO basis in Allah's Deen.\"4. Which include every type of righteous good thing & forbid every type of evil.....3. In the Tasfeer Ibn Kathir says \" in this ayah Allah is criticizing those who ignore Allah's commandments.....2.Allah says\"then is it the judgment of ignorance they desire? But who is better than Allah in Judgment for people who are certain in faith\"1. In the Tasfeer of Ibn Kathir Rahimullah \n",
      "\n",
      "Volume 3, page 67 he explains the ayahs of Allah in Surah Ma'idah Ayah 50@ShamBreaking3: Women in Somalia give Bayah to Amīrul Muminīn Abu Bakr al-Baghdādī\" \n",
      "\n",
      "Oi @NickiManhaj look... \n",
      "\n",
      "http://t.co/pZ0oUWuRDI\"Let's get up & pray Janazah over the ummah. We have just killed this ummah.\" \n",
      "\n",
      "Deep init! Well that's it for Islamic History stay tuned!Did you know when the Ulema of that time couldn't come together unified to quickly select a Khalif Muhammad Zawahiri said this....Did you know that the head leader for this council was none other than the Grandfather of Ayman Zawahiri?Did you know, in 1924 after the fall of the Khalifah world scholars came together in Mecca & held a Shura meeting to elect a new khalifah?Islamic History time: \n",
      "\n",
      "Did you know.....???? \n",
      "\n",
      "I found this to be lowkey shocking not gonna lie!This Deen isn't something to be played with learn ALL aspects before deciding to speak like a scholar & even then keep your mouth closed.And before speaking ill about ANY ASPECT OF THE SHARIA OR THE HUDUD OF ALLAH keep in mind that your Islam is at stake.@abdihalimsalad majority of the scholars have denounced Salahuddin in his time@abdihalimsalad pls get educated on this issue before talking. Not trying to sound arrogant but we should be fully educated in these topics@abdihalimsalad \"Muslims\" that go against the establishment of Sharia of Allah?And before bad mouthing any Mujahid also keep in mind that Allah Choose them over you (sitting comfortable at home)Blind sheep only follow the herd. The media only shows you what they want you to see keep that in mindThe were the nation Allah honored by sending them the most Anbiya. They also witness many miracles@abdihalimsalad You are a blind sheep who hate on those who strive in the cause of Allah. Sorry Bud Allah choose the Mujahideen > laymen@abdihalimsalad Lol, a fan girl in what sense? Don't make a fool out of yourself you only hate Dawlah because the media tells you too.Bani Israel were the chosen people by Allah. & through there story we learn many lessonsWe need more women Scholars Previous Tweet\"@Pearl_of_islam1: In front of the Islamic university in #Mosul #IslamicState http://t.co/hV8s2JCCmr\"\n",
      "\n",
      "This is so amazing@abdihalimsalad Lol K... 1. I'm from Holland & 2. Don't irritate me pls@HumzMufasa @TheAbFro \n",
      "\n",
      "He (ﷺ) said, \"Whoever obeys me, shall enter Jannah, and whosoever disobeys me, refuses to (enter Jannah)\". - Bukhari@HumzMufasa @TheAbFro \n",
      "\n",
      "\"Everyone of my Ummah will enter Jannah except those who refuse\". He was asked: \"Who will refuse?\"@TheAbFro lol interesting huh. You should read the hadith... you'd be shocked to hear that some people actually get dragged to Jannah.It's one thing to disagree with Dawlah but another to full out go against the Sharia of Allah.Sorry fam you're just on borderline Kufr therePeople hate Dawlah for establishing the REAL sharia & the Hudud of Allah. Like you folks (Muslims) are walking on very thin ice ya knowI came across Anti-Dawlah tweets & wallah majority of them if NOT ALL OF THEM were more like haterd for the Sharia.\"@tahsinaaa: Load of shia's on campus with shirky posters everywhere handing out tea :( #areyounotfastingdoe\"\n",
      "\n",
      "Loool I'm deadJannah is a place made specially for you but like Rasulullah Sallallahu Alayhi Wasallam said \"there will be people who will refuse Jannah\"& then there is Jannah, that when you ask Allah \"O Allah enter me into Jannah\" 3 times it (Jannah) asks Allah for you.God forbid but some of us (me) should give it more though & learn about Jahanam... it's a reality many of us turn a blind eye toIt's actually crazy how many us of don't give Jahanam a send thought Like reality is majority of us due to our own actions may land up thereYou know Jahanam is a scary place when it seeks refuge from Allah against own itself.. \n",
      "\n",
      "May Allah protect usWhy did everyone change their Avis to cats? Ya3ni am I missing something hereIt sucks because the person you are arguing with doesn't think you are serious which irritates me even more :( \n",
      "\n",
      "Adunya \n",
      "\n",
      "Sabr Ya Umm Waqqasim emotionally challenged. \n",
      "\n",
      "It's sad whenever I'm mad I can't keep a straight face & whenever I'm seriously i always end up laughing UGH@BintWater @ghazi_dimashqi  Sorry ukht this is incorrect from the little amount of knowledge I have he freed her & then married her.In short we from among Ahlul Sunnah are different from both the Jews & the Shias.5. This day/month also marks the day Hussain Radi Allahu Anhu's Martyrdom in which was tragic but that's not why us Muslims fast on Ashura.4. Who also fasts on this day? \n",
      "\n",
      "The Jews also fast on this day so be different from the Disbelievers we add 2 extra days 9th & 11th3. Why do we fast? \n",
      "\n",
      "We fast because today marks the day that Allah saved Musa Alayhi Sallam from Firuon & his army.2. Which is incorrect, Ashura was celebrated by the Rasulullah Sallallahu Alayhi Wasallam himself who instructed us to fast.1. Today is Ashura as many of u may be fasting (keep me in ur duas before u break fast pls) and some of us tend to tie Ashura with the shiaOne day the struggles & hardships will be all worth it.RT @aiisha_k: You are nothing but your deeds\n",
      "\n",
      "And your deeds are nothing without pure intentions\n",
      "\n",
      "So constantly ask Allāh to place sincerit…@Usongo4life It's still practiced till today Alhamdulilah.\"A believer never satisfies doing good until he reaches Jannah.\"-TirmidhiImagine sitting back with the Hoor Al Ayn in your yard sipping on a cup of wine from Jannah... \n",
      "\n",
      "Gasp... A girl can dream inniAnyways these pastries are amazing http://t.co/13p1h4ZnzN@Usongo4life It's in Seerah books & also there is a dua one makes only for those who have concubines which in Arabi is called sabayaThey skip so many aspects of his life just to highlight what they want SubhanAllah.The ignore the Jihad that Rasulullah Sallallahu Alayhi Wasallam made & his harshness towards the enemy only to highlight his merciful sideThe Seerah in its true essence is beautiful & so amazing, I hate that watered down crap they feed us now ...Matter fact 2 wives of the wives of Rasulullah Sallallahu Alayhi Wasallam were Ghanimah until he freed them & married them...Concubines are apart of Islam it's halal for the men to have them... Even Sulayman AS had them so did Rasulullah Sallallahu Alayhi Wasallam.The Haqq is so clear people just decide to ignore it. May Allah guide us all onto the straight path\"To know who is on the Haqq look at who the arrows of the Kufar are all pointed\" \n",
      "\n",
      "Need I say who those arrowsare pointed toward?Lol keep me in your duas so that the angel's make the same duas for you & we both benefitAnyways Ana Bint Dawlah :PAll praise is to Allah aloneThings you once held valuable or even important seem to no longer matter considering the obstacles you have to come across each dayWallahi \"Reminders benefit the Believers\"Use twitter to benefit from those who remind you of Allah.4. Why? Because real happiness, true contentment can ONLY be found in the hereafter alone, it comes when we are in Jannah3. You can have all the cars, houses & everything that this dunya could offer but you will never be content, You will still find a void2. Nothing you desire will EVER make you happy, it will all in the end bring you misery.\n",
      "\n",
      "In this world you will never truly be happy1. So know if you have Allah you have everything you desire, but if you don't have Allah WALLAHI you have NOTHING\n",
      "\n",
      "Nothing\"Upon those people are the blessings and prayers of Allah, and indeed those are the ones who are truly guided.\"-Surah Baqarah Ayah 157\"Those when they are tested they say \"To Allah we Belong & to Him shall we return.\"-Surah Baqarah Ayah 1561. Pain & suffering only becomes negative if it creates a barrier between you and Allah. If you distance yourself from AllahAllah says \"Surely we shall test you with a loss of wealth, Life, profit and trade. So give glad tidings to those who are patient.\"- 2:1552. But pain can also be turned into a positive, a form of motivation for you, when you decide to utilize it to get you closer to Allah.Anyways may Allah bless Ameerul Mu'mineen & grant him Jannah, unite him with the Anbiya, Shuhada the righteous predecessors...\n",
      "\n",
      "Ameen ♡It's amazing to see the Kufar so scared & terrified at the mere site of the Mujahideen.\n",
      "\n",
      "Allahu Akbar!\n",
      "\n",
      "Feels like Wahn has left our hearts2. & I just watching how Dawla took over Tabqa Airport for the 20th time &wallah Allah has disgraced these Kufar by the hands of the Muslims1. In the Quran Allah says \"fight them & I will disgrace them by your hands\"\"اخي أبلغ هنا الأصحاب أني راحل مدير\"\n",
      "\n",
      "A very touching Nasheed... May Allah unite us all with our Sahabis & Sahabiyats!Tumblr worthy http://t.co/ujX9rEkbXEI think I've met 10% of my twitter followers already :D may Allah persevere you lot, it's truly amazingOne of the Salaf said:\n",
      "\n",
      "“How can one feel the bite of loneliness when he is with Allaah?!\"\n",
      "\n",
      "[Ibn Abee Ad-Dunyaa, Al-'Uzlah #49]• The Prophet [ﷺ] said:\n",
      "\n",
      "\"He whose good deed pleases him and his evil deed causes him to feel bad then he is a believer.\"• Malik bin Dinar said:\n",
      "\n",
      "\"Every friend from whom you do not benefit from then abandoned him and his friendship.\"\n",
      "\n",
      "> [Sifatus-Safwah 3/286]My screen saver > Your face \n",
      "\n",
      "May Allah accept Turab & grant him into Jannah... http://t.co/1JyJ4C0uOo@repentantsoul_ link me to your other one plsThis is all I do pretty much.... \n",
      "\n",
      "My aspiration is to become like A'isha Radi Allahu Anha in every sense... http://t.co/wAFlANCdSxRT @Tazkiraat: Never will I forget @_UmmWaqqas inshaAllah. Especially, when Hur Ul Ayn are mentioned in tafseer class. May Allah allow you …I miss somali food tbh :/@BananaAndRiceP2 well, I am important but that's besides the point :P\"Women are the backbone to this ummah.\"-Sheikh Ahmad Musa JibrilI was reading about the lives of great scholars such as Ibn Tayymiah many others & found that majority of their teachers consist of femalesIlm is so important especially for us women... If we are not educated who will educate our kids?@IbnAbiSufian Oi I followed some off brand thinking it was you, let me quickly unfollow themMy neighbors are always blasting Dawlah nasheeds & it's always the same Dawlah nasheeds SOMEONE SHOOT ME or introduce them to new nasheedsTHE CLASSIC \n",
      "\n",
      "\"@_angelisation: GUYS I FOUND THE GIF!!!!!! http://t.co/psddbBMo7f\"\n",
      "\n",
      "If only the shoe hit him\n",
      "\n",
      "Tfu 3alaykMay Allah protect our brothers & all of those who have made Hijrah from Riyaah & make easy for them their task...3. Allah says \"Then fight in the cause of Allah, u are not held responsible except for urself & INCITE THE BELIEVERS to fight along with u.\"2. Then i came across this Ayah in the Quran that changed it all for me ... it's in Surah Nisaa Ayah 841. I use to wonder why brothers would come back on social media to announce their Hijrah & them going out to fight FeesaabilillahThat hadith makes u seriously ponder on where u stand with Allah, seeing as people from ALL OVER THE WORLD young & old are flocking to Shaam\"The hour will not be established untill Allah gathers all His Believing servants to the land of Ash-Shaam.\"-Abdullah Ibn Masood \n",
      "\n",
      "Authentic\"@SaudiWitness http://t.co/OeAoxojj0c\"\n",
      "\n",
      "These Hadiths should make you think as to why you are still in the west SubhanAllah...Alright that's it for me & my mini class lol \n",
      "\n",
      "I hope you enjoyed my notes, may Allah make us among those who establish His Deen firmlyPlease note that everything I talked about can be found in the SEERAH of Rasulullah Sallallahu Alayhi Wasallam taught by Ustadh Anwar AwlakiEstablishing the Army:\n",
      "\n",
      "The 3rd Ghazwah was called \"Asheerah\"\n",
      "\n",
      "But Badr was the only Ghazwah that resulted in the armies actually meetingEstablishing the Army:\n",
      "\n",
      "1st Ghazwah was called \"Ghazwatul Al-Adwab\" but the Muslims did not meet its enemies\n",
      "\n",
      "2nd Ghazwah was \"Duwad\"Establishing the Army:\n",
      "\n",
      "Ghazwah is an army that was led by Rasulullah Sallallahu Alayhi Wasallam himself for example \"Ghazwatul Badr\"Please Note that all these Sarayahs happened in the first 2 years before the battle of BadrObjective for a Sarayah: \n",
      "\n",
      "1. To establish a military presences\n",
      "2. Economical reasons\n",
      "3. To establish allies\n",
      "4. Training for the Sahaba1. The Sarayah led by Ubaydah RA is important because it was in this Sarayah that the FIRST arrow for the sake of Allah was shot2. The Sarayah led by Ubaydah RA had in its ranks men like Hamzah, Sa'ad Ibn Abi Waqqas \n",
      "\n",
      "May Allah be pleased with them ALLEstablishing the Army:\n",
      "\n",
      "1st Sarayah was led by Ubaydah ibn Harith... The 2nd led by Hamzah, a Sarayah was led by Sa'ad Ibn Abi WaqqasEstablishing the Army: \n",
      "\n",
      "Before the battle of Badr the Muslims engaged in something called \"Sarayah\" though none resulted in blood shedEstablishing the Army:\n",
      "\n",
      "Sarayah refers to armies that were set out by Rasulullah Sallallahu Alayhi Wasallam though he was not among themEstablishing the Army:\n",
      "\n",
      "Sarayah linguistically means \"An Army\" \n",
      "\n",
      "Ghazwah linguistically means \"The army of Conquest\"Basically this covenant was established as an agreement for all the communities from Muhajiroon & Ansar, Muslim & Jew etcEstablishing the covenant\n",
      "\n",
      "3.We will unite against anyone who practices evil, seek to bring harm, sin, aggression even if he be from our ownEstablishing the covenant:\n",
      "\n",
      "2. Yathrib (Medina)shall be a safe place except for those who transgress their limits & become of the wrongdoersEstablishing the covenant:\n",
      "\n",
      "Some of the agreements were \n",
      "\n",
      "1. No believer shall kill any believer for any NON-BELIEVER nor should they help3. Establishing the covenant:\n",
      "\n",
      "The made objective to this is to set up role grounds & have a common understand that \"THEY are ONE nation\"2. Establishing a brotherhood:\n",
      "\n",
      "To strengthen the ties between the Muhajiroon&Ansar.\n",
      "\n",
      "Now history shows us the type of connect that was made1. Building a Masjid: \n",
      "\n",
      "The masjid was & STILL IS the center point for Muslims\n",
      "\n",
      "A masjid plays many roles within our societyThe 4 projects:\n",
      "\n",
      "1. Building a masjid\n",
      "2. Establishing a brotherhood\n",
      "3. A covenant to govern the communities of Madina\n",
      "4. Establishing a Army1. Upon Rasulullah Sallallahu Alayhi Wasallam's arrival to Madina he set up 4 projects to establish...2. \n",
      "\n",
      "3. Playing with your wife\n",
      "4. Learning how to swim.\"\n",
      "\n",
      "- This hadith is authentic & can be found in various hadith books.1. Everything that is not in the remembrance of Allah is a waste of time except 4 things:\n",
      "\n",
      "1. Walking between targets\n",
      "2. Training your horse2.\n",
      "\n",
      "To punish&humiliate the enemies of Allah\n",
      "Exposing the Hypocrites\n",
      "A defense against aggression from the enemies that transgress the ummah1. The 7 objectives of Jihad:\n",
      "\n",
      "The promotion of Islam\n",
      "To protect worship places\n",
      "Protect the world from corruption\n",
      "To test mankind (a trail)5 requirements for Jihad:\n",
      "\n",
      "Must be Muslim\n",
      "Age of Puberty\n",
      "Sanity\n",
      "To be free from disabilities\n",
      "Financial stable\n",
      "\n",
      "-Requiments set by RasulullahSpending in the way of Allah... \n",
      "\n",
      "Allah has promised, whatever you spend (in terms of wealth) Feesaabilillah will be brought back to you.Who was the 1st nation to establish Jihad?\n",
      "\n",
      "Answer: Bani Israel (The Ummah of Musa Alayhi Sallam)What does Jihad also do? \n",
      "\n",
      "Answer: Through Jihad Allah separates those on the truth from those who have Nifaq within them.What's the purpose for Jihad?\n",
      "\n",
      "To free the people from servitude of one another & becoming servants of Allah & the Hukum be for AllahThe only WAR allowed in Islam is fighting in the Path of Allah other wars are NOT recognized or accepted. Evidence is in Surah Nisaa ayah 763. But then Islam gave it a new meaning to the word Jihad which is \"To fight against the Enemies of Allah\"<---- Agreed upon by the 4 Madhabs2. The same for the word \"Jihad\" the Arabic term for this originally was \"to struggle or strive\"1. Salah in the Arabic language means \"Submission\" but after islam came it gave it a new meaning \"prayer\"Okay let me educate the masses... \n",
      "\n",
      "(The student within me is coming out lol)Class is in session..\n",
      "\n",
      "May Allah bless Sheikh Ahmad Musa Jibril for providing us with these Tawheed classes!! http://t.co/Q8nZIPC3ovWith that I conclude this rant with this... \n",
      "\n",
      "\"This religion is Nasheeha.\" \n",
      "\n",
      "Use twitter wisely because you will be questioned about it ...May Allah bless Muslim twitter because through here I have met some amazing people.... \n",
      "\n",
      "May Allah unite us either in Dunya or in Jannah.And don't ruin ur intentions for a few followers u may gain along the way, because ur followers will either be a witness for or against uDon't ruin an opportunity to gain Ajar by constantly worrying about how many retweets you got.Twitter can be an amazing dawah source but one must constantly check & recheck their intentions.Everything we do should be only for Allah, & that's something that we should always remind ourselves...May Allah keep our hearts firm upon His Deen and make us of those people who remind others for \"Verily, reminders benefit the believers. \"Pretty much that's what twitter has become lol but Instagram is on some other level of ridiculous tbh... \n",
      "\n",
      "Let me not talk about itFan Girls need to be taught what Hayaah is, it's getting way too disgusting tbh. & the brothers that feed off of it need to be slapped hardFree mixing has become an all time high, & what annoys me the most are those Mujahideen \"Groupies\" AdunyaaaI hardly see reminders whenever I come on twitter, honestly all I see is junk tweets or sisters getting cozy with the opposite sex \n",
      "\n",
      "ADUNYAAIt seems as if people only tweet to please others & the trend in doing so is calling Dawlah \"khawarij\" K \n",
      "\n",
      "Whatever flows your boat mateThis side of twitter has honestly lost its plot. Idk where to even start tbh, it was fun while things lasted but everything comes to an endEven peeking over to the dark side isn't the same, there's way to much annoyance & stupidity that has entered their realm.Old school twitter was the golden era, now half of the people have either become Shuhada (iA), Made Hijrah, sadly got locked up, or left...I even prefer the old school jihadi \"analysts\" over the new ones sorry folks... Old school twitter had everything tbh, now it's just BLAAHEspecially bios of people who have disclaimers.. Lool people are getting more creative & funny if I may add\n",
      "\n",
      "But Old school twitter > newAnother favorite pass time hobby of mine on twitter is reading people's Bios LOOOOOOOOOOOOOOOOL people are helluh creative...Whenever I find a small pass time I go on Sheikh Assim Al-Hakim's account & read his replies tbh...\n",
      "\n",
      "Legit i think he's funnyAssalaamu alaykum, any news on Tuhin& Mustaqim yet?Hi, can we be friends @FlamessOfwar? \n",
      "\n",
      "LooolRT @FlamessOfwar: @_UmmWaqqas hijab is fardh, niqāb is fardh.I laughed so hard reading that article, like he's helluh funny. Not only that but he has all these kufar so scared, wallah I'm in tearsLoool the funniest article I've read in years.. \n",
      "\n",
      "http://t.co/7xBUX98Iik \n",
      "May Allah bless & protect Shafi'i wallah he's comedy.I'm done going on about Al-Maghrib they disappoint me... \n",
      "\n",
      "NextTbh all the Al-Maghrib sheikhs have lost the plot except for 2 in my opinion...Damn Al-Maghrib should remember the Seerah of Rasulullah Sallallahu Alayhi Wasallam.\n",
      "\n",
      "Erm the Sahaba did beheading etc ya3ni this is history@BananaAndRiceP2 legit there on some different level type of stuff, perhaps it's to safeguard their visas@BananaAndRiceP2 Al-Maghrib has lost the plot, epically now. Fam they're beyond watering down the Deen they're straight lyingRT @BananaAndRiceP2: @_UmmWaqqas al maghrib used to be the bomb. Oh wait I can't use the B word. I mean wicked. Now its too much. They doin…Loool @ the Al-Maghrib Institute, it's crazy how much people will lie just to water down the deen erm. K \n",
      "May Allah forgive them & usRT @BananaAndRiceP2: I used to be bare gassed on twitter. Bare opinionated thinking I'm an important person. Loool. I'm so peaceful and cal…I have my own opinion when it comes to the Niqaab, but come on even the scholars don't disagree when it comes to the Hijab ukht.\"@Ayesh2008: @_UmmWaqqas lol I see you subtweeting about meeeeeee 😊😂\"\n",
      "\n",
      "You and another person lolOi I know Hijab is Fardh \"wajib\" just got tweeted instead lolIf only us sisters truly understood the beauty of Hijab.RT @Ayesh2008: @_UmmWaqqas hijab is fard though and niqab is wajibRT @FatimaTaughtYou: @_UmmWaqqas #TweetOfTheYear 👏👏👏👏This is not to look down on sisters who don't wear Hijab, but let's not cover up sin by making excuses...Allah made the Hijab wajib, the case is closed.Regardless of what propaganda you try to use, you can NEVER justify not wearing Hijab. Sorry, you just can'tSorry but.\n",
      "1. Hijab is Wajib & you're openly sinning if you don't wear it \n",
      "2. Those who wear Hijab & those who don't are different ...Lool why do people feel the need to put Niqaabis on blast just to make an excuse for those who don't wear Hijab?This Masjid is stunning... \n",
      "\n",
      "Shout out to the one who took the picture http://t.co/4vxFglFxO1Turkish tea > your face http://t.co/3kB7jkgnRiRT @ana_mrida: \"sister are u upon salafiyya?\"\n",
      "\"No.. \"\n",
      "*flicks hijab and stalks off*\n",
      "\n",
      "\"...only Allah knows if I'm upon salafiyya 😔\"\n",
      "\n",
      "#TweetA…The definition of a real friendship http://t.co/sXcbNABEvoI've been through a lot with these ladies & they've helped me with so much plus more.\n",
      "\n",
      "May Allah unite us under His shade & again in JannahIt's amazing to build a bond and a real connection with people solely for Allah's sake... words cant decribe my love for these 4!!!Whenever I read this hadith I think of my sisters Umm Zubayr Al-Amerikiyyah, Umm Layth, Umm Ubaydiah & Umm Haritha. http://t.co/B0w68XGHwY\"... Allah knows, while you know not.\"-Surah Baqarah Ayah 216\"Be satisfied with what Allah has apportioned for you and you will be the richest of people.\" -Hadith is in TirmidhiThe last thing Polly and & I said to each other was \"I love u\" wallah no words would mount up to discribe how much i love her Feesaabilillah\"Allah does not burden a soul more than it can bare.\"\n",
      "\n",
      "May Allah keep Tuhin & Mus steadfast & firm on the Deen, no matter what comes..RT @EmmaVardyTV: Tuhin Shanesha's brother Mustakim remains in custody. Their sister Tamannah has been released without charge.RT @Ibadddd: Tuhin 😔💔 by far the best brother I came across on here. Fears Allah so much and is so sincere giving naseeha. May Allah hasten…SubhanAllah make dua for the Jaman family. May Allah ease their pain & suffering & grant them a way into Jannah.RT @EmmaVardyTV: Tuhin Shanesha, 26 from Portsmouth charged with preparation of acts of terrorism following police raids last week.RT @HumzMufasa: “@EmmaVardyTV: Breaking: Portsmouth man Tuhin Shanesha charged with the preparation of acts of terrorism”@AlArabi__ The effort people put into coming back is too much ya3ni why not just go else where...\"How can you defeat an enemy who looks into the barrel of your gun and sees paradise?\"\n",
      "\n",
      "I think Obama should ponder at this quote.RT @EarthsStranger: Free yourself from the narrowness of this dunya and embrace the wideness of the hereafter.RT @EarthsStranger: @_UmmWaqqas Yup...heres the new account @TheLightTrilogyOi did Shafi'i get shahada or was it a rumor?\"@EarthsStranger: @_UmmWaqqas Yup...heres the new account @TheLightTrilogy\"SubhanAllah I've missed out on so much...Dang everyone got twitter shahada... \n",
      "\n",
      "Idk how people keep coming back though, that's too much effort.Oi did the \"Light Reloaded\" twitter account get shut down or nahh@Fais99l the old videosHi can you guys link me the Light revolution videos please@FlamessOfwar Lol the clothes aren't that bad, just depends on where you shop... \n",
      "\n",
      "Errm.....  so I've heard lol@AlArabi__ Nahh I know but he was my teacher & still is...\"@Noorarahman: @_UmmWaqqas this one to uhkti❤ he was such a good man http://t.co/jMvUnGohIL\"\n",
      "\n",
      "My heart ♡Jk I'm nothing, I'm just a simple Servant of Allah whose mission in life is to please Him.Anyways, before my mentions blow up again let me do a disclaimer.\n",
      "\n",
      "Hi my tweets are \"not\" an endorsement. I'm just an \"analyst\"\n",
      "\n",
      "LOLI always \"Lol\" when I come across bios that say \" RT =/= Endorsements\" Errm the Kufar still think you're a supporter though.\n",
      "\n",
      "Nice try :-)Sitting on my kitchen counter whilst I drink milk lol just strolling through twitter don't mind me :*Banana retweet him on my TL & bruv I haven't laughed so hard in ages tbhLike the way he replies to us is beyond jokes & the funniest part is that he's so serious in his sarcasmLol I was trolling last night & seen a tweet/reply from Sheikh Assim Al-Hakim & laughed so hard. He's mad funny inni \n",
      "\n",
      "Like he got jokes3. & who is truer to his promise than Allāh? So, rejoice in the bargain which you have concluded. That is the supreme success.\"-Tawbah 1112.They fight in Allāh's cause. So, they kill & are killed. It is a promise in truth which is binding on Him in the Torah, Gospel & the Quran1 \"Verily, Allāh has purchased of the believers their lives and their properties for the price that Paradise will be theirs.RT @_1Imran: Get used to a rough life, for luxury does not last forever.\n",
      "\n",
      "- Umar Ibn Al-Khattab (R.A)RT @anisa361: \"And put your trust in Allah if you are believers indeed.\"- surah Al Ma'idah: 23\"The sweetest thing in the world is knowledge of Allah.\"- Malik Ibn Dinaar \n",
      "\n",
      "Source: Siyar A’laam an-Nubalaa’, (5/363)RT @Alhamdulilah___: \"And put your trust in Allah if you are believers indeed.\"- Al- Ma'idah, Verse 23Know & understand that if you have Taqwa in Allah, Allah will provide for you a way out.\"Hijrah wasn't easy then & it isn't easy now.\"-Ustadh Anwar Awlaki Rahimullah\"Everyone who made Hijrah made sacrifices.\"-Ustadh Anwar Awlaki Rahimullah\"Hijrah is like jumping off a cliff & you're not allowed to look down. You have to put your whole trust solely in Allah & take that jump.\"2. For those who don't get to complete their hijrah know that you will get all its Ajar but if ONLY your Niyaah was solely for Allah's sake.1. Should you die on your path of making Hijrah know that with Allah is your reward.But Allah has promised those who leave their homes SOLELY for His sake two things: \n",
      "\n",
      "1. Protection in the Land\n",
      "2. ProvisionMajority of the time people avoid making Hijrah for two reasons\n",
      "\n",
      "1. Fear for Safety\n",
      "2. Fear for their RizqGiving up ur comfortable life for the sake of Allah isn't easy, but the reward Allah gives u in return is proven to be worth the hardships.Glad Tidings to those who made the ultimate exchange with Allah. \n",
      "\n",
      "May their abode be Jannah underneath which rivers flow.@bintdad__ follow me pleaseJannah is all I yarn for May Allah permit is to enter it.May Allah grant us all what we seek both in this life & in the next...I give bayaah to Allah, His Rasul & His DeenAnd I have no desire to live in this dunya, for my aspirations is for the hereafter.@IzaSheikha nahh not if I pass off their husband lol \n",
      "\n",
      "Adunyaaa I better start pampering my imaginary Husband :/@Al_Muhajiroun I was reading that earlier May Allah protect themRT @abu_hudayfah: Dont depend too much on anyone in This world, for wallahi Even your own shadow leaves you in darkness -, depend on Allah …@IzaSheikha lol I don't think the Hoors like me tbh... \n",
      "\n",
      "But I still love my peepsJust a friendly reminder that I decided to share; thank me next timeDon't trust every person who screams \"Baqiyyah\" especially on social media... make sure they got tazkiyyah fam\n",
      "\n",
      "People are shadyRT @musthom: Those Muslims who hate #IslamicState implementing Sharia, should re-check their religion.Convincing someone to get you a cat is harder than it sounds, it's actually sad :(Lool Idk why I retweeted so many old tweets from Umm Ubaydiah boredom kills...RT @FlamessOfwar: \"Strive for death, only then shall you truly live.\"\n",
      "\n",
      "- Abu Bakr رضي الله عنهRT @FlamessOfwar: \"Whoever claims to have combined the love of dunya (worldly life) with the love of its Creator in his heart, he has lied.…Glad Tidings to the Strangers!My mood at the moment... \n",
      "\n",
      "أريد أن أمسك يدك في الجنة ويقول “نحن أخيرا هنا.Fear Allah how He deserves to be feared. Be mindful of Him and you'll see yourself doing less to displease Him.Mad love & respect for Amir Khattab. \n",
      "\n",
      "I honestly love him for the Sake of Allah & admire him beyond belief! \n",
      "\n",
      "May Allah grant him Jannah!My Heart melts every time I look at these pictures! \n",
      "\n",
      "Amir Khattab Rahimullah ♡ http://t.co/VWROXvNWgNHow do you steal someone's @? \n",
      "\n",
      "Adunyaaa twitter has lot it's originality@NickiManhaj yeah I haven't changed it.\"@NickiManhaj: @_UmmWaqqas I missed you as well hope you're doing well 😊\"\n",
      "\n",
      "Alhamdulilah I've been good, ya3ni life is good... wbu\n",
      "\n",
      " KIK meRT @NickiManhaj: @_UmmWaqqas LOL she told me I can have my @ back if I stopped free mixing. I was like ummm I'm gonna get back to you.@NickiManhaj Oi there is someone that's using your @ famo. Tyina bully me lol \n",
      "\n",
      "I missed you thoughJust preeeeeeing, pretend I'm not here!@UmmSabah it's cold where I am, actually a bit chillyLoool @ what twitter has become. Khayr \n",
      "\n",
      "I'm so glad I left before things got worse than it already was tbh. I miss my goons though no lieBack to my studies... enough time wasting on twitter tbh super distractingEverything is from Allah & every trail & blessing is to bring us only closer to AllahAllah tests people with situations they can handle, evidence for that is in Surah BaqaraahMay Allah ease the situation of those who have been arrested & grant them sabr & steadfastness!@Khalid_Maghrebi Lol alhamdulilah im good no worries, & JazakAllah Khayr for the NasheehaOi I'm suppose to be cleaning and I'm on twitter tweeting... Allahu Mustaan\"@FreeFalasteen: @_UmmWaqqas @umm_muthanna @AmeenOutspoken http://t.co/ArZdDdlzGw\"\n",
      "\n",
      "Pretty much this hadith says it ALL!RT @FreeFalasteen: @_UmmWaqqas @umm_muthanna @AmeenOutspoken http://t.co/jiqtqTeZCoAnyways.... I just want a doona kabab with a cold glass of orange Miranda@UmmHurairah_ who said there are No scholars in shaam, just because they aren't \"famous\" doesn't disqualify them from being scholarsLool she's mad because I said \"Baqiyyah\" \n",
      "\n",
      "well... Die in your rage@nikkimanhaj Dawlatul Islam \n",
      "\n",
      "BAQIYYAAAAAAAAH \n",
      "\n",
      " @_abumuniraThis is why I stay away from twitter, I'm always being bullied. Now I understand how @ShamiWitness & others feel like \n",
      "\n",
      "Ya3ni I'm maskeenRT @_abumunira: @nikkimanhaj You have indeed slandered, Please to refrain. @_UmmWaqqas@KalthumMohamed ukht there is no compulsion in Islam, don't believe everything on TVRT @nikkimanhaj: Open supporter of ISIS, calls for people to go to Syria, glorifies terrorism: @_UmmWaqqas@AmeenOutspoken @umm_muthanna No disrespect but you should read more into this even the scholars of the 4 madhabs agree to this@KalthumMohamed what about the Muslims killed by the Kufar? Do we not have a right to defend ourselves?You lot are making me reckless, Errm can I go back to tweeting about daisies and flowers lol\n",
      "\n",
      "I don't want to be on the \"No Flight\" list :PHijrah will continue & the caravan will move on, and the dog will keep barking!I honestly believe things are better done with a Mahram thoughDon't get things mixed up, I'm not telling sisters to run away from home but just saying.Just like you don't need a \"Mahram\" for Siyaam and Salaah if believe Hijrah is Fardh Ayn upon you then you DONT need a mahram..@Intr8vert If you believe hijrah is Fardh upon you, then you don't need a Mahram.Lol did you lot miss the Hadith that Rasulullah Sallallahu Alayhi Wasallam said \"Hijrah will CONTINUE till the day of Judgment\"If those sisters did indeed leave for Shaam they are more of a man then you are! \n",
      "\n",
      "Yes, I said it! Sue meYou lot always clamp down on sisters who make Hijrah in your cozy homes. HELLO BUT Hijrah is fardh on ALL of us, not just the women ya know.I think the regime of Saudi Arabia & Gulf states should reread & study the Seerah again... Allahu Mustaan2. In the covenant it stated \"NO BELIEVER SHALL KILL FOR ANY NON-BELIEVER NOR SHALL HE HELP ANY NON-BELIEVER AGAINST A BELIEVER\"1. Anyways I was studying the Seerah of Rasulullah Sallallahu Alayhi Wasallam & came across a covenant that the people of Medina all signedAny who may Allah protect Umm Yasir & grant her what she seeks! Keep her in your duas pleaseThese kufar plot day & night & attack us from the skies only to have an American plane shot down by a 16 year old Mujahid Allahu Akbar!Just like the west needs to wake up and realize that the sleeping Muslims have finally woken up from their slumber alhamdulilahWe Muslims need to wake up and realize that the Khalifah is here & it's NOT GOING ANY WHERE Bi ithnillah...\n",
      "\n",
      "Baqiyyah innitPeople with disabilities from all parts of the world have flocked to live under the Khalifah, then there is us....\n",
      "\n",
      "Allah chooses the peopleSo many people along with their entire families have made Hijrah to the Islamic State yet some of us stay in the west though we have means.So many Somalis & have made Hijrah to Shaam I'm so shocked & they all happen to be under the age of 30 alhamdulilahPretty much in UK you're a terrorist until proven a coconut. .. SubhanAllah May allah help the Muslims in UKAnyways duty calls! \n",
      "\n",
      "Baqiyyah Bi ithnillah! \n",
      "\n",
      "Assalaamu alaykum wa rahmatullahi wa barakatuh!  \n",
      "\n",
      "Keep me in your duas please :-)Brothers take this advice from Sheikh Ibn Uthaymeen: \n",
      "\n",
      "\"Marry a religious woman. She will neither abuse your right nor reveal your secrets.\"My last retweet is on point tbh. A man with deen is like a diamond in the rough. Super hard to find, especially one with the correct aqeedah@flurriana please don't I'm currently starving!RT @yasminqanas: Trust me sisters having a good pious brother is better than having a man that has money.Anyways that tuna & bread lifestyle isn't that bad tbh it actually tastes good... \n",
      "\n",
      "If you know then you know....Our victories lie in this Deen not some nationalistic flag that these Kufar came up with to separate us2. But until then this ummah will live in humiliation and be disgraced begging these Kufars for basic rights...\n",
      "\n",
      " Allahu Mustaan1. The moment us Muslims put down those nationalistic flags & pick up the Rayyat At-Tawheed is when we will become successful@_Knt28_ awh I've missed you too errm DM me so I can give you my KIKPalestine will ONLY be free the way it was freed in the past, through Jihad Feesaabilillah!  \n",
      "\n",
      "Whether you like it or not this realityAs bait as this may be ima say it..\n",
      "\n",
      "Wallahi Palestine will NEVER be free through those pathetic \"peace talks\" or get freedom through the UNAllah says: \"Remind, for reminders benefit the believers.\"\n",
      "\n",
      "[51:56]When you turn to Allah don't worry about the means, guidance will come.You don't want to spend one second regretting things expecially in a world that will only last a short term.Sometimes life can get so overwhelming but sitting back and thinking about your blessing can honestly balance things out.Allah tests those whom He loves, may Allah give us patience to deal with our Qadr in the best manner & to accept it whole heartedlyJust heard sad news, people do me a favor and keep my dear ones in your duas.RT @jabirzaan: @_UmmWaqqas @ShamiWitness @isisnews01 @Nameless_ukhti @MuslimPrisoners http://t.co/6XJgidBD2TAll you Bint & Umm Jihadis need full on tazkiyyah, plus a honest sister who is about the manhaj wouldn't waste her time chatting up guys tbhBrothers don't fall for the traps of women ya3ni take it from me, WOMEN ARE FITNAH!!!!This is another reason why I don't trust over the top bait fan girls. Allahu Mustaan Women these days have lot the plot.\n",
      "\n",
      "Fitnah Ala Fitnah!RT @abughamad: So how many \"UMMs\" r undercover ;) http://t.co/Ea2Hi5YuuUWith everything in life you do make sure you do it for Allah.\"@Al_Khorasani: @_UmmWaqqas how is the weather in America\"\n",
      "\n",
      "Alhamdulilah Amsterdam is good a bit cold thoughOi did Mr. Abdullah die or is the vampire still alive :/Assalaamu alaykum, Hi. Errm I dislike getting cyber bullied lol so can all the crazy people STOP entering my messages...Don't return to something you've given up for the sake of Allah. Don't return to dunya after you've divorced itRT @itsnadias: Congratulations to those who leave the world before it deserts themRT @BananaAndRiceP2: Don't chose misguidance after Allah gave u hidayah and dint compromise your akhira for this dunya. The time spent in t…Rant over. \n",
      "\n",
      "If you feel like my tweets applied to you FIX UP & if you didn't feel like they did STILL FIX UP. Ya3ni you may die tomorrowSorry I just get really disgusted and disappointed when I see Mujahideen Groupies & these brothers falling for it... \n",
      "\n",
      "Allahu MustaanFear Allah in ALL matters of the Deen. & fear Allah concerning your AkhriahBrothers remember why you left in the first place, it was to escape the fitnah. SubhanAllah don't fall for the fitnah of NisaaBrothers my sincerest advice 1. don't accumulate sins for some sister who isn't even ready to give up free mixing 2. Don't waste ur timeIf marriage is what you brothers seek with these sisters MAKE IT KNOWN and allow it with the free mixing. Wallah Allah is watching youFEAR ALLAHAnd brothers, you are in the land of Ribaat why are you chatting up with sisters under the pretenses of \"helping\" them SubhanAllahYou sisters need to refresh your intentions and be truthful to yourselves and STOP using this as a way to get close to these brothersWallah it's disgusting seeing how sisters freely act on social media, and this isn't anything new it's been going on for awhile4. You lot can't even give up free mixing yet you want to give up \"everything\" for the sake of Allah? Khayr \n",
      "\n",
      "Reevaluate your life3. You catch them chatting up with many brothers and getting cozy via Twitter and Instagram.  \n",
      "\n",
      "No Hayaah2. But you still find them stuck in the same position for over a year regardless if they have the resources.... Allahu Mustaan.1. Sisters this one is for you, lately you find sisters who seem to be on the Manhaj & say they want Hijrah etc but....Sorry but ima go on a rant about something that has been bothering me for some time.... \n",
      "\n",
      "Bismillah. \n",
      "\n",
      "May Allah guide us allRT @UmmDujanah_: The religion will return, even if we have been oppressed ☝️ http://t.co/LBw8HGgWjO\"Whomever stands in front of Allah at night (praying) Allah will make easy for him, his standing on the Day of Judgment\" - Imam al-Awza'iThe Prophet [ﷺ] said:\n",
      "\n",
      "“Paradise has 8 gates and the Fire has 7 gates.”\n",
      "\n",
      "[As-Silsilatul-Ahādīthis-Sahīhah, (No. 1812)]Alhūmduillāh Alhūmduillāh Alhūmduillāh ala Ni'maatul Islam5- So good luck to those in Dar Ul Kufr! May Allah open your hearts to see the truth. This life is nothing but pure deception4- no matter how much you want to stay, the truth of hijrah and sham is indeed true &when the time of Mahdi comes there is nothing u can do3- when you actually sit down & open your heart &read what's in the books of Hadith on what the Rasullallah SAW said abt Sham. You will run2-Sooner rather than later. And those of you who are stuck in worrying about whether or not ISIS is the truth or hijrah for women is bad1- It's doesn't matter if dawlah is a legit khalifah or not, the truth of the matter is Sham will be the land of lailallaha illallahAm I the only one that gets marriage proposals via mentions? 😭 😭 😭Awh my followers are the best tbh, I get messages from people saying \"I love you feesaabilillah.\" \n",
      "\n",
      "Made my day\"The best of Deeds are those kept secret.\"Don't ruin the great reward of Hijrah or even Jihad just to receive fame, compliments, recognition from the creation.Rewards are according to ur intentions by the way, don't think u will be rewarded if ur intentions were only for fame or to gain somethingTypos Fi Ded.Rasulullah Sallallahu Alayhi Wasallam once said \"Be discrete with your intentions to avoid ayn\" <-- not exact words but pretty muchIf you live in the west you should be bait on social media & express your desires to make Hijrah etc but don't sugarcoat your Deen either.What Allah has prepared for us in Jannah is better than we would ever imagine.This is so amazing. Alhamdulilah http://t.co/997EOhNB1UJaysh Al-Waqqas ♡I don't like Mujahideen Fan Girls... You ladies honestly the Hayaah slapped back into you ASAP. Wallah it's disgustingLooking at the moon whilst listening to Salah Bukhatir recite Surah Taha... \n",
      "\n",
      "Amazing!May Allah grant us all JannahLol gotta go my invisible husband is calling me lol... \n",
      "\n",
      "(Watch some twitter stalker twist this tweet.. peasants)Keep me in your duas please, & Bi ithnillah the Angel's will make the same dua for you...The curse of the Hoor Al Ayn is beyond cute tbh. Like they just want their husband not to stress, I respect that...@BintFood but their curse is cute tbhGardens underneath which rivers flow...Hoor Al Ayn Tunadini ♡\"@RanadSheikh: @_UmmWaqqas You still pleasing the invisible husband and your hoors 😒\"\n",
      "\n",
      "Oi my invisible husband & Hoors aloneNot really mad, I share in His ajar init. http://t.co/X6bbnCjfaJIbn Qayyim is one of my favorite scholars@TaalibJamia daleel Imran...@TaalibJamia plus it was for a \"Democratic\" election & brought NO TYPE of benefit to us Muslims what's so ever tbh@TaalibJamia you sure about that Imran? Mind sending me the daleel? Plus it goes against the ayah of Allah \"Hukum is only for Allah\"\"Seek Allah’s help with patient perseverance and prayer. It is indeed hard except for those who are humble.\"-Surah Baqarah Ayah 45RT @fazie_90: And that's why you shouldn't take your deen from any Tom, Dick and Harry yano xx #teammiddlepath #saynotothesemodereteWallah that last retweet is gold epically in the times we are living in...RT @fazie_90: \"When you do not have knowledge, someone could bring you dirt and you will believe it to be gold.\"\n",
      "\n",
      "Ibn al-Qayyim Rahimahulla…Last time I checked it is Un-Islamic to take part in voting... \n",
      "\n",
      "but ya... \n",
      "\n",
      "Not my business doeLoool alhamdulilah I stopped taking their classes a LOOOOOOOOOOOOOOOOL TIME AGO, too much watering down the Deen.Lol sorry but Al-Maghrib Institute had their instructor telling Muslims to vote for Obama, now they want to talk about \"Un-Islamic\"Something that I always try to remind myself. http://t.co/r5r6ELwrsqاخي أبلغ هنا الأصحاب أني راحل مدير@panadriam what you may think is wrong may actually be right... the Fiqh of Jihad isn't all black and white as some people like to point it@panadriam it was to make a statement that yes Sahaba even did beheadings, and the similarity is to strike fear into their hearts...I love you @bintladen1Anyways I need to stop getting brave via Twitter, I can't be on a \"no flight\" list ya know... Like im a frequent flyerWe know that the BIG battle will take place in Shaam... Khayr Bi ithnillahAla Kulli haal Obama saying he's about to enter Syria is actually him acting out the Hadith of Rasulullah Sallallahu Alayhi Wasallam.You lot should read Sheikh Yusuf Uraydi's book titled \"Constants of Jihad\" SubhanAllah the way he breaks down things is amazing ya know...Yet Muslims cry about the status the ummah is in and make comments like \" we need a Khalid Ibn Waleed\"\n",
      "\n",
      "It's the same old song tbh.2. But the moment Muslims decide to retaliate in any way shape of form, we Muslims are the first to condemn.1. Not to sound heartless or anything, but I honestly don't understand when it's Muslims being oppressed everyone is mute.Where is all this out cry when Muslims are being oppressed? SubhanAllah it's like OUR blood don't matter.Why because America is spilling it?Ibn Masood beheaded Abu Jahl & brought his head to Rasulullah SAW & Rasulullah SAW screamed with Takbeers... \n",
      "\n",
      "Daleel is in Bukhariكيف أحزن و الله ربي؟ \n",
      "\n",
      "How can I be sad if Allah is my Lord?Muslim twitter is differently the most watched and analyzed.Hi I'm a coconut, can you lot stop harassing me please? Like, I don't want 10000000000000x notifications on my phone a day.Watching the new episode of the Light Series titled \"Lies against Dawla\"\n",
      "\n",
      "You should watch it\n",
      "\n",
      "http://t.co/vJ1PCpob4B\n",
      "\n",
      "Baqiyyah Bi ithnillah\"The pen has been lifted and the ink has dried.\" \n",
      "\n",
      "What is meant for you will happen, just be patient in the be process of thingsEven if things don't work out as you wanted, Allah places this type of contentment in your heart. \n",
      "\n",
      "Honestly it brings you closer to AllahI wanted a lot of things but Alhamdulilah Allah granted me what I truly wanted. It's amazing & iman boosting to witness your Qadr play outI want to live in the mountains of Afghanistan& watch the beauty of Allah's creation.I like taking long walks near the water. \n",
      "\n",
      "Random I know\"Oh son of Adam. I do not forget the person who disobeys me, so how can I forget the one who obeys me?\"- Hadith Qudsi@NickiManhaj would you please, these peasants in my mentions are driving me insane@bintladen1 Oi tell Umm Ubaydiah to reply to my text@bintladen1 Lool yeah soon, hopefully within the next few days, you lot owe me pizza & ice cream. Text me thoughHe was so cute, he would always come and sit on my lap & tell me he loves me. Awh I miss him tbhSpeaking of husbands, I found a Tunisian husband by the name of Baraa. But here is the downside \n",
      "\n",
      "1. He's only 4 \n",
      "2. He moved out my blockIma remind him of the type of husband Rasulullah Sallallahu Alayhi Wasallam was. Ya3ni he held his own when it came to houseworkLol my husband will pamper me ya3ni I'm too prestige to clean and cook all the time. Just sayingI agree with ikran, my husband should be the one to give me foot massages. It's the 21st century ya3ni loooooolYou lot want to real brave but stay mute when I'm around Loool...Slandering me for what? K, btw I know 100% who you are so no need for anonymous accounts. You're still a coward beyond the computer screenLol at these females that want to get brave via social media, your 15 minutes of fame is over ya3ni... \n",
      "\n",
      "Thanxs for the Deeds though :)@muslimah4321 Lol you're some off brand that thinks they know me, calm yourself don't let twitter fool ya.RT @NickiManhaj: Every man should always meet their wives at the door when they get home with a plate of hot food and a foot massage.May Allah bless our Mujahideen in Dawlatul Islam. May Allah grant them victory over their enemies, & bless the Islamic State!Lool at those people calling dawla khawarij... They're still Mujahideen whom Allah preferred over you! \n",
      "\n",
      "SORRY NOT SORRYIt's sad to see people bash Mujahideen from the comfort of their homes, but at the end Allah prefers them over you.Think twice before belittling something that had to do with you Deen, don't leave the fold of Islam just to impress a bunch of KufarsLike Allah said \"They will NEVER be pleased with you till you forsake your religion.\"And as far as Jihad goes, Rasulullah Sallallahu Alayhi Wasallam said \"Jihad will continue till the day of Judgment.\"Rasulullah Sallallahu Alayhi Wasallam was a lion, don't be fooled by these coconut sheikhs LEARN YOUR DEEN...You forget that Rasulullah Sallallahu Alayhi Wasallam was the man that stood in front of the Quraysh & said \"I've come to slaughter you\"1. Did you know Rasulullah Sallallahu Alayhi spent all his life in Jihad? 2. He took part in only 1 Hajj & 1 umrah..1. I have so many coconut Muslims in my mentions,  Errm let me educate you real quick....\"My world is vast so therefore worship me\" - [Quraan 29:56]@ThatZaid jazakaallahu khayrNP- Hijrah by Anwar al Awlaki \n",
      "\n",
      "One of the lectures which changed my life. \n",
      "\n",
      "May Allah reward him and increase his rank in Jannah!!!RT @Ukht_Muwaahida: Jannah is not cheapMany of us claim we want Jannah, but not a lot of us are willing to make sacrifices for it.Many of us are blinded by the glitter of this world & forget about the beauty of Jannah.We all want happiness, sadly many of us are trying to seek it in this Dunya & forget that there is life waiting for us after we die.Jannah is the aim for many of us, but not everyone is willing to work for it.The path to Jannah isn't easy but wallahi it's worth it. http://t.co/zTyVNvF8QYMay Allah grant us all what we are seeking both in this life and the next! \n",
      "\n",
      "Assalaamu alaykum for now :PNo more bait talks lol, I just really like Dawlatul Islam Ya3ni. \n",
      "\n",
      "K bye\"Ana Bint Dawla.\"- Doctora Al-MaghribiRT @ShamiWitness: \"The Islamic State is now the most capable military power in the Middle East outside Israel,\" http://t.co/IrcyaXQiNaWe are the ummah of MUHAMMAD Sallallahu Alayhi Wasallam... \n",
      "\n",
      "What better izzah is there than that?Victory was PROMISED to the ummah of Muhammad Sallallahu Alayhi Wasallam 1400 years ago & Bi ithnillah we will successThe ummah isn't what it was 5 years ago & these kufar governments know it, we are gaining our Izzah back.The Hikmah of Allah is something amazing, the \"Arab spring\" was a tool by to awaken the sleeping ummah. \n",
      "\n",
      "Our lions have fully awakenHonestly boggles my mind how sisters go on Instagram & write certain comments on a brother's profile... Allahu MustaanAll of these Mujahideen groupies need to have the Hayaah slapped back into them. \n",
      "\n",
      "SubhanAllah lack of Hayaah tbhI Miss you already @amatulwahid1And ALWAYS keep in mind that Allah loves those who are pateint... \n",
      "\n",
      "May Allah grant us ALL what we seekAllah is Al-Fattah, He will open doors wide for you. Just keep in mind that Sabr is needed and ikhlaas is key!@amatulwahid1 Oi you bait thing... \n",
      "\n",
      "Lets order food im thinking Cheese Pizza!@amatulwahid1 is my favorite Irhabiyyah \n",
      "\n",
      "I love watching the sunsets with you while we sing Dawla nasheeds \n",
      "\n",
      "I love you FeesaabililahDont let ur emotions be what take u out the fold of Islam, be careful in ALL matters of deen but be extra careful when talking about sharia.Lol i should stop... \n",
      "\n",
      "Anyways only cowards attack from the sky, khair arleast we muslims know our dead will be in Jannah Bi ithnillah!Dawlatul Islam has ALL RIGHTS to defend itself from any forein invaders, like obama once said \"u have the right to protect ur soverenty.\"@analyst8 Lol the dark side of twitter thinks we are ALL K..... LolTwitter sucks.... \n",
      "\n",
      "Oh yeah Baqiyaah Bi ithnillah \n",
      "\n",
      "Lol Salaams yall \n",
      "\n",
      "Keep me in your duas xoxoMay Allah keep us busy with OUR own faults rather than other people are doing.How is it that yutes STILL talk about issues you have no clue about?\n",
      "\n",
      "I should really stop peeking on people's accout, legit my blood rises@Al_Khanssaa True youre a female IS recruter, youre way tooo bait for the sheikh LOOOOL@Al_Khanssaa Sheikh Ahmad Musa Jibril@alfirdaws_ Awh i missed you moreLol i see people are still barking on twitter... SubhanAllah what happen to keeping yourself busy with khair?I want ice cream tbh!I take a break from twitter and random people invade my mentoins lol, who gave you nut jobs the invataion?Ya Akhi... http://t.co/IcJif9yDGCI command u of 5 things: \n",
      "\n",
      "1. Jama'a\n",
      "2. To Listen\n",
      "3. To Obey\n",
      "4. To make Hijrah\n",
      "5. Jihad Feesaabilillah\n",
      "\n",
      "Authentic hadith found in Bukhari\"Say: Verily, my prayers, my sacrifice, my life, and my death are for Allah, the Lord of All the Worlds.\"--Surah An'am Ayah 162May Allah allow us to be close to Allah in our hearts and be amongst those who are the Sabiqoons on Yawmal Qiyaamah!So therefore, I will not be on twitter as much anymore. I hope you can all respect that. And I advise the same to you all as well.Some of us, give way too much time to social media and they don't realize that their ibadah has been daeef! May Allah protect us!Since you may have all been wondering why I haven't been tweeting the past couple of days. I am focusing on myselfDon't give up on the mercy of Allah. Be truthful to Him & wallahi Allah will make a way out for you from every difficulty and hardship.May Allah grant us all what we are seeking both in this life & in the hereafter.Baqiyyah Bi ithnillahDawlatul Islam.... \n",
      "\n",
      "Baqiyyah!!!!Lol im feeling a bit brave so you know what....My sisters @UmmLayth_ Umm Haritha & Umm Ubaydiah ♡ (@Al_Khanssaa)\n",
      "\n",
      "May Allah unite us soon http://t.co/WHloaNfoib\"O you who are patient! Bear a little more, just a little more remains.\"-Ibn Qayyim\"Allah does not betray the hopes of those who hope and does not cause any effort to go to waste.\"-Abu Muhammad Al-MaqdisiThe social edicts of how a Believer behaves is explained beautifully in Surah Hujurat.\n",
      "\n",
      "Now question yourself, do I meet those requirements?Assalaamu alaykum earthlings! \n",
      "\n",
      "Just stopped by to sincerely ask for everyone's forgiveness. \n",
      "\n",
      "May Allah grant us all Jannah!Happiness is attained by 3 things:\n",
      "\n",
      "1. Being patient\n",
      "2. Being thankful\n",
      "3. Being repentant upon sinning\n",
      "\n",
      "-Ibn QayyimThis will be me after I enter Jannah Bi ithnillah http://t.co/NT1gK0xJlb\"The sinner does not care about whether he angers his Lord or not, all he cares about is satisfying his lusts and desires.\"-Ibn QayyimMy reminder everday... http://t.co/0KX5Hgwxi1Ya Fattah \n",
      "\n",
      "I love this... http://t.co/51V5gZw2Gg\"Sometimes sitting with yourself and reflecting on how many times Allah has covered you in your darkest moments brings light to the heart.\"@Alhamdulillh He has such a soft heartRT @Alhamdulillh: @_UmmWaqqas This Shaykh❤️ Mashaa'Allah :') Most One I Listen Too. \n",
      "Watch These Two By Him \n",
      "\n",
      "https://t.co/BFpsUtajXt\n",
      "\n",
      "http…THIS IS AMAZING! \n",
      "\n",
      "Thinking well of Allah\" - Shaykh Salih al-Maghamsi https://t.co/bfXYajbo2U\"Ya Sheikh im a cookie\" \n",
      "\n",
      "Marriage Advice from Sheikh Al-Huweini https://t.co/cMbEKfUcIoLol @ this conversation between Sheikh Bin Baaz & Sheikh Ash-Shinqeeti May Allah give them both Jannah  https://t.co/7LvyoagZ4CMy mood at the moment... \n",
      "\n",
      "أريد أن أمسك يدك في الجنة ويقول “نحن أخيرا هنا.Hoor Al Ayn > Hoor At Teen\n",
      "\n",
      "& if you know me, you know im being serious lolThe wives my husband will get in Jannah are beyond perfecto In Shaa Allah.... Best co-wives any girl could ask for tbh@Abu_Usayrim I've read all the stories that have to do with them lolI honestly believe i love the Hoor Al Ayn more then the brothers out there.still hooked on this poem by Sheikh Idris Akbar dedicated to Amir ul-Mu'mineen Umar Ibn Khattab Radi Allahu Anhu 😭👌\n",
      "https://t.co/2kn0CU6a80@Muawiyaaa im so hooked till this day. SubhanAllahHada Omar Ibn Khattab Amir ul Mu'mineenRemember the man that stole from Umar? Umar chased him yelling \"By Allah that I give it to u, say u accepted it, so Hellfire won't hold u.\"Once Umar ibn Khattab socked Abu Hurairah for giving him Glad tidings to Jannah lol there is more to the story but that bit is funnyUmar ibn khattab Radi Allahu Anhu kicked out a man from Madina for being too handsome & causing Fitnah for the women lol that story is funny\"O my soul! Pass quickly on through this world; And leave it, for indeed life lies ahead of it.\"-Imam Shafi’i@Map_patel One day i will Bi ithnililah.I miss my home in Jannah dearly !This will NEVER get old to me \n",
      "\n",
      "The Description of Paradise by Ibn Qayyim\n",
      "\n",
      "https://t.co/FJoKFkc7Weim at war with shaytaan\"To some, Islam is nothing but a code of rules and regulations.But,to those who understand,it is a perfect vision of life.\"-Yasmin MogahedAlhamdulilah for Allah's Hidayaah.The beauty of the moon reminded me of that incident... They were perfecto\"Ya Aish, to me you are more beautiful than the moon.\"\n",
      "\n",
      "Rasululilah Salallahu Alayhi Wasallam would say this to A'isha RA \n",
      "\n",
      "💖3. He was endowed with great wisdom and a sense of dignity and self esteem\"\n",
      "\n",
      "He was the definition of Tall dark and Handsome <32. A fine nose and bright skin. He was also gifted with a deep, melodious, resonant voice. He wore a beard which was thin on both cheeks.1. The description of Bilal Radi Allahu Anhu ... \n",
      "\n",
      "\"He was of a handsome and impressive stature, dark brown complexion with sparkling eyesHow Bilal Radi Allahu Anhu became a slave is interesting. His family was captured during the Amul-Fil and sold as slaves..Anyways... \n",
      "\n",
      "Did you guys know that Bilal Ibn Rabah Radi Allahu Anhu's mother the princess of Abysinna?\n",
      "\n",
      "He was royalty!\n",
      "\n",
      "His life though >>May Allah make us of people who actually take the Salaf as their role models through our actions, not through the keyboards!\n",
      "\n",
      "AmeenMay Allah guide us all & help us both in this life & in the hereafter@amatur_rahman @Muawiyaaa @MannWaSalwah @ghazishami Ukht I just messaged my Ustadhs for you, just waiting on their reply Bi ithnillah@Muawiyaaa @amatur_rahman @MannWaSalwah @ghazishami im not knowledgable enough to give any type of input, Please forgive me. Ask a Sheikhif you are going to use twitter to bash the dead..\n",
      "\n",
      "1. Fear Allah\n",
      "2. Deactivate\n",
      "3. Reevaluate your life\n",
      "4. Personally i think you're a wasteWallah they stay making 70+ excuses to their leaders who openly sin, but when it comes to their brothers its automatic \"Khawarij\" \"Takfeeri\"The dark side depresses me, how can you be so hateful towards your own muslim brother? Yes you disagree, but show compassion to the dead\"We used to say that those amongst us with the most sins are those who spend their time talking about the sins of others.\"-Ibn Sireenكيف أحزن واللهُ ربي؟؟@UmmDujanah_ She looks stunning Ma Shaa Allah\"@UmmDujanah_: My baby 😭😩 http://t.co/hBhYhSW7AS\"\n",
      "\n",
      "This is mad cute May allah bless their Marriage. She should've rocked All white thoughExcited to study & for school to start tbh@rauf_khalid @Gladd_Tidings Offering salaams isn't Shirk but asking him to accept your Duas IS, praying towards his grave is SHIRKThe Land (jazirat al-Arab) that was cleansed 1400years ago isn't the same land now.If you've ever been to Hajj or Umrah, you will see people committing shirk, doing Bidaah & around the Haramians are Ribba based banks...@analyst8  In Hajj people commit shirk & are involved in crazy Bidaah,Also you will see Banks everywhere that deal with Ribba\"If anyone wonders why the Ummah is in this bad state, then Hajj will give you the answers.\"-Suraqah Rahimulilah\"Little is the enjoyment of the life of this World as compared with the Hereafter, if only you knew.\"-Surah Tawbah Ayah 38Allah asked us a question in the Quran..\n",
      "\n",
      "\"Are you pleased with the life of this World rather than the Hereafter? \"-Surah Tawbah Ayah 38RT @UmmNotebook: You know what hasn't been on the TL much recently?? .. hoor al ayn. \n",
      "@_UmmWaqqas please tweet about hoors sis xx\"If the pains of this world tire you do not grieve. For it may be that Allah wishes to hear your voice by way of dua.\"-Ibn Qayyim\"The believer dedicates his attention to the Hereafter, and anything that he faces in this life reminds him of the Akhria.\"-Ibn QayyimAlf Mabrook Bae! May Allah bless your marriage & grant you righteous kids. May Allah love you, im SOOOO happy for you @striving_ukhtبَارَكَ اللهُ لَكَ، وَبَارَكَ عَلَيْكَ،\n",
      "وَجَمَعَ بَيْنَكُمَا فِي الْخَيْرِ.\n",
      "\n",
      "A BIG CONGRATULATIONS TO \n",
      "@striving_ukht on her nikkah !This book is Gold http://t.co/yvqbG3oAnYThe sincere hearts and the pious supplications are soldiers which can never be defeated.\"-Ibn TaymiyyahSisters be like..... http://t.co/2n3DrtbxukI leave you with this... \n",
      "\n"
     ]
    },
    {
     "name": "stdout",
     "output_type": "stream",
     "text": [
      "\"There can be no Islam in the person who does not perform salah.\" Umar Ibn Khattab\"When one’s intention is sincere, Allah will suffice his needs, protect him, and guide him in his dealings.\"-Umar Ibn KhattabUmar replied, “we are people who have been given respect because of Islam & therefore do not wish any substitute.”If you ride a Turkish horse and wear some other clothing, it would command more respect in the eyes of the Romans.1. When Palestine was conquered, a priest said to Umar, “u are the leader of the Muslims, it is not befitting that u ride a camel in here.لَمَّا قَضَى اللَّهُ الْخَلْقَ كَتَبَ فِي كِتَابِهِ فَهُوَ عِنْدَهُ فَوْقَ الْعَرْشِ إِنَّ رَحْمَتِي غَلَبَتْ غَضَبِيThere are those who simply read the Quran, & then there are those who live it.Another one who i make dua gets Hidayaah is Dr. Mads Gilbert SubhanAllah, May Allah bless him with Islam & Jannah@Muawiyaaa I like the work she's been doing especially the away she helps the muslims, she seems sincere tbh.May Allah Guide Angelina Jolie to Islam, I pray Allah gives her the Hidayaah & opens her heart to the truth...Anyways i leave you with the Advice of Rasululilah Salallahu Alayhi Wasallam \n",
      "\n",
      "\"Safeguard your relationship with Allah\"The way Allah loved Bani Israel is something to look closely into as well, even though they were the chosen people Allah sealed their heartsMusa Alayhi Sallam was the only Boss that punched The angel of death in the Eye lol he's top DON ! ❤️Musa Alayhi Sallam is honestly one of my favorite people. His story brings about so much emotions & has so much hidden gems!@laafemmefatale Yeah, SubhanAllah i think that hadith just highlights the mercy of Allah.@laafemmefatale Have you ever come across the hadith about what Jibril AS did to firaun?Goes to show us you may plan but at the end Allah is the best of planners@laafemmefatale He out did Iblees on that one tbh. AuthobililahNahh but look how Allah plans. Musa Alayhi Sallam was raised by Firaun himself, though he was a males & he belonged to Bani Israel.& How he easily said \"im your Lord most high\" LIKE he was so arrogant & beyond self centered.For instance when the Magicians said \"We believe in the Lord of Musa & Haroon\" this guy had the audacity to say \"Did i give you permission\"Looking closely at the story of Musa Alayhi Salaam you will realize that Firaun was beyond arrogant.There is a phrase that is constantly on the tongues of the Fuqaha\n",
      "\n",
      "\"ʹRepelling something is easier than removing it.\"\"Some people have passed away, but their character has kept them alive, others are alive, but their character has killed them.\" Imam Shafi’iRT @DesertSecrets: @_UmmWaqqas \n",
      "\"O you who believe! Why do you say that which you do not do?\"\n",
      "\n",
      "[Al-Saff; 61:2]RT @DesertSecrets: @_UmmWaqqas \n",
      "\n",
      "\"Most hateful it is with Allah that you say that which you do not do.\"\n",
      "\n",
      "[Al-Saff; 61:3]& with that i end my mini rant. May Allah rectify our condition & make us steadfast on His Deen!@idiopathically Lol BYE i didnt do anything...Before advising others MAKE SURE you are acting accordingly concerning what you are giving Nasheeha to.We should all Fear Allah & remember this Ayah in Surah Saf, Allah says:\n",
      "\n",
      " \"O you who have believed, why do you say what you do not do?Manners is key, hence why the Salaf spent years learning basic manners before any knowledge..And how do you expect people to take your Naseeha seriously when you ridicule people?What good are your good deeds when you are freely giving handing them out with such ease... Wallah its actually astonishing@idiopathically Lol i can't bait the person out like thatYou can have all the khayr and reminders you want, but what good is it when all you're doing is slandering & belittling the masses?And in the following ayah Allah says \"Unquestionably, it is they who are the corrupters, but they perceive it not.\"4. In Surah Baqarah Allah says \"And when it is said to them, \"Do not cause corruption on the earth,\" they say, \"We are but reformers.\"3. Because they feel like they're \"warning\" people from a certain person or path. & Wallah all that was replaying in my head were two ayats2. Then i came across tweets full of disrespect, slander, all out backbiting. And what shocks me is that they feel its okay ....1. I came across a twitter account which is seemingly full of reminders & khayr\"O people who take pleasure in a life that will vanish; falling in love with a fading shadow is sheer stupidity.\"-Ibn QayyimThe more you learn about the Deen of Allah the more you realize how much of a Jahl you really are.To listen & listen carefully to his words. He is Saadiq Al-Amin he doesn't need to swear, but he did so, so that we may listen attentivelyAlso many times we find hadiths where Rasulullah Sallallahu Alayhi Wasallam is swearing by Allah's name, it's a warning towards us to listenThe process of declaring a hadith Fabricated or even weak is so long, wallah scholars of Hadith spend months analyzing one simple hadith.RT @Ansariyya: @_UmmWaqqas @UmmEmotionLess well he might know those 3 \n",
      "But if he doesnt fear Allah then ur in trouble plenty hav ilm very f…My advice for you is\n",
      "\n",
      "Do NOT marry anyone who does not know these 3 things \n",
      "\n",
      "1. Tawhid Ar-Rububiyyah\n",
      "2. Tawhid Al-Uluhiyyah\n",
      "3. Asma Wa SifatAnd Allah knows best :DRT @TaalibJamia: Prophetic Morning Supplications/ أذكار الصباح:  http://t.co/YQEFVrQRW2@laafemmefatale  Lol im not saying it right, my ustadh explained it betterANOTHER FABRICATED HADITH:\n",
      "\n",
      "\"If the husband then takes hold of his wife's hand, their sins will fall from their fingers.\"FABRICATED HADITH:\n",
      "\n",
      "\"When a husband and wife look at each other with love, Allah looks at both of them with mercy.\"Debke is a legit work out.O you who believe if you have nothing good to say remain silent.@SeekingAjr_ @BintJamac @AbdullahMukht & Remember that the angels are writing your every move.@SeekingAjr_ @BintJamac @AbdullahMukht Block one another is even better, Fear Allah everyone know that Allah is watching you@SeekingAjr_ @BintJamac @AbdullahMukht 3. and how you addressed her just now isn't right, i think you guys should make Wudu & log out@SeekingAjr_ @BintJamac @AbdullahMukht 2. But seeing so much hostility & foul things from both sides is sad@SeekingAjr_ @BintJamac @AbdullahMukht 1. Tbh i dont know what the fitnah is about nor do i care to know, because it doesn't involve me@SeekingAjr_ @BintJamac @AbdullahMukht Yooooooo, How about you ALL FEAR ALLAH ! \n",
      "\n",
      "So much fitnah..That happiness that comes over you wen you're obeying Allah.. \n",
      "\n",
      "Sheikh Saleh Al-Maghamsi https://t.co/OSQ78qwMMXDOES ALLAH LOVE YOU?\n",
      "\n",
      "Sheikh Saleh Al-Maghamsi https://t.co/AAc7jN6cJgHe who truly relies on Allah, Allah will suffice him. This is the promise of Allah \n",
      "\n",
      "\"And who is more truthful than Allah\"-Surah Nisaaيوم العرق دروب النصر نضويهاRecord his Qiyaam for him and count his sleep as a Sadaqah from Me on him.\"- \n",
      "\n",
      "Source: Reported in Ibn Maajah... Its a Sahih Hadith2. \"Look, my angels! This is My slave! His soul is with Me and his body is before me.1. If one gets up to pray at night and his eyes are overtaken by sleep while in sujood, Allah says to His angelsI got 99 problems & Shaytaan is one.\"True patience is not to wait while knowing how much time remains, it is to be patient for however long Allah wills\"-Turab Rahimullah\"If the human knew the pleasure of meeting Allah and being near Him, he would feel grief for being distant from Him.\"-Ibn Qayyim@mariemlashari Lol 1. i wasn't trying to be funny i was being dead serious \n",
      "2. Its embarrassing as muslim women to see females act like thatBEAUTIFUL! http://t.co/qTUjAlMj2vAllah is sufficient for me.\"As a Muslim you can not Afford to waste a Single Moment of your Life.\n",
      "\n",
      "Not a single Moment.\"- Imam Anwar Al Awlaki@Assimalhakeem for soldiers? Can you elaborateSay: “Nothing befalls us except what Allah has ordained for us.\"-Surah Tawbah Ayah 51Mothers during Salah http://t.co/MlUvl2ZPTjAs a sinner this hadith keeps the hope in me alive. Hadith Qudsi number 34 http://t.co/DPmmb8OUUz@Mai1989Mai @HabibaDaSilva You're right, JazakAllah Khyar ukht@Mai1989Mai @HabibaDaSilva lol im sure i sugar coated it for the sisters imagine what A'isha or even Umar wouldve done\"Ask Allah for everything, even if it is only a shoe-lace, because if Allah does not make it easy, then it will not be possible.\"-A'isha RAلا تأس على ما فات إلى لتجتهد فيما هو آتOH MY DAYS!\n",
      "I want them http://t.co/7vBXoHR07Wقال سفيان الثوري :إنما فضل العلم على غيره، لأنه يُتقي به الله\"Every sadness will gradually diminish except the sadness over sins.\"-Hasan Al-Basri\"im not the best of you, nor am i better than you.\"\"Be kind and considerate to your woman. She is a tender flower,not a slave in the household.\"-Ali Radi Allahu AnhuGardens underneath which rivers flow.بدأ الإسلام غريبًا، وسيعود غريبًا كما بدأ، فَطُوبي للغرباء\"The people of the Qur’an are those who read it and act upon it, even if they haven’t memorized it.\"-Ibn Qayyim\n",
      "\n",
      "Source:Zaad al-Ma’aad 1/327Allahu Akbarقال رسول الله ﷺ : إن في الجنة مائة درجة أعدها الله للمجاهدين في سبيل الله ما بين الدرجتين كما بين السماء والأرض. -رواه البخاري!!!!\"O people, you must seek knowledge before it is taken away.\"-Mu’adh ibn Jabal Radi Allahu Anhu\"And protect yourselves from the Day in which you are returned to Allah.\"-Surah Baqarah Ayah 281\"Whoever has a favor done for him and says JazakAllahu khayran (may Allah reward you with good), has done his utmost to thank him.\"-Hadith2. In a Hadith Narrated by Tirmidhi and classed as saheeh by Sheikh Albaani Rasululilah Salallahu Alayhi Wasallam said:1. Why do we say \"JazakAllah Khayr\" to people that do us a favor, and what does it mean?\n",
      "\n",
      "Well.......If only we were this quick and eager to do ibadaah... http://t.co/aR5u9lSsT2Assalaamu Alaykum, is it permissible to go skydiving? @AssimalhakeemLike fam Adam Saleh isn't Yusuf Alayhi Sallam GO HOME and stop embarrassing yourself plsAll those \"hijabi\" are an actual embarrassment, how do you leave your home to welcome some off brand guy?Lol at these Hijabi fan girls. \n",
      "\n",
      "You ladies do know there's no such thing as being a groupie ya... ya3ni where's your hayaah?\"The women are not a garment you wear and undress however you like. They are honored and have their rights.\"-Umar ibn KhattabThe Best advice i was given in my life was \"Fear Allah\"\"Relief comes when you let go of what was never meant to be and find peace in what was.\"-Yasmin Mogahed“Love is a spring well that does not dry up. Its purity and sweetness increases when it is for the sake of Allah.\"- Ibn Qayyim\"Do not love the one who doesn’t love Allah. If they can leave Allah, they will leave you.\"-Imaam Shafi’i\"It's not important how live, whats important is how you die...\"-Abu Waqqas\"For everything that a slave loses there is a substitute, but the one who loses Allah will never find anything to replace Him.\"- Ibn Qayyim\"If one does not spend one’s time for Allah’s sake, then it is better to die.\"-Ibn QayyimA Muslim in sujood is more powerful than a king on his throne.\"Women will no longer be able to give birth to the likes of Khalid ibn Waleed.\"-Umar Ibn Khattab@BintJamac Stalking my Tumblr eh@BintJamac Lol peasant i didnt even see your tweet till afterward\"Fear the Duas of the oppressed.\" \n",
      "\n",
      "I pray Allah destroys these so called \"Muslim\" leader & humiliates them! http://t.co/eNraHjpMx0May Allah's curse be on all the \"Muslim\" leaders because wallahi the oppressed among this ummah curse them for their betrayal..إنـما الأعـمـال بالنيات\n",
      "\n",
      "\"Deeds are according to intentions\"\"Among the Believers are MEN who have been true to the covenant they made with Allah.\"-Surah Ahzab Ayah 23\"O you who believe! Have taqwa of Allah, and say that which is truthful.\"-Surah Ahzab Ayah 70\"The biggest problem facing Islam today is the lack of the sincere and truthful amongst those who are working for Allah.\"-Abdullah AzzamAllah knows bestA reminder to all of us sinners\n",
      "\n",
      " \"O my slaves who have transgressed against themselves! Do not despair\"-Surah Zumar Ayah 53RT @Gladd_Tidings: @_UmmWaqqas https://t.co/PE1NvkGyewIn Jannah i want to meet the two Angels on my shoulders Bi ihnililahA Meeting with Allah.. Taken from Ibn Qayyim's book Haadi Al-Arwaah Ilaa Bilaad Al-Afraah pg. 193\n",
      "\n",
      "https://t.co/ntLxhbkTShI've always been a fan of Ibn Qayyim's books but Haadi Al-Arwaah is top notch SubhanAllah.. He even describes in detail when you meet AllahAfter reading Haadi Al-Arwaah you will really start to consider Jannah your home, & get extremely home sick just yearning to go!@HunnaDave Umm i will try to find more lectures for you based on that book@Gladd_Tidings It actually make you hate the dunya, it makes you really yarn for Jannah.A sign that your ibadaah throughout Ramadan was excepted is if you continue to do good, and are still strong in ibadaah.. \n",
      "\n",
      "Self reflect@HunnaDave Lol this is a lecture based on part of the book, i think i once share it with you ... https://t.co/iHFNBqOeVL@Gladd_Tidings Its in Arabi but you can find bits of it thats in English also Lectures based on the book...@HunnaDave Its a whole book just talking and describing Jannah into details, its daily activities etcThe way he describes Jannah from the moment you enter it, to when you meet Allah, When you meet the Hoors, your homes EVERYTHING IS PERFECTOThe best iman booster aside from the Quran itself has to be Ibn Qayyim's book Haadi Al-Arwaah Ilaa Bilaad Al-Afraah...@TaalibJamia https://t.co/orrDE4bUA2 peasant@laafemmefatale You missed out on great group of Brothers May Allah grant them Jannah..\"And let the competitors compete.\"@abu_baghdadi No i didnt wallahi, ANY type of Khayr is from Allah ALONE@abu_baghdadi :/ i didnt do anything...\"So rush to Jannah for indeed it is your original home, and in it is a place of rest.\"-Ibn QayyimYou guys these people are chill in Jannah Bi ithnililah whilst we are still stuck in Dunya struggling with Fajr salah... CRY FOR YOURSELFWhenever i come across the hadith about those whom Allah loves wallahi i always think of Turab. SubhanAllahDon't cry for a Martyr that smiles 💚Wow you guys really know how to make people cry, FGS  😩 \n",
      "\n",
      "Mus got me so emotional\"Allah does not betray the hopes of those who hope and does not cause any effort to go to waste.\"-Abu Muhammad Al-Maqdisi\"Certainly no one despairs of Allah’s Mercy except the people who disbelieve.\"-Surah Yusuf Ayah 87\"And whosoever puts his trust in Allāh, He will suffice him.\"-Surah Talaaq Ayah 3“……and your Lord will open a way for you from His Mercy and will make for your affair easy for you.”-Surah Kahf Ayah 16@AbuKhatttab I know you can get it online\"The believers does not despair of the Mercy of Allah even if they are surrounded on all sides by disaster and severe hardship.\"-Sayyid QutbSurah Duha is the cure for the lost soul, confused mind, and the broken hearted.@KhilafahAl FGS Lets focus on their good for a second lol\"Ya Muhammad Allah will not disappoint you concerning your ummah.\"- Jibril Alayhi Sallam \n",
      "\n",
      "Hadith found in Both Muslim & Bukhari\"Oh Allah My Ummah, My Ummah\"-Rasululilah SAW would cry every night just repeating that... \"My Ummah, My Ummah\"Somalia is known to be the land that produces the most Hafiz of Quran...\"Umm....yeah...this dunya thing doesn't really work for me...\"I wouldnt mind having him as my imam, SubhanAllah his recitation is so soothing https://t.co/xZE6gQln36Learn the basic rights that other muslims have upon you, wallahi thats better for you than all of these PETTY arguments.Don't die with the possibility of have harming another muslim with your actions. You dont want that burden on the day of judgmentWhat Evil are you forbidding? Rather you are contributing more to it, and this is a reminder to myself first. Fear Allah, wallahi Fear AllahHow you guys treat people is so wrong, and you guys dont even see any harm or error because you guys feel you guys are \"Forbidding the evil\"People hate the Dark side for always attacking others & ganging up on them yet you guys stay doing the same thing.. How are you different?When as it ever been okay to attack & humiliate other muslims? Have you forgotten Surah Hujjarat, basic islamic edicts is what we lack.What \"Muslim twitter\" lacks is Adab and Akhlaaq...people are forgetting something extremely important and thats the rights of other Muslims@keepzia Alhamdulilah im from Ahlul SunnahYou guys dont understand how much i love Umar & A'isha.. I have so much Gheerah towards them.To Umar ibn Khattab this ummah meant more to him than his life.. He is the definition of a REAL MUSLIM LEADER.Umar Ibn Khattab would even take care of the Jews & Christians that lived in the borders of the Khalifah especially those of old ageUmar ibn Khattab RA as a Khalifah wasn't known to the ummah at large, but he would make sure everyone was taken care.Idrees Abkar's poem dictated to Amir ul-Mu'mineen Abba Hafs Radi Allahu Anhu https://t.co/prxw3PtuM5Remember the poem i tweeted last night About Umar Ibn Khattab RA by Idrees Akbar but it was in arabi, someone linked me it w/English subsI think im starting to get obsessed with Umar Ibn Khattab Radi Allahu Anhuhttp://t.co/aPkCsxsEGL is the best website to visit for things such as Books, lectures, videos, Reciters, Reminders.. i highly recommend itThis just killed me http://t.co/Yjfyj9TNFC\"While your people are getting slaughtered\" 😩\n",
      "\n",
      "Wallah that cut my heart wideThose who correct you truly care for you... May Allah bless themWord word word http://t.co/ksddpfmzIy@SimplyIkran Finally you agree Feminism Fi DedI wonder if our kids will be of those that say \"they used to hear people saying la ilaha illa Allah\"I wonder how many people from twitter will fall into the trap of the Dajjal?Oye shias who curse Umar, Uthmaan & Abu Bakr dont you know they were PROMISED JANNAH!\n",
      "\n",
      "DIE IN YOUR RAGE@amirr_8 @SayedAunHaider @Mrgreatful1992 Lol when you have no proof to back you idiotic logic you want to throw around accusation...Ali Radi Allahu Anhu had love & Mutual respect fro Umar, Uthmaan & Abu Bakr May Allah be pleased with them\n",
      "\n",
      "Die in Your Rage Shias who curse@amirr_8 @SayedAunHaider @Mrgreatful1992 Any way listen to this https://t.co/jCyL4zDbR6@amirr_8 @SayedAunHaider @Mrgreatful1992 Lol you do know that is the Seal of the Prophet SAW... He SAW wore a ring similar to that@amirr_8 @SayedAunHaider @Mrgreatful1992 Lol are you denying he didnt name his kids after them, because if you are this conversation is over@SabzUllah69 Meaning slaves who they've married..@amirr_8 @SayedAunHaider @Mrgreatful1992 Yet Ali RA named his kids Umar, Uthman & Abu Bakr Food for Thought@amirr_8 @SayedAunHaider @Mrgreatful1992 Lol yet you guys still curse? Hmmm you do realize there people were promised Jannah by Allah?RT @amirr_8: @_UmmWaqqas @SayedAunHaider @Mrgreatful1992 Us not doing it publicly is to respect your views of those certain personalities.RT @amirr_8: @_UmmWaqqas @SayedAunHaider @Mrgreatful1992 We cure the enemies of the Rasool, and his bayt. Us not doing it publicly is to av…@SayedAunHaider @amirr_8 Lol you guys curse people who are promised Jannah Allahu Mustaan...@amirr_8 @Mrgreatful1992 Do you have an ijazaah for tasfeer of Quran or not?@amirr_8 @Mrgreatful1992 And there are many hadiths that say it HARAM@amirr_8 @SayedAunHaider @Mrgreatful1992 Lol \"Publicly\" so to curse is okay as long as you're not heard?@amirr_8 @Mrgreatful1992 LOOOOOOL where is your ijazaah to make this claim? What about Ayah 7 of that surah? dont transgress your limits@SayedAunHaider @amirr_8 Why did Allah allow men to marry up to 4 women if they choose? it was to safeguard them....@amirr_8 @Mrgreatful1992 i dont take from Shias.... This guy cursed my Mother A'isha Radi Allahu Anha so yeah NO THANKS@amirr_8 You are picking and choosing hadiths. what about the one where he clearly forbid it? Not only that read Surah Mu'minoon ayah 5-62. But whoever seeks beyond that, then those are the transgressors.\"-Surah Mu’minoon Ayah 5-71. \"And those who guard their chastity Except from their wives or that their right hands possess, for then, they are free from blame@amirr_8 In what cases is Mu'tah marriage acceptable WHEN Rasululilah SAW himself made it haraam?@amirr_8 @Mrgreatful1992 Lol may Allah guide you mate. idk how you think Mu'tah is acceptable@amirr_8 @Mrgreatful1992 @_yadunya http://t.co/1Qmgfh3XYFMu'tah Marriage... \n",
      "\n",
      "http://t.co/1Qmgfh3XYF@amirr_8 @Mrgreatful1992 @_yadunya Mu'tah marriage is haraam..@fazie_90 Lol its the Seal of the Prophet Salallahu Alayhi Wasallam@Mrgreatful1992 @_yadunya Ali said to Ibn Abbas : \"The Messenger of Allah forbade Mut'ah an-Nisa on the day of Khaybar.\"@Have_tawakul FGS shhhh lol@McHappyPants__ Lol sucks for him init@Have_tawakul what about they just become rings that we exchange :/Our future wedding bands ya3ni \n",
      "\n",
      "Piff tingz http://t.co/R7wWhNXBzy\"Fear Allah, for whoever fears Him will never feel lonely.\"-Umar Ibn KhattabStudy at the feet of the scholars!\n",
      "\n",
      "Not everyday be a layman with baseless opinions..\"The Qur'an & music cannot exist in the same heart.\"-Ibn QayyimLook for a friend with these qualities:  \n",
      "\n",
      "1. Intelligent  \n",
      "2. Good character  \n",
      "3. Piety\n",
      "4. Knowledge \n",
      "5. ZuhudMore than 50% of todays Ummah are under the age of 21!@SimplyIkran The hadith is correct fabricated, but the meaning it correct...@_UkhtHasna Where are you from? And subhanAllah may Allah raise Ahlul Sunnah2. The dunya runs after him. But I have not found anyone who works for the dunya ever get any piece of the Hereafter.\"- Hasan Al-Basri1. \"O People! Work for the Hereafter. For indeed I have seen in my life, anyone who works for the Hereafter also gets the dunya.@_UkhtHasna Lol keep me in your duas & allow it with all the formalities we share a beautiful sisterhood :P@_UkhtHasna SubhanAllah im actually speechless@_UkhtHasna May Allah keep you happy ukht (sincerely mean it)@Assimalhakeem What about that all girls university in Yemen sheikh? And i heard Umm AlQura was only secular education not islamic?RT @Assimalhakeem: @_UmmWaqqas Umm Alqura and Imam Mohammed Ibn Soud university. I don't recommend Noura university@_UkhtHasna We need more women Ulema tbh\"I wish you knew what I have in my heart for you, but there is no way for you to know except by my actions.\"-Umar ibn Khattab@_UkhtHasna May Allah & His angels love you ukht@_UkhtHasna Really my friend never mentioned it, hmm ima look into it. But i just like that school so many opportunities tbh@_UkhtHasna What are you crazy? im a nobody@_UkhtHasna Its an all girl uni which everything is paid for, but idk i never heard that one before tbh. My friend attends that school@_UkhtHasna Lets both make dua Allah grants us what we seek :DRT @_NurAlaNur: @MeidyaYuda @_UmmWaqqas \"The caliph and the orphans.\"\n",
      "\n",
      "http://t.co/HTvNxgKQzF — Here you can find it in English.\"Among you are some that desire this world and some that desire the Hereafter.\"-Surah Imran Ayah 152I cried too wallah the Nasheed is so deep.RT @_NurAlaNur: @_UmmWaqqas This got me in tears..@Al_Muhajiroun Your options stink. you can't talk about the custodian of the two Haraams like Zat, make dua for our awesome rulers@Al_Muhajiroun He is wali ul Amr how dare you -.-I got emosh can't even lie.. \n",
      "\n",
      "A Nasheed dedicated to Umar Ibn Khattab RA by Sheikh Idrees Akbar https://t.co/OoeDMNf66o@Ahl_al_Dhikr Listen to the poemA poem that made Imam Ahmed Cry..\n",
      "\n",
      "https://t.co/GOMY5fQvpaAl-Haa'iyyah \n",
      " \n",
      "An amazing poem about the correct Aqeeqah we should have... Poem was originally by Abu Dawud \n",
      "\n",
      "https://t.co/6oNnVvccgGAssalaamu Alaykum, What Islamic university for women would you highly recommend other than Princess Nour? @Assimalhakeem@Al_Muhajiroun Lol Usama ibn Zayd was only 18 years of age ya3niHaadi al-Arwaah ilaa Bilaad il-Afraah by Ibn Qayyim, pg. 193\n",
      "\n",
      "Best read hands down\"And if you ask about its towers, then they are rooms above rooms in buildings that have rivers running underneath them.\"\"And if you ask about the clothing of its inhabitants, then they are of silk and gold.\"\"And if you ask about what they will be hearing, then it is the singing of their wives from among the Hoor Al Ayn.\"\"And if you ask about their servants, then they are young boys of everlasting youth who resemble scattered pearls.\"\"And if you ask about their drinking cups, then they are crystal-clear and made of gold and silver.\"\"And if you ask about their drink, then it is Tasneem, ginger, and Kaafoor.\"\"And if you ask about their food, then it is fruits from whatever they will choose, and the meat of whatever birds they desire.\"\"And if you ask about its trees, then it does not contain a single tree except that its trunk is made of gold and silver.\"\"And if u ask about its rocks, then they are pearls & jewels.& if u ask about its buildings, then they are made of bricks of gold & silver.\"\"And if you ask about its ground and its soil, then it is of musk and saffron. And if you ask about its roof,then it is the Throne of Allah\"\"For those who fear [the time when they will] stand before their Lord there are two gardens.\"-Surah Rahman Ayah 46@Mrgreatful1992 You should sit with a scholar to understand these issues, our knowledge capacity isn't up to that levelHasbunAllah Wa Ni'mal Wakeel http://t.co/UjvDnhtkCI@MariamTalks @YaqutWalMarjan_ Go ahead and show the DMs Allah is my witness I meant no harm just trying to ease the fitnahI approached you in a respectful manner, the least you could've done was @ me... Allahu Mustaan! \n",
      "\n",
      "@MariamTalks @YaqutWalMarjan_\"The true prisoner is the one whose base desires have imprisoned him.\"-Ibn Taymiyyahرَبَّنَا هَبْ لَنَا مِنْ أَزْوَاجِنَا وَذُرِّيَّاتِنَا قُرَّةَ أَعْيُنٍ وَاجْعَلْنَا لِلْمُتَّقِينَ إِمَامًاI miss my home in Jannah...@BintAbdullah_ Anything Khayr is always from Allah, and the rubbish is from me & shaytaan. im glad at least one person has benefited from meJust a reminder.... http://t.co/pCeV1p2KGqDo all you Umm Nusaybahs even know who Nusaybah Bint Ka'b RA was?\n",
      "\n",
      "No? Yes? Only bits?\n",
      "\n",
      "Learn her story here... http://t.co/9VdOqmRltlSurah Tawbah is one of my favorite Surahs in the Quran tbh, so many lessons & Gems to take from & The way Allah's tone is, is just PERFECTONothing better than reading the Tasfeer of the Quran to understand the Ayahs. May Allah bless Ibn Kathir with Jannah!Allah is so stern in His warning and direct threat towards the Muslims with that Ayah. SubhanAllahThe harshest verse in the Quran is in Surah Tawbah, it was not only directed toward the Sahaba but also EVERY SINGLE MUSLIM THAT CAME AFTER!My Eid day part 2 was amazing.. \n",
      "\n",
      "am i the only that celebrates Eid 3 days instead of one?Honestly LOL @ anyone who takes @SimplyIkran's trolling serious.. i LAUGH tbh when i read her sessions, hence why i go on her page at timesim yet to figure out how people take you serious tbh. You don't even believe half of the things u say yet people throw gaskets @SimplyIkranLOOOL @SimplyIkran is twitter's biggest troll & she knows it 😂😂@DroopDelaCreme lol it was on @SimplyIkran's BioPeople who feel they can speak about EVERY aspect of the Deen need to start posting Ijazaah certificates online... im seriousLol when uneducated yutes decide to speak & are given a center stage platform the results are only disastrous... Allahu Mustaan\"If the human knew the pleasure of meeting Allah and being near Him, he would feel grief for being distant from Him.\"-Ibn QayyimLook at what happens to the Egyptian Prime Minister Ibrahim Mahlab when Surah Ma'idah ayah 33 is recited.. \n",
      "\n",
      "https://t.co/sxzXSziEGN\"If I die tonight, donate all of my organs to those in need. Except for my middle finger, give it to the leaders of the Arab world.\"RT @BananaAndRiceP2: Listen to mowlana rowdah. I've never made a sublimation in qiyamul layl that hasn't been answered alhamdulilah. Don't …The Duas made to Allah during Qiyyam Layl does not go unanswered. So be wise make it a habit wallah you will succeed in this life & the next30 days of praying night prayers, In Shaa Allah perhaps Qiyaam Layl won't be difficult for you to pray..Uhibbuki fii-llah. You are stunning tbh TabarakAllah :D \n",
      "\n",
      "You're are amazing truly Muawh @ZatHijabiRT @ZatHijabi: looovee this girl. may Allah bless her fil dunya wal akhira \n",
      "\n",
      "@_UmmWaqqas ♥\"My sins burdened me heavily, but when I measured it by Your forgiveness, Lord, Your forgiveness was the greater.\"-Imam Shafi'iAnywho since this shaytaan site refuses to let me deactivate i will be way less active, keep me in your Duas.. \n",
      "\n",
      "I hope you all enjoy Eid@BintShaheed : D je bent uit Nederland?True were the words of Umar Ibn Khattab Radi Allahu AnhuRT @_ShoaibJaved: If you're indulging in haraam activities on Eid, you're not celebrating Eid, rather giving Shaytan a welcome back party.No one is above being corrected whether its a Niqaabi, Sheikh, Scholar or even your own mother... This Deen is Nasheeha@ZuhaibIzhar Taqabal Allah minna wa minqum... Have a blessed day with your family & loved ones!Why do Niqaabis doll up their eyes like Fam you've lost the plot ya know... You're more fitnah than the chicks with bright pink JilbabsJust because it's Eid doesn't mean you throw away your modesty, simple is better. Fear Allah & correct your intentions folks!RT @bintdad__: It's eid not ya dad's weddingI don't beleive in the term \"best friend\" neither do I believe in the fake idea of \"love before marriage....\"Tryina convince my mom to send my brothers to boarding school in Yemen. Lol she's not about that life though :/Eid Mubarak! \n",
      "\n",
      "I love you @CiaoBella_MaiShaytaan Fi Dead... \n",
      "\n",
      "You can already tell the sucker is out & about!30 Days Of Fasting + 6 Days of Shawwal = Reward For Fasting All Year.\n",
      "\n",
      "-Sahih MuslimEid Mubarak from the Netherlands :D\"Eid is for the one whose sins are forgiven.\"-Ibn Rajab \n",
      "\n",
      "Source: al-Lata´if, p. 371\"Eid is not for the one who wears new clothes. Eid is for the one whose obedience rises.\"-Ibn RajabAnd to those brothers that always stand out side the prayer area just to check out girls, yeah FEAR ALLAH & CORRECT YOUR INTENTIONS.@augen_ihre Scholars such as Shafi'i believe if a girl is extremely beautiful it becomes Fardh for her to wear NiqaabTo those sisters that come out all dolled up just to impress a guy should also Fear Allah, Ukht every neck you break is a sin upon youThis is a sincere advice from me, fear Allah and cancel your plans. That movie date or dinner date is not worth it.3. Wallah, you will be rewarded if you forsake you plans to hangout with that person solely for Allah's sake.2. 30 days of fasting, night prayers & constant ibadaah to Allah, don't throw away that hard work for someone who will only drag you down1. ThIs is a message for those who plan on hanging out with their \"boyfriends/girlfriends\" tonight\n",
      "\n",
      "FEAR ALLAH\n",
      "\n",
      "ZINA IS NOT WORTH JAHANAMRT @fazie_90: Eid in the west is nothing compared to Eid in The Land of tawheed 🙌💯Eid in the west is nothing compared to Eid in Bilad Al-Haramain tbhRT @BintFood: Eid in the west is nothing compared to Eid in a place like Egypt.1.Whenever i hear the Eid Takbeer i think about Rasululilah SAW wearing his black turban riding a horse with the Rayat al tawheed beside himEid Takbeer... \n",
      "\n",
      "https://t.co/Ikk4elMTwr\n",
      "\n",
      "Remember to say it whilst walking to Eid salah!I leave you with this... \n",
      "\n",
      "\"Sins make the face ugly.\"-Ibn TaymiyyahSisters please fear Allah this Eid, no over the top make up pls & cut it down with all that perfume...   \n",
      "\n",
      "Not everyday be fitnahThe Sunnah of Eid... http://t.co/EtZl7YWhTd\"And Allah is able to do ALL things.\" http://t.co/565Ap00OBHMood.... http://t.co/OCV2fYUCYMHalf of us may be in our graves before the next ramadan approaches again..Don't forget about the 6 days of Shawwal :D So much barakah in fasting those days@shaytansoutlaw @Ayaashax_ Yeah they announced it already ukhtEid Mubarak to those who started Ramadan on Saturday... May Allah accept it from you all !RT @AbooMuslim: Official: Eid has been announced as tomorrow, Monday 28th July 2014 here in Madeenah, Saudi Arabia. Eid Mubarak. TaqabAllah…Eid has been announced....\n",
      "\n",
      "Eid will be tomorrow, Monday July 28th,20143 qualities are from patience:\n",
      "\n",
      "1. Not speaking about ur misfortune\n",
      "2. Not speaking about ur pain\n",
      "3. Not praising urself\n",
      "\n",
      "Al-Hilyah, 6/3892. He said, \"Woe to you! I have looked at nothing but my toe from when I went out to when I returned to you.\"\n",
      "\n",
      "Source: Kitab Al-Wara1. Hassan ibn Abi Sinan went out one Eid and when he returned home his wife said, \"How many beautiful women have you looked at today?\"We went out one Eid with Sufyan Al-Thawri & he said, \"The first thing we will do on this day of ours is to lower our gaze.\"\n",
      "\n",
      "-Kitab Al-WaraRamadan is over.... \n",
      "\n",
      "Have you benefited yourself & changed?A'isha Radi Allahu Anha is perfectoIt was only right that the last day be about A'isha Radi Allahu Anha, she's someone i personally look up to in so many aspects in life...Alhamdulilah im done with the Sahabiyyat series, May Allah make this a source of benefit for you guys & may He reward me for my efforts :DSahabiyyat Series: Ummul Mu'mineen A'isha Bint Abu Bakr Radi Allahu Anha http://t.co/9agPr5z0os\n",
      "\n",
      "Wallahi i love her Feesabililah <3\n",
      "\n",
      "MY HERO\"A life full of sins results in a world full of sickness.\"-Ibn QayyimYour outlook to everything in life should be..... http://t.co/tGOfd31OPgThe history of North & East Africa is enriched with Islamic history & arab roots.. Our Deen is ONE & our LAND IS ONE :DAlhamdulilah for Amr ibn al-Aas Radi Allahu Anhu & the rest of the Sahaba that invaded egypt & surrounding countries...\"If they destroy your Masjids raise the call to prayer from our Churches.\" -Bishop of Gaza, Father Manuel.RT @MustafaSuliman7: Hey future wife...if you're snapchatting wa7ad thani, biddi divorce min hala2. Tisba7i 3la 5er.I am intrigued by the smile upon your face,  and the sadness within your eyes.Our life is just a matter of days.SubhanAllah just yesterday we were wishing each other \"Ramadan Mubarak\" & now we are saying \"Eid Mubarak\" \n",
      "\n",
      "Sign of Yommul QiyamahI leave you with the words of Umar...\n",
      "\n",
      "\"Hold on to your prayers because if you lose that you lose everything else.\"-Umar Ibn Khattab RA\"Verily, there is no share in Islam for whoever abandons the prayer.\"-Umar Ibn KhattabWhen the other side of Muslim twitter views this side of twitter they be like.... http://t.co/Mn0ZdltnFK@RanadSheikh Hilary Swank@RanadSheikh How can we forget about Ranad, you're too prestige for these peasants tbh\"You should be bold in your aspiration, firm in your resolve, and not swayed from your goal by the blame of the blamers.\"-Ibn Qayyim@panadriam Cries don't get me depressed about the century i live in@MannWaSalwah Did Abu Khalid consent to this kunya 👀👀@panadriam Same then i try to imagine Rasululilah SAW on a horse wearing his black turban & those around him carrying the Rayat Al-Ttawheed\"I am only a follower & not an innovator. If I remain steadfast, you should follow me and if I go astray, you must correct me.\"-Abu Bakr RAI have a wild imagination i know dis.The Eid Takbeer is always soothing & iman boosting, for some reason i was think about when Mecca was conquered & imagine im thereWe are an ummah of action, don't expect something to happen for you without SEEKING it first... Lets not sugarcoat hadiths to fit our needsWhen you realize you're too old for 3edeya is when depression hits. I use to make loads of money Eid now i don't even get a cent :(Allah makes a way out for those who have Taqwa.SubhanAllah... :( \n",
      "\n",
      "May Allah accept him into Jannah.@UmmSulaym19 Pretty much lol, they were messed up in the head when they tried to dishonor & slander A'isha Radi Allahu AnhaTo be honest this is just the bare minimum theres way more similarities, but the 140 limit only coved those i just mentionedExample:\n",
      "\n",
      "Shia Mahdi:\n",
      "\n",
      "Lives in a cave\n",
      "Jewish decent \n",
      "Resurrects then kills\n",
      "\n",
      "Dijjal:\n",
      "\n",
      "Lives in a cave \n",
      "Jewish decent\n",
      "Resurrects then killsThe Mahdi for the Shia's is really the Dijjal, no banter here the similarities between the two is too much to ignore..Sahabiyyat Series: Ummul Mu'mineen Khadijah Bint Khuwaylid http://t.co/cInuLpGgXvI can't express to you how cute I find this picture jkhisnwbsjnakabzhsbs http://t.co/3jYgwBtn6W@augen_ihre You have a lot more rights in Talaaq... Like culture aside, the issue of talaaq assures the women is taken care of all the way\"Do not despair due to the events of the past, for the events of this world were not meant to last.\"-Imam Shaf'iRT @GuiltyMuslim: Out of every 10 sisters ,only 1 wears the Hijab properly.Hijab is not a scarf its a UniformHIS RECITATION IS BEAUTIFUL! \n",
      "\n",
      "Moutasem Al-Hameedi https://t.co/vaJimWviYF\"The reason behind praying Eid outdoors is to show the strength of the Muslims and Islam.\"-Sheikh Fawzan   \n",
      "\n",
      "Al-Mulakhas al-Fiqhī, 1/211im 161.544 centimeters & proud 😏Piety has 3 Levels:\n",
      "\n",
      "1. Protecting the heart from sins  \n",
      "2. Protecting yourself against undesirable matters \n",
      "3. Protection against curiosity3 rivers that the people of sin purify themselves with:\n",
      "\n",
      "1.A river of repentance\n",
      "2.A river of good deeds\n",
      "3.A river of calamities\n",
      "\n",
      "Ibn QayyimSahabiyyat Series: Ummul-Mu'mineen Hafsa Bint Umar Ibn Khattab Radi Allahu Anha \n",
      "\n",
      " http://t.co/tlUVJcPYGD@RanadSheikh Muawh... May Allah bless you Ranad@RanadSheikh It wasn't only u, so man people were dropping comments. Not realizing its still Ramadan, we all had our share in this fitnahThe fear of Allah has left our hearts.& To those that drop racial slurs at an ethnic group whether its \"Nigger\" or \"Sand nigger\" its actually disgusting & you lots need adab tbh.Those who are not concerned with the affairs of the Ummah are not from them, those are NOT my words but those of Rasuluililah SAWNahh wallahi thats some sick mentality you got going, i hope Allah cures you for your illness quick!im actually shocked at people's behavior, how do you as a \"muslim\" gloat at the pain & suffering of others just because they're \"arab\"@IbnEnu IGNORAMUS@BintFood I weigh 8 stones@IbnEnu LOSERأعوذُ بِٱللَّهِ مِنَ ٱلشَّيۡطَٰنِ ٱلرَّجِيمِ@AbuBakrHijaz Better choice of words ya know...@AbuBakrHijaz It was the \"Nigger\" bit ....@CaptivatingDeen i said \"Iftar & sahoor won't cook itself\" & \"men & women can never be equal\" wallah my mentions died@CaptivatingDeen The killed my mentions 2 nights in a row@VZohery They're every bit of awesomeness@AbuBakrHijaz @CaptivatingDeen Allow it with this \"Nigger\" stuff ... thats actually offensive to a lot of people@justice981 Nahh im nothing tbh... I like where i live & i support my country...@justice981 Mars@justice981 I like where i live tbh@MannWaSalwah Oh yeah i forgot about Saad tbh Radi Allahu AnhuWith Ramdan only 3 days away.. I've decided to dedicate the last 3 Sahabiyyat series to Ummahat Al-Mu'mineen!Sahabiyyat Series: Asma Bint Umays Radi Allahu Anha http://t.co/nfv1akYlKJWhen will girls learn putting your awrah on display doesn't gain u respect rather u are treated like a piece of meat walking the streets?@IbnEnu i haveMake dua that Allah gives Hidaayyah to those in our families who are not yet practicing...@TheAbFro Allahumma inni As'aluka Al Jannah.. \n",
      "\"Oh Allah grant me Jannah\"\n",
      "\n",
      "Say this 3 times & Jannah says “ Oh Allah enter him into Jannah\"@TheAbFro \"Oh Allah return Masjid Al-Aqsa to the muslims.\"\n",
      "\"Oh Allah rectify the affairs of the muslims in Palestine.\"@bintdad__ I wub you Fillah@bintdad__ Add me yaWa waffiq jami'a wulata umuuril-muslimeena lil amali bi kitabik2. Reason being is because you're invoking Allah in your duas. Many people make this mistake, nothing bad just more better to say \"Ya Allah\"1. You know in the Qanood duas when the imam is calling out Allah's Names its best we say \"Ya Allah\" instead of \"Ameen\"Allahumma a'idil-masjidil-aqsa ila rihabil-muslimeen\n",
      "\n",
      "Allahumma aslih ahwaalal-muslimeena fi filisteenاللهُمَّ أَصْلِحْ أَحْوَالَ المُسْلِمِِينَ فِي فِلِسطِينَاللهُمَّ أَعِدِ المَسْجِدَ الأَقْصى إِلَى رِحَابِ المُسْلِمِينَRT @Abdo_675: UAE provided Iftar for ppl in Masjid AlAqsa...People refused to eat the meals in protest over UAE's stance over Gaza http://t…@ImMisterD Its about dignity tbh.Shout out to those in Al-Quds who refused to eat the iftar that UAE provided... Due to UAE's stance on Gaza@ThatZaid SHHHHHHHHHHH no one realized it\"Thou shall not bring fitnah to twitter or Instagram with crazy selfies this Eid.\"-Umm Waqqas \n",
      "\n",
      "Source: كتاب تذكيرSadaqa Jariya is the way forward.@ibnaarif93 Lol twitter can be a means of down fall though, like depending on your intention if your tweets don't match you, your in trouble@ShogunSupps Thank you for all these ideas.. Errrm you get partial of the Ajar as well huh@ShogunSupps He's smart, now he's stacking up on loads of Ajar for how man ever times you read from it...But most importantly make dua for this Ummah because we all need to see better changes... From Gaza to Burma we are ONE !North America residences Make dua for me before you breakfast pls... \n",
      "\n",
      "Europe & Asia residences please make dua for me during Tahajjud..Ramadan is over in 3 days & im like https://t.co/8bYCy3KBsk@augen_ihre Team Fazza3 duh i have it all planned out ya knowSubhanAllah ramadan is almost over 3 more day left In Shaa Allah.. \n",
      "\n",
      "Now comes the real question, have you benefitted yourself this Ramadan?RT @NiamhDeGaichia: “@_UmmWaqqas: im i the only one thats working on Eid?” Noo I'm with you sister 😞@augen_ihre Peasant that money isn't going to make itselfim i the only one thats working on Eid?@yellowwdiamonds I put you on huh... Thank me later :pThou shall lower thy gaze this Eid...My name is Mother of Waqqas i live on Mars & i #SupportGaza@BintFood Just reminding you ugly@BintFood You can't forget me, we are FAMILY! Make dua for me alsoWe women are more than just housewives look towards the sahabiyyats & you'll see & realize that..  \n",
      "\n",
      "Had to set the record straight ya@augen_ihre FGS i can't even retweet you@augen_ihre PeasantBy the way Ladies.. \n",
      "\n",
      "All of those women tweets WERE JOKES... I DO NOT HOLD THAT OPINION ABOUT US WOMEN WHATS SO EVER!I don't want to die later realizing i have violated the rights of a muslim MILES away ya know that'd just be major peak !Forgive me for the Sake of Allah if I've hurt you & if you want a public apology @ me & if its personal my DMs are always free@JAtweets_  \n",
      "Anbiya\n",
      "Imran\n",
      "waqiya\n",
      "Rahman\n",
      "Qiyamah\n",
      "Tawbah \n",
      "Nisaa \n",
      "Isra \n",
      "& MaryamMaghrib Sky.... http://t.co/PdtlUVuEWW@panadriam May Allah protect us from listening to false claims made by the Kuffar@JAtweets_ Yeah i would, honestly Its all about the tweets & the benefits you're getting from that person i.e Reminders, news, humor etc@panadriam It was fake news all alongOur next generation \n",
      "\n",
      "https://t.co/KzuKcfLzrqI don't think he likes his mom :/  https://t.co/7v7bjG4Weq via @vineapp@_Only1M Umar ibn Khattab said “Nothing will rectify the latter part of this Ummah except which rectified its first part.”@_Only1M We live in a society that believes Money is the answer to everything\"Can we just talk\"😩https://t.co/0mrGwCFnp9@CiaoBella_Mai Cleaning lol the usual@CiaoBella_Mai Sister :Dالصبر ديننا وإيمانناKeep me in your Duas much appreciated & very much needed.. You can also benefit perhaps \n",
      "\n",
      "In Shaa Allah@Balochi__ Beauty tips girl it works@Assimalhakeem JazakAllah KhayrHey @striving_ukht we can use Snail Gel on our face... Sheikh Assim Hakim said \"It seems permissible.\" \n",
      "\n",
      "Lets order it yaRT @Assimalhakeem: @_UmmWaqqas it seems permissible.@AbdonnyAG It could be that Allah was giving you glad tidings through them. And Allah knows best@AbdonnyAG Thats also a good sign..Hence why Uthman Ibn Affan Radi Allahu Anhu would always cry when he would hear mere mentions of the grave.@TheAbFro Read the book i linked@bintdad__ Looking into the Life of the Barazaq closely via books & lecturesWhen you learn about the punishments of the sins you commit,you realize none of them are worth the tortures you will go through in the graveI feel sorry for those who slander, do Riba & commit zina though, SubhanAllah their punishments are beyond painful even describe.Punishment for lying:\n",
      "\n",
      "A iron hook will be placed in your mouth & they will pull till it reaches your neck...Punishment for those who learn the Quran & refuse to act accordingly:\n",
      "\n",
      "A man stands over you with a huge rock & smashes your headRead this book \"The grave; punishments & blessings\" By: Husayn Al-Awayisha \n",
      "\n",
      "http://t.co/tbze1ldEOJRT @yonis_east: This is what happens to those who do not pray.when he died his face turned dark and they found a snack in his grave. http:/…RT @AbooMuslim: The month of Ramadan is determined to leave and there are but a few days left of it remaining\n",
      "\n",
      "Read | Learn | Share http://…@_Only1M Lol you're talking about Hijaabless pictures, fam i refrain from posting selfies, you never know where they may end upPleasant dreams Bi ithnillah they come true\"Sin is whatever the heart is not comfortable with.\"-Ibn Qayyim@QueensOfJannah1 @Saira1Ummah \n",
      "\n",
      "The letter was well written May Allah reward the sister. & im doing well ukht how are you my darlingMore women like this pls\n",
      "\n",
      "\"@QueensOfJannah1: A letter from a Muslim sister to the media\n",
      "\n",
      "Alhamdulillah Please read\n",
      "\n",
      "https://t.co/DvM5fe00SB\"\"If the heart becomes hardened, the eyes become dry.\"-Ibn Qayyim@ishmail_ I keep saying Yommal Qiyyamah is close.That video actually touched my heart. May Allah grant him Jannah, & us righteous kids..Imagine wearing a Niqab or Burqa & your daughters slowly following in your footsteps, proud parent moment tbh.My future daughters In Shaa Allah... \n",
      "\n",
      "Burqas are the way forward tbh http://t.co/lvhpDVNgjCالصبر هو شفاء في كل شئOur struggles only make us stronger in the end, and our trails only strengthen our faith in Allah, like never before.الْحَمْدُ لِلَّـهِ الَّذِي هَدَانَا لِهَـٰذَا وَمَا كُنَّا لِنَهْتَدِيَ لَوْلَا أَنْ هَدَانَا اللَّـهُUnless you've made it through the Doors of Jannah & you can call yourself \"Ahlul Jannah\" there's no need to be prideful...At the end this is the harsh truth, being somali isn't nothing to be proud about neither is being Arab or Desi...\n",
      "\n",
      "Islam is our prideWe then adopted nationalistic views into thinking one imaginary border is better than another...We muslims use to be ONE, then came 1942 & our lands were split up by Britain and FranceSomalia doesn't belong to only Somalis, Al-Hind doesn't belong to Desis, jazirat al- Arab doesn't belong to Arabs..\n",
      "\n",
      "Its the Land of AllahGlad tidings to those who wait patiently and complain only to Allah.Be grateful to Allah that He has chosen to elevate you through tests and trials.@IbnEnu @SimplyIkran People are coming off strongly at her, & theres more to it than just quickly labeling someone a Murtad.@IbnEnu @SimplyIkran I know i seen the lecture many time & i also know the ruling on those who mock the Deen..@IbnEnu @SimplyIkran She was just trolling NOT AT ALL serious.. trust me@augen_ihre Or their son's...@RanadSheikh @Lathanay @Al_Muhajiroun Team Qurayshi Ya3ni we need to start sticking with out own from now on@IbnEnu @SimplyIkran Tell me you two are trolling?@RanadSheikh @Lathanay @Al_Muhajiroun See i knew i always liked you !@Lathanay @RanadSheikh @Al_Muhajiroun Raaaaaaaah im Qurayshi@Lathanay @RanadSheikh @Al_Muhajiroun Not all somalis some are Ethiopian or italian don't @ meRT @Heart_Islam95: Them good genuine peopleee, they're so preciousssss 🙈👌Don't use \"ONLY ALLAH CAN JUDGE ME\" as a way to justify your actions & Jahliyyah, Umar Ibn Khattab said \"We judge that which is apparent.\"People who say \"ONLY ALL CAN JUDGE ME\" umm Are you sure you want Allah to judge you in the state you're in?This is a PERSONAL ACCOUNT like i said \"any rubbish you find is solely from me & shaytaan. the Khayr you see is from Allah ALONE\"Any who ima take the advice of my dear friend & slowly deactivate. You lots have lot the plot & need seriously mental evaluation...This is what happens when women start to voice their opinion & step out the kitchen...\n",
      "\n",
      "Ladies Iftar & Suhoor won't make itself🙅This is the moment where we should ALL advise each other to FEAR ALLAH! & remember its still ramadanLove those who advice me having my best interest at heart. May Allah reward you & great you Jannah.. \n",
      "\n",
      "& if you're reading this Reply to KIKIts nice to see the youth getting involved with helping those in need. May Allah reward those who are putting in any type of efforts.Shout out to @IAmIkra on the aid work she will be doing in Gaza in the coming days & or week...\n",
      "\n",
      "May Allah accept this from her & reward her\"The perfection of Tawḥid is found when there remains nothing in the heart except Allah.\"- Ibn QayyimSahabiyyat Series: Umm Kalthum Bint Uqba http://t.co/kCUnjs1VSLRT @mohammedus_: @_UmmWaqqas http://t.co/nk75V922q2\"But there came after them an evil generation,who neglected prayers and followed sensual desires, so they will be thrown in Hell.\"-Maryam 59@EnterTheTruthCo Yeah im sure, wait 80% sure at leastI know what episode 21 will be about !\n",
      "\n",
      "How?\n",
      "\n",
      "Because im cool like that, Yo @EnterTheTruthCo tell em  \"Umm Waqqas is cool\"@EnterTheTruthCo Yeah & this is when i tell you \"Hurry\" your killing us with this waiting game...@_IraqiWitness Words of encouragement, Thanx. You should give a crash course on trollingRaaaah im not even good at trolling this can't be lifeRT @Faysal_FreeGaza: @_UmmWaqqas looooool wut!?? We got ppl contemplating suicide and you asking about wearing snail gel?Assalaamu Alaykum. I was wondering is it permissible to use snail gel on your skin?\n",
      "\n",
      "@Assimalhakeem@TheAbFro Muslim twitter is like school everyone has their\"cliques\" &will back one another even if the person they're backing makes no sense\"The most beautiful characteristic is shyness.\"-A'isha Radi Allahu Anha \n",
      "\n",
      "Source: Adab Shar'iyyah, (2/344)The Messenger of Allāh ﷺ said: \"Great reward comes with great trials. When Allāh loves a people, He tests them.\"  \n",
      "\n",
      "[سلسلة الصحيحة (١٤٦)]\"Guidance is not attained except with Knowledge, and Uprightness is not attained except with Patience.\"-Ibn TaymiyahAsian twitter is like a kid begging for attention & love ya know...Somali twitter is a legit bully tbh. \n",
      "\n",
      "i refrain from interacting with them, i like my sanity & mental health. Plus they're ruthless & harshIf your intentions are solely for Allah you won't care how people view you.People are so mean.On this note, forgive me if i have ever hurt any of you guys with my words, those were not my intentions whatsoever...This is why i don't agree with cyber bullying, May Allah guide him & us. Its actually sad tbhRT @Za1d: I am honestly just fed up with life now.RT @Za1d: Wallahi, if I commit suicide one day because of you guys.. I hope the \"retweets\" that you get from bashing me were worth it.RT @Za1d: I have legitimately never tried to hurt anyone of their feelings. I have always just tried to make people smile and raise awarene…RT @Za1d: All you people that claim to be \"Muslims\" on twitter go around always talking shit about me like I am not a human and I don't hav…Kite runner was my favorite Khaled Hosseini did amazing there tbh... Didn't like the move one bit thoughرَبِّ اشْرَحْ لِي صَدْرِي وَيَسِّرْ لِي أَمْرِي وَاحْلُلْ عُقْدَةً مِنْ لِسَانِي يَفْقَهُوا قَوْلِيHasbunAllah Wa Ni'mal WakeelA women's silence is not a sign of her weakness rather her strength.Anything khayr i have ever tweeted was solely from Allah, & any of that rubbish you find here & there is from myself & shaytaan..What she said pretty much \n",
      "\n",
      "\"@SitThisOneOut: Women 👇 • http://t.co/MNGAJ67VOr\"I was sent picture this from Medinah Munawarah <3 http://t.co/zpEDmj2Q3FTHANK YOU :DRT @la_psychopath: @_UmmWaqqas non is superior to the other.  Both are important and play important roles.RT @la_psychopath: @_UmmWaqqas men and women are not equal as they have different roles, somethings a man can do that a woman cant and vice…@Mrgreatful1992 @panadriam You do know a scholar from who graduated from Medina runs this website right?@nashwakay @Sahraa_Ali @thesskhan Thank you guys for all your good deeds, i hope my flesh tasted good :DDoes Islam regard men and women as equal?\n",
      "\n",
      "http://t.co/ezPWQDuaLgRT @Ohmyallah_kiaaa: I envy those people who can revise the day before an exam and walk out acing in life! Help ur ukhti in need. Remember …@nashwakay Are you stupid? don't ever try that one me.... LOOOOOOL why are you stalking my tweets you don't agree no one is begging you to\"And the male is not like the female.\"-Surah Imran Ayah 36\n",
      "\n",
      "Argue with that ladies !\"We live in the 21st century\" \n",
      "\n",
      "Umm the Sharia of Allah surpasses time...\"Islam is justice not equality.\"-Imam Anwar AwlakiRT @ButterflyHafsa: @_UmmWaqqas I can't get over how adorable your header pic is MashaAllah <3RT @ForeverHayatii: Women and men are not equal shut upFeminism Fi DeadLol you lot really believe a women can do a man's job....?\n",
      "\n",
      "K.... well tell me how that goes yaSahabiyyat Series: The story of Zaynab Bint Muhammad Salallahu Alayhi Wasallam http://t.co/MdVB20Y5iEكيف أحزن و الله ربي ؟@amatur_rahman Sahih Bukhari Kitab Al-Nikkah volume 8...So much misunderstandings, goes to show you should watch what you say. Never know how people may take it & in what formMy costumer randomly said I have a \"friendly face\" then he added \"you would make a great mother one day\" \n",
      "\n",
      "Should i be gassed or Naah?@augen_ihre Not everyday women rights, some day allow the brothers to know whats allowed for themAlso sisters if you spend his money on Zakat, or things that benefit people/yourself without his permission then he gets half the AjarWomen\n",
      "\n",
      "You are not allowed to:\n",
      "\n",
      "1.Allow someone to enter your home without the permission of ur zawj\n",
      "\n",
      "2. Fast sunnah with out his permission@SimplyIkran @augen_ihre Its not slavery but you have to listen & obeyLike i said the Fiqh of Nikkah is no joke@MannWaSalwah Wallahi as women we have so much rights regarding the issue or Talaaq3. which she accepted, but he was poor so her mahr became ayats he memorized from Quran2. & Lowered his head, indicated he had rejected the proposal.. So she understood, then a sahabi stood & offered to marry her..1. A women once came to the Prophet Salallahu Alayhi wasallam & proposed to him in side the masjid, he looked at her (glanced face + hands)Reviewing is so much fun, you actually learn more.. Lol im always the nerd who asks loads of questionsSo its haram for a brother to approach a sister who is already in nikkah talks with someone else, he MUST wait to see if things work outFiqh of Nikkah is no joke!@Have_tawakul Because he may have certain desires for that dayGood luck to the youth out there, stop living in a fairy tale & wake up tbh, marriage isn't some disney story !As soon as you get married ladies that man becomes your Amir, as a married friend once told me \"you MUST listen & obey\" Yikes....@BananaAndRiceP2 Fam we aren't allowed to sunnah fast without the permission of our husbands... Like its some legit Listen & obey stuffRT @BananaAndRiceP2: @_UmmWaqqas I told u marriage is slAvery. No one listens to meSo im revising Kitabul Nikkah.. SubhanAllah so many things people neglect on this topic, yet yutes are quick to try to get married.. \n",
      "\n",
      "KYa Shabaab there is a BIG DIFFERENCE between Masjid Al-Aqsa & The Dome of Rock!@fazie_90 @Tawhidicom he comes randomly on my TL... Pipe down mate!\"One who does not live in the way of their beliefs starts to believe in the way they live.\"-Umar ibn Khattab \n",
      "\n",
      "Food for thought....\"Whose friendship does not benefit you, let his enmity not sadden you.\"-Imam Shafi’i\"The dua made in tahajjud is like an arrow that does not miss its target.\"-Imam Shafi \n",
      "\n",
      "#PrayForTheUmmah #PrayForUmmWaqqas :DRT @Tawhidicom: The Ka'ba wears black everyday. However tonight it has intended to wear black for the martyrdom of Imam Ali (a.s) http://t.…Above all the stupid tweets on twitter I've seen wallah my next retweet takes the cake by a land slideAll these bints around, and these akhs still can't find the Umm to their kunya...\n",
      "\n",
      "The struggle is real for some lolTrying to find perfection in a diseased society.im the product of an interracial marriageLol @ those who are Shocked that Saudi supports israel... Umm that was the pack they made with Britain if you knew history you'd know that!I love the royal Saudi family, they've done so much \"good\" for this ummah! \n",
      "\n",
      "King Abdullah don't reject my Hajj visa KThe regime of Saudi is the diseases to this ummah, May Allah remove them from our path to glory! Ameen !RT @iamhamdi1: Saudi and Israel getting very comfortable, I wanna see those who have extreme love for the kingdom explain this one. http://…@striving_ukht Daleel mateim from mars@bintdad__ Never mind Love me ya@UmmSabah Lol hence why you should strictly stick to arabi nasheeds unless you find better ones without shadiness@bintdad__ you don't have to beg to enter my mentions ya know :D@UmmSabah Never heard of any Malay nasheedsيا غزة الأحرار@UmmSabah Lol really majority of the Palestinian \"nasheeds\" have music so its nice to find a few rare ones that don't have it ya know :DNo matter how big or bold these Kufs & their dogs act, they still fear this ummah, because they know we are all descendants of Lions !Ya Kheil irma7ee \n",
      "\n",
      "One of my favorite Palestinian Nasheeds \n",
      "https://t.co/vwkbXrOtGySahabiyyat Series: Zaynab Bint Muhammad Salallahu alayhi wasallam  http://t.co/kIDytkrDW3RT @sufyan_ulhaq: @_UmmWaqqas @HalalMates I know how much u like Hoor talk, this photo of my nephews should get u back on track... http://t…@SimplyIkran “If I had ten days left to live, & I knew I would die, & I had enough time to get married, I would get married.\"-Ibn Mas'ud RA@SimplyIkran Not everyday be anti-marriage some day embrace the Sunnah...@SimplyIkran \"As a muslim male or female the most important thing you have is a family.\"-Imam Anwar Al-Awlaki RahimulilahMay Allah grant us all a righteous spouse..@BintFood & this is why girls shouldnt watch footyMarriages with its foundations being Quran & Sunnah is beyond beautiful❤️\"Enough as a punishment for sins is that it prevents you from worshipping Allah, even if you wanted to.\"-Ibn Qayyim\n",
      "\n",
      "Source: ad-Daa’, p.87@ImMisterD @Al_Muhajiroun Awks you know some guy did that just to makes his daughter a princess... the border of south Egypt & Sudan...@salafi22 Thats not true, laylatul Qadr is for every muslim...@Al_Muhajiroun @ImMisterD Pluto isn't a planet.. awks for you\"@ImMisterD: @_UmmWaqqas u look like you came from some far away planet.\"\n",
      "\n",
      "Mars to be exact“Whoever stays up and prays on Laylat-ul-Qadr out of faith and in the hope of reward, his previous sins will be forgiven.”  \n",
      "\n",
      "متفق عليهIbn 'Abbās رع: \"Laylatul-Qadr is calm & pleasant, neither hot nor cold, the sun arises on its morning being feeble & re.\" ● [صححه إبن خزيمة]The Prophet ﷺ said: \"On the morning following Laylatul-Qadr the sun rises not having any rays as if it were a brass dish until it rises up.\"@TaalibJamia You better have made dua for me this ramadan... Okay but make sure you make dua for me when you go back to medina In Shaa Allah99.9% of muslim twitter is blocked@idiopathically Fam 99.9% of muslim twitter is blocked@Al_Muhajiroun Perhaps the signs were recognized@idiopathically im being helpful :DOn the morning following Laylatul-Qadr the sun rises not having any rays as if it were a brass dish..@augen_ihre Seriously we split the Ajar ya3ni im doing favors ya know :D@augen_ihre Lol being on block sucks when he has good tweets ya know :/Odd night, pleasant weather (neither hot nor cold), rayless sun, strong indications that 23rd Ramaḍān, 1435 was Laylat-ul-Qadr والله أعلمSadly i can't retweet a brother due to some complications :/ \n",
      "\n",
      "but ima tweet what he tweeted lol@ThatRevert There is Hikma as why this is all happening, just trust Allah to aid you & get you through this with a stronger Iman ...@ThatRevert What you're going through is what the Sahabis went through just harsher terms, just have patience & make loads of duas...@ThatRevert May Allah make your affairs easier for u, u should read Sa''ad Ibn Abi Waqqas Radi Allahu Anhu's story u will find similarities\"Do not keep company with anyone whose state does not inspire you and whose speech does not lead you to Allah.\"-Ibn Qayyim\"The soul will never become pious and purified except through undergoing afflictions.\"-Ibn Qayyim@Yusufojsalah You can it on my tumblr or tweetsIn Shaa Allah couple more women to go & then the Series will be over before Eid Bi ithnillah...May Allah reward anyone who was following with the Sahabiyyat series, i hope you benefited i know i did...The Sahabiyyats were more than someone's mother, wife or sister... They were teachers, Mujahidahs, Scholars, Business women & etc !The Sahabiyyats are women we should take as role models & attempt to lead their life full of dignity & honor.Imam Anwar Alawlaki Rahimulilah once said \"You can't love someone you don't know.\" \n",
      "\n",
      "To love someone is to know them..These Sahabiyyat series are for no other reason except that we may learn about the great women who helped bring us this Deen..Sahabiyyat Series: Umm Ma’bad Radi Allahu Anha  http://t.co/doYfNSlJK0@_Only1M THANK YOU !The Scholars would say \"If you want something badly start praying Qiyyam for it.\"Qiyyam is one of the BEST if not THE BEST opportunities we have on strengthening our connection with Allah & getting our duas answeredEvery single night 7days a week, 30 days a month Allah calls out \"does anyone need aid, does anyone need forgiveness.\" yet we're all asleepIf you know Al-Wakeel ALL you problems become ZERO! All that is required from you is to do ALL that you can in keeping your duty to Allah.Israel means \"Servant of Allah\" which also happens to be the Second name for Ya'qub Alayhi Salam \n",
      "\n",
      "#QasasAlAnbiya\"Woe to those who openly sin, & they openly sin even though they know what they have done is wrong.\"-Rasululilah SAW\n",
      "\n",
      "Source: As-Sahīhah 482اللهم إنَّك عفوٌّ تُحِبُّ العفوَ فاعفُ عنَّا\n",
      "\n",
      "Translation: \"Oh Allah You are forgiving and You love to forgive, So forgive us.\"RT @iStrive4Jannah: In Paradise there is love without separation. || في الجنة حب بلا فراقRamadan isn't over you still have time, shaytaan isn't out you still have time tbh... Don't be a loser & let this pass you by !Evaluate your connection with Allah, WHAT HAVE YOU TO BE PROUD ABOUT THIS RAMADAN THAT YOU HAVE ACTUALLY ACCOMPLISHED?RT @path2jannah1: Have we gotten closer to Allah SWT?RT @path2jannah1: Ramadhan is nearly over but have we achieved anything?Shaytaan is about to come back with someone crazy vengeance, have you prepared yourself iman wise, or will you easily fall for his tricks?Shaytaan is almost out.. What have you accomplished whilst he was locked up? Have you changed or were you still doing his work for him?Can provision increase or decrease? http://t.co/y731yBGR7p@YoungMuslimah10 This just looks like its explaining how the nights & the day system work for the last 10 nights :/@YoungMuslimah10 From the understanding of the Sahaba & the ulema past & present Layltul Qadr is on an odd night.. i will more into this tho@flurriana Nahh i work with loads of Muslims Alhamdulilah so after Maghrib Salah we had iftar together@flurriana @AmeenOutspoken No, it can't be on even night due to proof from Sunnah.. Allah loves odd numbers :DPeople at my job tell me i look like im \"Dying\" FAAAM i broke fast at work yesterday & they tried to over feed me :/ literally stuffing me@Tawhidicom Yet Umar was promised Jannah... Awks for you x100000000Sorry i got my nights & days messed up :/ tonight will be the 22nd night of ramadan!@M_Ullah Lol i thought tonight was the 21 :/RT @lullabyebyebye: @_UmmWaqqas sis tonight is the 22nd night o.O last night was an odd night, today being the 21st day, and after maghrib …Odd nights of Ramadan\n",
      "\n",
      "21st \n",
      "23rd\n",
      "25th\n",
      "27th\n",
      "29th\n",
      "\n",
      "Any of these nights can be Layltul Qadr... its 1 Night that is better than 1000 months!Tonight is an odd light, & as we all know Layltul Qadr fall on an odd night.. So increase in ur ibadah, make ur Sajood & Ruks longer longer@ibnaarif93 Qasas al-Anbiyya? i actually like the book, i would recommend you read it if not the auto by imam Anwar is also good\"Whatever is not done by the permission of Allah will not happen, & what is not done for the sake of Allah will not benefit.\"-Ibn Taymiyyah\"If u makes istakhaarah, then whatever Allah makes u feel happy about & makes easy for u, is what Allah has chosen for u.\"-Ibn Taymiyyahالصبر مرّ ، لكن ثماره حلوه \n",
      "\n",
      "Translation: \"Patience is bitter, but its fruit is sweet.\"@PaladinOfJihad I was so tempted but i swerved i had to be different ya know..I think its safe to say this Ummah is beyond disgraced to the point that there are dirty Yahoodis watching/cheering when our own gets bomed@PaladinOfJihad Loooool you're so bored & you have all these people joining in with you... Tsk Tsk10 Types of Modesty http://t.co/waCKsQ2imH\"Do not look down upon any Muslim, for even the most inferior believer is great in the eyes of Allah.\"-Abu Bakr as-Siddiq@HalalMates Jaysh Al-Waqqas 👊👊The more u make dua for other people, the more the angels make those same exact duas for u.. So think of yourself when making dua for others\"And your Lord says, “Call upon Me; I will respond to you.\"-Surah Ghaffir Ayah 60\n",
      "\n",
      "The Dua is our strongest weapon\n",
      "\n",
      "Kindly remember me :)2. But most importantly increase your ibadaah on the odd nights of Ramadan for we know Layltul Qadr will fall on an odd night....1. So with this being the last 10 days of Ramadan take extra advantage of these days/nights.The Heart becomes diseased due to two reasons:\n",
      "\n",
      "1. Neglecting remembering Allah\n",
      "\n",
      "2. Committing sins\n",
      "\n",
      "-Ibn Qayyim\"It was said that tawakkul is when the heart knows that the Lord is sufficient for the slave.\"-Ibn Qayyim\"If you indulge in the pleasures of this Dunya, you are gambling with your life.\"-Ibn Qayyim \n",
      "\n",
      "Source: Al-Fawaaid p.652. \"My son, do not let ur past carelessness make u lose hope of achieving good, many people have come back to wakefulness after long sleep.\"1. Ibn Qayyim once advised his misguided son with the following statement.\"Let the tears you shed in the darkness of the night be your intercessors for when you make mistakes.\"-Ibn QayyimSahabiyyat Series: Umm Manee  http://t.co/NNVhfIOCzS\"Unquestionably, the help of Allah is near.\"-Surah Baqarah Ayah 214\"If the human knew the pleasure of meeting Allah and being near Him, he would feel grief for being distant from Him.\"-Ibn Qayyimi just want to move to the mountains & get away from civilization...In the heart of Green birds is where they are now Bi ithnililah !On a serious note.. This actually broke my heart, i can't get over it wallah https://t.co/IeJvesGYEpLOOOOOOOOOOOL \n",
      "\n",
      "I just like that little girlPeople are just realizing Yummal Qiyyamah is close im just like \n",
      "\n",
      "https://t.co/Z4laSwUr7g@UmmDujanah_ Allah speaks about those types of people in Surah Nisaa\"And your Lord says, “Call upon Me; I will respond to you.\"-Surah Ghafir Ayah 60\"The eyes become tearful and the heart grieves, but we only say what pleases our Lord.\"\n",
      "\n",
      "-Rasululilah SAW the day his son Ibrahim died@BananaAndRiceP2 Don't beg it Banana Ukhtidem never begs ya know @ummharith_ @path2jannah1@ariane_britania Idk but you'll have an amazing mother in law that can@ummharith_ I love you Fats  @path2jannah1Aim to make this Ayah true of yourself this Ramadan   \n",
      "\n",
      "\"And his Lord chose him and made him of the righteous.\"-Surah Qalam Ayah 50Marry a somali you'll never get bored with food :D lolSomali food is amazing minus the banana tbh.. Different flavors & spices ya3ni they know how to put it down !Satisfying my cravings... \n",
      "I've been wanting somali food for weeks & I finally got it :D im a happy camper ya3ni http://t.co/I0mSv3TI3z5.  Reprimand yourself for falling short and blame yourself!  If you are going to lose out in this month then when ever will you succeed?\"4.  O person upon good! Continue to remain upon that goodness!  O person who fell short!3. And are there any among you who spent that time doing good?  Has your will power longed to reach that which is noble and of honor?2.   ‘O people! Your month has reached its middle,  So are there any amongst you who was just and took charge of his soul?1. Translation: Ibn Jawzi once said; admonishing the people when Ramadan had reached its middle;الفوائد فمتى تبرحْ ؟الشرف ؟! أيها المحسن فيما مضى منه؛ دُمْ.  وأيها المسيء؛ وبخ نفسك على التفريط ولُم. إذا خسرت في هذا الشهر متى تربح ؟! وإذا لم تسافر فيه نحوقال ابن الجوزي:  أيها الناس إن شهركم هذا قد انتصف؛  فهل فيكم من قهر نفسه وانتصف ؟!  وهل فيكم من قام فيه بما عرف ؟! وهل تشوقت هممكم إلى نيل@path2jannah1 im not involved @ummharith_Allahu Akbar! Sorry i LOL'd a bit due to Sam's confusion... May Allah guide her to IslamRT @SamHarrisOrg: My 6-month-old daughter's first word appears to be \"Allah.\" #MixedEmotions@path2jannah1 Looool don't knock it till you've tried it :D  @ummharith_@panadriam Wa Iyyak, Ameen beautiful I hope we both benefit from these series..Sahabiyyat Series: Fatimah Bint Khattab Radi Allahu Anha http://t.co/xI0BaFexjcSahabiyyat Series: Shayma Radi Allahu Anha the foster sister of Raslululilah Salallahu Alayhi Wasallam http://t.co/3Y2YtOo3tgMy treat to you, ima post the story of two Sahabiyyats in the Sahabiyyat Series.. Both are sisters to great menHe is Sadiq Al Amin everything he said was Haq without any doubt, yet we find hadiths were he swears by Allah Why? because of its importanceWhen you find hadiths where Rasululilah Salallahu Alayhi Wasallam is swearing by Allah, he's telling us to LISTEN & LISTEN CAREFULLY\"From the characteristics of the idiot is to be pleased with a lie.\"-Ibn QayyimHappiness can never be found in materialistic things that never last.@UmmDujanah_ liesRT @TaalibJamia: 1. Fajr\n",
      "2. Prophetic Morning Supplications:\n",
      "http://t.co/YQEFVrQRW2\n",
      "3. Qur'ān recitation\n",
      "4. Pray Salāh ad-Duhā\n",
      "\n",
      "Perfect sta…\"Marry me\" ya k \n",
      "\n",
      "Good luck with thatWhen you actually realize Ramadan is almost over... MY MOOD ATM \n",
      "\n",
      "https://t.co/pviiilTftb@HashtagFatima i know how you feel 🙈.\"Glad tidings to the patient.\"-Surah Baqarah 155Ibn Qayyim said \"Your spouse is your mirror, they reflect who you are.\" which lights perfectly with the ayah \"Good men are for good women.\"RT @jameel_84: @_UmmWaqqas Some truth to this statement I read that yoh might find interesting http://t.co/HfO2G9RzrZ@MannWaSalwah I agree to some extent tbh... But also you don't want to just live on pay check to pay check, Then again Allah is Ar-RazaaqYou don't want to stand before Allah whilst your child bares witness against you because you didn't choose a suitable father/mother for themHence why i think sisters likewise brothers should raise their standers in the field of Deen when looking for marriage.A Haqq that my unborn child has on me is that i choose a suitable spouse. & I believe that haqq i believe is ignored by the masses tbh..May we be among those whose names are removed from the list of the inhabitants of Jahanam this RamadanIn Falestine there is this saying that goes like this \"We are the children of the Muslims and every single one of us is a Salahuddin.\" 😭☝️It was said that Rasululilah Sallallahu Alayhi Wasallam had \"8 boxes on his stomach\" meaning 8 packsAli further adds \"I never seen someone as handsome as him.\"4. Body was not too hairy, just a line of hair from chest to tummy. Palms and feet were flashy. He use to walk with strength.\"\n",
      "\n",
      "TabarakAllah3. Eyes were black and Eyebrows were long. Joint bones were strong. Edge of shoulders and middle part was strong and flashy.2. His hair was neither straight and nor curly but a bit curly. Body was not chubby. Face was not round and heavy and cheeks were not bulky1. Rasululilah Sallallahu Alayhi Wallam was not too tall and not short. But he was of average height.Ali's Description of the Prophet Sallallahu Alayhi Sallam.. \n",
      "\n",
      "Fam this description is just ...Handsome SubhanAllah TabarakAllah 🙈Scholars have said that this description of Rasulilah Sallallahu Alayhi Wasaam by Umm Ma'bad is more accurate than Ali's description4. He has very dark hair, a rather long neck and a thick beard... \n",
      "\n",
      "TabarakAllah 🙈3. His eyelashes are very long and the area around the pupils is extremely white. His eyebrows are perfectly close.2. He is well-built, neither blemished by a big belly nor disfigured by an unusually small head. The pupils of his eyes are very darkThe Description of Nabi Muhammed Sallallahu Alayhi Wasallam\n",
      "\n",
      "1. \"I saw a man who is distinctly handsome and of a beautiful countenance.The way Umm Ma'bad's description of the Prophet Muhammed Sallallahu Alayhi Wasallam is so 👌👌\n",
      "\n",
      "He was beyond Handsome TabarakAllah 🙈@__Nadera Allah! please don't say that :( i pray that i am what you think i am or even better SubhanAllah, any khayr is always from Allah@__Nadera awh jlijlkjbhvkgvhgv this made me happy :DThe happiness moment of Ramadan is when the Imam recites the ayah \"Alf Laam Meem\" \n",
      "\n",
      "& the saddest is when he recited Surah Nas...\n",
      "\n",
      "Cries@__Nadera Keep me in yours?More duas less Hashtags pls\n",
      "\n",
      "Thats if you really care about our ummah's situationOne sincere heartfelt dua to Allah can change the situation of our people in Falestine than any Hashtag can ever due... Just sayingI think Urban dictionary is lowkey YahoodiRT @urbandictionary: @_UmmWaqqas Palestine: Ok, since there are too many here that only mention... http://t.co/0zaYjTKqOU http://t.co/9cAPs…Define PalestineRT @urbandictionary: @_UmmWaqqas israel: a country the size of your fingernail that gets 10% of all... http://t.co/MZLHWLw76x http://t.co/n…Define Israel#PrayForUmmWaqqasRT @Ramiroo19: Saʿīd bin Jubayr said: \"Tawakkul (reliance and trust in Allah) comprehends all of Īmān.\"\n",
      "\n",
      "– Hunād b. Al-Sarī, Al-Zuhd #534Just don't forget about me after my death & ask about me if you don't find me in Jannah Bi ithnililahim a women who is due to die soon, but does not know when.. My time is ticking & the clock will soon run out.If i die today & you hear about my death please keep me in your duas... Especially during the times of QiyyamWith how fast time is going 7 months will just feel like weeks.@One_Verse_ @BintAbdullah94 @BonsaiSky Alhamulilah imagine the happiness his family is experiencing right about now :D May Allah protect him@One_Verse_ He gets out in 7 months... Bi ithnililah#OneUmmahLol @SitThisOneOut she's the ideal poster girl for the \"One Ummah\" cause. She begs to be apart of every ethnicity! \n",
      "\n",
      "BRAVO MATE\"And whoever turns away from My remembrance indeed, he will have a depressed life.\"-Surah Taha Ayah 124\"As a whole, whoever sins, then sins remove away the blessings from the Deen and the Dunya, so that he won’t find any blessings.\"-Ibn Qayyim3 results that come from a life full of Sin:\n",
      "\n",
      "1. Suffering and illnesses. \n",
      "2. Less good deeds. \n",
      "3. Happiness won't reach him\n",
      "\n",
      "-Ibn QayyimThe Characteristics of the Idiot By: Ibn Qayyim \n",
      " http://t.co/uZhMHt046p\"A righteous deed is that you perform an action seeking no praise except from Allah.\"-Ali ibn Abi Taalib Radi Allahu AnhuSahabiyyat Series: Safiyah Bint Abdul Muttalib Radi Allahu Anha http://t.co/WI0Ur9kupsوَوَجَدَكَ ضَآلاًّ فَهَدَى  \n",
      "\n",
      "Translation: \"He found you lost and guided you.\"-Surah Duha Ayah 7@TazMalek GO AWAY! IT'S RAMADANThe way all the sahaba are connected is beautifully amazing :D all of them intertwine through marriage or by blood..@truthsMaster His mother installed that in him at a very young age taught him to be a lion!I didn't know Zubayr ibn Awwam was the cousin of Khadijah Radi Allahu Anha...وَمَن يَتَوَكَّلْ عَلَى اللَّهِ فَهُوَ حَسْبُهُAnd always know that if you leave something for the Sake of Allah, Allah will give you something better in its place.What Allah has given you in this Dunya is beautiful, but what He promised you in Jannah is greater.\"It doesn't look easy, but Allah has promised you protection. Just make the effort towards Allah.\"RT @traveller_94: How to fix our hearts - Sheikh Muhammad Mukhtaar ash-Shinqitee http://t.co/DQhOuOoXMc\"A good man treats women with honor.\"-Tirmidhi\"If your spouse is angry you should be calm. When one is fire the other should be water.\"-Umar Ibn Khattab\"Women like attention & they like to be told clearly that they are loved. Don’t be stingy in expressing your love for your wife.\"-Imam Ahmed\"The woman is the caretaker of her husband’s household and she will be questioned as to her responsibility.\"-Reported in Bukhari & Muslim\"A man should act like a child with his wife: Happy & easy going.\"-Umar Ibn KhattabTAQWA - Consciousness of Allah \n",
      "\n",
      "TAWHEED - Oneness of Allah \n",
      "\n",
      "TAWAKUL - Reliance on AllahA'isha Radi Allahu Anha was \"Umm Abdullah\" her Kunya was given to her by her Husband Rasululilah Sallallahu Alayhi Wasallam\"The soul will never become pious and purified except through undergoing afflictions.\"-Ibn QayyimRT @One_Verse_: http://t.co/r7aPWj7fPf\"Without knowledge, action is useless and knowledge without action is futile.\"-Abu Bakr Radi Allahu AnhuRT @BEAUTIFULPlCS: Stunning mosque in Istanbul, #Turkey. http://t.co/5AYjKveqvm@Saira_Delarosa No i gave up hope@Ameerana_abudua Fear Allah both of you guys its ramadan 1 & 2 this back & forth isn't helping your akhria @UmmUmar_ @ghazishami @ING@UmmUmar_ خلاص لا التحدث معه@Ameerana_abudua @UmmUmar_ @ghazishami Are you serious right now? Hey let him be obviously people don't know what it means to be sorry..@UmmUmar_ Go back to cooking@ghazishami @UmmUmar_ @Ameerana_abudua 3. Everyone errors & at least you guys were man enough to admit your mistake & ask for forgiveness@ghazishami @UmmUmar_ @Ameerana_abudua 2. i seen the tweet & it ticked me off as to why she wasn't at least tagged tbh@ghazishami 1. Hence why we should watch what we say, remember you don't have to be a ruler to be an oppressor @UmmUmar_ @Ameerana_abudua@UmmUmar_ You're fasting fam chillax don't ruin your Sawm with indirects.@UmmUmar_ Allow ^^ that comment they apologized. & next time you two should @ her like real men just saying @Ameerana_abudua @ghazishamiOi they just missed with my cousin.. Gloves are coming off!No one can ever change your situation except Allah, always remember that.Sharing your every bit of emotions with Allah actually draws u nearer, because u're expressing urself to the One who can change ur situationi use to hate sharing my feelings still do till this day, but like Ya'ub AS said \"I only share my sorrows & grief with Allah\"im such a closed off person & the statement of Ya'ub Alayhi Sallam in Surah Yusuf drew me closer to Allah Alhamdulilah..@BananaAndRiceP2 \"I only share my griefs & sorrow with Allah.\" SubhanAllahRT @BananaAndRiceP2: The fact that nabi y'aqub cried so much that he become blind 😩😫 I can't even begin to comprehend the amount if sorrow …@Umm_Eessa @bintdad__ LOOOOOL trust me its not himLol @ the people who want to know who @HalalMates is..... \n",
      "\n",
      "Deeds are best kept hidden :D@ImMisterD Allow itI like saying \"Die in your rage\"That sky though http://t.co/xblLO9yrg9\"Seek forgiveness at your home, in the market and on the road, you never know when the door of forgiveness is opened.\"-Hasan Al-BasriYes to interracial marriages!RT @patel_ismael: A good man treats women with honour.Nothing is better than the sweetness of Iman!Lol at @BananaAndRiceP2's version of Fiqh of Salah... \n",
      "\n",
      "She's our  Ustadha Fi Twitter i gave her; her ijazaah ya knowRT @aRandomMuslim: “Be not sad, surely Allah is with us.”\n",
      "#QuranWant to know how a Muslim women is suppose to dress?\n",
      "\n",
      "Read Surah Noor & AhzabWant to know how a muslim is suppose to behave socially?\n",
      "\n",
      "Read Surah HujurratWant to know who are REAL muslims in the site of Allah?\n",
      "\n",
      "Read the last couple of ayats in Surah FurqaanSisters forget that the concept of Hijab isn't just covering yourself, its actuallyy way more than that.RT @Haf_025: \"The pens have been lifted, the ink has dried\" \n",
      "\n",
      "#QadrUstadha Banana is on the TL...\n",
      "\n",
      "Class is in sessionAllaahumma innaka ‘afuwwun tuhibb al-‘afwa fa’affu ‘anni \n",
      "\n",
      "Translation: Oh Allah, You are forgiving and You love forgiveness, so forgive meربي إنزع من قلبي حب كل شيء لا تحبRT @Maestrouzy: Laylaitul Qadr is not only better than 1000 months, but it could be just that ONE night that changes your life around.Truthful dreams from Allah are those that you can remember 100% with every detail intact...Sheikh Albani had that blessing, SubhanAllah it was said that he could interpret dreams accurately.Having the ability to interpret dreams is a blessing from Allah.. SubhanAllah!\n",
      "\n",
      "Not a lot of people have that blessing!@Lathanay @Al_Muhajiroun Twitter is een informant, kunnen ze lezen convo  \n",
      "\n",
      "IK BEN NIET MEE🏃🏃🏃🏃🏃🏃🏃🏃🏃🏃🏃🏃🏃🏃🏃@Lathanay @Al_Muhajiroun Idk waarom deze gekke amerikanen beweren me :/@Al_Muhajiroun I swear i hate having those moments...@Al_Muhajiroun im from the Netherlands stop claiming me! Oi aren't you suppose to be gone from twitter why you still here?  @LathanayMy favorite phrase of Umar was \"May your mother & father loose you\"\n",
      "\n",
      "Loooooooool MY GUY!@4lifemuslim Yeah he was :D@Lathanay @ImMisterD 🏃🏃🏃🏃🏃@BabyAwenue Listen to Imam Anwar in the Seerah or Umar@ImMisterD Lol listen, i need a doughnut to go with milk do you have any?@BabyAwenue Read about life.. He would always make sure youth are activeUmar Ibn Khattab was funny, his encounters with people leave me in stitches..Lol Umar Ibn Khattab RA hated Obesity to the core & he also disliked lazy youth!@jameel_84 Muslim twitter at its weirdestMay Allah cure us from jahliyyah!Umm Beef always retweets things that raise my blood level... WHYYY!\n",
      "\n",
      "It's Ramadan man have mercy for once ya3ni not everyday retweet madnessSubhanAllah! Lost for words, May Allah grant Muhammad ibn Abdulwahab Jannah for all he has done for this ummah!\"@salmansmind: May Muhammad ibn Abd al-Wahhab burn in hell for coming up with Wahhabism.\"\n",
      "\n",
      "I really pray you repent for this. SubhanAllah\"May Allah have mercy on the one who brought my faults to my attention.\"-Umar Ibn Khattab \n",
      "\n",
      "Source: Al Hilyah al Awliyaa (8/282)@BananaAndRiceP2 Translation pls? @NazishxAhmed@BananaAndRiceP2 Nahh people just need to stop talking idiots as role models  @NazishxAhmedYour amazing role models folks... \"@NazishxAhmed: Says it all. http://t.co/3Mkq7XntqN\"@Faraaharis_ Lol it doesn't even sound like a hadith \n",
      "& has no bases to the Deen tbh SubhanAllahLoool Which one of you crazy feminists made up this stuff? \n",
      "\n",
      "\"@moakhan_: THIS IS FABRICATED, stop spreading lies. http://t.co/ZvwcFLliSK\"Bilad al-Haramain sounds better tbhBenefits of Abandoning Sinful Behavior By: Ibn Qayyim http://t.co/eiMIfLUi5tToday was the day the battle of Badr took place.. Today was the day the Muslims were given victory!!\n",
      "\n",
      "17th of Ramadan!The clear threat by Allah! \n",
      "SubhanAllah.... http://t.co/wmvEGSKajx\"Truly in the heart there is a sadness that cannot be removed except with the happiness of knowing Allah.\"-Ibn Qayyimاللهـم لا تجعل الدنيا أكبر هـمناSahabiyyat Series: Umm Waraqah http://t.co/ogvHIm0aY9SubhanAllah the last 10 nights of ramadan are approaching....\n",
      "\n",
      "Have you taken advantage of your Ramadan? Did you make any effort to change?If you trust Allah, He will be sufficient for you. If you have Taqwa, He will save you from every difficulty.Iman is Talking+acting+intention+sunnah\n",
      "\n",
      "Talking w/o Acting= Kufr\n",
      "Action w/o Intention= Nifaq\n",
      "Intention w/o Sunnah= Bidah\n",
      "\n",
      "@ahmadmusajibrilSigh! This hadith gives you so much relief no matter what hardships you're facing \n",
      "\n",
      "\"@alfirdaws_: @Nameless_Ukhti http://t.co/ctlv4LDMGO\"“What Allah has to give is better for you, if only you knew.\"-Surah Nahl Ayah 95I honestly always thought Yommal Qiyyamah was close.. Especially with everything going on in the world. We are truly living in the last daysA minor sign is when Scholars become Libertines... \n",
      "\n",
      "For example: those who behave without a sense of responsibility or moralsThis is why reviewing is important you learn things you probably missed out on.. SubhanAllah !Allah! \n",
      "\n",
      "The war with the Yahood is a minor sign of the Day of Judgement... \n",
      "\n",
      "Sorry im listening to a lecture by Imam Anwar!The Major Signs By Imam Imam Anwar Al-Awlaki Rahimulilah & Sheikh Shady Al-Suleiman https://t.co/fLsFIU52HJتا ریشه در آبست امید ثمری هستI actually cried SubhanAllah we as an Ummah are so disgraced... \n",
      "\n",
      "https://t.co/DxUXvYbzft\n",
      "\n",
      "The Ummah is calling.... Will you respond?Allahumma inni As'aluka Al-Jannah \n",
      "\n",
      "Say this sincerely 3x & Jannah will say \"Oh Allah enter him into Jannah.\"\n",
      "\n",
      "Hadith reported in TirmadhiConditions to a sincere Repentance:\n",
      "\n",
      "1. Stop the Sin\n",
      "2. Regret the sin \n",
      "3. Never go backPeople are labeling those who have a correct understanding of Wala & Bara as khawarij... \n",
      "\n",
      "Umm.... K \n",
      "\n",
      "Good luck with that!Even scholars have differences of opinion, & you & i are just mere laymen.. \n",
      "\n",
      "Humble yourself plsJust because someone disagrees with your opinion you label them as a \"khawarij\" & make their blood halal to spill? Allahu MustaanThanks to twitter i get annoyed whenever i hear:\n",
      "\n",
      "Khawarij \n",
      "Madkhali \n",
      "Takfiri\n",
      "Fan Girl \n",
      "Fan Boy\n",
      "Hizbi\n",
      "\n",
      "You lots learn one term & run with itRabbi Zidni ilma..Lets just say there are differences of opinion.. NOT EVERY MATTER IN THE DEEN IS BLACK & WHITE! \n",
      "\n",
      "Study ALL opinions before you state thingsلا تسألوني عن حياتي@bintdad__ Deeds are best kept hidden@jameel_84 i respect people who have been strong in it & havent treated it as a trend though may Allah reward their efforts @deenhigh@jameel_84 There is more to it, trust me i use to believe in the whole 9yards but now i realized it won't help.. @deenhigh\"The latter parts of this Ummah will never be rectified except by that which rectified the earlier parts of this Ummah.\"-Umar ibn KhattābI don't believe in boycotting but still i couldnt sleep at night knowing that my money is what caused the death of an innocent child..@One_Verse_ I know but i had to drop a year K... & thats the first year that came to mind lolRT @One_Verse_: @_UmmWaqqas we've been struggling way before then, think about mongols, mutazilites, spanish inquisition to name a few@GuiltyMuslim Personally i don't believe boycotting anything brings about any effect, but i still stay away from israeli things @jameel_84We as an ummah have been struggling since 1924 lets not forget that FACT !I have no respect for those who treat the pain of the Ummah as a trend... Idk whats in anyones heart so this is general !!@jameel_84 Not really, when has it EVER effected israel that people protest or Boycott them? Like one incident?  @ibnaarif93@__Verbalist__ & Wallah i respect the ones who have been on it 100%.. people are treating this as a trend only hop on & off when theirs hype@jameel_84 Our ummah needs more than mere people boycotting things tbh... @ibnaarif93@__Verbalist__ I get that, but lets be honest people only \"boycott\" when the media decides to highlight falestine.. what happen to 66 years?Awh you know i like you more ya3ni @FSoldierOALLAH ... You're my boothang tbh! Plus i love your tweets, you're ajeeb in a good way tbh@ibnaarif93 3. not only that but majority of taxes are toward them.. \n",
      "\n",
      "So yeah anyone boycotting isn't helping tbh..@ibnaarif93 2. Majority if not all news outlets are either owned by jews or supports of israel.@ibnaarif93 1. its not going to hurt them the least bit, i think you guys should understand that. they receive 3billion in aid every yearTo be honest there is only one way to victory... May Allah increase us with more MEN in this ummah!If you honestly believe that protesting & boycotting things will help the ummah... GOOD LUCK! \n",
      "\n",
      "That won't change their situation the least10 WAYS TO BRING ABOUT THE LOVE OF ALLAH  http://t.co/l65H2baw0kRT @NoFixedIdrees: SubhanAllah! My children will not step into this filth people call \"school\" http://t.co/gFCKNwkGC8I fell so sorry for the kids who are raised in the west, parents really don't know what their kids are learning in schoolBi ithnililah i will NEVER raise my kids in the west, they have books aimed at kids trying to explain how being gay is \"okay\" \n",
      "\n",
      "MY FOOTما قيمة هذه الدنيا التي تتعلقون بها ؟  \n",
      "\n",
      "\"What is the value of this world that you cling to\"@_IraqiWitness Lol um see what had happen was 😅....   \n",
      "\n",
      "i was 5 steps ahead of you, i didn't want to leave any evidence💁\"The believer is like a pearl; wherever he is, his beautiful qualities are with him.\"-Imam Maalik  \n",
      "\n",
      "Source: Hilyatul Al-Awliyaa@ImDown4wat_ever Wa Iyyak, JazakAllah khayr for posting this though @IslamAndLifeOFC@_IraqiWitness You stalking me lol?@IslamAndLifeOFC @ImDown4wat_ever Is this 100% authentic?\"For one of u to be stabbed in the head with an iron needle is better for him than to touch a woman who is not permissible for him.\"\n",
      "\n",
      " حديثVarious types of seekers of knowledge and scholars\n",
      "\n",
      "Sheikh Sulaymaan Ulwaan https://t.co/503yvbG3guSpeak the Haqq \n",
      "\n",
      "Sheikh Ulwan https://t.co/mvGyWjU0dMSalami Ala Ulwan!May Allah release our beloved Scholar Sulayman Ulwan from Saudi prison.. \n",
      "\n",
      "Wallah his knowledge is >>>@augen_ihre Who Riham or the other lady?@augen_ihre She was speaking so confidently like SHAT UP YOUR MOUSEI don't agree with Riham at all, but i applaud her on this... \n",
      "\n",
      "https://t.co/LmehyOX4bpLol when i was naive i wanted to dress like a man & apply for Madina university, i honestly thought they'd never find out i was a ukht@AllowMePls Visiting Masjid Al-Aqsa? It is, tbh but idk why more people don't do it...They'd invite their neighbors & set up a huge tent, people would come & give congratulations as if he got married\n",
      "\n",
      "Then again the Hoors :DIn Falestine people Celebrate Sahadaa, they celebrate it as a wedding.. Ya3ni families of the Shuhadaa would celebrate their martyrdom..@Muslim_Twitteer The center of Ash-Shaam is Falestine :D@Muslim_Twitteer Yeah but i was emphasizing on FalestineSo much blessings in the land of FalestineAllah accepted the Dua of Sulayman Alayhi Sallam. So anyone who visits Aqsa prays there & leaves is sinless as soon as he steps out!@augen_ihre That was number 2 he wanted a kingdom like no otherMeaning if you leave your home to visit Masjid Al-Aqsa as soon as you step out of that masjid you are sinless..Sulayman AS made dua for 3 things:\n",
      "\n",
      "1. To rule on what pleases Allah \n",
      "2. A unique kingdom\n",
      "3. Whosoever visits masjid Aqsa has no sinsYaqub Alayhi Sallam built Masjid Al-Aqsa..This video is what shattered my heart\n",
      "\n",
      "https://t.co/3HtoA0TmTmI honestly voice less than 1% of my opinions on twitter... The rest ima keep to myself tbh10 Benefits of Lowering the Gaze By: Ibn Qayyim http://t.co/8CudfB29uW@BananaAndRiceP2 let me stalk you :DIt's not worth it..... http://t.co/hfI7gLJMIMSisters don't let the day you die be the first day you wear Hijaab or even proper Hijaab.\n",
      "\n",
      " Fear your LordTwo ways to skip out on the events of the Grave:  \n",
      "\n",
      "1. Die as a Shaheed...   \n",
      "\n",
      "2. Read Surah Mulk every night...Death doesn't scare me, but what is waiting for me in the Grave shakes me to my core... I hope i die as a muslim...You have four enemies:  \n",
      "\n",
      "1. Shaytaan   \n",
      "2. Desires   \n",
      "3. This Dunya   \n",
      "4. Yourself@Fattoooomii JazakAllah Khayr ukht.. i hope you enjoy itAcquiring Knowledge through 6 ways\n",
      "\n",
      "1.Intelligence\n",
      "2. Zeal\n",
      "3. Striving\n",
      "4. Competence\n",
      "5. The companionship of a Scholar\n",
      "6. Sabr\n",
      "\n",
      "Imam Shafi'iUmm Imarah is a women better than 1000 men!Sahabiyyat series: Nusaybah bint Ka'b  http://t.co/44TzASJTKsما قيمة هذه الدنيا التي تتعلقون بها ؟May Allah give us HidayaahTHIS IS OUR REALITY! \n",
      "\n",
      "This today is who we really are, there's no shaytaan to encourage our vile Akhlaaq & Adab. Ramadan exposed usWomen are the majority in Jahanam... \n",
      "\n",
      "Remember that ladies next time you decide to back bite & slander muslims...@_IraqiWitness Lol has anyone ever told you, you should be a comedian?@amatur_rahman@path2jannah1 Its not Muslim twitter its individuals...@_IraqiWitness LOOOOOOOOOL this wasn't even for you, chillax but if the shoes fit lace them! lol you make me LOL @amatur_rahman5 things that cure the heart:\n",
      "\n",
      "1. The company of good people\n",
      "2. Quran \n",
      "3. Reevaluating yourself\n",
      "4. Qiyyam \n",
      "5. Crying at Dawn \n",
      "\n",
      "Ibn Qayyim3 situations where the Blood of a muslim is legal to spill:\n",
      "\n",
      "1. A person who commits Zina \n",
      "2. A life for a life \n",
      "3. Someone whose left IslamRT @bintdad__: Some of the adaab shown on here is vile.Goes to show you none of us have akhlaaq or adab.. Two things we are in desperate need ofRT @AmatArRahman63: Akhlaq<<<<<< forgotten@Abdul_Al_Jame Imran she's not worth your good deeds being taken...Salah Selfies? May Allah purify our hearts wallah we have an illnessRT @bintdad__: Some people are doing 'Salah selfies' on snapchat.... Easy way to lose ajrAuthobililah with all this backbiting & slandering... & the ironic thing about this is, there is no shaytaan to seek refuge from! SuhanAllahRT @path2jannah1: @_UmmWaqqas I did! Alhamdulilah loved the Fatimah RA one cus didn't know so much about her but she's amazingMay Allah reward those who actually keep up with The Sahabiyyat Series...Bi ithnililah this was a form of benefit for the both of us!RT @flurriana: Sahabiyyat series are 💯RT @flurriana: “@_UmmWaqqas: The Sahabiyyat Series: Khansa Radi Allahu Anha  http://t.co/M0vIzz8Q9B”🙌🙌The Sahabiyyat Series: Khansa Radi Allahu Anha  http://t.co/2esevGBgaZ\"Our Lord! We have wronged ourselves. If U forgive us not, & bestow not upon us Your Mercy, we shall certainly be of the losers.\"Surah A’rafWhoever brings a good deed shall have ten times its reward.\"-Surah An`aam Ayah 161Hi, yeah...    \n",
      "\n",
      "Can you lot follow @ATouchOfIslam his tweets aren't bad i promise...RT @bintdad__: @_UmmWaqqas https://t.co/rieVuLROZm#PrayForUmmWaqqasWhy you guys asking me weird questions? lol carry on peasants\n",
      "\n",
      "ask me  http://t.co/8KH4E2Mtkb@SimplyIkran May Allah bless you, i couldn't get over his voice ever since that day!@UmmUmar_ But you're family!@UmmUmar_ I told you, you were irrelevant lol... Plus your request was too hard to break down...@SimplyIkran His voice... SubhanAllah!I honestly miss Zaid.. \n",
      "\n",
      "One of the nicest & sincerest brothers, May Allah protect him & grant him what his heart seeks.. Ameen@SimplyIkran Loool ukht that term is not a good thing to be proud of tbh. It's actually offensive  @UmmUmar_\"Unquestionably, the help of Allah is near.\"-Surah Baqarah Ayah 214RT @traveller_94: \"The men are known by the haqq, the haqq is not known by men\"@ZennyAK & their leading lady Asma Bint Abi Bakr RA <3I have trust issues when it comes to Scholars & Sheikhs, Allah exposed so many people in the past two years its scary!@UmmUmar_ Um HI im Ridwaan no need to beg@UmmUmar_ You're not relevantSo many people are stating their opinions in matters they don't belong in...  \n",
      "\n",
      "But thats none of my business doe 😴Instead of protesting start praying Qiyyam... Thats if you really care for the UmmahIts like people only 'protest' when the media decides highlight what it wishes Wallah our ummah needs our duas not us shouting at deaf earsI don't think protesting will solve any situation.\n",
      "\n",
      "1. No kafir government cares\n",
      "2. You're actually not helping people\n",
      "3. Seems like a trend@abuubaydah0072 JazakAllah for the reminder...\"Yaa Ummaah! In spite of my strong love for you, my love for God and His Messenger is indeed stronger.\"-Sa'd Ibn Abi Waqqas Radi Allahu AnhuWe have great women scholars ya know.. Reading about them is an eye opening tbh. Like there knowledge is top notchi think my Last tweet should give you an indication on which Sahabiyyat i will speak on next :D \n",
      "\n",
      "One of my heroes tbh@Monshur0920 l Depends on the type of Phone if you have an iPhone download \"playtube\" & it will download any youtube videos@UmmSabah How did i forget 'Elelelelelele'? lol thought of food was getting to me tbh\"Ya Khanas!\"\n",
      "\n",
      "Thats how Rasululilah Sallallahu Alayhi Wasallam would address Tamadur Bint Amr aka Khansa!Speaking of Food.. \n",
      "\n",
      "Ladies are your tired of cooking the same ol types of food? Need a change? \n",
      "\n",
      "Follow http://t.co/MzThaaUFHp for recipes!Question: what do you love about your culture?\n",
      "\n",
      "Me: FOOD & FOOD.. OH YEAH DID I MENTION FOOD?@truthsMaster Wallahi they're Kafir O M G !\"The latter parts of this Ummah will never be rectified except by that which rectified the earlier parts of this Ummah.\"-Umar ibn KhattābRT @brothermuadh: ad-Du'â is the weapon of a believer. Therefore, it depends on the believer how he wishes to use that weapon.\n",
      "\n",
      "The key is …\"Beautified is the life of this world for those who disbelieve, and they mock at those who believe…\"-Surah Baqarah ayah 212 \n",
      "\n",
      "Makes u think\"Paradise is for our martyrs and victory is for those who live.\"-Sa'd Ibn Abi Waqqas@ImMisterD  Idk i will look into it, but know they have to follow the 7 conditions when in front of non MaharamThere are 7 conditions for hijab, ukht if what you are wearing doesn't abide correctly with those 7, then darling you're not wearing Hijab..Generally clothes for women must:\n",
      "\n",
      "be loose fitting\n",
      "Should not be semi transparent \n",
      "Should not attract \n",
      "Not resemble the clothing of men.@MannWaSalwah Same but im reducing my activity level for sure@MannWaSalwah He's focusing on ramadan away from social media lol he's smart tbhScholars interpret “clothed yet naked” as referring to:\n",
      "\n",
      "tight clothes \n",
      "light clothing that does not cover what is beneath it\n",
      "short clothes.Lol @MannWaSalwah & i legit sit & laugh reading things along with Muawiya...  \n",
      "\n",
      "Silent observers...   \n",
      "\n",
      "But you lots are major comedy!@MannWaSalwah My favorite is \"4 wives please\" \n",
      "\"Don't ban me twitter, i want friendship\"@MannWaSalwah I like reading troll bios i find them funny!@OfficialHayat You're mixing up hadiths if im not mistaken, the one where we have to \"crawl on ice\" was directed to the Mahdi only...@OfficialHayat There's two the one about the Mahdi being among them is fabricated or Daeef, but the one about the banners raising is not..@FastFMNewcastle \"You must give bayaah, even if you have to crawl on ice to get to him.\"@FastFMNewcastle 1. The biggest indicator is when an army will be sent to fight him & the earth will swallow them. Rasululilah SAW said@Story_of_Islam Waalaykum Salaam ukht, im fine beautiful. how have you been darling?@smshereif Wallah they're more lucky than us in many ways. Jannah is their Abode Bi ithnililah!If you're not taking your Deen seriously whilst Shaytaan is locked up, how do you expect to take your Deen seriously when shaytaan is out?@smshereif People retweet or tweet deadly things on my TL its nothing new for me, but its the whole thing about him being a child...\"Take care of your souls.\"-Surah Ma'idah Ayah 105@smshereif My tweets were nothing towards you ukht not even close, Afwaan if you believe so!@smshereif I see nothing wrong with it, because you're tryina raise awareness May Allah reward you. but that kid's injury killed me insideMay we always be people who are concerned with the situation of the Ummah, not just what the media decides to highlight3. Allahu Alim people's intentions but the Palestinian cause isn't a trend you can pick up & drop off whenever you feel like.2. Its like people assume that after the hype dies down Falestine is fine & dandy... NO, this has been going on for 65 years!1. You what i find sad, we as an ummah seem to only remember Falestine when its being Bombed... Or when the crimes surface beyond beliefwe have become so desensitized@smshereif please stop i can't handle your retweets :/ \n",
      "\n",
      "idk how you can stomach it..May Allah ease our Path to Jannah.May Allah ease my Path to Jannah.\"So what is wrong with these people that they fail to understand any words.\"-Surah Nisaa Ayah 78\"All things are from Allah.\"-Surah Nisaa Ayah 77Some of us only read the Quran whilst others live the actual verses..RT @TaalibJamia: A man complained to Hasan al-Basrī about the hardness of his heart. Hasan al-Basrī رحمه الله said:Do away with it with rem…Surah Najm recited by Salah Bukhatir https://t.co/IQT2GoEsbNSurah Adh-Dhariyat recited by Salah Bukhatir https://t.co/su8HEITnPpSomeday it will make sense. http://t.co/EtjBKNqKDDRT @TaalibJamia: 1. Fajr\n",
      "2. Prophetic Morning Supplications:\n",
      "http://t.co/YQEFVrQRW2\n",
      "3. Qur'ān recitation\n",
      "4. Pray Salāh ad-Duhā\n",
      "\n",
      "Perfect sta…@ForeverHayatii don't get fancyImām Muqbil ر: \"How wonderful is knowledge! It is better than gold, silver and better than beautiful women and dominion!\" \n",
      "\n",
      "[نبذة مختصرة]@ForeverHayatii Don't go, i promise i won't retweet food pictures  😩I blame @SimplyIkran for turning the Ukhts into borderline Feminists... \n",
      "\n",
      " 😩😭@KhilafahAl i want to get a crazy one but idk if its worth the money & pain@KhilafahAl i had my piercing for 2 years, the stupid thing closed in 2 weeks 😩\n",
      "\n",
      "i miss it tbh@UmmAbbas_ @_AbuAbbas This is disgusting becka, can you stop tweeting this picture pls@ThatRevert What is a takfiri sister to be exact?@Muslim_Twitteer Baaaaatil !You stole my idea, i wanted to be \"MuslimTwitterWitness\" \n",
      "\n",
      "@Muslim_TwitteerFeminism Fi Ded! \n",
      "\n",
      "Men & women will never be equal.imagine you being catfished@PurifiedTruth Nahh its Ramadan too much Shirky things happening can't deal tbh.#HonestyHour Women belong in the Kitchen.i thought he was Rishta searching till he dropped the Tumblr link@ImMisterD NOOOOOO COMMENT@khadij_s @SimplyIkran i don't object us women belong at home & better yet in the kitchen serving our menDuring the Khalifah of Umar Ibn Khattab Radi Allahu Anhu, Falestine was conquered...\n",
      "\n",
      " Just incase they didn't know@DatAkSami @_IraqiWitness you're brainwashed Maskeen i actually pity you. You cure a man who was promised Jannah. \n",
      "\n",
      "K Good luck with that!@DatAkSami @_IraqiWitness you curse people who you can't even reach in a Million years Good Luck. BTW its ramadan i suggest you make tawbaZubair bin Al-Awwam\n",
      "Abdur-Rahman bin Awf  \n",
      "Sa’d bin Abi Waqqas  \n",
      "Sa’id ibn Zayd \n",
      "Abu Ubaidah Ibn Jarrah10 Sahaba who were promised Jannah:\n",
      "\n",
      "Abu Bakr As-Siddiq \n",
      "Umar bin Al-Khattab \n",
      "Uthman bin Affan\n",
      " Ali bin Abi Talib\n",
      "Talha bin Ubaidullah@DatAkSami @_IraqiWitness This is the part where we all say \"Ameen\" because A'isha will be in Jannah :D@Khalid_Maghrebi We have one with an actual cool name lol i sad forgot the name but it was unique though...@Khalid_Maghrebi Thats different. From the usual sahaba names given to masjids@Khalid_Maghrebi Really? im actually shocked. Whats the name of the Masjid you go to?There are so many masjids with the title \"Abu Bakr\" in the west, like every city at least has to have one \"Abu Bakr Masjid\" Ma Shaa Allah\"The believers , men and women, are protectors of one another.\"-Surah Tawbah Ayah 71 \n",
      "\n",
      "@UmmahCalling will you respond?\n",
      "\n",
      "THIS IS YOUR UMMAH!Whatever dua you make for someone else may eventually come to you, so think of yourselves when making duas for others.. \n",
      "\n",
      "i know i do lol\"Love for your brother what you love for yourself\"<-- that case is actually true especially when it comes to duasWhen i make dua for someone i keep myself in mind tbh, i want khayr for them but Angels will make the same dua for me... So i make them long@Al_Muhajiroun As long as u keep me in urs Bi ithnililah.. May Allah allow u to succeed in what you desire & that will take you to Jannah..@xcrystaltearx Lol sorry!@Al_Muhajiroun Lol you're welcome to stay you know@Al_Muhajiroun You're back so soon, i thought you said you're completely done with twitter? you missed Muslim twitter that much to rerurnBrownies + a tall glass of milk >I feel bad for the brothers that marry the undercover feminists... Like Good luck to him, i pray he has Sabr!RT @UmmSabah: @BananaAndRiceP2 @_UmmWaqqas the moments of obedience are those where out of love, you'll obey himRT @UmmSabah: @BananaAndRiceP2 @_UmmWaqqas uve been reading the ideal expectation. Human beings err. Marriage is a relationship@BananaAndRiceP2 @UmmSabah You make it sound like you will become a slave, fam its not even like that@BananaAndRiceP2 Lol idk what the rest of that reply means, but swerve!RT @BananaAndRiceP2: @UmmSabah @_UmmWaqqas tbh marriage is fi dead. Team feminist@BananaAndRiceP2 Lol who said im marrying a somali brother?@BananaAndRiceP2 Lol my Zawj will beat me to Qayyim prayers so Bi ithnililah no water will be needed :DIts not about \"selling yourself dreams\" its about knowing your rights in Islam...@BananaAndRiceP2 Its not dreams is my point, & you don't have to be  a scholar to fulfill your rights as a husband any layman can do itAesha needs food in her system ASAP. she's not even making sense..RT @BananaAndRiceP2: U will be selling yourself dreamsRT @BananaAndRiceP2: Only man who will fulfil your rights is a scholar. Expect bare minimum from rest. Don't listen to rowdah and read Fiqh…@BananaAndRiceP2 Regardless if people follow them or not, they were there so that we know whats acceptable or not.@BananaAndRiceP2 There's more to marriage rights then a guy not beating you ukht.People don't even know their rights let alone their spouses but constantly want to speak about marriage... \n",
      "\n",
      "Ummm K@BananaAndRiceP2 Kitabul Nikkah is a must for people to know in my opinion..I think people should study the Fiqh of Nikkah before even considering marriage, educate yourself on your rights sweetheartRT @ForeverHayatii: Yep....\n",
      "What my Ramadan looks like http://t.co/mjHpByRarPRT @bintdad__: elelelelelelele > I am now 3rabwhenever i do \"ELELELELELE\" at weddings elders look at me with crazy eyes because i sound like an animal thats due to be slaughtered@bintdad__ Idk how to even explain it@SitThisOneOut i sound like an animal being slaughtered@UmmSabah Same, i sound like an animal being slaughteredRT @UmmSabah: @_UmmWaqqas I tried once at a wedding. I sounded like an animal that was being killed. I'm never trying it again, ever@UmmSabah Its fun to scream but my skills suck compared to the elders..Take Heed & take advantage of this month, don't let it pass you by...To those who don't take advantage of this Ramadan know that Jabril Alayhi Sallam made dua against you & Rasululilah SAW said \"Ameen\"eleleleleleleleele <--- Every arab & east african knows what that means \n",
      "\n",
      "Loooool@itsnadias Inspired by @fazie_90@KhilafahAl Sorry, i mean its either two thing. One you've found someone & are due to marry (wink) or Two you're looking for a rishta...You've been talking a lot about marriage lately ukht, you tryina get married or Nahh? @KhilafahAlDon't follow your dreams... follow my tumblr: http://t.co/8KH4E2Mtkb🌚Greetings EarthlingsRT @Ridwan_Patel: The effects of the five corrupters of the heart by Ibn Qayyim al Jawziyyah\n",
      "\n",
      "http://t.co/jhR1rOQSJmFive things that corrupt the heart:\n",
      "\n",
      "Excessive socializing\n",
      " Wishful thinking\n",
      "Attachment to others besides Allah\n",
      "Eating to one's fill\n",
      "SleepRT @FastFMNewcastle: \"if you can implement the lifestyle of 50 cent, jay z, justin beiber.... then why can't you implement the lifestyle of…RT @One_Verse_: There are many complaints against 'Muslim twitter' but there is one thing for certain: muslim twitter sure is generous!@ThatFaceOfUrs @CaptivatingDeen I honestly doubt its about that subject but who knows@UmmUmar_ :/@ahmadmusajibril Its like you can read my mind. You tweet reminders just when im most indeed to hear it the most. May Allah bless you :DRT @ahmadmusajibril: Musaﷺmade duaa on Feroun\n",
      "Harounﷺsaid Ameen\n",
      "ALLAH said:Verily the invocation of u both is accepted10:89\n",
      "Ulama sd: It to…@Abdul_Al_Jame I honestly don't know what the sheikh will talk about, i guess its something we both will have to wait and see❝She was Beautiful!❞ https://t.co/czMz4o5ixPSa'd ibn Abi Waqas the conquer of Persia!Umm Imarah like other Sahabis & Sahabiyyats sacrificed a lot for this Deen, your Kunyats are more than a simple names.Ukhtis learn about the women you wish to name your kids after, educate yourselves so that you can educate your kids.Nusaybah took part in so many battles but yet never failed in her duty as a wife, mother, daughter & over all muslimah.Nusaybah bint Ka'b Radi Allahu Anha  (Umm Imarah) had such a huge role to play in the Deen..I see a lot of sisters with the kunyats like \"Umm Khansa\" or \"Umm Imarah\" but little do they know about the women they claim to idolize...As muslims we read surah Fatiha 5 times a day or even more, but yet many of us are unaware of its tasfeer....I honestly believe Surah Fatiha is an overlooked surah. The conversation between us & Allah through that surah leaves me speechless..\"I only complain of my grief and sorrow to Allah.\"-Surah Yusuf Ayah 86Surah Duha heals the broken hearted.@Amoney718 @JkYusuf95 My favorite Ayats in that surah are 72-92 But overall the surah is amazingI leave my heart with Allah as He has said \"im with those whose hearts are torn.\"\"People are of two kinds: The seeker of religion and the seeker of the world.\"-Ibn Taymiyyah@aminaaaaaaaaa_ @Amoney718 He was talking to me ukhtMy heart is so heavy...@ImMisterD lol bedankt voor wat? :/RT @Loquiita63: @_UmmWaqqas Israa, Maryam, Rahman, Qiyyamah, BaqaraI have so many favorite Ayats that i wouldn't even want to start. SubhanAllah all throughout the Quran there are gems & lessonsFavorite Surahs:\n",
      "\n",
      "Anfal\n",
      "Maryam\n",
      "Imran\n",
      "Baqarah\n",
      "Muddathir\n",
      "Duha\n",
      "Qiyyamah\n",
      "Najm \n",
      "Talaaq\n",
      "Ahzab\n",
      "Munafiqeen\n",
      "Rahman \n",
      "Tawbah\n",
      "Isra\n",
      "Qamar\n",
      "Taha \n",
      "Dhariyat@ArabFellaa @CaptivatingDeen  Lol ima sit this one outWhat we heard about Jannah is minor compared to the real deal.@operationlibyia @kroabot I couldnt have said it any better ukht.Allah described Jannah to us in such a beautiful manner so that we may be motivated.@kroabot Nahh but its a motivationI yarn to meet my Lord, but im afraid of the condition i may meet Him in.When i think of Jannah, i picture myself with the Anbiyah, Suhahdaa & the Siddiqin... I picture my Lord being pleased with me...Maturity isn't limited to age just like Hayaah isn't limited to a certain Gender..RT @AnotherAkh: Emaan rises and falls its normal. This aqeeda of ahlul sunnah but to be okay with low emaan then there is a problem.The Messenger of Allāh ﷺ said: \n",
      "\n",
      "“Whoever prays Fajr is under the protection of Allāh...”  \n",
      "\n",
      " [مسلم (٦٥٧)]سبحان الله وبحمده سبحان الله العظيم،\n",
      "\n",
      "SubḥaanAllaahi Wa Biḥamdihi\n",
      "\n",
      "SubḥaanAllaahil 'Adheem\n",
      "\n",
      "Light on the tongue, Heavy on the Scale...RT @ImMisterD: Mosque in Palestine built by Bosniak immigrants fleeing the Austro-Hungarian regime in the late 19th century. http://t.co/oV…@abuubaydah0072 Lol i knowSomali sisters are stunningly beautiful :DI've been cleaning since last night & im still not done.im not made for this housewife job, big props to the sisters who are housewives, Wallah its hard workYa Falestine you are the Quratul Ayn of this Ummah..@SimplyIkran You know that location where the Dijjal will be killed is on a Military base...@_Haroooooon_ No im reading from Sahih Muslim & Bukhari & the hadiths used are 100% authenticRT @Fat_K411: Palestine isn't just for Palestinians. It belongs to the entirety of ummat Muhammad. Al-Aqsa is OURSTa7ya Falestine...Idk but i get sad when sisters idolize these Celebs like why are you idolizing people who will end up in Jahanam?\n",
      "\n",
      "May Allah help our youthWhen i see sisters idolizing Kim Kardashian the first thought that runs through my mind is \"Ukht you do know how she got famous right?Its scary to think about, so many events & confusion I just pray if im still alive im among those who will see the \"Kafr\" mark on the DijjalKitabul Fitan makes you want to crawl into a cave & never come out. Swear majority of the Signs mentioned in that book have already happen.RT @ahmadmusajibril: Fasting is such a beautiful worship that you get reward even while you're sleeping.\n",
      "\n",
      "~Ḥafsa bint Umar \n",
      "#Ramadan@UmmUmar_ @augen_ihre if im not mistaken the Kunya of the Dijjal is \"Abu Yahya\" According to Ibn Kathir Rahimulilah@augen_ihre Interesting, i don't take from Yasir Qadhi but i will ask Sheikh Ahmed more on this topic@augen_ihre Where does it say that ukht?How do people gain massive weight during ramadan? Like i think you're feeding your body more than your soul ya3ni But K.. Keep at it i guessSahabiyyat Series: Fatima Bint Muhammed Sallallahu Ayahi wasallam! http://t.co/2n7XoLRAdu@itsSuperHQ No she was known as \"Umm abuha\" due to the way she looked out for himHer story is actually adorable & her connection with her Father is something worth noting down.. As the Ulema would say she was \"Umm Abuha\"Fatimah Zahra Bint Muhammed Sallallahu Alayhi Wasallam is the Sahabiyyat i will speak on folks.. \n",
      "\n",
      "My treat to you !@Zulfiqaar Nope guess againGuess this Sahabiyyat.. \n",
      "\n",
      "1. She was most beloved to Rasululilah SAW\n",
      "\n",
      "2. She's strong & caring like her father\n",
      "\n",
      "3. She was married to a LionSo im Feeling a little generous like @EnterTheTruthCo & will release another short bio on a Sahabiyyat... Apart of my Sahabiyyat series !\"@Heart_Islam95: An hour till take off ✈️✈️\"\n",
      "\n",
      "Don't hate you're traveling plus it's Ramadan... Send duas my way plsMay the one's whose Sake you love me for Love you Ukht, & may Allah's Angels love you & praise you from Jannah @RepentantSoul_RT @RepentantSoul_: In shaa Allaah. I will. I fell in love with you for Allaah's Sake. @_UmmWaqqas :)I want to do I'tikaaf this year also.If i deleted twitter for good, i doubt anyone would miss me or even remember me tbh..\"@UmmUmar_: @_UmmWaqqas why are you always right\"\n",
      "\n",
      "Something my Zawj better get use to saying lol Xi enjoy deleting tweets,,,, \n",
      "\n",
      "i need to keep my twitter junk free tbh, i don't want a silly tweet to be held against me On yummul QiyyamahWhy does @UmmUmar_ always feel the need to invite herself into my mentions... She's such a BeggRT @strivingsalafi: Okay. I've been disagnosed with a rare form of cancer today. I ask for nothing else except for you to remember me in yo…RT @ForeverHayatii: Take notes ladies. http://t.co/6Wpw64lXXD3.  and I will never ever violate their [the UK] orders,\" read the note signed by King Abdul Aziz.2.  delegate of Great Britain, that I have no objection to giving Palestine to the poor Jews or even to non-Jews1. \"I am the Sultan Abdul Aziz Bin Abdul Rahman Al Saud al-Faisal and I conceded and acknowledged a thousand times to Sir Percy CoxTHE DOCUMENT READS THE FOLLOWING, FOR THOSE WHO DONT UNDERSTAND OR CANT READ ARABI...Before my mentions get Killed about Daleel... This is the Document which Sultan  Abdulaziz Al Saud signed & wrote! http://t.co/aNoL8gTHk0I was shocked to read about that in history class of all placesA sad little known fact, you know who else gave away Falestine... \n",
      "\n",
      "The Saudi Royal Family, it was in an agreement with ChurchHill ....2. Jews took Falestine & started their Ethnic cleansing, from 1924 - now...1. Because of Hitler, the birth of Zionism began. After the declaration of the \"Israeli State\" thanks to Britain & FranceIf u stand by Hitler for what he did to the Jews then u are no better than an israeli who stands by the Zionist \n",
      "\n",
      "Sorry not sorryRT @ImMisterD: @_UmmWaqqas it is sad. Don't see how people can view him positively.Hitler was a sick man. How he treated the Jews was so sad wallah... I met a family member of a Holocaust survivor & their story is sadIn the end Eternity awaits...When you become a practicing muslim, you automatically become a stranger towards your family & friend. Don't let that discourage youThe road is long & can get very lonely but thats what it means to be a Ghurabaah... Jannah is worth the struggles & trails...You've developed unshakeable faith in Allah due to the path you've chosen, its taught you Tawwakul, Sabr, & what it means to have Ikhlaas.Tears that were once shed have dried. A sense of calm & reassurance have come over you with hopes of a better outcome.@TheAbFro & even if you were to depart it will not create any type of animosity between the two of you.@TheAbFro Abbas you were suppose to state your name not your @ but Bi ithnillah, just forget about me!A simple request..\n",
      "\n",
      "My Name is Umm Waqqas ask about me if you don't find me in Jannah Bi ithnillah. http://t.co/enuGIW3ZGjPurify your soul this mouth. Don't let Ramadan be about you just starving yourself, Ramadan is more than that!Make this Ramadan worth it, you're not promised another one..\n",
      "\n",
      "Take advantage of it TODAY even if you didn't yesterday..& Brothers, this ramadan a group of brothers got together to strengthen the bonds of AkhiHood get involved & contact them @AkhiHood_DawahSisters there is a mentoring program going on with @HijabiHood to help you in anything you may need.. DM them, you won't regret it i promiseAny sisters that want to make the best of this Ramadan contact @HijabiHood & any brothers looking to change this Ramadan @ @AkhiHood_DawahDon't let your actions out due the shaytaan, Don't let shaytaan win, you will loose your Akhria in the process...No shaytaan to encourage us to sin, just yourself... Ramadan is the month where you learn about the REAL YOU!Today you have no one to blame for your sins but yourself, i think we should reevaluate ourselves on just that...Theres never a better time to change than Ramadan, you have 3 weeks left make the best of it in hopes of changing...Aren't you tired of always sinning? Isn't your heart empty & always feeling a void? Wallah its because you lack a connection with Allah..First week of ramadan has passed, have you made the attempts to even change? Or are you the same ol person you were before Ramadan started?Jibril tells RasululAllaah ﷺ   \n",
      "\n",
      "\"Do as you please in this world because there will come a day that every single thing will perish!\"Sahabiyyat Series\n",
      "\n",
      "Umm Haram Bint Milhan Radi Allahu Anha \n",
      "\n",
      " http://t.co/sHihazUgSu\"When people see wrong or evil and they don’t change it then it is eminent that the Punishment of Allah will fall upon them.\"- Abu DaawudIf only we as Muslims understood the verses of the Quran we read every dayAlhamdulilah im not an alim, imagine being punished by Allah for the knowledge you decided to conceal..\n",
      "\n",
      "Allah has a stern warning.The term \"Khawarij\" is being ascribed to the wrong types of people who don't even fit the basic criteria...\n",
      "\n",
      "Education is key I keep saying!Only after the Dust settles do we start to understand the Hikmah behind certain situations.After the Fitnah in Misir Allah exposed so many people, from scholars to laymen.If it wasn't for the Fitnah in Misir the ummah wouldn't have noticed the Munafiqs in Scholarly clothing..Riyaah is something we should all fear, and ask Allah for protection from.If you are constantly worried or even a tad bit worried about your ratio on twitter wallah its high time you checked your intentions..The Description of Paradise by Ibn Al-Qayyim... Just a glimpse https://t.co/OOjEGE7XmAAmeeen a 10000000000000x \n",
      "\n",
      "Jkikwhsijwkshdiambzgusnwks :D\n",
      "\n",
      "\"@KhilafahAl: @_UmmWaqqas http://t.co/1UONaPxDPA\"Meeting the Hoor Al Ayn... https://t.co/JlUtJq6rQk@KhilafahAl Lol i know what you mean, but nahh mate i can't change my avi or header it feels weird to do so.. i just want it@KhilafahAl Lol dont hate@KhilafahAl Mind adding your avi too@KhilafahAl Can you send it to me plsYa Rabbi Grant my husband 72 Hoor Al Ayn! AmeeenO M G\n",
      "\n",
      "YOUR HEADER IS AMAZING! Ameen ameen x100000000000000 @KhilafahAl  making the same dua for mine too Bi ithnililah\"Rise of the Shield\" Brought to you by @EnterTheTruthCo \n",
      "\n",
      "Another episode ENOY FOLKS ! https://t.co/dsj3mvck87RT @TaalibJamia: \"..حَسْبُكَ اللّهُ وَمَنِ اتَّبَعَك مِنَ الْمُؤْمِنين\"\n",
      "\n",
      "O Prophet, sufficient for you is Allāh and for whoever follows you…Anyone who makes dua for someones else should know that the Angels make the same Dua for them, so make it long & be sincere!Don't forget about me in your duas when you guys are about to break your fast. You know that dua doesn't get rejected (Make it long ya3ni)@OfficialHayat Yeah SubhanAllah, ima catch up by the end of the night though hopefully In Shaa AllahReminder  Don't forget to finish the 8th Juz Surah Al An’am Ayah 111 - A’raf Ayah 87\n",
      "\n",
      "If you intend to complete the Qur'an this month ☝️@OfficialHayat 5th so i need to hurry and catch up, SubhanAllah\"Be in this life as if you were a stranger or a traveller on a path.\"-Bukhari\"So! be satisfied with whatever Allah grants you from this Dunya.\"-Ibn Qayyim\"This Dunya is like an unchaste woman, who is not satisfied with one husband.\"-Ibn Qayyim\"Verily, my prayers, my sacrifice, my life, and my death are for Allah, the Lord of All the Worlds.\"-Surah An'am Ayah 162RT @bintdad__: RT this if you think I beg for RTsRetweet if you love IslamRetweet if you're Muslim \n",
      "\n",
      "Favorite if you love Rasululilah Sallallahu Alayhi Wasallamdeze mensen denken dat ik uit Amerika lol K@ShMufid kijk naar de video die ik geplaatst dat is slechts een glimpPeople tell me i sound like a Royal, soft spoken & extremely polite...\n",
      "\n",
      "im like K well i am prestige@ShMufid Lol how many have you read, Alhamdulilah I've done my studies to \"try\" to understand their Aqeedah10 ways of protection from Shaytaan even after Ramadan http://t.co/xAfEJUTGE7@ShMufid They worship Ali &Hussein@KhilafahAl Lol people like that raise my blood level@AbuIlyas1414 You either retweet people with khawarij like tendencies or you're showing seeds of khawarij or takfirismim actually shocked people are just now learning about the Rawfids, SubhanAllah education is Key to protect us from ignorance & misguidance!@ShMufid Their whole belief system is based on ShirkForget the Rawafids im excited for the next couple of episode of The Light Series that are due to release \n",
      "\n",
      "THANKS TO @EnterTheTruthCoAlhamdulilah for Ahlul Sunnah! \n",
      "Alhamdulilah for guidance!The Aqeedah of the Rawafidah have no basis, its just pure Shirk! They worship Ahlul Bayt just like Christians worship Isa Alayhi Sallam\"Demolition of The Shia Creed\"\n",
      "\n",
      "Shirk Ala Shirk! \n",
      "\n",
      "The New episode of the Light series thanks to @EnterTheTruthCo \n",
      "\n",
      "https://t.co/ayX02egluYConditions to a sincere Repentance http://t.co/ySwCAH9gpfTHE BENEFITS OF SINCERE REPENTANCE  http://t.co/cT1HkYfOkY\"And turn to Allah, all of you O believers, So that you may proser.\"-Surah Nur Ayah 31\"Whoever can guarantee the chastity of what is between his two jawbones & what is between his two legs, I guarantee Jannah for him.\"-Bukhari\"Whoever repeats after the muadhdhin sincerely will enter Jannah.\"-Abu Dawud\"Whoever asks Allah for Jannah three times, Jannah will say: “O Allah, enter him into Jannah.\"-Tirmidhi\n",
      "\n",
      "Allahumma inni As'aluka Al Jannah.Fi Jannahtul AdnanTheir Gheerah is beyond on point. \n",
      "\n",
      "Like they get so mad when you anger THEIR husbands, Wives like that >> \n",
      "\n",
      "Only in Jannah@augen_ihre I find there cures actually cute, TabarakAllah their Gheerah level is on point!So you can't steal something that was already yours to begin with..The Hoors aren't stealing your husband, sorry but our Husbands already belong to them, if Allah permits them into Jannah !@augen_ihre No problem they're not stealing something that already belongs to them@UmmUmar_ LOOOOOOL & you're still here FAM UNFOLLOW ME THIS INSTANT YOU PEASANT !@CaptivatingDeen Idk actually umm let me find out for you@UmmUmar_ You're brittle for no reason calm down, the unfollow button is --------> right there homie no one is stopping you :D@CaptivatingDeen You have to order itHaadi al-Arwaah ilaa Bilaad il-Afraah by Ibn Qayyim is a MUST READ book!\n",
      "\n",
      "Wallah i highly recommend it, it will have you loving Jannah MORE!\"Her attention is restricted to her husband. She desires none but him, just as his attention is restricted to her.\"\n",
      "\n",
      "Source: Haadi al-Arwaah\"And the covering on her (Hoor Al Ayn) head is better than the World and all that is in it.\"\n",
      "\n",
      "Source: Haadi al-Arwaah1. \"And if u ask about what they will be hearing, then it is the singing of their wives from among the Hoor Al Ayn\"\n",
      "\n",
      "Source: Haadi al-ArwaahThe way Ibrahim Alayhi Sallam dealt with his father is a lesson to us, showing us that we still have to be respectful when we differ.3. And that He will surely substitute for them, after their fear, security, for they worship Me, not associating anything with Me.\"-Nur 552. Just as He granted it to those before them and that He will surely establish for them therein their religion which He has preferred1. \"Allah has promised those who have believed among you and done righteous deeds that He will surely grant them authority upon the earthSurah Nur Ayah 55AbdulWadood Haneef Surah Isra Ayats 73-84 https://t.co/Bi1R4jnGFsAlhamdulilah for having the Ability to call myself a Muslim, Alhamdulilah for Islam!Have Sabr & know that \"Allah loves those who are patient.\" \n",
      "\n",
      "وَاللّهُ يُحِبُّ الْمُحْسِنِينَWhat you are facing today is minor, & tomorrow will make you better & stronger.When facing a calamity we always tend to forget this important Ayah \"Allah does not burden a soul more than it can bare\"Nothing is without a purpose. Allah knows your affairs & knows your struggles, so \"don't be sad Allah is with us\"Wallah we have so much to be thankful for including our trials & tribulations. There is Hikmah behind everything that happen in your lifeReevaluating you life shows you how much you been so ungrateful towards Allah.وَقُلْ جَاءَ الْحَقُّ وَزَهَقَ الْبَاطِلُ ۚ إِنَّ الْبَاطِلَ كَانَ زَهُوقًHave Sabr the Falsehood will soon perish this is indeed a promise from Allah!Note that this Deen has never succeeded due to the \"majority\" supporting it, hence why we have the term \"Ghurabaah\"May Allah make us of those who stand with the truth regardless of those who denounces it or supports itPeople do realize that there are differences of opinions... im just saying, the majority have neither agreed nor disagreed!@sa_fiyah @One_Verse_ From what i know & have read its in Albani's book of weak & fabricated hadiths..RT @One_Verse_: By the way, the hadith that divides ramadan into three parts (mercy, forgiveness, salvation from hell) is a weak hadith- ju…\"Never mind what Allah has told you; what He has not told you is even greater.\"-Muslim25 WAYS TO ENTER JANNAH http://t.co/QzTQPBmgTMDescription of Jannah http://t.co/EXPQ9KqYN9\"And turn to Allah, all of you O believers, So that you may proser.\"-Surah Nur Ayah 31\"And be patient for the sake of your Lord.\"-Surah Muddathir\"'SubḥaanAllaahi Wa Biḥamdihi',100 times during the day,wipe away sins even if they are like the foam of the sea.\"\n",
      "\n",
      "[رواه البخاري ومسلم]\"The sincere hearts and the pious supplications are soldiers which can never be defeated.\"-Ibn TaymiyyahSurah Waqi'ah https://t.co/WdrKmaXsF1\"With wide lovely eyes.\"-Surah Waqiah Ayah 37-40 ♥RT @AzadMiaaah: Solution to Depression, Problems, and a personal incidents — Shaykh Muhammad Mukhtar Ash-Shinqitee [Watch until end] http:/…\"Remind yourselves of Allah, for it is a cure.\"-Umar Ibn Khattab\"When the Iman leaves the heart, the heart drifts away from Allah.\"@Abdul_Al_Jame No not really Baklava is a sweet of its own..@Abdul_Al_Jame Lol i know what Keer is though & yeah i think we have the same understanding of 7alwa@Abdul_Al_Jame Lol we call 7alwa a sweet dish... porridge is come thing completely different from what i knowBut us on the other hand we can't even sacrifice a night to stand before Allah or a dollar to donate in zakaat!\n",
      "\n",
      "Shame honestyThese men & women scarified not only their families, wealth but also their lives for the Deen of Allah.@Ayesh2008 They shared the same miswaak & took baths together lol.. Made jokes on who hogged the water more ahahahaI have top favorite Sahabiyyats but i im so stuck on picking my top favorite Sahabis.. Like each of those men bring happiness to my heart!@Ayesh2008 He would lay on her lap while reading Quran@_khaadijaa A marriage like theirs or no marriage at all pls... They're truly role models ! @Ayesh2008Lol whenever i look up to the moon & just stare at it randomly that story i retweeted would come to mind. \n",
      "\n",
      "His lines were 😍 \n",
      "Romantic x1000I gush over the relationship between Rasululilah SAW & A'isha RA <3 \n",
      "\n",
      "They were perfection!Ahhh he was so romantic..RT @Ayesh2008: 7.\"Wallahi (I swear), ya Aisha, you are like that to me and more.RT @Ayesh2008: 6. So the Prophet (salla Allahu 'alaihi wa sallam) got up, walked to Aisha, kissed her between the eyes, and said,RT @Ayesh2008: 5. She replied, \"Abu Bukair said that if you looked to the majesty of the moon, it twinkles and lights up the world for ever…RT @Ayesh2008: 4. The Prophet (sallaAllahu 'alaihi wa sallam) asked, \"What did he say?\"RT @Ayesh2008: 3. He said \"What's the matter?\" She replied \"If Abu Bukair Al-Huthali (the poet) saw you, he would know that his poem was wr…RT @Ayesh2008: 2. She became overwhelmed by the majesty of that sight was staring at him long enough for him to notice.RT @Ayesh2008: 1. It was very warm, and Aisha (RA) and \n",
      "looked to the Rasool (SAW) blessed forehead and noticed that there were beads of sw…@capriciousIife @bintdad__ No marriage tweets thats for sureThis book though 😩\n",
      "\n",
      "The Sahabiyyats were amazing x1000@augen_ihre Mine too hands down\"If we, the companions of the Messenger of God, had any difficulty on a matter, we asked ‘Aa’ishah about it.\"-Abu Musa Al-Ashari@augen_ihre Fam she's awesome top Don! Kept it real & was never afraid of anything lol@TaalibJamia Ya sheikh you should make one.. & @ me when you're done so i can read it!@augen_ihre Loool did you read the story of when she ripped his clothes out of jealousy.. Bro only she can get away with it@augen_ihre Lol she never fails to amaze me & her jealousy was out this world.. bare cuteness!A'isha-\"How is the knot?\"\n",
      "\n",
      "Rasululilah- \"Like the rope’s knot\"\n",
      "\n",
      "After some time..\n",
      "\n",
      "A'isha- \"How is the knot?\"\n",
      "\n",
      "Rasululilah- \"Ala haalihaa\"Its official my favorite Reciters:\n",
      "\n",
      "Salah Bukhatir  \n",
      "AbdulWadood Haneef  \n",
      "Moutasem Al-Hameedi\n",
      "\n",
      "Recitations like theirs pls >@Nadera__ Sad thing is they have no Shaytaan to blame for their disgusting behavior2. He actually breaks down & weeps, like its so hard for him to read those ayats, so he chokes trying to hold back tears..1. SubhanAllah i find it amazing that whenever Moutasem Al-Hameedi comes to ayats talking about how the people accused Allah of having a son@Nadera__ LOOOL its only for retweets which is disgusting, no type of hayaah tbh@ThatRevert Lol trust me i have many faults & people have been quick to correct me on them, perks of Muslim twitter tbh@ThatRevert No problem, hopefully you correct me when im wrong In Shaa Allah@Nadera__ yeah thats a huge red line. unless they're an ailm & they've studied taharah throughly & have the ijazaah to prove it@ThatRevert i know but still we should hide the faults of others even those unknown to the majority@ThatRevert you shouldn't bait her out like that salmanIt truly has all the answers we seek. Its just that sometimes we just don't look hard enough, which is sad & a loss on our end.There are so many lessons & gems can be picked up in all throughout the Quran,\"Indeed this, your religion, is one religion, and I am your Lord, so worship Me.\"-Surah Anbiya Ayah 92Amazing Ayats to read to give you an iman boost about who we shouldn't doubt Allah concerning our duasFrom Nuh Alayhi Sallam to Zakriya Alayhi Sallam Allah tell us their duas & describes to us their state they were in whilst making those duas2. Those ayats are showing that nothing is too big for Allah to grant, No dua is impossible for Allah. The key is truthfulness & yakeen1. Surah Anbiya Ayahs 75-92 are incredible, one of the reasons being how Allah mentions certain duas of each Nabi & how He accepted them\"Whoever does not intend to fast from the night before, there is no fast for him.\" \n",
      "\n",
      "[صحيح الترمذي (٥٧٣)، حسنه الألباني]@ZumarulJannah Lol FGS he's amazing, i only like Ghamdis when he's reciting the 40 hadiths tbhim such a huge fan of Salah Bukhtir's reaction but Moutasem Al-Hameedi is slowly growing on me...@ZumarulJannah Nah im a huge fan of Bukhatir but Moutasem is growing on me@ZumarulJannah SubhanAllah its sad you should listen to Moutasem Al-Hameedi recite it...The last couple of ayats in Surah Maryam is heavy on my heart.. SubhanAllah you should read it, its get me emotional for so many reasonsThe Prophet ﷺ said: \"No one is wronged and bears it with patience but Allāh will increase him in honor.\"\n",
      "\n",
      " [الترمذي، صححه الألباني]\"Whoever reads .... (Sūrah al-Ikhlaṣ) until he finishes it 10 times, Allāh builds a Palace for him in Paradise.\"  \n",
      "\n",
      "[سلسلة الصحيحة (٥٨٩)]كُن فَيَكُونُimprisoned in my own thoughts.\"Allah makes the way to Jannah easy for him who treads the path in search of knowledge.\"-Reported in Muslim@DaughterofJM You know that one struck the heart\"A time will come upon people that a man will no longer care about whether he gets his money by halal or haram means.\"-Bukhari@Umm_Sulaim Lol even non-Muslims know about this bit of history you choose to ignore. Allahu Mustaan! May Allah open our hearts & eyesAlhamdulilah for the Path of the Salaf, their path is a roadmap to success!@Umm_Sulaim Ukht clearly you have no idea what your are speaking about, on top it its ramadan so lets argue. Forgive me if i hurt you btwPeople can't argue with history. \n",
      "\n",
      "Either you don't know yours, or you choose to be blind. Either way its fact recorded for us to review.@Umm_Sulaim Either you are blind or you don't know history to begin with.. Who helped the brits demolish the Khalifah ? @Assimalhakeem@__Verbalist__ So times you don't have to be a \"knowledgeable\" person to see the reality of things. The Ummah sees through the lies!@__Verbalist__ Therefore keeping the status quo the same. So that their nice thrones can be saved, Allahu mustaan@__Verbalist__ Honestly its all about mind control.. The more \"Ulema\" say he's Wali ul Amr the more muslims will believe so & never revoltSomeone retweet me so I become famous...@CaptivatingDeen Telling them to go back to the kitchen...\"To say the intention for the Salaah out loud is an innovation.\"-Sh. Saalih al-Fawzaan\n",
      "\n",
      "[Al-Mulakhas al-Fiqhee]@FSoldierOALLAH Lol beauty is in the 4 requirements to look for when choosing a spouse 😎 DONT @ ME \n",
      "\n",
      "You can't be butters@FSoldierOALLAH Deen is number one priority but, the sister should at least be decent to look at.. Just saying !\"And whoever turns away from My remembrance indeed, he will have a depressed life\"-Surah Taha Ayah 124@FastFMNewcastle An acknowledgment to the mercy & forgiveness of Allah. A testament to Hadith Qudsi # 34@ZumarulJannah At times its our sins that hold us back@RepentantSoul_ Perhaps its the person translating his work. trust me ibn Kathir isn't infallible but he's a 100% trust worthy AlimThe Truth Is Not Known By The Men, Rather Men Are Known By The Truth... http://t.co/4ZzoT6Oq1T\"He who recites the two Ayat at the end of Surat Al-Baqarah at night, they will suffice him.\"-Hadith reported in Sahih Bukhari and Muslim\"One rak‘ah during the night is better than twenty during the day.\"-Amr ibn al-‘Was \n",
      "\n",
      "Source: Mawsoo‘ah ibn Abi Dunyaa 1/247@RepentantSoul_ No they were different people... Zaid ibn Khattab died in the battle of Mu'ta whereas Abu Hurairah lived after that battle@RepentantSoul_ I love ibn KathirAnd i have stretch this so many times be careful who you take your knowledge from. SubhanAllah its actually one of the most important thingsGet educated about your Deen & basic understanding of history so that no one can sell you their version of the \"truth\"...You don't have to be an Ailm to be on the truth, but i highly recommend you get ilm to understand the truthBut as muslims we believe according to the Sunnah of Allah, that history will also shows us where we are headed.. Everything is on replayHistory is there to explain where you came from, the struggles people had to endure & the hidden sacrifices they made.@__Verbalist__ Oi DMGet educated so that the next Tom Dick or Harry can't sell you lies\n",
      "\n",
      "Understand that Lies wrapped in a beautiful bow & ribbon is still lies& that is what Iqra is important. Education is the key to understanding & growing...Those who don't know history will be fooled by the lies of others. History shows us the ugly truth than many like to cover up..@__Verbalist__ oi what question@__Verbalist__ whyAlhamdulilah its Ramadan! \n",
      "Shaytaan is locked up\n",
      "Taraweeh prayers every night \n",
      "\n",
      "Blessings upon blessings !I have my own sheikhs i take from Alhamdulilah. May Allah protect us from being blind to the truth in front of us though@ibnaarif93 Allah knows best@umm_Zubair Allah knows best. But 1.you can't debate someone who says \"our king\" 2.The debate is never going to go anywhere & 3. its ramadanI have more Akhlaaq than to sit & argue with a Da'ee, may Allah protect & guide us all to the straight path & keep us firm!RT @Assimalhakeem: @_UmmWaqqas those who have no bai'ah for a. Muslim ruler are in great danger. I didn't ask people to give bai'ah to our …RT @Assimalhakeem: @_UmmWaqqas what Muslims are you talking about? I am talking about Saudi Muslims. He is their ruler and they have him Ba…RT @Assimalhakeem: @_UmmWaqqas من أتاكم وأمركم جميع على رجل واحد يريد أن يشق عصاكم ويفرق جماعتكم فاقتلوه@Assimalhakeem Alright, im not even on the right standard to argue with you. I have more Ahklaaq than that. May Allah guide us all.@Assimalhakeem No disrespect to ya sheikh wallah, Allah knows best & may he forgive me if im wrong@Assimalhakeem 1. we as muslims havent chosen the saud family the british government chose them for us if i remind you about history..@Assimalhakeem Wallah ya sheikh you are more knowledgeable than i am, but i think you're misquoting the hadith for number of reasonsUmm al-Mumineen A'isha Bint Abu Bakr Radi Allahu Anha! \n",
      "\n",
      "I have so much love & admiration for her is crazy... May Allah unite us with herHer story give us so much courage as women, as YOUNG women. A story of strength, courage, knowledge, love & over all respect..She is witty & never afraid to express her feelings to anyone whether it be her Beloved husband Rasululilah Sallallahu Alayhi SallamSubhanAllah A'isha is such a great person wallah she's someone who every time i read about her amazes me.Why was Sheikh Suleiman al Ulwan hafidhullaah imprisoned? http://t.co/3IojyrEBM8RT @bintdad__: إن شاء الله I will start my series on FridayIt was only fair that i start the series with the story of my favorite Sahabiyyat Rumayasa Bint Milhan! \n",
      "\n",
      "Enjoy !Sahabiyyat Series (Rumayasa Bint Milhan) http://t.co/HMVn8sqCw4السلام عليكم و رحمة الله و بركاته\n",
      "\n",
      "Ramadan Mubarak from me to youThose who need me can contact me via DM i will reply since all notifications are sent to my phone... & to those who have me on KIK HOLLA !May Allah grants us all happiness in this Life & the Next, Accept our efforts with any ibadaah May He grant us His love, Mercy & forgivenessAlso a small request PLEASE keep me in your DUAS. Don't forget me when you're breaking fast & when you're standing before Allah in QiyyamI will spy on my favorites here & there. Post those series i promised along with @bintdad__'s So Bi ithnillah stay tunes3. Watch what you say because Jahliyyah will not be a valid excuse to have left the fold of islam ( mocking any aspects of Deen)2. Cut the Bakwaas & limit during the Month of Ramadan. Lets not waste i debating & bickering..I wanted to remind you to \n",
      "\n",
      "1. Sign up for @HijabiHood's mentoring programs for sisters only. Its a nice way to build the bond etcIts Ramadan & I've wasted too much time on here so i will take a nice beautiful vacation from twitter..\n",
      "\n",
      "But before i make my official leave\"The good deeds are made easy for the blessed, & bad deeds are made easy for the wretched.\"-Hadith reported in BukhariIbn 'Uthaymeen:  \n",
      "\n",
      "\"Whoever fasts and does not pray, his fast is not accepted by Allah\"  \n",
      "\n",
      "[Noor ala darab no. 26]Especially when you understand the Ayahs the Imam is reading & what is leading him to cry... Ya Rabb so much raw emotionsWallah when you understand the Ayahs you are reading or that are being recited in Taraweeh its that much powerful, Emotional & iman boostingI understand the pain that is not spoken but seen through the eyes.10. Our Dhikr - Wasted, because it does not affect us or our hearts9. Our Service - Wasted in service of someone who will not bring us closer to Allaah, or benefit in dunyaa8. Our Intellect - Wasted on things that are not beneficial, that are detrimental to society &individual, not in contemplation or reflection7. Our Time - Wasted, not used properly, to compensate for that which has passed, by doing what is righteous to make up for past deeds6. Our Love - Our emotional love is misdirected, not towards Allah, but towards something/someone else...5. Our Bodies - Wasted because we don’t use them in ibadah & service of Allah4. And  a feeling of peace and contentment. In its place, our hearts are filled with something or someone else \n",
      "\n",
      "Part 24. Our Hearts - Wasted because they are empty from the love of Allah, & the feeling of longing to go to Him\n",
      "\n",
      "Part 13.\n",
      "3. Our Wealth- Wasted by using on things that will not bring us reward. We waste our money,our status,our authority,which have no benefit2. \n",
      "\n",
      "1. Our Knowledge - Wasted by not taking action with it \n",
      "\n",
      "2. Our Actions - Wasted by committing them with out sincerity1. 10 Things we Waste \n",
      "\n",
      "Written by ibn Qayyim al-Jawziyyah RahimulilahWOE TO MEWallah Maryam Alayhi Salaam is someone we should look up to, & look in depth into her story especially us sistersSurah Maryam is actually one of my favorite Surahs... Its so beautiful on many levels.. & the story of Maryam is just amazingMoutasem Al-Hameedi Recitation of Surah Maryam https://t.co/vaJimWviYF\n",
      "\n",
      "SoothingMay Allah preserve the whole family though & unit them in Jannah !@ana_mrida There is a difference with doing things on purpose & by mistake. But Allah knows best i will ask sheikh AMJ when i call him againRT @fazie_90: When Bae doesn't dm you during Ramadan, you realise it was Shaytan dm'ing you the other 11 months ~@AbuManz Whats arab mentally? Matters of the Deen?  @UmmUmar_@AbuManz You should seriously watch what you make mockery out of, this is matters of the Deen nothing to do with race trust me @UmmUmar_@AbuManz Are you serious? Thats not even what she said. Fear Allah!  @UmmUmar_You know whats even more sad, is that we have no shaytaan to blame today.. SubhanAllah who are you going to blame in front of Allah?For the past 4 days I've been trying so hard to hold my tongue but the ignorance went sky high...\n",
      "\n",
      "Sorry for the rudeness but this is stupidFear Allah when trying to disrespect any aspect of his Deen where its matters of Khalifah, Sharia or any other topic people like to mockYou guys always want to make things about race.... ITS NOT ABOUT THAT IT NEVER WAS ABOUT THAT TBHIts not an arab vs somali thing. Its the Deen we are discussing here!! least you can do if you have no knowledge is keep quite..You lot need to realize some of the things you say WILL TAKE YOU OUTSIDE ISLAM! Stop the ignorance & get educated..@araabhashi People like thats should 1. Fear themselves leaving the fold of islam & 2. Fear the fire... Yike sorry but thats ignorance x1000There are so many ways i want to die, but ultimately its not my choice, i just pray i die reading the Kalimah tbhIkran let me know when u stop retweeting people that raise my blood level. its even what they say but their level of ignorance thats amazingI still dont like fan girls...\n",
      "\n",
      "You're embarrassing yourself please stop 😠😠😠@ShogunSupps Go away\"Whoever fasts during Ramadan out of sincere faith and hoping to attain Allah's rewards, then all his past sins will be forgiven.\"-Bukhari@Al_Muhajiroun People are programmed to believing only rebelling makes you a khawarij so that that status quo stays the same@Al_Muhajiroun If rebelling makes people Khawarij then majority of the Sahaba & old school scholars are all Khawarij..@Al_Muhajiroun No he actually rebelled against his leaders at his time if im not mistaken & sought out to conquer FalestineI think @MannWaSalwah & I spoke too much, we need to go back to quietly observing things@OuridaTunsiaa Lol im serious i don't see the purpose of itThe quote i always remember when i get way ahead of myself \n",
      "\n",
      "\"One is ignorant and thinks himself a scholar.\"-Fudail Ibn Iyad\"All hard work is easy for those who believe in Allah, when they know that Allah hears them.\"-Ibn QayyimLol @ imran... im surprised he doesn't get bare hate from the other side with his sly commentsRT @TaalibJamia: \"@Muoosh: Awkward found in Makkah LOL http://t.co/s8G1oCUncC\"\n",
      "\n",
      "King Abdullah?? 😅Have Faith in Allah & know that you will be taken care of no matter the outcome of things.. Your efforts will not go to waste as promisedPure tawwakul in Allah takes you far in this life & in the next... But the key is not to say you believe with your tongue but rather heart@bintdad__ im not thirsty thank you very much....May we be of those who worship Allah even after Ramadan ends..@bintdad__ you know how hard it was to say that out loud aimed at a peasantI like you loads Aziza@bintdad__ ShhhhhhhhDon't forget to finish the 3rd Juz إن شاء اللهMay Allah Bless them both & reward them for their efforts..Lol they had to end that debate, their people had no feet to stand on ahahahahahahahaha SWERVE@Mrgreatful1992 Allah knows best, im just really tired of seeing people make ignorant comments on matters they know nothing ofBeware of what u say because certain things can & will take you OUT the fold of Islam.You don't want to take that risk especially in ramadanIf you are not a scholar or even a student of knowledge then your opinion on matters of Deen is unwanted & to be quite fank irrelevant!People need wisdom when they talk, like don't chat crap about matters that have to do with Deen\n",
      "\n",
      "You're entering unauthorized territoryTune into channel 4@Abu_Baraa_ No that was only a description of where majority of his followers will come from..@fazie_90\"Bring your proof if you are indeed truthful.\"-Surah Naml Ayah 64I don't blind follow i need to know the source of the hadiths please @AbooRuqayyahAS  @ForeverHayatii\"Indeed, those who conceal what We sent down of clear proofs those are cursed by Allah and cursed by those who curse.\"-Surah Baqarah 2:159i wish i had knowledge... \n",
      "\n",
      "Rabbi Zidni ilmaRT @BananaAndRiceP2: Surah hujurat is one of them surah's where if you have not memorised it or know its tafseer your character as a Muslim…3 Qualities are from patience\n",
      "\n",
      "1. Not speaking about ur misfortune\n",
      "2. Not speaking about ur pain\n",
      "3. Not praising urself\n",
      "\n",
      "Sufyaan Ath-ThawriWhat is decreed for you will not skip youRT @TaalibJamia: If u don't wear Hijab, start now. You're not praying 5x times a day? start now and never stop. Listening to music? Stop no…RT @TaalibJamia: Now is the time to break our hearts for Allah's sake by breaking our desires. Correcting our faults and wiping sin after s…Fi Jannatul Adnan\"It may be that a fasting person gets nothing from his fast except hunger.\" \n",
      "\n",
      "Reported in Ibn Maajah\"The heart is like a bird: love as its head and its two wings are hope and fear.\"-Ibn QayyimMay YOU be united with the Anbiyyah Suhadaa & Sadeeqin. May Jannah call out YOUR name.. May YOU get all that & more\n",
      "\n",
      "Yes these are indirectsMay Allah grant YOU all that you wish & desire. Both in this Dunya & Akhria \n",
      "\n",
      "May Allah & His angels love YOUWith everything comes limitations@MannWaSalwah @striving_ukht @UmmAbbas_ @ZumarulJannah @bintdad__ @UmmDujanah_ @alfirdaws_ May Allah & His angels love you T &grant u jannahNo Jinn like to be trapped.. So the person who is doing Sihr on you is paying with a big prize.. Plus Jinns don't help out for freeSubhanAllah Ruqyah may be scary at first but its actually interesting tbh.. Like the Jinns majority of the time are there due to Ayn or sihrYou should listen to those conversations wallah its iman boosting ya know especially to those who've had ever heard a Jinn speak out loudFalestine has always been the Quratul Ayn of this Ummah & will always be.Bani Israel were the favored & the chosen people of Allah till their transgression & ignorance earned them His anger & curseLearning arabic helps you understand your Deen so much more & plus everything sounds so much better in Arabi tbh especially Hadith QudisThe verses of Allah are so much more powerful when its understood.. Thats why its so important not only to learn arabic but to study Tasfeer\"If there is no dua in your ibadaah then the core of your ibadaah is missing.\"-Sheikh @ahmadmusajibrilIf you're fasting & you're about to break your fast DONT HATE add me in your duas but only if you know we will both benefit\n",
      "\n",
      "Example: JannahI have so much hope for our next generation, i have a strong feeling they will lead this ummah to new heights..The virtues of dying in Ramadan though >>>Allahumma ansur ikhwaanan al-mujahideena fi sabilika fi kulli makaan!!@McHappyPants__ Behave@_Only1M im guessing the other 20 is from those Hoor tweets & lowkey (not always me) Polygamy and marriage tweets... Awks ala Awks \n",
      "\n",
      "LOVE ME@_Only1M Not me you gave me Ijazaah@BananaAndRiceP2 Don't get sassy missy, not all siblings look alike & i know he's your brother lol you had him in a insta video@Map_patel Thanks for not bating my @ this time @BananaAndRiceP2@DaughterofJM Bro Allah says they are wives@BananaAndRiceP2 he looks like youThe Hoor Al Ayn are WIVES!@DaughterofJM THEY ARE WIVESFair warning the Lecture on the Hoors is very descriptive due to the sheikh speaking on how they interact with their Husbands.FIRST:  HOOR AL AYAN   \n",
      "\n",
      "http://t.co/3uNxUTUi9S … \n",
      "\n",
      "SECOND: JANNAH   \n",
      "\n",
      "http://t.co/IYHqjMPQUV \n",
      "\n",
      "Both amazing lecture & very descriptiveThis lecture is beyond amazingJannah Bi ithnillah 😍🙏im done sorry i was listening to a lecture describing Jannah & now they're on the topic of the Hoors\"Give the believers who do good deeds glad tidings for they will get mansions underneath which rivers flow & wives who are more beautiful\"\"One of the best things one would have in Jannah are the Hoor Al Ayn\"\n",
      "\n",
      "This sheikh is spot on72 > 1 \n",
      "\n",
      "ANYDAY\"No slave of Allah commits a sin except that a blessing from Allah is removed from him equal to that sin.\"-Ibn Qayyim\n",
      "\n",
      "Source Tareeq v1 p271\"To be alone means that u avoid bad company. But to have a true friend is better then being alone.\"\n",
      "\n",
      "Adab Shari'iyyah 4/124\n",
      "\n",
      "DM @HijabiHood\"Why do I see you hungry for food but fed up with knowledge?\"-Abu Dardaa \n",
      "\n",
      "[Jaami'ul Bayaan al-'ilm wa fadhlihi volume1 pg305]“A man’s fasting for the sake of Allah distances him from Hellfire by 70 years’ journey.” \n",
      "\n",
      "[Sahih al-Jami of al-Albani (no. 3847)]It's ok Algeria.. Deen over Dunya ~The Sahabiyyat Series  http://t.co/mb9TuEMppHRamadan Series \"The Anbiyah\" by @bintdad__  http://t.co/1IcOueUugvإن الدعاء هو العبادةNo one women deserves to be beat by her husband etc... Wallah you are NOT A MAN IN MY EYES THE DAY YOU HIT A WOMENThere is NEVER an excuse to hit a women, regardless of the situation you are put it.. & No way is it ever the women's fault...Domestic violence is one of the WORST acts any man can ever do... \n",
      "\n",
      "I believe wholeheartedly u are NOT A MAN if u lay ur hand on a womenLong were the days we only read the Hadith, today we live in times where the Words of Rasululilah SAW are coming to life.. \n",
      "\n",
      "Saadiq Al Amin!ثم تكون خلافة على منهاج النبوة\n",
      "\n",
      "\"There will be Khilafah on the Method of the Prophethood.\"-Authentic Hadith\n",
      "\n",
      "Khilafah ala Minhaj an-Nubuwwah@yellowwdiamonds Basically go on to the @HijabiHood account & DM them pretty simple really@yellowwdiamonds Pretty much.. at times those near us are last to understand us3. So don't think twice of contact them. Tell them \"Umm Waqqas sent me to sign up\" Trust me you wouldnt regret it..2. Not only that but they work to establish the stronger ties of Sisterhood.. Everyone on that page is very reliable & trustworthy..1. Sisters from all over the globe have come together to assist any sister who whats advise on matters such as Deen, Family or personal..Have any sisters signed up for @HijabiHood's mentoring program for this ramadan? \n",
      "\n",
      "If not YOU SHOULDRT @HijabiHood: The more covered, the more honoured in the sight of Allah azza wa jal.We muslim women are TIRED of the media speaking on OUR behalf so we took a STAND! \n",
      "\n",
      "https://t.co/COfduK9fVz \n",
      "\n",
      "#MartyredInHijab@bintdad__ Nahh i am halal mates@bintdad__ Get a bandaid@bintdad__ Nahh i didn't even notice you wrote this tbh... \n",
      "\n",
      "I only steal (borrow) one person's tweets k & you're not themRT @bintdad__: Not every Nabi is a rasool but every rasool is a NabiEvery Messenger is a Prophet but not Every Prophet is a Messenger...@sunnahswag1 @bintdad__ Because Messengers are both Rasuls & Nabis@bintdad__ I only answer the ones im 100% sure of or else i keep quite & learn new things home skillet biscuit@Abu_Imraan Idk but im gassed... They mentioned my Kunyaa & said they will @ me lol@bintdad__ Oh this was a test? didn't even notice keep going@bintdad__ A Rasul was given new laws from Allah & A Nabi doesn't come with anything new.. For example Musa was a Rasul & Haroon was a Nabi@CiaoBella_Mai DMIf u try to discourage people who better themselves during Ramadan by labeling them\"Ramadan Muslims\"u have not understood the ayats of Allah@SimplyIkran Lol but thats some next level deceiving..@FastFMNewcastle \n",
      "\n",
      "3. What better time to start practicing the Deen than ramadan? no shaytaan to distract you & its the month of forgiveness@FastFMNewcastle \n",
      "\n",
      "2. But to those that discourage muslims during this month should read ayah 185 in surah Baqaraah...@FastFMNewcastle \n",
      "\n",
      "1. in a way we are all \"Ramadan Muslims\" because every year we set new goals to better ourselves..@Abu_Baraa_ Thats the same girlim radio famous..\n",
      "\n",
      "I've been mentioned live on the Air im so gassed BEST RAMADAN EVER!\n",
      "\n",
      "i would like to thank my parents & @FastFMNewcastleRT @bintdad__: @_UmmWaqqas they said 'umm waqqas'Oi im not even listening im busy what did they say about me ? im gassedRT @bintdad__: Lool the shoutout to rawdahi feel so SORRY for you brothers, you lot really don't know what you will wake up to see the next morning... \n",
      "\n",
      "Read your adkar before sleepIma be my brothers wali & demand to see the sister without makeup.. \n",
      "\n",
      "Deception is the fullest.. http://t.co/F3k2vHeBfABest Islamic radio station hands down.. If you don't have the app for it i suggest you get it..\n",
      "\n",
      "Awsome topics as always\n",
      "\n",
      "@FastFMNewcastleRT @Haf_025: 3 levels of Din: \n",
      "Islam- outer actions, benefit of body\n",
      "Iman - inward, benefit of intellect\n",
      "Ihsan- purification & perfection.B…RT @seema_saiyed: Fasting without prayer, is like prayer without wudhu.\"Ramaḍān Mubārak\", the Messenger of Allāh ﷺ used to congratulate his companions رضي الله عنهم upon the arrival of this blessed month.Imām adh-Dhahabī ر: \n",
      "\n",
      "\"Breaking the fast in Ramaḍān without an excuse or permission [from Qur’ān or Sunnah] is a major sin.\"\n",
      "\n",
      "[الكبائر ١٥٧]It is obligatory to make intention for the fast but uttering it out loud is an innovation | Sh. Ṣāliḥ al-Fawzān ح http://t.co/CRbcwIbJ8M5 blessings of Allāh upon this Ummah in Ramaḍān http://t.co/uZcWKoRrGs\"atiyaah\" he's so cute TabarakAllahThe whole point to this is to shed light on the deep connections the Anbiya have with one another.. \n",
      "\n",
      "You should read more, you'll love itI could go on & on About the miracles that were granted to the Prophets. That mini list gives no type of Justice tbh3.\n",
      "\n",
      "Sulayman commanded the Jinns, & could hear animals \n",
      "Adam was given an insight to all things (except that which Allah kept hidden)2.\n",
      "\n",
      "Musa Split the sea & could speak to Allah directly\n",
      "Ibrahim was thrown in fire & did not Burn \n",
      "Muhammed split the Moon1. Each Prophet was given a special blessing from the mercy of Allah... \n",
      "\n",
      "Example:\n",
      "\n",
      "Isa healed the blind & sick\n",
      "Yusuf interpreted dream 100%@Al_Muhajiroun That was Musa ukht... @UmmUmar_I love all the Prophets to only name one... Each one of them have life lessons you could learn from not to mention their iman & sacrifices..Ibn Kathir's book Al Bidayaah is so detailed & in-depth SubhanAllah@zauq Ibn Kathir2. Hawa was sent down on a land which today is recognized as Mecca   & Adam was sent down on a land which is now recognized as India1. When Adam & Hawa were taken to earth they were spilt up, Adam traveled the ends of the earth to be with his wife..\n",
      "\n",
      "May Allah bless themA family of Prophets:\n",
      "\n",
      "Musa \n",
      "Haroon     \n",
      "\n",
      "A family of Prophets:\n",
      "\n",
      " Ibrahim \n",
      " Lut    \n",
      "\n",
      "A family of Prophets: \n",
      "\n",
      " Ibrahim \n",
      " Ismael \n",
      " Isaac@Al_Muhajiroun Oi i ment Lut@Amoney718 Zakriya is the Father of Yahya & the Uncle of Mariam making Isa & Yahya cousins@Al_Muhajiroun 140 does no justiceA family of Prophets:\n",
      "Ibrahim \n",
      "Isaac \n",
      "Yaqub\n",
      "Yusuf \n",
      "\n",
      "A family of Prophets:\n",
      " \n",
      "Sulayman \n",
      "Dawud  \n",
      "\n",
      "A family of Prophets:\n",
      "Zakaraya\n",
      "Yahya \n",
      "Isa2 Prophets that made dua for their masjids\n",
      "\n",
      "1. Ibrahim AS for the Kab'aa \n",
      "2. Sulayman for Aqsa \n",
      "\n",
      "Notice why our hearts yarn for themThe Nabis are all connected some way.. example: Yusuf AS was the reason Bani Israel made Hijarah to Misr & Musa AS was the reason they leftAs stated in the Hadiths there were \n",
      "\n",
      "315 Messengers sent down\n",
      "24,000 Nabis sent down\n",
      "\n",
      "From that we were only told about 25 by name...There is a difference between a Nabi & a Rasul.. For instance every Nabi is not a Rasul but every Rasul is a Nabi2. Rasululilah Sallallahu Alayhi Wasallam became a Rasul when Surah Muddaththir was sent...1. Rasululilah Sallallahu Alayhi Wasallam became a Nabi when Iqra was sent down ....@yellowwdiamonds @CarideeParker Hey i just seen this now :/During this month of ramadan the battle of Badr accord & Allah granted us victory against our enemies..@ThatRevert You know your obsession with Hijab, Niqaab & burqa is actually unhealthy... Quench the thirst brother is RamadanWriting these mini bio is hard work & wallah it gives no justice to the Sahabiyyats.....They were so AWESOME..@UmmUmar_ Bro i can't make dua for that what if your husband wants 3 more :/Saying \"Ramadan Karim\" has no biases & is considered Bidaah.... \n",
      "\n",
      "Ramadan Mubarak ukht \n",
      "\n",
      "@_UmmYassirThe best dua, please be sincere ukht 😩 \n",
      "\n",
      "Ramadan Mubarak Fam\n",
      "@UmmUmar_@Nameless_Ukhti Wa alayna wa Alaykum 7abibtyIt was never the Shaytaan that promoted you to have bad manners BLAME YOURSELF !\"You are an ignoramus and you think yourself to be a scholar.\"-Al Fudayl ibn ‘Iyaad Rahimulilah\"Knowledge is a comforting friend in times of loneliness.\"-Mua’dh ibn Jabal Radi Allahu Anhu'...If someone argues with you or insults you, say: ‘I am fasting, I am fasting’.” \n",
      "\n",
      "Source: Sahîh al-Bukhari (1795)@UmmAbbas_ I just realized his avi is Ameer Khattab sigh ima steal it with no shame lol @_AbuAbbasKeep calm its RAMADANOh Ramadan.... \n",
      "\n",
      "All i have in my mind are the Eid tabkeers... witnessing the first day of ramadan alhamdulilah !@_Only1M ima cocoanut ukht :DRAMADAN \n",
      "RAMADAN \n",
      "RAMADAN \n",
      "\n",
      "IS HERE THATS WHY WE'ER  HAPPY! \n",
      "\n",
      "i've made it to see the first day Alhamdulilahim happy its ramadan!!! \n",
      "\n",
      "what are you guys excited about? \n",
      "\n",
      "Am i missing something here :/RT @bintdad__: Peak for ukhtidem.My entire TL is in Tabkeers right now.. \n",
      "\n",
      "Tears of Joy !\n",
      "Allah never fails in His promiseWA SADAQA WA'DAH WA NASARA ABDA\n",
      "\n",
      "He has fulfilled His promise and made Victorious His servantALLAHU AKBAR!@______Nad Awh may Allah's love reach you ukht, whatever khayr i post is solely for Allah, i just hope they reflect my reality :(2. \n",
      "\n",
      "Upon that I said, \"Ameen.\"\n",
      "\n",
      "Two points to make & take heed \n",
      "\n",
      "1. Jibril AS made the dua\n",
      "2. Rasululilah SAW's duas are alway accepted1. Jibril AS appeared before me and said,  \"Woe to him who found the blessed month of Ramadan & let it pass by without gaining forgiveness.\"Don't waste your time during Ramadan and don't be of the people who the prophet Muhammed ﷺ said 'Ameen' to.Trusted anonymous accounts for reminder or advice on personal, social or Deen matters:\n",
      "\n",
      "@AkhiHood_Dawah \n",
      "@HijabiHood@ThatRevert Loooool daily battles, i think people did it because they were bored. i wanted to retweet but i don't want my mentions to dieBeneficial Accounts:\n",
      "\n",
      "@_CallOfDawah  \n",
      "@ScholarsSayings \n",
      "@Quran_Hadiths \n",
      "@ForAllahsSake \n",
      "@dailyremindersSo much memories... \n",
      "\n",
      "Banters, beef, reminders & full of reality, we never sugarcoated anything like people do know..I wouldve retweeted more but i didn't want to seem like a stalker..RT @_axaa: If you are worrying more about the opinion of people before the opinion of the Al - Mighty then know that your intentions are fl…RT @_axaa: Your life today is a reflection of your after life... Don't leave repentance till last minute, death can come whenever.RT @HashashinTag: If tested with love\n",
      "and you remain patient, chaste & silent,\n",
      "despite pain in the heart,\n",
      "you'll be rewarded for fearing Al…RT @Alhamdhulillaah: When you marry her, you are taking over the responsibility from her parents; if u can not fulfil your duties as a husb…RT @brothermuadh: A sister corrects you on the deen and you say she is free-mixing. Men would come to A'ishah (ra) for help. Would you say …RT @hafss_: husbands taking the boys to masjid #fajr x http://t.co/EucAGhl11bRT @IAmIkra: The twins walking to Fajr with Zawj ^_^ http://t.co/Squk6UFHNqRT @HashashinTag: Death while travelling is better for a person\n",
      "than him remaining\n",
      "In a humiliating land between traitors and enviers.\n",
      "\n",
      "#Im…RT @GuiltyMuslim: King Abdullah spent Millions on the Kab'ah whilst beggars still exist in streets & outskirts of Mecca,Well done \n",
      "\n",
      "*Around…RT @_axaa: The reality of the Hereafter has snatched the sleep of the righteous...RT @_axaa: The tears of Umar bin ‘Abdul-Azeez, a true leader. http://t.co/jlu5HGTvgzRT @_Ammarr: If you see a Muslim girl trying to change and become a better Muslim. Don't even think about using her past against her. The p…RT @JustQasim: Intentions always fluctuate but God knows my motives for twitter stay the same: http://t.co/VCAUgbNpLpRT @_axaa: The most ignorant statement a Muslim can utter is \"... It doesn't matter, Islaam is in my 'heart'...\" Really? check yo'self.RT @_axaa: \"If you can be unknown, do so.\" < Fame, Popularity and a High follower ratio is of no importance. Real Talk. http://t.co/0O0wvMQ…RT @_axaa: It's just twitter, it really isn't that deep yknow.RT @GuiltyMuslim: Recognition by social status or mass retweets do no make you pious or renown scholar but will only make u more accountabl…RT @_axaa: \"There is no goodness in the one who doesn't give advice and the one who doesn't like to be advised.\" - Umar bin al Khattab (رضي…RT @_axaa: \"Women will no longer be able to give birth to the likes of Khalid bin Al -Waleed.\" - Abu Bakr رضي الله عنهRT @BintAbdullah94: Victory does not necessarily mean you win in Dunya but means you are able to hold firm unto the religion of Allah until…RT @_axaa: #PTs - Shaykh Ahmad Musa JibrilRT @_axaa: Also you CAN use toothpaste; the reasoning by the scholars is that the Miswak has flavor, thus toothpaste is ok to use -not to e…RT @_axaa: Many people think you cannot use a Miswak or toothbrush during Ramadan. This is false, for the Prophet [saw] used to use a miswa…RT @_axaa: The wife of Habib- Abu Muhammad al Farisi- would wake him at night time and say; http://t.co/vE8VOyGCitRT @Official___AJ: If someone tells you a secret, they have placed trust in you. Even if you fall out with this person in the future, keep …RT @HumzMufasa: Complete seerah by Imam Anwar al Awlaki (r) ( aken from ibn Kathir(r)'s Seerah Nabawiyya as far as I remember) https://t.co…RT @_axaa: May Allaah bless all my brothers and sisters with righteous and pious spouses thus helping to cure their thirsts <3RT @_axaa: Brothers if you can't man up and face her Walee then leave another mans wife alone! Treat your sister in Islaam with more respec…RT @_axaa: He promises you marriage but hasn't even mentioned you once to his mother? Sisters be careful, it's nothing but false hope and d…RT @_axaa: TL topic seems to be marriage as per usual..RT @_axaa: Attach yourself to only Allaah because sooner or later everyone else will let you down but He will never forsake you.RT @_axaa: When somebody loves you for the sake of Allaah, even when they are upset and angry with you, they will deal with you with respec…RT @_axaa: There's nothing uglier than pride. Humble yourselves, you're nothing but a piece of clay at the end of the day.RT @_axaa: Don't take somebody whom you percieve to be more righteous than you sinning as an excuse to justify your own wrong doings.RT @_axaa: Having great religious knowledge is not the aim of this deen, the aim is to practise the little you know.RT @_axaa: 3 characteristics known as the keys to happiness (in Dunya&Akhira); •when given, be thankful •when tested, be patient •after sin…RT @IbnEnu: How unfortunate it is that our lips utter akhira yet the hearts are anchored to the dunya.A blast of the past... \n",
      "\n",
      "ima retweet a bit of old school Muslim twitter.. Just so you know the awesomeness of it! \n",
      "\n",
      "Enjoy (im not a stalker)To those starting their journey to the Deen by converting or practicing i pray Allah keeps you guys steadfast & strong even after Ramadan@yellowwdiamonds Saying ramadan Karim has no basis & is bidah.. its better to say \"Mubarak\"Welcome to a family of 1.6 billion ukht Ramadan Mubarak as well.. May Allah keep you steadfast & strong even after ramadan  @taaa_teaCries... perfect timing for non-Muslims to take Shahada tbh.. TabarakAllahRT @taaa_tea: took my shahada today. feel so good, like i want to scream it from the rooftops ❤️🙌Forgive me if I've hurt you in anyway shape or form, I'm a sinful slave in need of duas 😪\"The pens have lifted and the pages have dried.\"One of the a best advices given by Rasulullah Sallallahu Alayhi Wasallam. http://t.co/jN34Sn9snXSh. Ṣāliḥ al-Fawzān ح: \"Prayer is the second pillar of Islām and fasting the fourth so the one who neglects ṣalāh his fast is not accepted.\"Ramadan 1435\"O you who believe! Fasting is prescribed for you as it was prescribed for those before you, that you may attain piety.\"-Surah Baqarah 183Increase in your ibadaah & Dhikr you get Multiplied Ajar for them in the Month of Ramadan...Lets all compete this Ramadan to see who benefits the most (keep your Deeds hidden though) Set your goals up & correct your intentions nowYou know its beyond official when you hear \"Aliff Laam Meem\" tonight!@SafiyahN You should read surah ibrahim ayah 22@bintdad__ Kasme you are a troll be gone peasantRT @HijabiHood: \"The hijab does not cover up girls weaknesses, but in fact displays her strength, commitment and her confidence..\" 💕 http:/…@SafiyahN You know whats crazy? Shaytaan only give us 50% of his attention the full 100% comes when we are about to die@bintdad__ Stop being lonely & get your self an Ibn ya bint@SitThisOneOut Why the cap locks pls :/@SafiyahN Yes you are correct but majority of the time its our evil desires that lead us to sin not so often is it shaytaan Allah knows bestأبو وقاص  و ام وقاص@SitThisOneOut How dare you enter my mentions peasant@SitThisOneOut What are you on?Shaytaan is getting chained up... \n",
      "\n",
      "OH HAPPY DAYS!This Ramadan is shaping up to be a really great one. take advantage while you still can Bi ithnillah4. The sisters are there to help you so utilize your sources & contact @HijabiHood tell them \"Umm Waqqas sent me\"3. The sisters taking part in this campaign are very trust worthy so no need to worry about anything.. & no topic is off limits2. So ukhts if you need someone to talk to in matters of Deen, social or even personal issues. Contact @HijabiHood they will help you1. Alhamdulilah sisters from different background & countries are coming together to help other sisters who are in need out...Allah says:\n",
      "\n",
      "\"The Believers, men & women, are awliya of one of another they enjoin what is good, and forbid what is evil.\"-Surah Tawbah 79I like this campaign thats being aimed at benefiting sisters... If we don't help one another no one else will trust me on that... One UmmahSisters a mentor/friend will be assigned to you depending on what you need & you overall background personality wise.\n",
      "\n",
      "Previous RetweetRT @HijabiHood: Alhamdulilah we have sisters from different backgrounds on here so depending on ur needs the mentor that's picked for you w…Sisters who are struggling with matters of the Deen & need someone who will motivate them contact @HijabiHood they will assign u a sisterRT @HijabiHood: If you need a syllabus for aqeedah studies or just someone to help you or Organise your time this Ramadan or recite with yo…@HijabiHood im okay as long as she doesn't diss them ...That amazing & scary feeling of knowing that Shaytaan is officially locked up after Maghrib Salaah & what ever you do after today was from u@HijabiHood I need a mentor...RT @HijabiHood: Ok sisters who want one to one mentors please DM us so you can be assigned to a sister please. If not we will try inspire y…RT @RasAlGhul321: Fasting times around the world\n",
      "#Ramadan #Ramadan2014 http://t.co/mFZBRXyZMo@traveller_94 If the questions are about Fiqh or any other major topic you have no knowledge on you just refer them a sheikh@traveller_94 More often to none its about people wanting to change but need advice on how too etc.. @Map_patel @Element_AA@traveller_94 Sometimes u will see that the questions are more about life experiences or struggles they can't share @Map_patel @Element_AA@BananaAndRiceP2 Yea most likely you're anemic... but just keep eating greens & get iron supplements@BananaAndRiceP2 https://t.co/BqySV25HnN Pesant@BananaAndRiceP2 im anemic ski understand your pain..\"Wa Hoor Al Aynnnn\"\n",
      "\n",
      ":DAround this type of year the imam will stretch & prolong ayats concerning the Hoors :D Lol i smile whilst listening i think its awesome...@Map_patel Team Hoor Al Ayn?None of us are Sheikhs, but as your right as a muslim its wajib upon us to advice when its asked of us.\n",
      "\n",
      "btw im not behind that sisters acc.If people are going to be on twitter i think they should benefit 100% ya know, but don't use this as a source of proof in matters of Deen..Brothers you lot should start an anonymous account for brothers who need help as well\n",
      "\n",
      "This will be khayr for you as well...Sisters those practicing or not if you're struggling with the Hijab, Jilbab, or Niqaab contact @HijabiHood they will give you proper Naseeha& sisters looking to contact me can feel free to DM me i won't always be on twitter but my DMs & notifications are sent directly to my phoneSisters who are looking for motivation to keep wearing the Hijab even after ramadan is over should follow @HijabiHood@AlMusaafir94 cc @Maryam3adilRefresh ur intention NOW & put it in your heart that u want to benefit this Ramadan... & im sure after 30days u will see a new & better u3. My advice to u would be delete u Music & replace it with ur favorite reciter, avoid backbiting & idol talk & get busy with the Quran.2. Don't expect to benefit from ramadan if you're constantly Backbiting, Listening to music or watching indecent things...1. Remember that Ramadan isn't only about Fasting its also about abstaining from the haram..@Maryam3adil Look at my retweet Bi ithnillah @UAmiirRT @AlMusaafir94: Avoid saying Ramadan Kareem, rather say Ramadan Mubarak In Shā Allāh http://t.co/y5MoFoxu7g@_Love4Allah_ Q: What's the ruling on saying Ramadān Karīm? \n",
      "Sh. al-Fawzān \"It has no basis rather say Ramadān Sharīf or Mubārak or 'Adhīm.\"Q: What's the ruling on saying Ramadān Karīm?    \n",
      "\n",
      "Sh. Sālih al-Fawzān ح: \"It has no basis rather say Ramadān Sharīf or Mubārak or 'Adhīm.\"@_Love4Allah_ @Path2Jannah1 give me a second i posted it a bit ago i will repost it for you Bi ithnillah& For those looking for a MAJOR quick iman boost:\n",
      "\n",
      "OPEN THE QURAN \n",
      "& to understand the verses of Allah get Ibn Kathir's Tafseer bookTopics such as:\n",
      "Aqeedah\n",
      "Tazkiyah al-Nafs\n",
      "Family kinship\n",
      "\n",
      "Authors such as:\n",
      "\n",
      "Ibn Qayyim\n",
      "Ibn Tayymiyah\n",
      "Ibn Rajab\n",
      "\n",
      "May we benefitFor those like me who enjoy reading & can't find an Islamic book store visit\n",
      "\n",
      "http://t.co/aPkCsxsEGL\n",
      "\n",
      "Various topic & authors + MOREGet into a student mode & take notes.. \n",
      "\n",
      "I posted them for people who may not like reading all that much...3. The Tawheed Series (Classes) by Sheikh Ahmed Musa Jibril Hafidullah\n",
      "\n",
      "https://t.co/UMUiRELfXe2. Lives of the Prophets (Qasas ul-Anbiya) By Sheikh Anwar Awlaki Rahimulilah \n",
      "\n",
      "https://t.co/DzX8WsDCzN1. The Hereafter Series By sheikh Anwar Awlaki Rahimulilah \n",
      "\n",
      "https://t.co/rpqUvydfiVBi ithnillah i will post 3 series i benefitted a lot from & maybe it will come as use to you & a source of benefit...@_Love4Allah_ @Path2Jannah1  U guys saying \"Ramadan Kareem\" has no basis & is considered bidah...😔\n",
      "\n",
      "But Ramadan Mubarak to u & ur familiesWallah this is cuteness overload.. \n",
      "\n",
      "She's the cutest TabarakAlllah❤️\n",
      "https://t.co/PgKu3GQTXyجاء الحق و زهق الباطل إن الباطل كان زهوقا \n",
      "\n",
      "\"Truth has come and falsehood has perished. Verily, falsehood was always bound to perish\"\"Indeed, mankind is most unjust and ungrateful.\"-Surah Ibrahim Ayah 34@Al_Muhajiroun @SitThisOneOut You should read more into it Bi ithnillah...This is the moment where everyone adds their opinions to the mix😩. Just make dua for the sisters that Allah accepts this from them & be doneAll of you Muslamics need to be sent back with your iraqi law & ray guns... \n",
      "\n",
      "im sure @fazie_90 would agreeMuslamic Ray Guns \n",
      "\n",
      "https://t.co/TUgFDLXoQT.................... \n",
      "\n",
      " https://t.co/DKmlZaAIOB\"And whoever turns away from My remembrance - indeed, he will have a depressed life…..\"Surah TaHa Ayah 124\"Standing up at night for Qiyaam al-Layl is a sign of sincerity.\"-as-Sa'di Rahimulilah\n",
      "\n",
      "Source: Taysir p.809@ThatRevert May Allah make things easier for you & your family and grant them Hidayaah...@ThatRevert I think a great way to do dawah is leave pamphlet of islam \"anonymously\" on your door step for your dad to find...\"Allah does not close one door for His slave out of Wisdom except that He opens two doors for them by His Mercy.\"-Ibn Qayyim\"Be mindful of falling short in that which you have been commanded.\"-Sufyaan Ath-Thawriيَا مُقَلِّبَ الْقُلُوبِ ثَبِّتْ قَلْبِى عَلَى دِينِكَImportant Duas you should memorize:\n",
      "\n",
      "1. Allahumma Zidni Iman wa Taqwa\n",
      "2. Allahumma Zidni ilma.\n",
      "\n",
      "Recite during Sajood & Rukuu!@alfirdaws_ I know from the Lineage of Hussein Radi Allahu AnhuI like the name Zayn Al-'Aabideen & the name Fatimah ZahraActions to be done in Ramadan http://t.co/VpOtRsOvzeIts been almost 1 year...\n",
      "\n",
      "SubhanAllahQadr Allah....RT @IbnEnu: Softened speech can penetrate hardened hearts. The sweetness of the words utilised by the fluency of the tongue.@Abu_Imraan Abdullah ibn Mubarak Rahimulilah?Unless you have ego issues, you shouldn't get mad when people steal (borrow) beneficial tweets of yours, you're just getting loads of Ajar@IbnEnu I borrow their tweets on rare occasions, its some good stuff aside from the extra.@Abu_Imraan SubhanAllah corrupt intentions take you no where in this life & leads to regret in the next.. May Allah purify our NiyyahI don't think \"Swaag\" was an appropriate caption but that picture has much swag... Plus i just like birds i think they're swagSWAAAAAAG! http://t.co/3GB0ab7WqsKeep dreaming ✋@TaalibJamia Dreams...I like birds tbh...   \n",
      "\n",
      "We can be birds together flying high, roaming around to where our hearts desire ....Not everyday post lion pictures Muslim Twitter some days post bird pictures..RT @TaalibJamia: Understanding people are the best of people.Lectures in arabi are so much stronger than that in english i feel... Especially those of repentance & that of the affairs of the Ummah@_HopeAndFear Do Ruqiyaah on yourself & then you will know.@CorrectMyFaults Ameen Thumma Ameen. May Allah humble us & guide us to His pathI like the way Sheikh Salih Fawzan says \"Na'am Na'am\" lol@CorrectMyFaults Lol idk how i came across the tweet, but you're right it can be an easy way to corrupt your intentions tbh@CorrectMyFaults It feels weird hearing someone other than me say \"im prestige\" lol i know you're joking but Stop with the compliments plsSee this is why Madinah needs to hurry & open that sister section in the Jamiyyah quick.. Being a layman without knowledge is hard timesHence why i like students of knowledge, unless they've studied the issue 100% & know of all the opinion they refrain from making statementsBut over all our opinions are irrelevant especially when it comes to speaking on matters we have no knowledge on.When our opinions aren't backed with Hikmah or valid proofs from Quran & Sunnah or even that of the salaf, things can get super dangerous.لَا يُكَلِّفُ اللَّهُ نَفْسًا إِلَّا وُسْعَهَاQadr Allahu wa Masha Fa'alLol i think people are afraid of Curry tbh, she always seems to slide her way out of thing without getting noticed..Shaytaan is causing madness ....@TalalAnsari1 That hadith is weak according so many ulema & albani considers it to be fabricated @Ibnamin_Its official Ramadan 1435 will start sunday 29th June In Shaa Allah.\"O son of Adam, were your sins to reach the clouds of the sky and were you then to ask forgiveness of Me, I would forgive you.\"-Hadith QudsiRemember that the best of you are those who repent. Be sincere in your repentance followed by its conditions & Allah will forgive uPlease take advantage of Ramadan, this seriously might be your last one. Increase in your Ibadaah & start new habits..No distractions, No shaytaan..\n",
      "\n",
      "Just you & Allah.\n",
      "\n",
      "Work on your weaknesses during this month so that their no going back to after its overAs long as you are still alive its never too late to change, & what better time to do it than the month of Ramadan?We should ALL take this opportunity during ramadan to change for the better.. Ask Allah to give you Hidayaah& to those \"practicing\" muslims who want to label people as \"ramadan muslims\" surly you have not understood Ayah 185 in Surah BaqaraahDon't let this opportunity slip because of what people my say, who cares if you didn't cover before or even pray before at least you are NOWSo to the sisters without Hijabs as Avis if you feel the need to change it for Ramadan do so & the brothers who want to start praying shouldChanging during the month of Ramadan doesn't make you a Hypocrite, it shows you're taking advantage of this month..3. But seems like people have fallen so deep into his trap that even after he's locked up they still do his bidding..2. One thats the whole point of Ramadan, as stated in Surah Baqarah. Allah gave us 30days to change our ways away from the wiswas of shaytan1. I've come across people with that \"im not going to change only for ramadan\" mind frame & i find it so sad..RT @bintdad__: Don't forget to make dua.. Sa'at al istijabah\"O you who believe! Fasting is prescribed for you as it was prescribed for those before you, that you may attain piety.\"-Surah Baqarah 183@UmmDujanah_ lkjnkjbkjhbkjhvkhvjhgchgfxcgfdxfdszdsaI think you should attempt to learn more Duas used in Qanoot, simply because you can always recite them in Sajood & Rukuu...\"Is the reward for good anything but good?\"-Surah Rahman Ayah 60ما نسيت@ZumarulJannah Not yet we will find out during Isha lol i just got too happy@ikraammh Awh i like that feeling its truly beautiful... people are extra generous during ramadan which is nice@ikraammh Still couple of hours away lol im just excitedNewcastle Fast FM is back this Ramadan you should download it, very beneficial topics each & every nightMay we all gain Allah's love & mercy. May our shortcomings become strengths, & may we ALL be granted what we seek... \n",
      "\n",
      "Assalaamu Alaykum!Time for me to go, but remember that \"Deeds are according to intentions\" so correct your Niyyah now concerning Ramadan so you can benefitRT @__Ateeq: Common Mistakes During Ramadhan\n",
      "\n",
      "http://t.co/3ivR536SHOMay we all seriously benefit this year. May the gates of Jannah call our names & may we be those who gain the Love & forgiveness of Allah@imsalauddin Its on my bio@DesertSecrets SubhanAllah i only seen 1 of the reminders... But these are amazing JazakAllah khayr you actually reminded me @ana_mridaSo if you are interested in learning about their lives stay tuned im sure we will post them daily on twitter as well... \n",
      "\n",
      "May we all benefitAlso @bintdad__ & i are starting a beneficial series on tumblr mine is about the Lives of the Sahabiyyats & hers is i think about the AnbiyaRT @DesertSecrets: 1) Be sincere to Allaah and His book. Contemplate and try to understand His book. \n",
      "\n",
      "\"And none will remember except those…@ummharith_ its only 40Bi ithnililah i will cut down twitter starting today, if you need me DM me i will see\n",
      "\n",
      "Also forgive me for the sake of Allah if i hurt youThe hadiths in Qudsi are so iman boosting like idk how explain them you should read themSource: Hadith Qudsi 39 & also reported in Bukhari & Muslim4. & you are Hell-fire, My punishment; through you I punish those I wish, and it is incumbent upon Me that each of you shall have its fill.\"3. So Allah judged between them, saying: \"You are Paradise, My mercy; through you I show mercy to those I wish.1. Paradise said: \"In me are the weak and the poor.\"1. \"Paradise and Hell-fire disputed together...\n",
      "\n",
      "Hell-fire said: \"In me are the mighty and the haughty.\"@DaughterofJM I will doubt check In Shaa Allah@DaughterofJM Yeah... i was shocked to learn that too.. SubhanAllah4. I would bring you forgiveness nearly as great as it.\"\n",
      "\n",
      "Hadith Qudsi #34 \n",
      "\n",
      "Gives me so much hope wallahi, take advantage of this Ramadan3. O son of Adam, were you to come to Me with sins nearly as great as the earth and were you then to face Me, ascribing no partner to Me2. O son of Adam, were your sins to reach the clouds of the sky and were you then to ask forgiveness of Me, I would forgive you.1. \"O son of Adam, so long as you call upon Me and ask of Me, I shall forgive you for what you have done, and I shall not mind.You may not live to see the next ramadan so if you live through this one don't be of those who will regret not taking advantage of itThere is so much kahyr you can do, please take advantage of it, & also set a goal for yourself a list of things you want to accomplish4. Or Imam Anwar's Hereafter series, Seerah series or even his \"life of the Prophets\" collection.. Don't waste your time on twitter3. & like @ana_mrida said if you're into listening to lectures go on youtube & listen to sheikh Ahmed Musa's tawheed series or...2. If you're into reading & can't find an islamic store visit http://t.co/aPkCsxsEGL it has all the book you need plus more...1. Ramadan is coming up though we should utilize our time more wisely, if you're a twitter addict just lessen the amount of times you tweetShe said \"im feeling pious today allow me\" Raaaahhhhh& some of us are still struggling to hold on to the Rope of Allah.. its not easy but alhamdulilah at least Allah gave us the hidayaah..How people first start practicing the Deen is actually interesting & their journeys are at times iman boosting.\n",
      "\n",
      "Trust me we ALL struggled@DaughterofJM SubhanAllah similar situation with me...@MahqoolMo LOOOOOOOOOOOOL awks she's funny@bengaliplease Yeah \"My Lord! Truly, I am in need of whatever good that You bestow on me!\"@SitThisOneOut @ me next timeMinor sins may seem small to you but their punishments could be heavy.. You should take that chance with your akhriaThere are so many sins that are over looked at because its viewed as minor.. SubhanAllah those \"Minor\" sins stack up on your scaleRT @AkhiTweet: Never forget this champion though http://t.co/0uJ26io8VYRamadan is less than 48hrs as believed In Shaa Allah... But if i don't make it to see Ramadan make dua that Allah forgives my shortcomings!@BananaAndRiceP2 Fam i read her stuff 3 times only to understand one line ...i had to read that twice to get an idea of what she was talking bout & im still confused im sure its about food though\"only god can judge me\"\n",
      "\n",
      "Umm trust me i doubt you want Allah to judge you, behave now while you have a chance & you're still livingI think people belittle the sin of slandering others.. SubhanAllah if they only knew its punishment.... But we leave that to Allah!A'isha Radi Allahu Anha's Mahr http://t.co/QZlcvX2cw1@AbuSalah_ad_Din Lol that doesn't even sum up to 78 euros@Nameless_Ukhti You got me get happy about an imaginary nikkah.@BananaAndRiceP2 Much respect those sisters but Quran for sir isn't my mahrRT @aRandomMuslim: “Be content with what Allah has given you, and you will be among the richest of people.”@augen_ihre yeah i would... im pretty shallow tbh lolThe tree where Bay'aat ar-Ridwaan happened was chopped down by Umar ibn Khattab RA to prevent later generations committing shrik..@HumzMufasa @__Verbalist__ by seeking \"blessing\" imagine what they would do if they spotted a grave site of someone promised Jannah..@HumzMufasa @__Verbalist__ Yes, but ote that thenre are people who do shirk with the grave of Rasululilah SAW during hajj season@HumzMufasa @__Verbalist__ But there a huge difference between grave worshipping and porn..@HumzMufasa @__Verbalist__ the graves of Shabas so he destroyed them & people hate him for it..@HumzMufasa @__Verbalist__ Muhammed Ibn Abdulwahaab came at a time when Bilad al-Haramain was full of people grave worshipping the gravesRT @__Ateeq: http://t.co/rMUnClwczT@HumzMufasa @__Verbalist__ Its better to prevent any acts of shirk tbh.. Umar Ibn Khattab did it with Danyaal Alayhi Sallam@__Verbalist__ Some people dabble in Grave worshipping so i don't find it weird tbhYou played with my emotions @Nameless_UkhtiLol Curry likes to make things awkward..@SitThisOneOut We discovered that @Munaimsayd is actually indeed a brother..@Munaimsayd It sounds sarcastic tbhim confused are you a brother or Nahhh @Munaimsayd ??im actually serious :/@Munaimsayd No im actually serious i really thought you were a guy up until this very moment tbh  @_UmmYassirWAIT, YOUR NOT A GUY?\n",
      "\n",
      "I legit thought this whole time you were a brother, awks i should've read your @ closer tbh @Munaimsayd\n",
      "\n",
      "ima go now kThere's nothing better than to have a friend who competes with you in Akhria matters & pushes you when you start to slip just a bit..Dua for Desperate times:\n",
      "\n",
      " رَبِّ إِنِّي لِمَا أَنْزَلْتَ إِلَيَّ مِنْ خَيْرٍ فَقِيرٌ\n",
      "\n",
      "Rabbi inni limaa anzalta ilayya min khayrin faqeerRT @Ridwan_Patel: I love seeing interracial marriages. That kind of open-mindedness is what breaks down cultural barriers to strengthen and…Lol honestly if you're going to get married i think you should be extremely discreet to avoid Ayn & just come out like \"BAAM im married\"Its interesting to know how far or even close the person you are destined is to you..The Islamic State... \n",
      "\n",
      "@_Only1M Does it again its very beneficial to watch & i highly recommend it.. https://t.co/xxXbKTYAEJ\n",
      "\n",
      "She's amazingFear should make the believer patient, and his hope should lead to gratitude.So the believer is the one who is both hopeful and fearful, but hope and fear can only be based on the foundation of patience\"True patience is not to wait while knowing how much time remains, it is to be patient for however long Allah wills\"-Turab Rahimulilah\"Patience means to keep close to Allah & to accept calmly the trials He sends, without complaining or feeling sad.\"-Amr ibn Uthman al-MakkiSurah Qiyyamah shakes me to the core. SubhanAllah !\"The Purpose of learning is to act by it, while the purpose of action is to abandon things of this life for what lasts forever.\"- Abu Hanifa\"And sufficient is Allah as a helper.\"- Surah An-Nisa Ayah 45\"But little is the enjoyment of the life of this world as compared with the Hereafter.\"-Surah Tawbah Ayah 38طوبى للغُرباءالجيات أحسن من الرايحات\"And when He decrees a matter, He only says \"Be,\" and it is.\"-Surah Baqarah Ayah 117@KhilafahAl Nahh ima give my husband loads of colognes as a gift on our wedding night... i hope he's not a big fan of attar :/@KhilafahAl Loool i like male Colognes just not attarThe more you trust Allah, the more He amazes you.O Allah, protect my heart from getting attached to anything You have not written for me. Guide me and keep me guided.Ya Allah i take refuge in You from an ego that is never satisfied & Duas that are not accepted due to my shortcomingsRT @IbnEnu: Gna be PeasantWitness and tweet about you guise x@Lathanay This has potential of turning into a raciest debate lol so ima sit this one out...If i was to change my name to TwitterWitness i would get loads of unwanted followers so... \n",
      "\n",
      "ima sit this one outBrothers look at their TL like:\n",
      "\n",
      "Potential\n",
      "Potential\n",
      "Potential\n",
      "Not a chance\n",
      "Potential\n",
      "Potential second wife\n",
      "Feminist\n",
      "Feminist\n",
      "Potential@SimplyIkran Take me with you... don't leave me plsOh Lord i need to deactivate quickThe FACT is that we really don't know each other as we would like to think... \n",
      "\n",
      "Outside of twitter we are all strangers..To be honest.. With so many different personalities on Muslim twitter certain things can come out rude without a person intended it..You can feel free to steal (borrow) any tweet of mine you deem as beneficial.. I won't get mad, on the contrary your helping me get ajar@Habibiline I listened to the first 5 seconds & face palmed myselfHow do you \"bring back the sunnah\" with a music video? im confused to people's mind frame to be honest.@Mrgreatful1992 But at the same time i don't think sisters should get mad when they're reminded of their obligations, rather feel some shame@Mrgreatful1992 I don't think guys should obsess over it@Mrgreatful1992 I find sisters who make such claims a bit awks tbh.. Their mind frame on those allegations make no sense to me.And to keep it frank the difference between a Hijabi & a Non Hijabi is that one decided to obey the commandment of her Lord.Everyone has flaws & weakness,but lets not exploit that for personal reasons to make yourself feel better as to why you don't wear the HijabNo one is perfect regardless of what act of ibadaah you are doing. But at least you are trying & your reward is with Allah..im only saying this because im tired of seeing pictures of what they view the difference of a hijabi & non Hijabi is to justify things..Kindly refrain from using a hijabi's \"mannerisms\" to justify why you don't wear the Hijab.. That argument will be invalid in front of Allah.People are constantly out to prove Hijabis aren't perfect... Ummm we never claimed we were! \n",
      "\n",
      "Bun this hateMay Allah protect us from such peopleThere's nothing more dangerous than a corrupt Alim because he misguides the masses. & those that take from his knowledge are blind followers4.  & the generally everyone will be caught in their fitnah.\" \n",
      "\n",
      "Source: Miftaah Daar al-Sa`aadah (1/160)3. Then calamities will spread because of them & great trials will be afflicted upon specific individuals2. \"For indeed the people imitate their scholars & the worshipers among them. So if the scholars are wicked & the worshipers are ignorant1. Ibn al-Qayyim commented on the statement of Sufyaan al-Thawree, saying:3. For indeed their trial is a great affliction upon those who will be tested through them.\"\n",
      "\n",
      "Source: Akhlaaq al-`Ulamaa’ (1/87)2. And from the Fitnah of a wicked scholar (al-`Aalim al-Faajir)1. Sufyaan al-Tahwree said: \n",
      "\n",
      "\"Seek Allah’s refuge from the Fitnah of an ignorant worshiper (al-`Aabid al-Jaahil)RT @IbnShaheed: اللهم لا تحرمني خير ما عندك بشر ما عندي\n",
      "\n",
      "O Allah do not deprive me of the best of which is with you because of the evil wit…Never thought of it like that.... \n",
      "\n",
      "LRTRT @ibnaarif93: I hope my tweets were beneficial and helped the Ummah in some wayFor every hardship, there is a hidden blessing.There should be NO age limit to Eid money tbhWhen someone tells you that you're too old for 3edeya...\n",
      "\n",
      "I feel pain each time i get denied Eid money  https://t.co/GQUQtdLt8URT @BananaAndRiceP2: But understand one thing Allah Loves them so your opinions are irrelevant. Take a seat & stop hating on people from th…RT @BananaAndRiceP2: Muslims who leave everything behind for the sake of Allah are beyond underrated.RT @BananaAndRiceP2: So its not the ummah that has an issue its your way of thinking. Step outside the Jahl mind frame for a second and und…RT @BananaAndRiceP2: And secondly if people were to come to aid your country with any type of support you would be quick to drop that \"We d…RT @BananaAndRiceP2: Never understood why people doubt the \"One Ummah\" saying.. Its so Jahl for one Rasulilah SAW made that statement conce…So if it's truly \"Deen over Dunya\" as you claim your actions will not contradic that statement.Whether you like it or not, as Muslims we judge what is apparent. What is in your heart reflects your actions!4. A Muslim was known by not only their appearance but their mannerism...3. Back then there was no \"don't judge him\" or \"you don't know what's in their heart\" Muslims were known by their actions2. Those lands were conquered by the sword, but people converted to Islam through the actions they've witness from Muslims...1. If it wasn't for the blood of the Sahaba the lands we call \"home\" wouldn't have been Muslim lands...@ana_mrida @ZuhaibIzhar cc @sa_fiyahSufism... http://t.co/4GBnvtr7G93. Shiekh: Read it again, because you have not understood … \n",
      "\n",
      "Source: “Sharh Usul ath-Thalathah” by Sheikh Salih Al Ash-Shaykh2. \n",
      "\n",
      "Sheikh: Are you still in France\n",
      "\n",
      "Questioner: Yes.1. Questioner: Sheikh, we are brothers from France and we have finished Kitab at-Tawhid. What book do you recommend us to study?@Alam34Tony Wasalaams...When the heart yearns for the love of Allah, the Dunya means nothing.http://t.co/WXacZ6I7Sv\"O you who are patient! Bear a little more, just a little more remains.\"-Ibn QayyimCorrect your intentions i don't think i could explain its importance...3. And whoever migrates for worldly gain or to marry a woman, then his migration will be for the sake of whatever he migrated for.\"- Bukhari2. Whoever migrates with an intention for Allah and His messenger, the migration will be for the sake of Allah and his Messenger.1. \"Actions are according to intentions, and everyone will get what was intended.With anything you do either big or small it all comes back to intentions... Wallah ikhlaas is such a huge factor in our Deen!@FatimaYaBish LOOOOOOOOOOL Karbala is a land in Iraq that Hussein RA died on lol the guy is a rawfid shia don't get shockedSubhanAllah Allah gives us so much opportunity to get our duas answered its so beautiful & heartwarmingSo raise your hands whilst making dua & Allah will not let you return empty handed meaning He will accept your duas...2.  He does not allow him to put them empty in failure.\" -Hadith reported in Tirmidhi1. \"Allah is Shy and Most Generous. He is Shy that when a man raises his hands to Him in DuaRT @IbnEnu: \"You have stayed patient for the most, now remain patient for the little that is left.\"@Umm_Talhah Lol i was young & immature then, but i know the questions the Sahabiyyats would ask Rasululilah SAW were deadlierTo those who get spoon fed by mainstream media ...\n",
      "\n",
      " Allah says:\n",
      "\n",
      "\"So never be of the ignorant.\"-Surah An’am Ayah 35@CaptivatingDeen \"So never be of the ignorant.\"-Surah An’am Ayah 35Its like saying \"Shaytaan inc.\" \n",
      "\n",
      "Idk how people try to make things \"halal\" by saying its \"islamic\" swerve mate DONT TRY IT !\"@CaptivatingDeen: \"Islamic MUSIC industries\"\n",
      "\n",
      "I'm done 😭\"\n",
      "\n",
      "WHYYYYYYYYYYY\"I Love the pious people even though I am not one of them & I dislike the evil people even though I may be worse than them.\"I use to think my TL was abnormal then realized it lacked Akhlaaq & Adaab.. So i spring cleaned it & things are almost back to normal...@ibnabeeakeeh Yikes perhaps start unfollowing@MuawiyaIASufian Lol thats all you could do these days tbh  @MannWaSalwah@ibnabeeakeeh Ewww whats wrong with your TL?@syriangirl6394 Lol he's a Rawafid what did you expect ahahahahahaWhat the Jahanam... http://t.co/AnOBrMNRdySh. Ibn al-'Uthaymīn ر: \n",
      "\n",
      "\"Ending the recitation of Qur`ān with 'ṢadaqAllāhul 'Adhīm' has no basis, it is an innovation.\"  \n",
      "\n",
      "الجواب المختار@SalafiQueenOfNW @TheAbFro JazakAllah khayr@RHannah_12 Not all arabs hate on somalis...They did attend Jamiyyah ya know.. \n",
      "\n",
      "But its still awks how they know more about a women physical issue than most women.I use to find studying women fiqh from a man awkward especially when he talks about certain topics, but now its completely normal...@SalafiQueenOfNW @TheAbFro Are you 100% sure?Why do somalis hate on bantus?\n",
      "\n",
      "swerve you stole their land from them...I was dead & now im alive.. i attempted to catch up on my lost sleep, im such a failRT @BananaAndRiceP2: “@Lathanay: “@BoyOfTheHorn: You just do what you gotta do https://t.co/co5AFM4GES”😩😩😩😩😩😩” this is why I dislike Somali…RT @hussain_mIj: Few more days left and Muslims be like http://t.co/6cXGsddAYt2. Correct your intentions sisters. its only better for you & your akhria..1. Sisters need to realize that being a fan girl won't take you far, you're just corrupting his intentions & could cause him his JannahGirls that gush over guys publicly have no type of Hayaa regardless of his occupation.. 1. Fear Allah & 2. Get some Hayaa \n",
      "\n",
      "sorry not sorryThat's the beauty about Islam irregardless if you achieve your goals if your intentions are correct Allah will reward you for your effortsSabr is knowing that no matter the outcome Allah will reward you for your efforts.Tawakkul is like climbing on top of a mountain & jumping without knowing what is at the bottom.Ikhlas & tawakkul are two peas in a pond, without one you can't have the other.Tawakkul isn't leaned by reading books, it's taught when you're placed in certain situations. It brings about calmness & real true reliance.Patience is always rewarded http://t.co/Q6VSm7wQ9XThe Quran was revealed to the whole of mankind but it addresses you as an independent individual...\n",
      "\n",
      "Take heed in the ayahs & to understandWhen Allah says \"Oh you who believe\" He taking directly to U. When the stories of Prophets are addressed it's to remind U of their struggleWhat better encouragement do we have then the Quran itself? Surly the words of Allah was sent to YOU as an INDIVIDUAL..Verily His promise is true!Those advises Allah leaves us throughout the Quran >>> \n",
      "\n",
      "Its an iman booster knowing Allah is talking directly to you.Surah Rum Ayah 60 http://t.co/KOUPpjNHMyFor example if you're a Muhsin you are both a Muslim & a Mumin. But if you are a Muslim then chances are you're not a Mumin or a Muhsin...There's a difference between a Muslim, a Mumin & a Muhsin ....RT @One_Verse_: May Allah bless this father for his patience http://t.co/5JvBvdi1MBAfraid of the Punishments of the grave? \n",
      "Need a way to escape them?\n",
      "\n",
      "Well i have a perfect way for you to do that. \n",
      "\n",
      " Memorize Surah Mulk!\"@EmaanBooster: If your a sister would you approach a brother for marriage??\"\n",
      "\n",
      "Depends on the circumstances, but most likely not tbh...I seriously don't know what goes on in my city, like I'm beyond clueless which is actually great tbh@ummharith_ this video https://t.co/Vdin8BtCDm\n",
      "\n",
      "lol think they just now discovered itThat video is gonna get over played on Muslim twitter watch....RT @RepentantSoul_: Trials. Dont forget, when Allaah loves a servant He inflicts him w/ a trial. Ik you know that what matters is Allaah's …@wworkergates Becoming a Mumin or a MuhsinGlad Tidings to the Strangers!Hence why when you decide to become a practicing Muslim the road becomes at times lonely& you're seen as a stranger from your closest of kinSo if you have that 1 friend or even relative that reminds you of Allah & tells you to fear Him you should say Alhamdulilah.This uphill battle with our families is nothing new, Rasulullah Sallallahu Alayhi Wasallam all the way to Adam experienced the same issuesFulfilling ur obligations to Allah makes u a MUSLIM, and u should thank them for at least reminding u of ur obligations show they carePracticing Muslims & non practicing ones need to understand that Fulfilling your obligations such as praying doesn't make you religious1. It's completely wrong to bring up anyone's family in any case & 2. How do you know they don't gave Nasheeha?I've seen this many times where people cracked down on a brother/sister who reminds them of certain sins. SubhanAllah Fear Allah pls3. But what irritates me is when other people drop that \"your family isn't even practicing, preach to them\" line on you2. They doubt you even before you picked yourself up from the ground. Which is actually sad1. The hardest thing to do is to give proper Nasheeha to close family or even friends... because in a way there your biggest critics.@_pearlism Yeah, anything to get praise it seems like tbh@_pearlism I think that's so rude & egoisticim hungry@Shahzaib_A94 the list is too many to say especially with twitter's 140 limitA way to test a \"pro polygamist\" is to ask her if she's willing to be the 3rd or 4th wife if she flat out denies then just straight flexing.\"@ummharith_: @_UmmWaqqas im going holland soon in shaa Allah ill see you there ;)\"\n",
      "\n",
      "I will show you around Amsterdam@One_Verse_ awh sadia you make my heart melt...@One_Verse_ Baby don't go, im not involved this time I came after the drama ended@SimplyIkran Lol I've been waiting on you for months now,  people have been telling me I look like I'm dying@SimplyIkran k sorry don't hate meRT @bintdad__: @ me yourself when you're friggin talking about me. @ me yourself@DaughterofJM why do I have to be a beg I'm just stating facts loser@ummharith_ im from Holland peasanti actually believe polygamy has loads of benefits, it's not about sexual desires. im sure we learned that in the Seerah....@SimplyIkran why does a hijabi have to be brainless to consider polygamy.... it is in the Deen ya know, just saying@ummkhuzayzay Lol the family the sister was marrying into is pretty wealthy fully of businesses@DaughterofJM @SitThisOneOut yeah I hate when it's raining it feels like razors are cutting you...@SitThisOneOut I actually prefer longer Abayas & Jilbabs the longer the better tbhFiqh of Nikkah comes in handy!RT @140_Islam: Me: so how much does she want\n",
      "\n",
      "Wali: she's been telling me £100k\n",
      "\n",
      "Me: I think I haven't prayed enough IstikharaLong gone are the days Mahr was affordable... Seems like each year the price goes even higher.I know 2 sisters who asked for a high mahr... One asked for 75k & it was given to her on the day of her Nikkah & the second asked for 25k..@ana_mrida We the people of Holland are way too prestige to have a brit @ us! be gone, run along now@ana_mrida why do you keep calling me \"american\" peasant im from holland @Umm_Eessa@ana_mrida Is the part where i say \"thank you\" :/  lol @Umm_Eessa@ana_mrida You peasant im not american 1 & 2 shhhh why do you feel the need to correct me loser @Umm_EessaMy tweet was never indirect.\n",
      "\n",
      "But in the words of @Umm_Eessa \"If the shoes fit, lace em.\"I think we should all have some level of Hayaah Pon De TL ya know\n",
      "\n",
      " Just saying... \n",
      "\n",
      "Things are getting a little bit ridiculous.حور العين تناديني  😊\n",
      "\n",
      "تناديني BestiesSurahs talking about the Hoor Al Ayn are awesome... Allah calls them beautiful & describes their beautiful caring side so beautifully\"Wa Hoor Al Aynnnn\"\n",
      "\n",
      "I like how the sheikh's stretch the ayatsوَحُورٌ عِين ٌ كَأَمثَالِ اللُّؤلُؤِ المَكنُونِ \n",
      "\n",
      "I always smile when i come across these two ayatsوَتَوَكَّل عَلَى اللَّهِ وَكَفَى بِاللَّهِ وَكِيلا ًرَبِّ اشرَح لِي صَدْرِي وَيَسِّر لِي أَمرِي وَاحلُل عُقْدَة ً مِنلِسَانِي يَفقَهُوا قَولِي@HunnaDave I will try to find something for you ... i have it on my Laptop just not on youtube...@HunnaDave You should read the Seerah it will tell you the story behind the SurahHow & why Surah Ya Seen was revealed is iman boosting.. The story plus the surah installs in you trust in Allah's protection..@IbnEnu Loooool im assuming you didn't see a certain statement... your blood would've risenWa Ja`alna Min Bayni 'Aydihim Saddaan Wa Min Khalfihim Saddaan Fa'aghshaynahum Fahum La Yubsirūnaوَجَعَلنَا مِنبَينِ أَيدِيهِم سَدّا ً وَمِن خَلفِهِم سَدّا ً فَأَغشَينَاهُم فَهُم لاَ يُبْصِرُونَ@DaughterofJM https://t.co/orrDE4bUA2 PeasantOi swear down im i getting accepted to AkhiHood? i mean we both share love for the Hoors ya knowI've always been team AkhihoodUkhtihood is lacking on comparison to Akhihood TBH at least from what i personally know...why did i peep over to the other side. they raised my blood levelAny ways please for your best interest keep your intentions to yourself... Make Dua that Allah keeps you sincere & steadfast!@Sherj_ I will have twitter kick you Ahlul Cactus & Ukhtidem off you on twitter don't mess with me mate  @Fais99l@Fais99l Shhh he blocked me so i can't retweet him.. So i decided to borrow the tweets plus im sure he won't mind he's getting the Ajar alsoOnly Allah knows whats in your heart, so keep it that way, don't give shaytaan the gate way into your heart so he could corrupt you.When people expose their intentions regardless of the Ibadaah they intended to do its like \n",
      "\n",
      "K are you telling me so i can praise you or NahKeep your intentions to yourself.. \n",
      "\n",
      "So much barakah that way, plus talking about your intentions creates riyaa & will corrupt your Niyaah@augen_ihre Ameen & May Allah bless you greatly Both in this word & in the next ukhtMaking a firm intention to break the fast nullifies it \n",
      "\n",
      "Sh. Ibn al-'Uthaymīn رحمه الله http://t.co/nbJn3cw8e7@augen_ihre Swear is that what im doing? Lol i never realizedUmar رضي الله عنه: \"Fasting doesn't mean keeping away from only food & drink, it also means keeping away from lying & falsehood\" \n",
      "\n",
      " المصنفAnas b. Mālik رضي الله عنه: \n",
      "\n",
      "\"If the fasting person backbites, his fast is broken.\"  \n",
      "\n",
      " [الزهد (١٢٠٤)]Q: What's the ruling on saying Ramadān Karīm?  \n",
      "\n",
      "Sh. Sālih al-Fawzān ح: \"It has no basis rather say Ramadān Sharīf or Mubārak or 'Adhīm.\"RT @One_Verse_: The muslim men & women are protectors of one another :) #AyahOfTheNight http://t.co/XnHt78xsByواصبر فان الله لا يضيع اجر المحسنينRT @TaalibJamia: “The most helpless of people are those who cannot make du’ā`.”\n",
      "• Prophet Muhammadﷺ\n",
      "\n",
      "Du'ā` is your weapon. Never get caught…\"So let Him see from you a determined patience and you will soon see from Him what will give you joy.\"-Ibn Qayyim\"The planning of Allah is better for you than your own planning, & He could deprive you from what you ask to test your patience.\"-Ibn QayyimSide from all the rubbish I've posted today, im truly excited for Ramadan \n",
      "\n",
      "In Shaa Allah we all benefitBrothers on the day of their Nikkah https://t.co/T3pCOkRJkh@fazie_90 I think they found you a Rishta 👀👀👀👀Me to the sisters who dis the Hoors https://t.co/G72nY4ut1u@ImMisterD Lol you & @SimplyIkran if people didn't know you guys they'd actually think you're seriousim Bosnian 😏😌@SitThisOneOut Us Balkins would accept you gladly@SimplyIkran I actually wasn't expecting thatFarhiya should be like me & stick to one ethnicity... \n",
      "\n",
      "Team Bosnia \n",
      "\n",
      "im a Balkin UkhtVine is fitnah i need to stopWhen sisters spot that polygamy talk on the TL.. https://t.co/zNKLD8fFrWWhen Muslim twitter gets into debates https://t.co/T9y9XQeSe6When Quote accounts get involved in banters https://t.co/4gXRD7VTwxWhen people continue to lie\n",
      " https://t.co/XxIuNYMBcxArabs be joking like https://t.co/wcPGaw4ZWWWhen people tell me my love for the Hoor Al Ayn is weird & not normal. i tell them https://t.co/VWyRqTVdJnWhen someone tells me how they \"feel\" about certain issues https://t.co/f8cAheSqhO \n",
      "\n",
      "Bye K.\"I don't know much about footy but I can make a good sandwich.\"-@MannWaSalwahRT @Muoosh: A young boy is seeking knowledge at the Masjid everyday SubhanAllah there is no specific age for Ilam http://t.co/248KD7KWjzThese americas are hyped.. \n",
      "\n",
      "pipe down peasants Portugal is going to win\"@SitThisOneOut: I need help making a decision 😪\"\n",
      "\n",
      "Istakaraah is what you need BruvOld muslim twitter was awesome tbh.RT @Ridwan_Patel: When ppl tweet about missing the 'old Muslim Twitter' - the one I wasn't around to be a part of, I'm just here like: http…@_KhalidOJ im running away lol...@Sherj_ @HumzMufasa You came late to the game shhhh@ImMisterD Oi you're not new to muslim twitter, remember those weekly arguments people use to have about rulers etc... yeah that@Alhamdulilllah Then remind them of the sin & punishment, they won't dare to backbit in front of you again@Alhamdulilllah 1. Make them feel stupid, & drop that \"here is a tooth pick to remove the fresh of your brother from your teeth\"Guys not everyday start on madkhalis some days tell everyone they're off the Manhaj@DaughterofJM Where did you go?@ummharith_ @SitThisOneOut Madkhalis don't like Sheikh Abdullah Azzam even though he was backed & praised by all & every alim in his time@SitThisOneOut Ibn Uthaymeen Rahimulilah@ummharith_ I read this 10 times... & i still don't know how to reply :/@IbnArthur @MannWaSalwah http://t.co/yEmrk5p8MI@SitThisOneOut Ukhtidem <3@SitThisOneOut i will send you letters in Belmarsh xoxo & i will start a twitter storm for you also\"@MannWaSalwah: I don't know much about football but I can make a good sandwich.\" #MarriageSeeking \n",
      "\n",
      "Rema is Rishta searching folksAll of the sudden everyone one on my TL is Algerian... BEGS@Umm_Eessa Its black on black, i couldnt even notice you\"@bintdad__: So glad to be half Algerian\"\n",
      "\n",
      "You're such a begRT @bintdad__: “@_UmmWaqqas: im muting all you footy fans”\n",
      "\n",
      "@ ME YOURSELFim muting all you footy fansRT @bintdad__: VICTORY IS WITH THE BELIEVERSAllah placed fear into their heartsYou have 2 types of friends in this Dunya:   \n",
      "\n",
      "1. Allah Azawajal  \n",
      "2. Those who remind you of Allah Azawajal@ummmuthannah77 Trust me thats a very dark red, its the lighting ukht...i keep telling people use Quran as your proof, wallah all the answers are there@ummmuthannah77 im sure it meets the conditions ukht, its due to the lighting that it seems bright.. JazakAllah Khayr thoughNo matter how much distance separates us the bae & i always have something interesting to talk about lol... OH MY GOD ! \n",
      "\n",
      "Alhamdulilah x1000\"The promise of Allah is true. And who is more truthful in speech than Allah?\"-Surah Nisaa Ayah 122@NajAbdurahman That falls in to condition # 6The moment 30 angels all had a scuffle... http://t.co/KTLuManlTQ\"The mansions in Jannah are built based on dhikr. If you stop dhikr the Angels stop building the mansion.\"- Ibn QayyimYaa Muqallibal Quloob Thabbit Qalbee ‘alaa Deenik.If what you're wearing does not match those 7 conditions then sorry ukht you're not wearing Hijab properly... \n",
      "\n",
      "May Allah guide us all3. \n",
      "\n",
      " 6. It should not have too much beauty/Adornments\n",
      "7. It should not be a cloth of fame (catch the eyes of people so you could get fame)2. \n",
      "\n",
      "3. It should be wide not too tight  \n",
      "4. It shouldn't be perfumed \n",
      "5. It should not be see through1. \n",
      "\n",
      "7 contains of Hijab:\n",
      "\n",
      "1. It must cover the whole body \n",
      "2. It shouldn't simulate the clothing of the men or non-Muslims\"It is your book of deeds, fill it with what you wish.\"-Khalid Ibn Waleed\"And whoever puts all his trust in Allah, He will be enough for him.\"-Surah Talaaq Ayah 3\"Don't be sad, surely Allah is with us.\"-Surah Tawbah Ayah 40@ThatRevert You should sit with a sheikh if you are stating to have doubts, & also start reading books on Salah & how the Prophet SAW prayedRabbana atina min ladunka rahmatan wa hayyi' lana min amrina rashada.Rabbana la tuzighqulubana ba'da idh hadaitana wa hab lana min ladun-ka rahmah, innaka antal Wahhab.Not everyday talk about marriage some day discuss divorce ...Muslim twitter without Marriage talks is like Tom without Jerry.\n",
      "\n",
      "You could be talking about the sky & it goes back to the topic of marriage@augen_ihre Idols that were worshipped during the time of Nabi Muhammad SAWDid you know that the day of judgement will not be established till people worship Lat & Uzza again.. According to couple sahih hadiths..@_UmmYassir A beautiful surah that describes how Believes should behave socially, you should read the Tasfeer of that ayahAs described in Ibn Kathir's book Rasululilah SAW said Musa AS was of brown skin. @ZulfiqaarLol who remembers the story of how Musa AS punched the Angel of Death? \n",
      "\n",
      "Ahahahahaha that story always leaves me in stitchesSo much khayr on the TL \n",
      "\n",
      "This was very much needed Alhamdulilah@Al_Muhajiroun Harun Became a Nabi on the request of Musa AS Check Surah TahaThe dua of Musa comes in handy when you're nervous or afraid to speak its in Surah Taha Ayah 25 if im not mistakenMusa Alayhi Sallam was the only one to speak to Allah directly... \n",
      "\n",
      "He also had a lisp whenever he talked@Al_Muhajiroun Are you talking about the man he asked to follow?@Zulfiqaar From what i know in Musa's Seerah his nation was the first to fight Jihad Feesaabililah, if im not mistaken Allahu AlimNabi Musa Alayhi Sallam & his nation were there first to Fight in Jihad Feesaabililah, they were also the first to Establish Shaira ..@Amoney718  Any of these books would be perfect tbh http://t.co/9SltuavXOmRT @Zulfiqaar: Prophet Yahya (`Alayhi Salaam) would constantly do dhikr because he missed Allah.@Al_Muhajiroun @Amoney718 Yeah he loved nature & animal.. he lived that simple life@Abu_Ibadah @Al_Muhajiroun Because its said that the body of a Nabi will never decay & they found Daniyal's body as if he died hours ago...Allah loved Bani Israel & preferred them over other, yet due to their heedlessness &corrupt ways Allah blind their hearts & turned from themWhat happen to Bani Israel is a lesson for all of us...@Amoney718 1. Allah named him personally 2. his interactions with people\n",
      "\n",
      "His over all personality & level of humbleness!@Amoney718 u should read about him if u get a chance.. He's not like other AnbiyyahSubhanAllah Yahya AS shared his food with animals & dug graves so he could sit & cry to the point where his tears became notable marksOut of all the Nabiyyah i find Yahya Alayhi Sallam's life to be interesting..@Amoney718 Lol Nahh i remembered from Quran & also Ibn Kathir's book. He goes into details about how the prophets are related@Amoney718 Lut ASYet, Shias believe we as Ahlul Sunnah don't love the Ahlul Bayt. By Allah we love them & respect them we just don't worship them...Here is a bit on the Martyrdom of Hussein Radi Allahu Anhu.. \n",
      "\n",
      "SubhanAllah its so emotional \n",
      "\n",
      "https://t.co/DlKXQzq1N8@Abu_Ibadah @Al_Muhajiroun @_UmmYassir Listen to Sheikh Zahir Mahmood talk about the Life of Hussein... i think its on youtubeThe Martyrdom of Hussein is actually sad & will bring you to tears.@Abu_Ibadah @Al_Muhajiroun @_UmmYassir You guys should look more into the history of Karbala & the Martyrdom of Hussein Radi Allahu Anhu@Al_Muhajiroun @_UmmYassir Yeah the so called \"Supports\" called him to Kuffa, & actually many of the sahaba advised him not to go..@Al_Muhajiroun @_UmmYassir The shia called him to Kuffa to give bayaah to become Khalifah & when he arrived they betrayed him& turned him in@Al_Muhajiroun @_UmmYassir They didn't kill him, the Army of Yazid ibn Muawiyyah killed him..\"Islam is the religion of justice, not equality. Allah orders justice, not equality.\"-Sheikh Ibn Uthaymeen \n",
      "\n",
      "Sharh-ul-Wasitiyyah 1/229\"Whoever is there when his Brother needs him, Allah will do the same when he is in need.\"\n",
      "\n",
      "Source: Hadith reported in Bukhaari & MuslimAfter reading \"Diseases of the Hearts & Their Cures\" By Ibn Taymiyyah you will realize your heart is either dead or full of diseases.\"Diseases of the Hearts & Their Cures\"\n",
      "\n",
      "He diagnoses your heart, explains what caused it & gives you the cure\n",
      "\n",
      "http://t.co/hJ80c48vMP3 Types of Hearts:\n",
      "\n",
      "1. Healthy Heart \n",
      "2. Diseased Heart \n",
      "3. Dead Heart@Alhamdulillh \"Matters of the heart\"@augen_ihre The books i have are hard copies but go to http://t.co/aPkCsxsEGL & you will find so much khayr on that siteI diagnosed my heart after reading those Ibn Qayyim books... SubhanAllah its crazy who he describes your heart to you so accurately\"No slave of Allah commits a sin except that a blessing from Allah is removed from him equal to that sin.\"-Ibn Qayyim\"Do not find slow the answer to your du’aas when you have shut off its path with your sins.\"-Yahyaa Ibn Mu’aadh\n",
      "\n",
      "Source: As-Siyar,13/15\"Sinning will leave you poor and regretful.\"- Ibn Qayyim \n",
      "\n",
      "Source: al-Fawaa-id pg.340@_Verbalist_ Can you come off private for 3 seconds so i can retweet ?@mujaahid4life Amazing, im different ya know@mujaahid4life Ive gone mad to be honest@mujaahid4life im talking to myself lolWhats Jannah without scarifies?The happiness that is permanent is that of Jannah.. so imagine Allah says to you \"Enter My Paradise\"-Surah Fajr Ayah 30One post about the Hoor Al Ayn, and the Ukhts be like .... http://t.co/TcCY7UbCpz@TheAbFro I have no friends lol except booksاﻹخﻻص أعظم توفيق من اللهMay Allah give us all sabr upon His decree, and grant us patience during our struggles..“Do people think that they will be left alone because they say: ‘We believe,’ and will not be tested?\"-Surah Ankabut Ayah 2أَحَسِبَ النَّاسُ أَنْ يُتْرَكُوا أَنْ يَقُولُوا آمَنَّا وَهُمْ لَا يُفْتَنُونَ@ImMisterD Same honestly..Try your best & your path to righteousness & ultimately easier for you. But know that struggles are waiting for you so have sabr...Work on straightening your weaknesses & perfecting your flaws. Be better than who you are today.& remember that during Ramadan you have no shaytaan to hide behind, from the first day & on everything you do is from yourself...we should all utilize or time this ramadan so that we can stop bad habits & create better ones Bi ithnillahim so glad ramadan is here my heart needed to be cleansed & this is a perfect timing..Alhamdulilah Ramdan is this week coming up.. SubhanAllah May we all benefit from this ramadan..@OfficialHayat Nahh its not TuhinRT @One_Verse_: Ramadan a week away, Allahumma ballighna ramadan@ummharith_ Why did i just realize that now, after you pointed it out @BananaAndRiceP2Ravdavić \n",
      "\n",
      "im a proper Bosnian 😎@OfficialHayat @SitThisOneOut im rereading my notes hold on.. i always get the last two mixed upRT @ahmadmusajibril: Their Istianah is Ya Hussain!\n",
      "\n",
      "Their Istiathah is Ya Ali!\n",
      "\n",
      "When it comes to their Istighathah, it's YA OBAMA! :)CAKESheikhs & Ulema who actually speak Haqq in Bilad Al-Haramain are only a few, but they are either locked up or not many have heard of them..RT @BananaAndRiceP2: I feel mad sorry for scholars based in Saudi. May Allah keep them firm@UmmUmar_ @bintdad__ Don't make me look soft man..Rahimulilah@HumzMufasa You're the first person i refute when i switch over & they accept me@BananaAndRiceP2 @UmmUmar_ They left no stone unturned when they had questions about the deen now everything has become a sensitive topic@ShurdahSharia @Munaimsayd Nahh just saying those countries hold a place in my heartUs muslims can't even make dua for Non Muslims when they die, so where did you get the idea that they will \"RIP\" from mate?RT @HumzMufasa: @_UmmWaqqas it's called 'sheep logic' tbhAnd surely a dua is better than the term \"RIP\" for the muslims who have died. They won't care for your \"RIP\" sayings a dua is more wantedNever understood the logic behind \"RIP\" by muslims used on non-muslims...BOSNIA  \n",
      "\n",
      "💛💙💛💙💛🙌kljbhkjhkugfcfxhfdxhfckjnGasp!\n",
      "\n",
      "I know something you don't knowWe are travelers. We own nothing, and nothing is ours. But a good traveller is one who remember his final destination.im reading the application of Ukhtidem & its current events... \n",
      "\n",
      "Swear down Banana is creative, who thinks of those things ya knowUkhtidem > Your TLRT @BananaAndRiceP2: @_UmmWaqqas @Feesabeelilah fam u are delayed. I tweeted current affairs tooCurrent events via Ukhtidem\n",
      "\n",
      "\"@BananaAndRiceP2: http://t.co/SYTuC7wTbT\"Application for Ukhtidem \n",
      "\n",
      "\"@BananaAndRiceP2:  http://t.co/piGvrX5HqJ\"Ukhtidem \n",
      "\n",
      "\"@BananaAndRiceP2: @Feesabeelilah http://t.co/PbTy0xj5K5\"I lost my phone for at least a week & now that i found it im slammed with loads of messages@striving_ukht @ZumarulJannah @bintdad__ @ummharith_ Kick rocks i don't want to know whenever one else find out im prestige mate@ummharith_ @ZumarulJannah @bintdad__ @striving_ukht #IjustWantToBeInTheLoop #IhaveNotTeam #SomeoneAdoptMe@ZumarulJannah @ummharith_ @bintdad__ @striving_ukht #SheBeggedItAndNowSheDoesntKnow@ZumarulJannah @bintdad__ @ummharith_ @striving_ukht #TeamImABeg@ummharith_ @ZumarulJannah im assuming it has something to do with @striving_ukhtlol i have no twitter clique hence why im always out the loop \n",
      "\n",
      "FGSAwkward moment when muslims don't know the difference between Masjid Al-Aqsa & the Dome of Rock...@IbnEnu Lol no i was suggesting you deactivate  😩😩😩😩... But you didn't understand K bye 🏃🏃🏃@IbnEnu Deactivate maybe?@SuhailAsSalafi @Sarfaraz_Idris @ShogunSupps Some times its about principles though to be honest...@SuhailAsSalafi Its just footy people are playing for a man made borders & BTW Bukhari was from Uzbekistan...RT @kam_shaheen: Imām Bukhārī was not born in Iran, he was born in Uzbekistan.@SuhailAsSalafi If you want to get technical they hate Bukhari & Muslim.. & over all hate the man that made persia into a muslim country..My family is leaving town for the entire month of Ramadan.. Seems like im spending Ramadan on my own this year CRIES@SuhailAsSalafi Wait, NOOOO tell me you're not serious!3. Or have neglected to make Tawabah, hence why people in Jahanam begg Allah to be sent back & given another chance2. I think that applies perfectly with some of Jahanam's populations. Majority of its people are those who have forgotten their sins1. The different climates of Jahanam & its punishments scare me. there's a saying \"u may have forgotten ur sins but they havent forgotten u\"RT @JamilaAmatullah: Bruv jahanaam ain't just got fire ya know, there's a part of it where it's soo black. 😳 And very  cold😰😰😰😰😰I heard @DaughterofJM is deactivating lol Shia Latter mate ! xoxoxo@Path2Jannah1 Yeah just leave it on until you feel the need to remove it...RT @bintdad__: “Sufficient is your Lord as a guide and a helper.”\n",
      "Surat Al-Furqan [25:31]⁰\"If the pains of this world tire you, do not grieve. For it may be that Allah wishes to hear your voice by way of duaa.\"-Ibn Qayyimim not nationalistic or even tribalistic. Heck im not even Bosnian, but i just have mad love for BosniaBOSNIA \n",
      "\n",
      "💛💙💛💙💛🙌RT @BH_Dragons: Bosnian players praying at a mosque before the match. http://t.co/moXySqgU3A@BananaAndRiceP2 your face@BananaAndRiceP2 I wanna know3. \n",
      "\n",
      "3. A man walking between targets to learn archery\n",
      "4. A man learning to swim.\n",
      "\n",
      "Reported in An Nasaa’i declared authentic by Imam Albaani2.   \n",
      "\n",
      "1. A man being humorous with his wife\n",
      "\n",
      "2. A man training his horse1. Everything besides remembrance of Allah is wasteful play except four things:@Path2Jannah1 Yeah its spice but its also good for your face, it removes dead skin & kills bacteria@lilmuslimah1 If you go to your local islamic store & ask for Black seed oil they should have it, just mix it with turmeric (haldi) & honey.Secret beauty tip:\n",
      "\n",
      "Black seed will help remove your blemishes, blackheads, pimples or anything else. \n",
      "\n",
      "Apply Black Seed + Haldi & Honey@HaruunRasheed Before i die.. Or leave it in my willAll black everythingI would want my kids to be treated with love not like a burden. & i would make sure the lady has the right Aqeedah also... Bi ithnillahRT @mz_yb: @_UmmWaqqas some women can be soo two faced tho 😡If i was to die before my husband & we had kids... I'd help him find a wife according to my standards tbhI can't have my kids be raised by someone evil, Nahh i'd hold that against him...Good step moms are hard to find tbh, some women can be so evil to kids that are not theirs#FF The Sunnah of Nabi Muhammed Sallallahu Alyahi Wasallam@Munaimsayd May Allah bless youThere are 7 conditions that need to be met for your \"Hijab\" to be considered a hijab...Man like Umar b. Khattab RA, his gheerah made him request the Prophet ﷺ to order the women to cover up & the verses of Hijāb were revealed.@MannWaSalwah Change the tweet so i can retweet you pls@flurriana Yeah we were taught english, its our second language@MannWaSalwah Rasululilah SAW & his sahaba wore turbansswear down half of the time im added to random conversations that i don't even blog in.. \n",
      "\n",
      "Like how did you find my @My mentions die a 1000 deaths a dayBet you lot never heard of that Nasheed.. Lol \n",
      "\n",
      "Hidden lowkey nasheeds > The knownJurhun Ya Ummatina\n",
      "\n",
      "https://t.co/ZefAtpPAwn@alfirdaws_ JazakAllah Khayr darling 😘@Sherj_ @IbnArthur @MannWaSalwah @Al_Muhajiroun You guys are ruthless, idk why he hasn't blocked you guys yet@IbnArthur @MannWaSalwah @Sherj_ @Al_Muhajiroun You guys take trolling ito a whole new level... Skills i must admitCongratulations im so proud of you! @yellowwdiamonds\"Hijabi Beauties\" \n",
      "\n",
      "Alright.RT @bintdad__: @HunnaDave every lustful look will be a sin subhanAllahThis side of Muslim twitter > That side \n",
      "\n",
      "Lol @_Only1M & @MannWaSalwah use to say \"The Dark side\" \n",
      "\n",
      "Its sad we have 2 sides though tbhLol we just got her new account suspended... \n",
      "\n",
      "The strength of Muslim twitter i tell ya.Change your Avi & your @ from @MFreeSpeech to something else the @ sounds Sketchy hence why i blocked @journey4jannah \n",
      "\n",
      "Lol Sorry@ana_mrida Lol i fell of the couch reading this@journey4jannah Loool swear down  --> @MFreeSpeech is you? \n",
      "\n",
      "Lol i don't trust eggs man, you shouldve told me before hand...Alhamdulilah Allah protected my eyes!Thank you @bintdad__ \n",
      "\n",
      "I blocked the person without viewing the picture. May Allah reward you greatlyPalestine is our Quratul AynLOOOOL she named @ana_mrida as deviant\n",
      "\n",
      "  @BananaAndRiceP2 @MannWaSalwahShe stated me as vice ameera of Ukhtidem... \n",
      "\n",
      "Prestige 😌😌😌😌😌😌😌😌😌RT @BananaAndRiceP2: My state say waa daily mail http://t.co/QzpN62OOqDRT @BananaAndRiceP2: This is the revised version!!! http://t.co/CuKfY5oooD@HunnaDave Best idea  @TheAbFroRT @tahsinaaa: Patience is that the heart does not feel anger towards that which is destined & that the mouth does not complain.\n",
      "\n",
      "- Ibn Qay…No wisdom behind recklessness, honestly 1. you should be keeping your intentions to yourself 2. Allah advised us to take \"precaution\"Lol why are people so bait for. Yoo Gitmo isn't a place to be, swear down people yarn for their families each day & you lot stay reckless@ShakirPayne Wasalaams umm whilst looking for a spouse i would advice not to do it online, & also try seeking help from family or friends.\"…Those who patiently persevere will truly receive a reward without measure!\"-Surah Zumar Ayah 10\"…But if you are constant and do right, not the least harm will their cunning do to you…\"- Surah Imran Ayah 120\"…and be patient and persevering: for Allah is with those who patiently persevere.\"-Surah Anfal Ayah 46\"Now await in patience the command of your Lord…\"-Surah Tur Ayah 48\"Patience means to keep close to Allaah and to accept calmly the trials He sends, without complaining or feeling sad.\"-Amr ibn ‘Uthman Makkiلا تسألوني عن حياتيYudnina https://t.co/yRCHqAFYfg\"If you have no shame do as you wish\"I don't talk about free mixing because i fear Nifaq but reading the TL right now its cringe worthy honestly.All jokes aside though, i think there should be a limit to all this free mixing. its cringing & borderline awks tbhYou lot are in dire need for some Zamzam water... Like seriously#StopTwitterAkhs2014 \n",
      "#StopTwitterUkhtis2014Vine is comedy..LOOOOOOOL im in tears https://t.co/BcahgGrvxVWho feels the same way? 😂 https://t.co/FuVsvuIMZQLooool he's comedy https://t.co/DyYzvOExN0@Marwantted @augen_ihre please don't say that, its actually good to question peoples sources, it prevents you from becoming a blind follower@MrJaman_ @IbnEnu He's a hater. he was stunting for the TL ya know!@augen_ihre @Marwantted Wa iyyaki ukht may Allah increase us all in knowledge@MrJaman_ When Tuhin use to deny you was mad funny lol sorry idk how that came to my mind all of the sudden.. @IbnEnu@augen_ihre @Marwantted But the conditions of dua have to be applied for them not to be rejected.. & Allah knows best@augen_ihre @Marwantted Because in the hadiths concerning those times Rasululilah SAW says \"they will NEVER get rejected\"What i love the most is how throughout the Quran there are ayahs that contain duas for various things.. \n",
      "\n",
      "SubhanAllah Allah is amazingRasululilah SAW said \"you are the closest to Allah when you are in Sajood so increase your duas\" \n",
      "\n",
      "Man opportunities we are givenWhilst sipping Zamzam your duas are being accepted !Oh yeah the Duas of the oppressed are never rejected.. & remember you don't have to be ruler to be oppressive!@idiopathically BRO THAT A CRAZY COMBINATION! don't forget to add me in your duas if that ever happens@UmmUmar_ ima DM u a list of Duas! im sure we will both benefit, because what i ask for & u make dua for the angels will say the same for u@PinkTingz Shhhhhhhhh no one clocked that@HunnaDave Doesn't apply mate nice try@TorontoOiler there are bunch of muslim women who contributed to societies of today the last nobel peace prize winner was a muslim women@HunnaDave No like traveling for vacation purposes or beyond the mile limit for us women...@TorontoOiler @Abu_Mariyah @AbuBakrAl_Janab history shows Muslim women were the first to sit up universities whilst other had no rights@TorontoOiler @Abu_Mariyah @AbuBakrAl_Janab Hey hey hey, i was with you about the pizza part but this isn't true not even in the least.100% guarantee times of Duas being accepted:\n",
      "\n",
      "Whilst Raining\n",
      "Qiyyamul Layl/Tahajjud\n",
      "After Athan before Iqama\n",
      "Traveling\n",
      "Before braking fast\n",
      "\n"
     ]
    }
   ],
   "source": [
    "for para in document.paragraphs:\n",
    "    print(para.text)"
   ]
  },
  {
   "cell_type": "code",
   "execution_count": 145,
   "metadata": {},
   "outputs": [
    {
     "name": "stdout",
     "output_type": "stream",
     "text": [
      " (Tirmidhi)Lool at those articles. The crap journalists say nowadays is mad funny, & people belive it SMHLol I would post the article talking about Umm Layth but I can't because she's a Niqabi & her face is shown...Female recruiter ya know @FlamessOfwar  \n"
     ]
    }
   ],
   "source": [
    "print(document.paragraphs[4].text)"
   ]
  },
  {
   "cell_type": "code",
   "execution_count": 146,
   "metadata": {},
   "outputs": [
    {
     "data": {
      "text/plain": [
       "1885"
      ]
     },
     "execution_count": 146,
     "metadata": {},
     "output_type": "execute_result"
    }
   ],
   "source": [
    "len(document.paragraphs)"
   ]
  },
  {
   "cell_type": "code",
   "execution_count": 147,
   "metadata": {
    "collapsed": true
   },
   "outputs": [],
   "source": [
    "df = pd.Series(np.random.randn(len(document.paragraphs))) "
   ]
  },
  {
   "cell_type": "code",
   "execution_count": 148,
   "metadata": {},
   "outputs": [
    {
     "data": {
      "text/plain": [
       "(1885,)"
      ]
     },
     "execution_count": 148,
     "metadata": {},
     "output_type": "execute_result"
    }
   ],
   "source": [
    "df.shape"
   ]
  },
  {
   "cell_type": "code",
   "execution_count": 149,
   "metadata": {},
   "outputs": [
    {
     "data": {
      "text/plain": [
       "1    3.064194\n",
       "2   -0.768679\n",
       "3   -0.219993\n",
       "4    1.270809\n",
       "dtype: float64"
      ]
     },
     "execution_count": 149,
     "metadata": {},
     "output_type": "execute_result"
    }
   ],
   "source": [
    "df[1:5]"
   ]
  },
  {
   "cell_type": "code",
   "execution_count": 150,
   "metadata": {
    "collapsed": true
   },
   "outputs": [],
   "source": [
    "for x in df.index: \n",
    "    df[x] = document.paragraphs[x].text"
   ]
  },
  {
   "cell_type": "code",
   "execution_count": 151,
   "metadata": {},
   "outputs": [
    {
     "data": {
      "text/plain": [
       "1                                                     \n",
       "2    There was a sister who wanted to make Hijrah &...\n",
       "3                                                     \n",
       "4     (Tirmidhi)Lool at those articles. The crap jo...\n",
       "dtype: object"
      ]
     },
     "execution_count": 151,
     "metadata": {},
     "output_type": "execute_result"
    }
   ],
   "source": [
    "dfOrig = df\n",
    "df[1:5]\n",
    "#these data are in the format we want to tokenize it"
   ]
  },
  {
   "cell_type": "markdown",
   "metadata": {},
   "source": [
    "# sentiment over time\n",
    "- Is there variation in sentiment over time?"
   ]
  },
  {
   "cell_type": "code",
   "execution_count": 117,
   "metadata": {
    "collapsed": true
   },
   "outputs": [],
   "source": [
    "import nltk"
   ]
  },
  {
   "cell_type": "code",
   "execution_count": 152,
   "metadata": {},
   "outputs": [
    {
     "name": "stdout",
     "output_type": "stream",
     "text": [
      "[nltk_data] Downloading package opinion_lexicon to\n",
      "[nltk_data]     /Users/shawnramirez/nltk_data...\n",
      "[nltk_data]   Package opinion_lexicon is already up-to-date!\n"
     ]
    },
    {
     "data": {
      "text/plain": [
       "True"
      ]
     },
     "execution_count": 152,
     "metadata": {},
     "output_type": "execute_result"
    }
   ],
   "source": [
    "nltk.download('opinion_lexicon')"
   ]
  },
  {
   "cell_type": "code",
   "execution_count": 153,
   "metadata": {
    "collapsed": true
   },
   "outputs": [],
   "source": [
    "from nltk.corpus import opinion_lexicon"
   ]
  },
  {
   "cell_type": "code",
   "execution_count": 154,
   "metadata": {},
   "outputs": [
    {
     "data": {
      "text/plain": [
       "['a+', 'abound', 'abounds', 'abundance', 'abundant', ...]"
      ]
     },
     "execution_count": 154,
     "metadata": {},
     "output_type": "execute_result"
    }
   ],
   "source": [
    "opinion_lexicon.positive()"
   ]
  },
  {
   "cell_type": "code",
   "execution_count": 155,
   "metadata": {},
   "outputs": [
    {
     "data": {
      "text/plain": [
       "['2-faced', '2-faces', 'abnormal', 'abolish', ...]"
      ]
     },
     "execution_count": 155,
     "metadata": {},
     "output_type": "execute_result"
    }
   ],
   "source": [
    "opinion_lexicon.negative()\n",
    "#Mia: maybe we want to add words to this? Or use a different classifation scheme."
   ]
  },
  {
   "cell_type": "code",
   "execution_count": 156,
   "metadata": {
    "collapsed": true
   },
   "outputs": [],
   "source": [
    "#break each tweet into tokens:\n",
    "from nltk.tokenize import TweetTokenizer"
   ]
  },
  {
   "cell_type": "code",
   "execution_count": 157,
   "metadata": {
    "collapsed": true
   },
   "outputs": [],
   "source": [
    "tokenizer = TweetTokenizer()"
   ]
  },
  {
   "cell_type": "code",
   "execution_count": 158,
   "metadata": {},
   "outputs": [
    {
     "name": "stdout",
     "output_type": "stream",
     "text": [
      "_UmmWaqqas\tThe test in our struggles is our ability to stay patient in times of hardships. Allah says in the Quran \"Allah Loves those who are PATIENT\"Nothing is impossible for Allah, & if something is meant for you it will happen. Regardless of how it does it eventually willIn life we face so many hardships & think there's no way out of them yet forget that Allah is Wali Al-Hamid. He will make a way out for youAllah says \"I will make a way for you from sources you could not imagine\"When you think your back is against the wall, & you feel like there is no way out for you PLACE your trust in Allah & watch things go smooth3. Alhamdulilah she made it to Ash-Shaam.  She is a sister whom I love dearly & admire, now the lesson in all of this is...2. She placed her trust in Allah & tied her camel & set out to make Hijrah. Though the path was tough & though there were obstacles2. One BIG PROBELM she was under watch by the government & was being tracked by her every move.1. Bismillah.... \n",
      "['_UmmWaqqas', 'The', 'test', 'in', 'our', 'struggles', 'is', 'our', 'ability', 'to', 'stay', 'patient', 'in', 'times', 'of', 'hardships', '.', 'Allah', 'says', 'in', 'the', 'Quran', '\"', 'Allah', 'Loves', 'those', 'who', 'are', 'PATIENT', '\"', 'Nothing', 'is', 'impossible', 'for', 'Allah', ',', '&', 'if', 'something', 'is', 'meant', 'for', 'you', 'it', 'will', 'happen', '.', 'Regardless', 'of', 'how', 'it', 'does', 'it', 'eventually', 'willIn', 'life', 'we', 'face', 'so', 'many', 'hardships', '&', 'think', \"there's\", 'no', 'way', 'out', 'of', 'them', 'yet', 'forget', 'that', 'Allah', 'is', 'Wali', 'Al-Hamid', '.', 'He', 'will', 'make', 'a', 'way', 'out', 'for', 'youAllah', 'says', '\"', 'I', 'will', 'make', 'a', 'way', 'for', 'you', 'from', 'sources', 'you', 'could', 'not', 'imagine', '\"', 'When', 'you', 'think', 'your', 'back', 'is', 'against', 'the', 'wall', ',', '&', 'you', 'feel', 'like', 'there', 'is', 'no', 'way', 'out', 'for', 'you', 'PLACE', 'your', 'trust', 'in', 'Allah', '&', 'watch', 'things', 'go', 'smooth', '3', '.', 'Alhamdulilah', 'she', 'made', 'it', 'to', 'Ash-Shaam', '.', 'She', 'is', 'a', 'sister', 'whom', 'I', 'love', 'dearly', '&', 'admire', ',', 'now', 'the', 'lesson', 'in', 'all', 'of', 'this', 'is', '...', '2', '.', 'She', 'placed', 'her', 'trust', 'in', 'Allah', '&', 'tied', 'her', 'camel', '&', 'set', 'out', 'to', 'make', 'Hijrah', '.', 'Though', 'the', 'path', 'was', 'tough', '&', 'though', 'there', 'were', 'obstacles', '2', '.', 'One', 'BIG', 'PROBELM', 'she', 'was', 'under', 'watch', 'by', 'the', 'government', '&', 'was', 'being', 'tracked', 'by', 'her', 'every', 'move', '.', '1', '.', 'Bismillah', '...']\n"
     ]
    }
   ],
   "source": [
    "#one option for tokenization, looks okay. Another option is to break this up only by whitespace\n",
    "#Note that Surah An'am Aqay probably is a name? It doesn't catch this. \n",
    "# tweet tokenization\n",
    "print(df[0])\n",
    "print(tokenizer.tokenize(df[0]))"
   ]
  },
  {
   "cell_type": "code",
   "execution_count": 159,
   "metadata": {
    "collapsed": true
   },
   "outputs": [],
   "source": [
    "#let's count the words against a set\n",
    "def count_words_sets(text,lex_list):\n",
    "    assert(type(lex_list) == list)\n",
    "    tokens = set([token.lower() for token in tokenizer.tokenize(text)])\n",
    "    return [len(tokens.intersection(lex)) for lex in lex_list]"
   ]
  },
  {
   "cell_type": "code",
   "execution_count": 160,
   "metadata": {
    "collapsed": true
   },
   "outputs": [],
   "source": [
    "neg_set = set(opinion_lexicon.negative())"
   ]
  },
  {
   "cell_type": "code",
   "execution_count": 161,
   "metadata": {
    "collapsed": true
   },
   "outputs": [],
   "source": [
    "pos_set = set(opinion_lexicon.positive())"
   ]
  },
  {
   "cell_type": "code",
   "execution_count": 313,
   "metadata": {},
   "outputs": [
    {
     "data": {
      "text/plain": [
       "[2]"
      ]
     },
     "execution_count": 313,
     "metadata": {},
     "output_type": "execute_result"
    }
   ],
   "source": [
    "#test it\n",
    "count_words_sets(df[2],[neg_set])"
   ]
  },
  {
   "cell_type": "code",
   "execution_count": 163,
   "metadata": {
    "scrolled": true
   },
   "outputs": [
    {
     "data": {
      "text/plain": [
       "[1]"
      ]
     },
     "execution_count": 163,
     "metadata": {},
     "output_type": "execute_result"
    }
   ],
   "source": [
    "count_words_sets(df[2],[pos_set])"
   ]
  },
  {
   "cell_type": "code",
   "execution_count": 164,
   "metadata": {
    "collapsed": true
   },
   "outputs": [],
   "source": [
    "#run the counter against the entire dataset and add that to the data frame\n",
    "counts = [count_words_sets(df[text],[pos_set,neg_set]) for text in df.index]"
   ]
  },
  {
   "cell_type": "code",
   "execution_count": 180,
   "metadata": {},
   "outputs": [
    {
     "data": {
      "text/html": [
       "<div>\n",
       "<style>\n",
       "    .dataframe thead tr:only-child th {\n",
       "        text-align: right;\n",
       "    }\n",
       "\n",
       "    .dataframe thead th {\n",
       "        text-align: left;\n",
       "    }\n",
       "\n",
       "    .dataframe tbody tr th {\n",
       "        vertical-align: top;\n",
       "    }\n",
       "</style>\n",
       "<table border=\"1\" class=\"dataframe\">\n",
       "  <thead>\n",
       "    <tr style=\"text-align: right;\">\n",
       "      <th></th>\n",
       "      <th>tweet</th>\n",
       "    </tr>\n",
       "  </thead>\n",
       "  <tbody>\n",
       "    <tr>\n",
       "      <th>0</th>\n",
       "      <td>_UmmWaqqas\\tThe test in our struggles is our a...</td>\n",
       "    </tr>\n",
       "    <tr>\n",
       "      <th>1</th>\n",
       "      <td></td>\n",
       "    </tr>\n",
       "    <tr>\n",
       "      <th>2</th>\n",
       "      <td>There was a sister who wanted to make Hijrah &amp;...</td>\n",
       "    </tr>\n",
       "    <tr>\n",
       "      <th>3</th>\n",
       "      <td></td>\n",
       "    </tr>\n",
       "    <tr>\n",
       "      <th>4</th>\n",
       "      <td>(Tirmidhi)Lool at those articles. The crap jo...</td>\n",
       "    </tr>\n",
       "  </tbody>\n",
       "</table>\n",
       "</div>"
      ],
      "text/plain": [
       "                                               tweet\n",
       "0  _UmmWaqqas\\tThe test in our struggles is our a...\n",
       "1                                                   \n",
       "2  There was a sister who wanted to make Hijrah &...\n",
       "3                                                   \n",
       "4   (Tirmidhi)Lool at those articles. The crap jo..."
      ]
     },
     "execution_count": 180,
     "metadata": {},
     "output_type": "execute_result"
    }
   ],
   "source": [
    "#these next steps create the format for analysis\n",
    "dfa = pd.DataFrame(df, columns = ['tweet'])\n",
    "dfa.head()"
   ]
  },
  {
   "cell_type": "code",
   "execution_count": 181,
   "metadata": {},
   "outputs": [
    {
     "data": {
      "text/html": [
       "<div>\n",
       "<style>\n",
       "    .dataframe thead tr:only-child th {\n",
       "        text-align: right;\n",
       "    }\n",
       "\n",
       "    .dataframe thead th {\n",
       "        text-align: left;\n",
       "    }\n",
       "\n",
       "    .dataframe tbody tr th {\n",
       "        vertical-align: top;\n",
       "    }\n",
       "</style>\n",
       "<table border=\"1\" class=\"dataframe\">\n",
       "  <thead>\n",
       "    <tr style=\"text-align: right;\">\n",
       "      <th></th>\n",
       "      <th>tweet</th>\n",
       "      <th>pos_words</th>\n",
       "      <th>neg_words</th>\n",
       "    </tr>\n",
       "  </thead>\n",
       "  <tbody>\n",
       "    <tr>\n",
       "      <th>0</th>\n",
       "      <td>_UmmWaqqas\\tThe test in our struggles is our a...</td>\n",
       "      <td>8</td>\n",
       "      <td>3</td>\n",
       "    </tr>\n",
       "    <tr>\n",
       "      <th>1</th>\n",
       "      <td></td>\n",
       "      <td>0</td>\n",
       "      <td>0</td>\n",
       "    </tr>\n",
       "    <tr>\n",
       "      <th>2</th>\n",
       "      <td>There was a sister who wanted to make Hijrah &amp;...</td>\n",
       "      <td>1</td>\n",
       "      <td>2</td>\n",
       "    </tr>\n",
       "    <tr>\n",
       "      <th>3</th>\n",
       "      <td></td>\n",
       "      <td>0</td>\n",
       "      <td>0</td>\n",
       "    </tr>\n",
       "    <tr>\n",
       "      <th>4</th>\n",
       "      <td>(Tirmidhi)Lool at those articles. The crap jo...</td>\n",
       "      <td>0</td>\n",
       "      <td>3</td>\n",
       "    </tr>\n",
       "  </tbody>\n",
       "</table>\n",
       "</div>"
      ],
      "text/plain": [
       "                                               tweet  pos_words  neg_words\n",
       "0  _UmmWaqqas\\tThe test in our struggles is our a...          8          3\n",
       "1                                                             0          0\n",
       "2  There was a sister who wanted to make Hijrah &...          1          2\n",
       "3                                                             0          0\n",
       "4   (Tirmidhi)Lool at those articles. The crap jo...          0          3"
      ]
     },
     "execution_count": 181,
     "metadata": {},
     "output_type": "execute_result"
    }
   ],
   "source": [
    "dfa = dfa.assign(pos_words = [count[0] for count in counts])\n",
    "dfa = dfa.assign(neg_words = [count[1] for count in counts])\n",
    "dfa.head()"
   ]
  },
  {
   "cell_type": "code",
   "execution_count": 182,
   "metadata": {},
   "outputs": [
    {
     "data": {
      "text/html": [
       "<div>\n",
       "<style>\n",
       "    .dataframe thead tr:only-child th {\n",
       "        text-align: right;\n",
       "    }\n",
       "\n",
       "    .dataframe thead th {\n",
       "        text-align: left;\n",
       "    }\n",
       "\n",
       "    .dataframe tbody tr th {\n",
       "        vertical-align: top;\n",
       "    }\n",
       "</style>\n",
       "<table border=\"1\" class=\"dataframe\">\n",
       "  <thead>\n",
       "    <tr style=\"text-align: right;\">\n",
       "      <th></th>\n",
       "      <th>tweet</th>\n",
       "      <th>pos_words</th>\n",
       "      <th>neg_words</th>\n",
       "      <th>prediction</th>\n",
       "    </tr>\n",
       "  </thead>\n",
       "  <tbody>\n",
       "    <tr>\n",
       "      <th>0</th>\n",
       "      <td>_UmmWaqqas\\tThe test in our struggles is our a...</td>\n",
       "      <td>8</td>\n",
       "      <td>3</td>\n",
       "      <td>positive</td>\n",
       "    </tr>\n",
       "    <tr>\n",
       "      <th>1</th>\n",
       "      <td></td>\n",
       "      <td>0</td>\n",
       "      <td>0</td>\n",
       "      <td>neutral</td>\n",
       "    </tr>\n",
       "    <tr>\n",
       "      <th>2</th>\n",
       "      <td>There was a sister who wanted to make Hijrah &amp;...</td>\n",
       "      <td>1</td>\n",
       "      <td>2</td>\n",
       "      <td>negative</td>\n",
       "    </tr>\n",
       "    <tr>\n",
       "      <th>3</th>\n",
       "      <td></td>\n",
       "      <td>0</td>\n",
       "      <td>0</td>\n",
       "      <td>neutral</td>\n",
       "    </tr>\n",
       "    <tr>\n",
       "      <th>4</th>\n",
       "      <td>(Tirmidhi)Lool at those articles. The crap jo...</td>\n",
       "      <td>0</td>\n",
       "      <td>3</td>\n",
       "      <td>negative</td>\n",
       "    </tr>\n",
       "  </tbody>\n",
       "</table>\n",
       "</div>"
      ],
      "text/plain": [
       "                                               tweet  pos_words  neg_words  \\\n",
       "0  _UmmWaqqas\\tThe test in our struggles is our a...          8          3   \n",
       "1                                                             0          0   \n",
       "2  There was a sister who wanted to make Hijrah &...          1          2   \n",
       "3                                                             0          0   \n",
       "4   (Tirmidhi)Lool at those articles. The crap jo...          0          3   \n",
       "\n",
       "  prediction  \n",
       "0   positive  \n",
       "1    neutral  \n",
       "2   negative  \n",
       "3    neutral  \n",
       "4   negative  "
      ]
     },
     "execution_count": 182,
     "metadata": {},
     "output_type": "execute_result"
    }
   ],
   "source": [
    "#classify the tweets as either positive, negative, or neutral \n",
    "preds = pd.Series(['neutral'] * len(dfa))\n",
    "preds[dfa['pos_words']>dfa['neg_words']] = 'positive'\n",
    "preds[dfa['pos_words']<dfa['neg_words']] = 'negative'\n",
    "dfa = dfa.assign(prediction = preds)\n",
    "dfa.head()"
   ]
  },
  {
   "cell_type": "code",
   "execution_count": 184,
   "metadata": {},
   "outputs": [
    {
     "name": "stdout",
     "output_type": "stream",
     "text": [
      "[215, 0, 144, 0, 49]\n"
     ]
    }
   ],
   "source": [
    "#total number of tokens per tweet\n",
    "num_toks = [len(tokenizer.tokenize(tweet)) for tweet in dfa['tweet']]\n",
    "print(num_toks[:5])"
   ]
  },
  {
   "cell_type": "code",
   "execution_count": 185,
   "metadata": {},
   "outputs": [
    {
     "data": {
      "text/html": [
       "<div>\n",
       "<style>\n",
       "    .dataframe thead tr:only-child th {\n",
       "        text-align: right;\n",
       "    }\n",
       "\n",
       "    .dataframe thead th {\n",
       "        text-align: left;\n",
       "    }\n",
       "\n",
       "    .dataframe tbody tr th {\n",
       "        vertical-align: top;\n",
       "    }\n",
       "</style>\n",
       "<table border=\"1\" class=\"dataframe\">\n",
       "  <thead>\n",
       "    <tr style=\"text-align: right;\">\n",
       "      <th></th>\n",
       "      <th>tweet</th>\n",
       "      <th>pos_words</th>\n",
       "      <th>neg_words</th>\n",
       "      <th>prediction</th>\n",
       "      <th>num_toks</th>\n",
       "    </tr>\n",
       "  </thead>\n",
       "  <tbody>\n",
       "    <tr>\n",
       "      <th>0</th>\n",
       "      <td>_UmmWaqqas\\tThe test in our struggles is our a...</td>\n",
       "      <td>8</td>\n",
       "      <td>3</td>\n",
       "      <td>positive</td>\n",
       "      <td>215</td>\n",
       "    </tr>\n",
       "    <tr>\n",
       "      <th>1</th>\n",
       "      <td></td>\n",
       "      <td>0</td>\n",
       "      <td>0</td>\n",
       "      <td>neutral</td>\n",
       "      <td>0</td>\n",
       "    </tr>\n",
       "    <tr>\n",
       "      <th>2</th>\n",
       "      <td>There was a sister who wanted to make Hijrah &amp;...</td>\n",
       "      <td>1</td>\n",
       "      <td>2</td>\n",
       "      <td>negative</td>\n",
       "      <td>144</td>\n",
       "    </tr>\n",
       "    <tr>\n",
       "      <th>3</th>\n",
       "      <td></td>\n",
       "      <td>0</td>\n",
       "      <td>0</td>\n",
       "      <td>neutral</td>\n",
       "      <td>0</td>\n",
       "    </tr>\n",
       "    <tr>\n",
       "      <th>4</th>\n",
       "      <td>(Tirmidhi)Lool at those articles. The crap jo...</td>\n",
       "      <td>0</td>\n",
       "      <td>3</td>\n",
       "      <td>negative</td>\n",
       "      <td>49</td>\n",
       "    </tr>\n",
       "  </tbody>\n",
       "</table>\n",
       "</div>"
      ],
      "text/plain": [
       "                                               tweet  pos_words  neg_words  \\\n",
       "0  _UmmWaqqas\\tThe test in our struggles is our a...          8          3   \n",
       "1                                                             0          0   \n",
       "2  There was a sister who wanted to make Hijrah &...          1          2   \n",
       "3                                                             0          0   \n",
       "4   (Tirmidhi)Lool at those articles. The crap jo...          0          3   \n",
       "\n",
       "  prediction  num_toks  \n",
       "0   positive       215  \n",
       "1    neutral         0  \n",
       "2   negative       144  \n",
       "3    neutral         0  \n",
       "4   negative        49  "
      ]
     },
     "execution_count": 185,
     "metadata": {},
     "output_type": "execute_result"
    }
   ],
   "source": [
    "dfa = dfa.assign(num_toks=num_toks)\n",
    "dfa.head()"
   ]
  },
  {
   "cell_type": "code",
   "execution_count": 195,
   "metadata": {},
   "outputs": [
    {
     "data": {
      "text/html": [
       "<div>\n",
       "<style>\n",
       "    .dataframe thead tr:only-child th {\n",
       "        text-align: right;\n",
       "    }\n",
       "\n",
       "    .dataframe thead th {\n",
       "        text-align: left;\n",
       "    }\n",
       "\n",
       "    .dataframe tbody tr th {\n",
       "        vertical-align: top;\n",
       "    }\n",
       "</style>\n",
       "<table border=\"1\" class=\"dataframe\">\n",
       "  <thead>\n",
       "    <tr style=\"text-align: right;\">\n",
       "      <th></th>\n",
       "      <th>tweet</th>\n",
       "      <th>pos_words</th>\n",
       "      <th>neg_words</th>\n",
       "      <th>prediction</th>\n",
       "      <th>num_toks</th>\n",
       "    </tr>\n",
       "  </thead>\n",
       "  <tbody>\n",
       "    <tr>\n",
       "      <th>0</th>\n",
       "      <td>_UmmWaqqas\\tThe test in our struggles is our a...</td>\n",
       "      <td>8</td>\n",
       "      <td>3</td>\n",
       "      <td>positive</td>\n",
       "      <td>215</td>\n",
       "    </tr>\n",
       "    <tr>\n",
       "      <th>2</th>\n",
       "      <td>There was a sister who wanted to make Hijrah &amp;...</td>\n",
       "      <td>1</td>\n",
       "      <td>2</td>\n",
       "      <td>negative</td>\n",
       "      <td>144</td>\n",
       "    </tr>\n",
       "    <tr>\n",
       "      <th>4</th>\n",
       "      <td>(Tirmidhi)Lool at those articles. The crap jo...</td>\n",
       "      <td>0</td>\n",
       "      <td>3</td>\n",
       "      <td>negative</td>\n",
       "      <td>49</td>\n",
       "    </tr>\n",
       "    <tr>\n",
       "      <th>6</th>\n",
       "      <td>http://t.co/PPqSvThW9I</td>\n",
       "      <td>0</td>\n",
       "      <td>0</td>\n",
       "      <td>neutral</td>\n",
       "      <td>1</td>\n",
       "    </tr>\n",
       "    <tr>\n",
       "      <th>8</th>\n",
       "      <td>I love reading articlesPretty much that articl...</td>\n",
       "      <td>2</td>\n",
       "      <td>0</td>\n",
       "      <td>positive</td>\n",
       "      <td>48</td>\n",
       "    </tr>\n",
       "  </tbody>\n",
       "</table>\n",
       "</div>"
      ],
      "text/plain": [
       "                                               tweet  pos_words  neg_words  \\\n",
       "0  _UmmWaqqas\\tThe test in our struggles is our a...          8          3   \n",
       "2  There was a sister who wanted to make Hijrah &...          1          2   \n",
       "4   (Tirmidhi)Lool at those articles. The crap jo...          0          3   \n",
       "6                             http://t.co/PPqSvThW9I          0          0   \n",
       "8  I love reading articlesPretty much that articl...          2          0   \n",
       "\n",
       "  prediction  num_toks  \n",
       "0   positive       215  \n",
       "2   negative       144  \n",
       "4   negative        49  \n",
       "6    neutral         1  \n",
       "8   positive        48  "
      ]
     },
     "execution_count": 195,
     "metadata": {},
     "output_type": "execute_result"
    }
   ],
   "source": [
    "#this removes blank lines in the data frame\n",
    "filter = dfa['tweet'] != ''\n",
    "dfNew = dfa[filter]\n",
    "dfNew.head()"
   ]
  },
  {
   "cell_type": "code",
   "execution_count": 196,
   "metadata": {},
   "outputs": [
    {
     "name": "stdout",
     "output_type": "stream",
     "text": [
      "368 221 478\n"
     ]
    }
   ],
   "source": [
    "print(sum(dfNew.prediction=='positive'),\n",
    "sum(dfNew.prediction=='negative'),\n",
    "sum(dfNew.prediction=='neutral')) \n",
    "#if we had labels for these data on whether the tweet was \n",
    "#genuinely positive, negative, or neutral, we could think about how well the tokenization\n",
    "#did at predicting those labels"
   ]
  },
  {
   "cell_type": "code",
   "execution_count": 199,
   "metadata": {},
   "outputs": [
    {
     "name": "stdout",
     "output_type": "stream",
     "text": [
      "1067\n"
     ]
    }
   ],
   "source": [
    "N=len(dfNew.index)\n",
    "print(N)"
   ]
  },
  {
   "cell_type": "code",
   "execution_count": 209,
   "metadata": {
    "collapsed": true
   },
   "outputs": [],
   "source": [
    "time = dfNew.index/2"
   ]
  },
  {
   "cell_type": "code",
   "execution_count": 210,
   "metadata": {},
   "outputs": [
    {
     "data": {
      "text/html": [
       "<div>\n",
       "<style>\n",
       "    .dataframe thead tr:only-child th {\n",
       "        text-align: right;\n",
       "    }\n",
       "\n",
       "    .dataframe thead th {\n",
       "        text-align: left;\n",
       "    }\n",
       "\n",
       "    .dataframe tbody tr th {\n",
       "        vertical-align: top;\n",
       "    }\n",
       "</style>\n",
       "<table border=\"1\" class=\"dataframe\">\n",
       "  <thead>\n",
       "    <tr style=\"text-align: right;\">\n",
       "      <th></th>\n",
       "      <th>tweet</th>\n",
       "      <th>pos_words</th>\n",
       "      <th>neg_words</th>\n",
       "      <th>prediction</th>\n",
       "      <th>num_toks</th>\n",
       "      <th>time</th>\n",
       "    </tr>\n",
       "  </thead>\n",
       "  <tbody>\n",
       "    <tr>\n",
       "      <th>0</th>\n",
       "      <td>_UmmWaqqas\\tThe test in our struggles is our a...</td>\n",
       "      <td>8</td>\n",
       "      <td>3</td>\n",
       "      <td>positive</td>\n",
       "      <td>215</td>\n",
       "      <td>0.0</td>\n",
       "    </tr>\n",
       "    <tr>\n",
       "      <th>2</th>\n",
       "      <td>There was a sister who wanted to make Hijrah &amp;...</td>\n",
       "      <td>1</td>\n",
       "      <td>2</td>\n",
       "      <td>negative</td>\n",
       "      <td>144</td>\n",
       "      <td>1.0</td>\n",
       "    </tr>\n",
       "    <tr>\n",
       "      <th>4</th>\n",
       "      <td>(Tirmidhi)Lool at those articles. The crap jo...</td>\n",
       "      <td>0</td>\n",
       "      <td>3</td>\n",
       "      <td>negative</td>\n",
       "      <td>49</td>\n",
       "      <td>2.0</td>\n",
       "    </tr>\n",
       "    <tr>\n",
       "      <th>6</th>\n",
       "      <td>http://t.co/PPqSvThW9I</td>\n",
       "      <td>0</td>\n",
       "      <td>0</td>\n",
       "      <td>neutral</td>\n",
       "      <td>1</td>\n",
       "      <td>3.0</td>\n",
       "    </tr>\n",
       "    <tr>\n",
       "      <th>8</th>\n",
       "      <td>I love reading articlesPretty much that articl...</td>\n",
       "      <td>2</td>\n",
       "      <td>0</td>\n",
       "      <td>positive</td>\n",
       "      <td>48</td>\n",
       "      <td>4.0</td>\n",
       "    </tr>\n",
       "  </tbody>\n",
       "</table>\n",
       "</div>"
      ],
      "text/plain": [
       "                                               tweet  pos_words  neg_words  \\\n",
       "0  _UmmWaqqas\\tThe test in our struggles is our a...          8          3   \n",
       "2  There was a sister who wanted to make Hijrah &...          1          2   \n",
       "4   (Tirmidhi)Lool at those articles. The crap jo...          0          3   \n",
       "6                             http://t.co/PPqSvThW9I          0          0   \n",
       "8  I love reading articlesPretty much that articl...          2          0   \n",
       "\n",
       "  prediction  num_toks  time  \n",
       "0   positive       215   0.0  \n",
       "2   negative       144   1.0  \n",
       "4   negative        49   2.0  \n",
       "6    neutral         1   3.0  \n",
       "8   positive        48   4.0  "
      ]
     },
     "execution_count": 210,
     "metadata": {},
     "output_type": "execute_result"
    }
   ],
   "source": [
    "dfNew = dfNew.assign(time=time)\n",
    "dfNew.head()"
   ]
  },
  {
   "cell_type": "code",
   "execution_count": 211,
   "metadata": {
    "collapsed": true
   },
   "outputs": [],
   "source": [
    "import matplotlib.pyplot as plt\n",
    "%matplotlib inline"
   ]
  },
  {
   "cell_type": "code",
   "execution_count": 213,
   "metadata": {},
   "outputs": [
    {
     "data": {
      "image/png": "[encoded data removed]",
      "text/plain": [
       "<matplotlib.figure.Figure at 0x102c01358>"
      ]
     },
     "metadata": {},
     "output_type": "display_data"
    }
   ],
   "source": [
    "plt.plot(dfNew['time'],dfNew['pos_words']/dfNew['num_toks']);\n",
    "plt.plot(dfNew['time'],dfNew['neg_words']/dfNew['num_toks']);\n",
    "plt.xlabel('hour')\n",
    "plt.ylabel('sentiment rate')\n",
    "plt.legend(['positive','negative']);"
   ]
  },
  {
   "cell_type": "code",
   "execution_count": 214,
   "metadata": {
    "collapsed": true
   },
   "outputs": [],
   "source": [
    "#a little noisy, so maybe we should aggregate it?\n",
    "import math"
   ]
  },
  {
   "cell_type": "code",
   "execution_count": 217,
   "metadata": {},
   "outputs": [
    {
     "data": {
      "text/html": [
       "<div>\n",
       "<style>\n",
       "    .dataframe thead tr:only-child th {\n",
       "        text-align: right;\n",
       "    }\n",
       "\n",
       "    .dataframe thead th {\n",
       "        text-align: left;\n",
       "    }\n",
       "\n",
       "    .dataframe tbody tr th {\n",
       "        vertical-align: top;\n",
       "    }\n",
       "</style>\n",
       "<table border=\"1\" class=\"dataframe\">\n",
       "  <thead>\n",
       "    <tr style=\"text-align: right;\">\n",
       "      <th></th>\n",
       "      <th>tweet</th>\n",
       "      <th>pos_words</th>\n",
       "      <th>neg_words</th>\n",
       "      <th>prediction</th>\n",
       "      <th>num_toks</th>\n",
       "      <th>time</th>\n",
       "      <th>time10a</th>\n",
       "    </tr>\n",
       "  </thead>\n",
       "  <tbody>\n",
       "    <tr>\n",
       "      <th>2</th>\n",
       "      <td>There was a sister who wanted to make Hijrah &amp;...</td>\n",
       "      <td>1</td>\n",
       "      <td>2</td>\n",
       "      <td>negative</td>\n",
       "      <td>144</td>\n",
       "      <td>1.0</td>\n",
       "      <td>0.0</td>\n",
       "    </tr>\n",
       "    <tr>\n",
       "      <th>4</th>\n",
       "      <td>(Tirmidhi)Lool at those articles. The crap jo...</td>\n",
       "      <td>0</td>\n",
       "      <td>3</td>\n",
       "      <td>negative</td>\n",
       "      <td>49</td>\n",
       "      <td>2.0</td>\n",
       "      <td>0.0</td>\n",
       "    </tr>\n",
       "    <tr>\n",
       "      <th>6</th>\n",
       "      <td>http://t.co/PPqSvThW9I</td>\n",
       "      <td>0</td>\n",
       "      <td>0</td>\n",
       "      <td>neutral</td>\n",
       "      <td>1</td>\n",
       "      <td>3.0</td>\n",
       "      <td>0.0</td>\n",
       "    </tr>\n",
       "    <tr>\n",
       "      <th>8</th>\n",
       "      <td>I love reading articlesPretty much that articl...</td>\n",
       "      <td>2</td>\n",
       "      <td>0</td>\n",
       "      <td>positive</td>\n",
       "      <td>48</td>\n",
       "      <td>4.0</td>\n",
       "      <td>0.0</td>\n",
       "    </tr>\n",
       "    <tr>\n",
       "      <th>10</th>\n",
       "      <td>1. Anyone with Umm in their names</td>\n",
       "      <td>0</td>\n",
       "      <td>0</td>\n",
       "      <td>neutral</td>\n",
       "      <td>8</td>\n",
       "      <td>5.0</td>\n",
       "      <td>0.0</td>\n",
       "    </tr>\n",
       "    <tr>\n",
       "      <th>12</th>\n",
       "      <td>Whoops\"@Umm_Kulthum: @_UmmWaqqas http://t.co/n...</td>\n",
       "      <td>0</td>\n",
       "      <td>0</td>\n",
       "      <td>neutral</td>\n",
       "      <td>7</td>\n",
       "      <td>6.0</td>\n",
       "      <td>1.0</td>\n",
       "    </tr>\n",
       "    <tr>\n",
       "      <th>14</th>\n",
       "      <td>Yo @FlamessOfwar look at this news paperNot al...</td>\n",
       "      <td>0</td>\n",
       "      <td>0</td>\n",
       "      <td>neutral</td>\n",
       "      <td>50</td>\n",
       "      <td>7.0</td>\n",
       "      <td>1.0</td>\n",
       "    </tr>\n",
       "    <tr>\n",
       "      <th>16</th>\n",
       "      <td>I'm in tears wallah... Bait Groupies!!!@Umm_Ku...</td>\n",
       "      <td>8</td>\n",
       "      <td>3</td>\n",
       "      <td>positive</td>\n",
       "      <td>153</td>\n",
       "      <td>8.0</td>\n",
       "      <td>1.0</td>\n",
       "    </tr>\n",
       "    <tr>\n",
       "      <th>18</th>\n",
       "      <td>Thanks 4 da deeds keep them coming pls I'm in ...</td>\n",
       "      <td>2</td>\n",
       "      <td>0</td>\n",
       "      <td>positive</td>\n",
       "      <td>29</td>\n",
       "      <td>9.0</td>\n",
       "      <td>1.0</td>\n",
       "    </tr>\n",
       "  </tbody>\n",
       "</table>\n",
       "</div>"
      ],
      "text/plain": [
       "                                                tweet  pos_words  neg_words  \\\n",
       "2   There was a sister who wanted to make Hijrah &...          1          2   \n",
       "4    (Tirmidhi)Lool at those articles. The crap jo...          0          3   \n",
       "6                              http://t.co/PPqSvThW9I          0          0   \n",
       "8   I love reading articlesPretty much that articl...          2          0   \n",
       "10                  1. Anyone with Umm in their names          0          0   \n",
       "12  Whoops\"@Umm_Kulthum: @_UmmWaqqas http://t.co/n...          0          0   \n",
       "14  Yo @FlamessOfwar look at this news paperNot al...          0          0   \n",
       "16  I'm in tears wallah... Bait Groupies!!!@Umm_Ku...          8          3   \n",
       "18  Thanks 4 da deeds keep them coming pls I'm in ...          2          0   \n",
       "\n",
       "   prediction  num_toks  time  time10a  \n",
       "2    negative       144   1.0      0.0  \n",
       "4    negative        49   2.0      0.0  \n",
       "6     neutral         1   3.0      0.0  \n",
       "8    positive        48   4.0      0.0  \n",
       "10    neutral         8   5.0      0.0  \n",
       "12    neutral         7   6.0      1.0  \n",
       "14    neutral        50   7.0      1.0  \n",
       "16   positive       153   8.0      1.0  \n",
       "18   positive        29   9.0      1.0  "
      ]
     },
     "execution_count": 217,
     "metadata": {},
     "output_type": "execute_result"
    }
   ],
   "source": [
    "dfNew['time10a'] = round(dfNew['time']/10, 0)\n",
    "dfNew[1:10]"
   ]
  },
  {
   "cell_type": "code",
   "execution_count": 218,
   "metadata": {},
   "outputs": [
    {
     "data": {
      "text/html": [
       "<div>\n",
       "<style>\n",
       "    .dataframe thead tr:only-child th {\n",
       "        text-align: right;\n",
       "    }\n",
       "\n",
       "    .dataframe thead th {\n",
       "        text-align: left;\n",
       "    }\n",
       "\n",
       "    .dataframe tbody tr th {\n",
       "        vertical-align: top;\n",
       "    }\n",
       "</style>\n",
       "<table border=\"1\" class=\"dataframe\">\n",
       "  <thead>\n",
       "    <tr style=\"text-align: right;\">\n",
       "      <th></th>\n",
       "      <th>pos_words</th>\n",
       "      <th>neg_words</th>\n",
       "      <th>num_toks</th>\n",
       "    </tr>\n",
       "    <tr>\n",
       "      <th>time10a</th>\n",
       "      <th></th>\n",
       "      <th></th>\n",
       "      <th></th>\n",
       "    </tr>\n",
       "  </thead>\n",
       "  <tbody>\n",
       "    <tr>\n",
       "      <th>0.0</th>\n",
       "      <td>11</td>\n",
       "      <td>8</td>\n",
       "      <td>465</td>\n",
       "    </tr>\n",
       "    <tr>\n",
       "      <th>1.0</th>\n",
       "      <td>15</td>\n",
       "      <td>7</td>\n",
       "      <td>409</td>\n",
       "    </tr>\n",
       "    <tr>\n",
       "      <th>2.0</th>\n",
       "      <td>11</td>\n",
       "      <td>7</td>\n",
       "      <td>370</td>\n",
       "    </tr>\n",
       "    <tr>\n",
       "      <th>3.0</th>\n",
       "      <td>9</td>\n",
       "      <td>8</td>\n",
       "      <td>571</td>\n",
       "    </tr>\n",
       "    <tr>\n",
       "      <th>4.0</th>\n",
       "      <td>7</td>\n",
       "      <td>13</td>\n",
       "      <td>524</td>\n",
       "    </tr>\n",
       "  </tbody>\n",
       "</table>\n",
       "</div>"
      ],
      "text/plain": [
       "         pos_words  neg_words  num_toks\n",
       "time10a                                \n",
       "0.0             11          8       465\n",
       "1.0             15          7       409\n",
       "2.0             11          7       370\n",
       "3.0              9          8       571\n",
       "4.0              7         13       524"
      ]
     },
     "execution_count": 218,
     "metadata": {},
     "output_type": "execute_result"
    }
   ],
   "source": [
    "df_agg = dfNew.groupby('time10a').aggregate('sum')[['pos_words','neg_words','num_toks']]\n",
    "df_agg.head()"
   ]
  },
  {
   "cell_type": "code",
   "execution_count": 219,
   "metadata": {},
   "outputs": [
    {
     "data": {
      "image/png": "[encoded data removed]",
      "text/plain": [
       "<matplotlib.figure.Figure at 0x102bf5978>"
      ]
     },
     "metadata": {},
     "output_type": "display_data"
    }
   ],
   "source": [
    "plt.plot(df_agg.index,df_agg['pos_words']/df_agg['num_toks']);\n",
    "plt.plot(df_agg.index,df_agg['neg_words']/df_agg['num_toks']);\n",
    "plt.xlabel('time_by10s')\n",
    "plt.ylabel('sentiment rate')\n",
    "plt.legend(['positive','negative']);"
   ]
  },
  {
   "cell_type": "code",
   "execution_count": 220,
   "metadata": {
    "collapsed": true
   },
   "outputs": [],
   "source": [
    "#one more aggregation\n",
    "dfNew['time10b'] = round(dfNew['time']/30, 0)\n",
    "#dfNew[1:40]"
   ]
  },
  {
   "cell_type": "code",
   "execution_count": 221,
   "metadata": {},
   "outputs": [
    {
     "data": {
      "text/html": [
       "<div>\n",
       "<style>\n",
       "    .dataframe thead tr:only-child th {\n",
       "        text-align: right;\n",
       "    }\n",
       "\n",
       "    .dataframe thead th {\n",
       "        text-align: left;\n",
       "    }\n",
       "\n",
       "    .dataframe tbody tr th {\n",
       "        vertical-align: top;\n",
       "    }\n",
       "</style>\n",
       "<table border=\"1\" class=\"dataframe\">\n",
       "  <thead>\n",
       "    <tr style=\"text-align: right;\">\n",
       "      <th></th>\n",
       "      <th>pos_words</th>\n",
       "      <th>neg_words</th>\n",
       "      <th>num_toks</th>\n",
       "    </tr>\n",
       "    <tr>\n",
       "      <th>time10b</th>\n",
       "      <th></th>\n",
       "      <th></th>\n",
       "      <th></th>\n",
       "    </tr>\n",
       "  </thead>\n",
       "  <tbody>\n",
       "    <tr>\n",
       "      <th>0.0</th>\n",
       "      <td>26</td>\n",
       "      <td>16</td>\n",
       "      <td>880</td>\n",
       "    </tr>\n",
       "    <tr>\n",
       "      <th>1.0</th>\n",
       "      <td>27</td>\n",
       "      <td>27</td>\n",
       "      <td>1459</td>\n",
       "    </tr>\n",
       "    <tr>\n",
       "      <th>2.0</th>\n",
       "      <td>47</td>\n",
       "      <td>51</td>\n",
       "      <td>1794</td>\n",
       "    </tr>\n",
       "    <tr>\n",
       "      <th>3.0</th>\n",
       "      <td>25</td>\n",
       "      <td>10</td>\n",
       "      <td>844</td>\n",
       "    </tr>\n",
       "    <tr>\n",
       "      <th>4.0</th>\n",
       "      <td>24</td>\n",
       "      <td>30</td>\n",
       "      <td>945</td>\n",
       "    </tr>\n",
       "  </tbody>\n",
       "</table>\n",
       "</div>"
      ],
      "text/plain": [
       "         pos_words  neg_words  num_toks\n",
       "time10b                                \n",
       "0.0             26         16       880\n",
       "1.0             27         27      1459\n",
       "2.0             47         51      1794\n",
       "3.0             25         10       844\n",
       "4.0             24         30       945"
      ]
     },
     "execution_count": 221,
     "metadata": {},
     "output_type": "execute_result"
    }
   ],
   "source": [
    "df_aggb = dfNew.groupby('time10b').aggregate('sum')[['pos_words','neg_words','num_toks']]\n",
    "df_aggb.head()"
   ]
  },
  {
   "cell_type": "code",
   "execution_count": 222,
   "metadata": {},
   "outputs": [
    {
     "data": {
      "image/png": "[encoded data removed]",
      "text/plain": [
       "<matplotlib.figure.Figure at 0x11ba704e0>"
      ]
     },
     "metadata": {},
     "output_type": "display_data"
    }
   ],
   "source": [
    "plt.plot(df_aggb.index,df_aggb['pos_words']/df_aggb['num_toks']);\n",
    "plt.plot(df_aggb.index,df_aggb['neg_words']/df_aggb['num_toks']);\n",
    "plt.xlabel('time_by10s')\n",
    "plt.ylabel('sentiment rate')\n",
    "plt.legend(['positive','negative']);"
   ]
  },
  {
   "cell_type": "markdown",
   "metadata": {},
   "source": [
    "# playing with feature vectors \n",
    "--------------\n",
    "- Can we use features to predict sentiment? "
   ]
  },
  {
   "cell_type": "code",
   "execution_count": 223,
   "metadata": {
    "collapsed": true
   },
   "outputs": [],
   "source": [
    "import codecs #unicode compliance -- maybe not necessary in python 3?\n",
    "import glob #wildcard filenames"
   ]
  },
  {
   "cell_type": "code",
   "execution_count": 224,
   "metadata": {
    "collapsed": true
   },
   "outputs": [],
   "source": [
    "from sklearn.feature_extraction.text import CountVectorizer"
   ]
  },
  {
   "cell_type": "code",
   "execution_count": 225,
   "metadata": {
    "collapsed": true
   },
   "outputs": [],
   "source": [
    "vect = CountVectorizer()"
   ]
  },
  {
   "cell_type": "code",
   "execution_count": 226,
   "metadata": {},
   "outputs": [
    {
     "data": {
      "text/plain": [
       "CountVectorizer(analyzer='word', binary=False, decode_error='strict',\n",
       "        dtype=<class 'numpy.int64'>, encoding='utf-8', input='content',\n",
       "        lowercase=True, max_df=1.0, max_features=None, min_df=1,\n",
       "        ngram_range=(1, 1), preprocessor=None, stop_words=None,\n",
       "        strip_accents=None, token_pattern='(?u)\\\\b\\\\w\\\\w+\\\\b',\n",
       "        tokenizer=None, vocabulary=None)"
      ]
     },
     "execution_count": 226,
     "metadata": {},
     "output_type": "execute_result"
    }
   ],
   "source": [
    "#let's look at all the words that occur at least once in the tweet data\n",
    "vect.fit(dfNew['tweet'])"
   ]
  },
  {
   "cell_type": "code",
   "execution_count": 227,
   "metadata": {},
   "outputs": [
    {
     "data": {
      "text/plain": [
       "7341"
      ]
     },
     "execution_count": 227,
     "metadata": {},
     "output_type": "execute_result"
    }
   ],
   "source": [
    "#7000 different \"words\" being used in 1067 tweets\n",
    "len(vect.vocabulary_)"
   ]
  },
  {
   "cell_type": "code",
   "execution_count": 228,
   "metadata": {},
   "outputs": [
    {
     "data": {
      "text/plain": [
       "(1067, 8)"
      ]
     },
     "execution_count": 228,
     "metadata": {},
     "output_type": "execute_result"
    }
   ],
   "source": [
    "dfNew.shape"
   ]
  },
  {
   "cell_type": "code",
   "execution_count": 229,
   "metadata": {},
   "outputs": [
    {
     "data": {
      "text/plain": [
       "<1067x7341 sparse matrix of type '<class 'numpy.int64'>'\n",
       "\twith 37108 stored elements in Compressed Sparse Row format>"
      ]
     },
     "execution_count": 229,
     "metadata": {},
     "output_type": "execute_result"
    }
   ],
   "source": [
    "#now that we've fit the vectorizer, let's transform the data to look at the features\n",
    "X = vect.transform(dfNew['tweet'])\n",
    "X"
   ]
  },
  {
   "cell_type": "code",
   "execution_count": 230,
   "metadata": {
    "collapsed": true
   },
   "outputs": [],
   "source": [
    "y = dfNew['prediction']"
   ]
  },
  {
   "cell_type": "code",
   "execution_count": 231,
   "metadata": {
    "collapsed": true
   },
   "outputs": [],
   "source": [
    "#call the function to hold out a test set\n",
    "from sklearn.model_selection import train_test_split"
   ]
  },
  {
   "cell_type": "code",
   "execution_count": 232,
   "metadata": {
    "collapsed": true
   },
   "outputs": [],
   "source": [
    "X_train, X_test, y_train, y_test = train_test_split(X, y,\n",
    "                                                    random_state=42,\n",
    "                                                    stratify=y,\n",
    "                                                    test_size=0.1)"
   ]
  },
  {
   "cell_type": "code",
   "execution_count": 233,
   "metadata": {},
   "outputs": [
    {
     "data": {
      "text/plain": [
       "<960x7341 sparse matrix of type '<class 'numpy.int64'>'\n",
       "\twith 33459 stored elements in Compressed Sparse Row format>"
      ]
     },
     "execution_count": 233,
     "metadata": {},
     "output_type": "execute_result"
    }
   ],
   "source": [
    "X_train #960 tweets in our training set"
   ]
  },
  {
   "cell_type": "code",
   "execution_count": 234,
   "metadata": {},
   "outputs": [
    {
     "data": {
      "text/plain": [
       "<107x7341 sparse matrix of type '<class 'numpy.int64'>'\n",
       "\twith 3649 stored elements in Compressed Sparse Row format>"
      ]
     },
     "execution_count": 234,
     "metadata": {},
     "output_type": "execute_result"
    }
   ],
   "source": [
    "X_test #107 documents in our test set"
   ]
  },
  {
   "cell_type": "code",
   "execution_count": 235,
   "metadata": {
    "collapsed": true
   },
   "outputs": [],
   "source": [
    "from sklearn.linear_model import LogisticRegression"
   ]
  },
  {
   "cell_type": "code",
   "execution_count": 236,
   "metadata": {
    "collapsed": true
   },
   "outputs": [],
   "source": [
    "lr = LogisticRegression()"
   ]
  },
  {
   "cell_type": "code",
   "execution_count": 237,
   "metadata": {},
   "outputs": [
    {
     "data": {
      "text/plain": [
       "LogisticRegression(C=1.0, class_weight=None, dual=False, fit_intercept=True,\n",
       "          intercept_scaling=1, max_iter=100, multi_class='ovr', n_jobs=1,\n",
       "          penalty='l2', random_state=None, solver='liblinear', tol=0.0001,\n",
       "          verbose=0, warm_start=False)"
      ]
     },
     "execution_count": 237,
     "metadata": {},
     "output_type": "execute_result"
    }
   ],
   "source": [
    "lr.fit(X_train,y_train)"
   ]
  },
  {
   "cell_type": "code",
   "execution_count": 238,
   "metadata": {},
   "outputs": [
    {
     "data": {
      "text/plain": [
       "array(['negative', 'neutral', 'positive'], dtype=object)"
      ]
     },
     "execution_count": 238,
     "metadata": {},
     "output_type": "execute_result"
    }
   ],
   "source": [
    "lr.classes_ #dv"
   ]
  },
  {
   "cell_type": "code",
   "execution_count": 239,
   "metadata": {},
   "outputs": [
    {
     "data": {
      "text/plain": [
       "array([[ -1.06516251e-01,   0.00000000e+00,  -1.20055910e-01, ...,\n",
       "         -8.69523981e-02,  -2.28256064e-02,  -2.28256064e-02],\n",
       "       [  1.61801854e-01,   0.00000000e+00,  -1.97766387e-02, ...,\n",
       "         -2.70039652e-01,   7.45897541e-07,   7.45897541e-07],\n",
       "       [ -8.27411676e-02,   0.00000000e+00,   1.42261857e-01, ...,\n",
       "          3.58379669e-01,   1.02399234e-02,   1.02399234e-02]])"
      ]
     },
     "execution_count": 239,
     "metadata": {},
     "output_type": "execute_result"
    }
   ],
   "source": [
    "lr.coef_ #coefficients"
   ]
  },
  {
   "cell_type": "code",
   "execution_count": 240,
   "metadata": {},
   "outputs": [
    {
     "data": {
      "text/plain": [
       "array([[4116,  999, 6199, ..., 1056, 3720, 2600],\n",
       "       [2600, 2311, 6759, ..., 5073, 1039, 6192],\n",
       "       [3720, 3474, 3866, ..., 5734, 5589, 2311]])"
      ]
     },
     "execution_count": 240,
     "metadata": {},
     "output_type": "execute_result"
    }
   ],
   "source": [
    "#to get the top features, let's sort the coefficients \n",
    "lr.coef_[0:3].argsort()[::-1][:6]"
   ]
  },
  {
   "cell_type": "code",
   "execution_count": 241,
   "metadata": {},
   "outputs": [
    {
     "data": {
      "text/plain": [
       "['fear', 'sin', 'speaking', 'shirk', 'cave', 'enemies']"
      ]
     },
     "execution_count": 241,
     "metadata": {},
     "output_type": "execute_result"
    }
   ],
   "source": [
    "#and to get their corresponding names... NEGATIVE \n",
    "[vect.get_feature_names()[i] for i in lr.coef_[0].argsort()[::-1][:6]]"
   ]
  },
  {
   "cell_type": "code",
   "execution_count": 242,
   "metadata": {},
   "outputs": [
    {
     "data": {
      "text/plain": [
       "['there', 'believer', 'remember', 'bin', 'others', 'make']"
      ]
     },
     "execution_count": 242,
     "metadata": {},
     "output_type": "execute_result"
    }
   ],
   "source": [
    "[vect.get_feature_names()[i] for i in lr.coef_[1].argsort()[::-1][:6]] #NEUTRAL"
   ]
  },
  {
   "cell_type": "code",
   "execution_count": 243,
   "metadata": {},
   "outputs": [
    {
     "data": {
      "text/plain": [
       "['good', 'love', 'benefit', 'protection', 'favorite', 'perfect']"
      ]
     },
     "execution_count": 243,
     "metadata": {},
     "output_type": "execute_result"
    }
   ],
   "source": [
    "[vect.get_feature_names()[i] for i in lr.coef_[2].argsort()[::-1][:6]] #POSITIVE"
   ]
  },
  {
   "cell_type": "code",
   "execution_count": 244,
   "metadata": {},
   "outputs": [
    {
     "data": {
      "image/png": "[encoded data removed]",
      "text/plain": [
       "<matplotlib.figure.Figure at 0x110ee9fd0>"
      ]
     },
     "metadata": {},
     "output_type": "display_data"
    }
   ],
   "source": [
    "plt.scatter(lr.coef_[0],lr.coef_[2])\n",
    "plt.xlabel(lr.classes_[0])\n",
    "plt.ylabel(lr.classes_[2])\n",
    "plt.title('feature weights'); #we can plot the differences... "
   ]
  },
  {
   "cell_type": "code",
   "execution_count": 245,
   "metadata": {
    "collapsed": true
   },
   "outputs": [],
   "source": [
    "#we might also want to penalize the coefficients so that it doesn't overcount the effects\n",
    "#of words that are not mentioned very often... so think will shrink coefficients to zero\n",
    "lr_l1 = LogisticRegression(penalty='l1')"
   ]
  },
  {
   "cell_type": "code",
   "execution_count": 246,
   "metadata": {},
   "outputs": [
    {
     "data": {
      "text/plain": [
       "LogisticRegression(C=1.0, class_weight=None, dual=False, fit_intercept=True,\n",
       "          intercept_scaling=1, max_iter=100, multi_class='ovr', n_jobs=1,\n",
       "          penalty='l1', random_state=None, solver='liblinear', tol=0.0001,\n",
       "          verbose=0, warm_start=False)"
      ]
     },
     "execution_count": 246,
     "metadata": {},
     "output_type": "execute_result"
    }
   ],
   "source": [
    "lr_l1.fit(X_train,y_train)"
   ]
  },
  {
   "cell_type": "code",
   "execution_count": 247,
   "metadata": {
    "scrolled": true
   },
   "outputs": [
    {
     "data": {
      "image/png": "[encoded data removed]",
      "text/plain": [
       "<matplotlib.figure.Figure at 0x1131045f8>"
      ]
     },
     "metadata": {},
     "output_type": "display_data"
    }
   ],
   "source": [
    "plt.scatter(lr_l1.coef_[0],lr_l1.coef_[2])\n",
    "plt.xlabel(lr_l1.classes_[0])\n",
    "plt.ylabel(lr_l1.classes_[2])\n",
    "plt.title('feature weights');\n",
    "#looks like pretty strong correlation between features and sentiment "
   ]
  },
  {
   "cell_type": "markdown",
   "metadata": {
    "collapsed": true
   },
   "source": [
    "# Topics over time"
   ]
  },
  {
   "cell_type": "code",
   "execution_count": 248,
   "metadata": {
    "collapsed": true
   },
   "outputs": [],
   "source": [
    "#this constructs and inverted index from the columns (each word) of X back to the vocabulary\n",
    "ivoc = {j:i for i,j in vect.vocabulary_.items()}"
   ]
  },
  {
   "cell_type": "code",
   "execution_count": 249,
   "metadata": {},
   "outputs": [
    {
     "data": {
      "text/plain": [
       "['the', 'you', 'to', 'of', 'is']"
      ]
     },
     "execution_count": 249,
     "metadata": {},
     "output_type": "execute_result"
    }
   ],
   "source": [
    "#let's use numpy to generate an array where we sum the total counts for each word (columns)\n",
    "[ivoc[i] for i in np.array(X.sum(axis=0))[0].argsort()[::-1][:5]]"
   ]
  },
  {
   "cell_type": "code",
   "execution_count": 250,
   "metadata": {
    "collapsed": true
   },
   "outputs": [],
   "source": [
    "from sklearn.decomposition import LatentDirichletAllocation"
   ]
  },
  {
   "cell_type": "code",
   "execution_count": 251,
   "metadata": {
    "collapsed": true
   },
   "outputs": [],
   "source": [
    "lda = LatentDirichletAllocation(n_topics=10)"
   ]
  },
  {
   "cell_type": "code",
   "execution_count": 252,
   "metadata": {},
   "outputs": [
    {
     "name": "stderr",
     "output_type": "stream",
     "text": [
      "/Users/shawnramirez/anaconda/lib/python3.6/site-packages/sklearn/decomposition/online_lda.py:508: DeprecationWarning: The default value for 'learning_method' will be changed from 'online' to 'batch' in the release 0.20. This warning was introduced in 0.18.\n",
      "  DeprecationWarning)\n"
     ]
    }
   ],
   "source": [
    "theta = lda.fit_transform(X)"
   ]
  },
  {
   "cell_type": "code",
   "execution_count": 253,
   "metadata": {
    "collapsed": true
   },
   "outputs": [],
   "source": [
    "def show_topics(lda,ivoc):\n",
    "    for k,topic in enumerate(lda.components_):\n",
    "        print(k,[ivoc[i] for i in topic.argsort()[::-1][:7]])"
   ]
  },
  {
   "cell_type": "code",
   "execution_count": 254,
   "metadata": {},
   "outputs": [
    {
     "name": "stdout",
     "output_type": "stream",
     "text": [
      "0 ['torontooiler', 'abu_mariyah', 'abubakral_janab', 'kljbhkjhkugfcfxhfdxhfckjngasp', 'combination', 'purposes', 'universities']\n",
      "1 ['min', 'stone', 'fell', 'piety', 'al', 'anhu', 'couch']\n",
      "2 ['_axaa', 'bin', 'between', 'walking', 'yahya', 'secret', 'targets']\n",
      "3 ['hand', 'al', 'family', 'persevere', '13', 'huge', 'gitmo']\n",
      "4 ['potential', 'belong', 'fast', 'traveling', 'braking', 'iqama', 'destination']\n",
      "5 ['repentance', 'wa', 'blackheads', 'pimples', 'blemishes', 'seed', 'correctmyfaults']\n",
      "6 ['blocked', 'authentic', 'assuming', 'kick', 'sun', 'nasaa', 'declared']\n",
      "7 ['co', 'http', 'https', 'marwantted', 'suhailassalafi', 'comedy', 'allāh']\n",
      "8 ['ibn', 'al_muhajiroun', 'mujaahid4life', 'ali', 'ya', 'the', 'immisterd']\n",
      "9 ['the', 'to', 'you', 'of', 'is', 'in', 'allah']\n"
     ]
    }
   ],
   "source": [
    "show_topics(lda,ivoc)"
   ]
  },
  {
   "cell_type": "code",
   "execution_count": 255,
   "metadata": {},
   "outputs": [
    {
     "name": "stderr",
     "output_type": "stream",
     "text": [
      "/Users/shawnramirez/anaconda/lib/python3.6/site-packages/sklearn/decomposition/online_lda.py:508: DeprecationWarning: The default value for 'learning_method' will be changed from 'online' to 'batch' in the release 0.20. This warning was introduced in 0.18.\n",
      "  DeprecationWarning)\n",
      "/Users/shawnramirez/anaconda/lib/python3.6/site-packages/sklearn/decomposition/online_lda.py:508: DeprecationWarning: The default value for 'learning_method' will be changed from 'online' to 'batch' in the release 0.20. This warning was introduced in 0.18.\n",
      "  DeprecationWarning)\n"
     ]
    }
   ],
   "source": [
    "lda_half = LatentDirichletAllocation(n_topics=5)# your code here\n",
    "theta_half = lda_half.fit_transform(X)\n",
    "\n",
    "lda_twice = LatentDirichletAllocation(n_topics=20)# your code here. This might take a few minutes to run.\n",
    "theta_twice = lda_twice.fit_transform(X)"
   ]
  },
  {
   "cell_type": "code",
   "execution_count": 256,
   "metadata": {},
   "outputs": [
    {
     "name": "stdout",
     "output_type": "stream",
     "text": [
      "0 ['the', 'to', 'you', 'of', 'is', 'allah', 'in']\n",
      "1 ['before', 'abdihalimsalad', 'lowkey', 'covenant', 'athan', 'iqama', 'knownjurhun']\n",
      "2 ['al', 'the', 'of', 'and', 'rt', 'was', 'he']\n",
      "3 ['co', 'http', 'https', 'persevere', 'family', 'ukhtidem', '13']\n",
      "4 ['wa', 'ukhtidem', 'ين', 'potential', 'min', 'الم', 'affairs']\n"
     ]
    }
   ],
   "source": [
    "show_topics(lda_half,ivoc)"
   ]
  },
  {
   "cell_type": "code",
   "execution_count": 258,
   "metadata": {},
   "outputs": [
    {
     "name": "stdout",
     "output_type": "stream",
     "text": [
      "0 ['example', 'ameerana_abudua', 'sallallahu', 'wasallam', 'swim', 'learning', 'alayhi']\n",
      "1 ['ramadān', 'adhīm', 'basis', 'fan', 'sharīf', 'mubārak', 'fawzān']\n",
      "2 ['bin', 'deed', 'tight', 'pleases', 'ير', 'jkikwhsijwkshdiambzgusnwks', 'clothes']\n",
      "3 ['ulwan', 'beloved', 'release', 'isra', 'ameen', 'our', 'at']\n",
      "4 ['ismael', 'haroon', 'qiyamah', 'sanity', 'spread', 'khayr', 'ilm']\n",
      "5 ['zulfiqaar', 'hit', 'iyyah', 'feesaabililah', 'talked', 'notes', 'my']\n",
      "6 ['the', 'to', 'you', 'of', 'is', 'in', 'allah']\n",
      "7 ['application', 'sytuc7wtbt', 'building', 'masjid', 'intelligence', 'baqiyyaaaaaaaah', 'connect']\n",
      "8 ['marwantted', 'comedy', 'mrjaman_', 'sulayman', 'tawakkul', 'walking', 'targets']\n",
      "9 ['13', 'regretful', '15', 'الله', 'prisoner', 'family', 'سبحان']\n",
      "10 ['honey', 'haldi', 'authentic', 'seed', 'various', 'ali', 'destined']\n",
      "11 ['rip', 'torontooiler', 'abu_mariyah', 'abubakral_janab', 'fast', 'bosnia', 'stone']\n",
      "12 ['milhan', 'haneef', 'abdulwadood', 'muddathir', 'بركاته', 'hmvn8sqcw4السلام', 'عليكم']\n",
      "13 ['_axaa', 'wa', 'yo', 'abdul', 'anfal', 'assalaamu', 'alaykum']\n",
      "14 ['yahya', 'isa', 'amoney718', 'fill', 'lut', 'romans', 'obligations']\n",
      "15 ['suhailassalafi', 'jahanam', 'ya', 'repentance', 'born', 'uzbekistan', 'bosnian']\n",
      "16 ['al', 'the', 'by', 'was', 'ibnarthur', 'sherj_', 'ibn']\n",
      "17 ['mujaahid4life', 'sabr', '_ummyassir', 'ya', 'borderline', 'kick', 'assuming']\n",
      "18 ['ummsabah', 'mfreespeech', 'journey4jannah', 'qur', 'alright', 'bosnian', 'sound']\n",
      "19 ['potential', 'pray', 'yourself', 'الباطل', 'common', 'salāh', 'duhā']\n"
     ]
    }
   ],
   "source": [
    "show_topics(lda_twice,ivoc)"
   ]
  },
  {
   "cell_type": "code",
   "execution_count": 296,
   "metadata": {},
   "outputs": [
    {
     "name": "stderr",
     "output_type": "stream",
     "text": [
      "/Users/shawnramirez/anaconda/lib/python3.6/site-packages/sklearn/decomposition/online_lda.py:508: DeprecationWarning: The default value for 'learning_method' will be changed from 'online' to 'batch' in the release 0.20. This warning was introduced in 0.18.\n",
      "  DeprecationWarning)\n"
     ]
    },
    {
     "name": "stdout",
     "output_type": "stream",
     "text": [
      "0 ['various', 'marwantted', 'the', 'mrjaman_', 'is', 'to', 'feminist']\n",
      "1 ['the', 'kljbhkjhkugfcfxhfdxhfckjngasp', 'isa', 'ramadān', 'hit', 'romans', 'karīm']\n",
      "2 ['the', 'of', 'you', 'that', 'will', 'did', 'from']\n",
      "3 ['the', 'co', 'of', 'http', 'ibn', 'https', 'ya']\n",
      "4 ['suhailassalafi', 'to', 'born', 'potential', 'the', 'swim', 'learning']\n",
      "5 ['wa', 'lana', 'innaka', 'silent', 'tight', 'mālik', 'عنه']\n",
      "6 ['الباطل', 'boy', 'pray', 'سبحان', 'salāh', 'duhā', 'ad']\n",
      "7 ['the', 'allah', 'in', 'has', 'of', 'you', 'your']\n",
      "8 ['the', 'to', 'you', 'will', 'is', 'be', 'of']\n",
      "9 ['the', 'to', 'you', 'of', 'is', 'allah', 'for']\n"
     ]
    }
   ],
   "source": [
    "#How many iterations?\n",
    "lda_quick = LatentDirichletAllocation(n_topics=10,max_iter=2)\n",
    "lda_quick.fit(X)\n",
    "show_topics(lda_quick,ivoc)"
   ]
  },
  {
   "cell_type": "code",
   "execution_count": 261,
   "metadata": {},
   "outputs": [
    {
     "name": "stderr",
     "output_type": "stream",
     "text": [
      "/Users/shawnramirez/anaconda/lib/python3.6/site-packages/sklearn/decomposition/online_lda.py:508: DeprecationWarning: The default value for 'learning_method' will be changed from 'online' to 'batch' in the release 0.20. This warning was introduced in 0.18.\n",
      "  DeprecationWarning)\n"
     ]
    },
    {
     "name": "stdout",
     "output_type": "stream",
     "text": [
      "iteration: 5, perplexity: 1547.6909\n",
      "iteration: 10, perplexity: 1516.9255\n",
      "iteration: 15, perplexity: 1512.3592\n",
      "iteration: 20, perplexity: 1510.5589\n",
      "iteration: 25, perplexity: 1509.4806\n",
      "iteration: 30, perplexity: 1508.7733\n",
      "iteration: 35, perplexity: 1508.2412\n",
      "iteration: 40, perplexity: 1507.8876\n",
      "iteration: 45, perplexity: 1507.5890\n",
      "iteration: 50, perplexity: 1507.3592\n",
      "iteration: 55, perplexity: 1507.1778\n",
      "iteration: 60, perplexity: 1507.0306\n",
      "iteration: 65, perplexity: 1506.9076\n",
      "iteration: 70, perplexity: 1506.7760\n",
      "iteration: 75, perplexity: 1506.6712\n",
      "iteration: 80, perplexity: 1506.5812\n"
     ]
    }
   ],
   "source": [
    "#long run\n",
    "lda_longrun = LatentDirichletAllocation(max_iter=100,evaluate_every=5,verbose=1)\n",
    "theta_longrun = lda_longrun.fit_transform(X)"
   ]
  },
  {
   "cell_type": "code",
   "execution_count": 262,
   "metadata": {},
   "outputs": [
    {
     "name": "stdout",
     "output_type": "stream",
     "text": [
      "0 ['ين', 'الم', 'uae', 'ال', 'الل', 'announced', 'covenant']\n",
      "1 ['the', 'to', 'you', 'of', 'is', 'in', 'allah']\n",
      "2 ['ummharith_', 'striving_ukht', 'sherj_', 'ibnarthur', 'humzmufasa', 'ameerana_abudua', 'potential']\n",
      "3 ['13', 'regretful', 'sytuc7wtbt', 'application', '15', 'siyar', 'hit']\n",
      "4 ['torontooiler', 'mujaahid4life', 'al', 'sarayah', 'struggles', 'repentance', 'allahumma']\n",
      "5 ['wa', 'persevere', '10', 'ali', 'nasheed', 'complaining', 'sends']\n",
      "6 ['suhailassalafi', 'born', 'uzbekistan', 'between', 'footy', 'destined', 'persia']\n",
      "7 ['_axaa', 'blocked', 'sun', 'not', 'until', 'journey4jannah', 'mfreespeech']\n",
      "8 ['marwantted', 'radi', 'basis', 'of', 'amoney718', 'prophets', 'al']\n",
      "9 ['co', 'http', 'https', 'hands', 'by', 'swim', 'authentic']\n"
     ]
    }
   ],
   "source": [
    "show_topics(lda_longrun,ivoc)"
   ]
  },
  {
   "cell_type": "code",
   "execution_count": 362,
   "metadata": {
    "collapsed": true
   },
   "outputs": [],
   "source": [
    "#pick a topic we want to trace over time\n",
    "salafi = 7"
   ]
  },
  {
   "cell_type": "code",
   "execution_count": 298,
   "metadata": {},
   "outputs": [
    {
     "data": {
      "text/plain": [
       "array([[  5.52486226e-04,   9.95027543e-01,   5.52500832e-04, ...,\n",
       "          5.52486587e-04,   5.52491305e-04,   5.52499998e-04],\n",
       "       [  8.62069012e-04,   8.78547819e-01,   8.62069004e-04, ...,\n",
       "          8.62069010e-04,   1.14555621e-01,   8.62069007e-04],\n",
       "       [  2.50000012e-03,   7.39837190e-01,   2.40162456e-01, ...,\n",
       "          2.50000011e-03,   2.50009247e-03,   2.50024734e-03],\n",
       "       ..., \n",
       "       [  2.00000004e-02,   4.19982590e-01,   2.00000003e-02, ...,\n",
       "          2.00000004e-02,   4.20006795e-01,   2.00000003e-02],\n",
       "       [  5.00000003e-02,   5.00007599e-02,   5.49999238e-01, ...,\n",
       "          5.00000003e-02,   5.00000002e-02,   5.00000003e-02],\n",
       "       [  2.50000001e-02,   2.50014216e-02,   2.50000001e-02, ...,\n",
       "          2.50000001e-02,   2.50000001e-02,   2.50000001e-02]])"
      ]
     },
     "execution_count": 298,
     "metadata": {},
     "output_type": "execute_result"
    }
   ],
   "source": [
    "theta_longrun"
   ]
  },
  {
   "cell_type": "code",
   "execution_count": 351,
   "metadata": {},
   "outputs": [
    {
     "data": {
      "text/plain": [
       "(1067, 10)"
      ]
     },
     "execution_count": 351,
     "metadata": {},
     "output_type": "execute_result"
    }
   ],
   "source": [
    "theta_longrun.shape"
   ]
  },
  {
   "cell_type": "code",
   "execution_count": 363,
   "metadata": {},
   "outputs": [
    {
     "data": {
      "text/plain": [
       "0.77499218229561739"
      ]
     },
     "execution_count": 363,
     "metadata": {},
     "output_type": "execute_result"
    }
   ],
   "source": [
    "theta_longrun[:,salafi].max()"
   ]
  },
  {
   "cell_type": "code",
   "execution_count": 349,
   "metadata": {
    "collapsed": true
   },
   "outputs": [],
   "source": [
    "top_docs = theta_longrun[:,salafi].argsort()[::-1][:3]"
   ]
  },
  {
   "cell_type": "code",
   "execution_count": 350,
   "metadata": {},
   "outputs": [
    {
     "data": {
      "text/plain": [
       "array([672, 554, 983])"
      ]
     },
     "execution_count": 350,
     "metadata": {},
     "output_type": "execute_result"
    }
   ],
   "source": [
    "top_docs"
   ]
  },
  {
   "cell_type": "code",
   "execution_count": 364,
   "metadata": {
    "collapsed": true
   },
   "outputs": [],
   "source": [
    "dfNew = dfNew.assign(sal_topic=theta_longrun[:,salafi])"
   ]
  },
  {
   "cell_type": "code",
   "execution_count": 365,
   "metadata": {},
   "outputs": [],
   "source": [
    "dfNew = dfNew.assign(arabic_topic=theta_longrun[:,0])"
   ]
  },
  {
   "cell_type": "code",
   "execution_count": 366,
   "metadata": {},
   "outputs": [
    {
     "data": {
      "text/html": [
       "<div>\n",
       "<style>\n",
       "    .dataframe thead tr:only-child th {\n",
       "        text-align: right;\n",
       "    }\n",
       "\n",
       "    .dataframe thead th {\n",
       "        text-align: left;\n",
       "    }\n",
       "\n",
       "    .dataframe tbody tr th {\n",
       "        vertical-align: top;\n",
       "    }\n",
       "</style>\n",
       "<table border=\"1\" class=\"dataframe\">\n",
       "  <thead>\n",
       "    <tr style=\"text-align: right;\">\n",
       "      <th></th>\n",
       "      <th>tweet</th>\n",
       "      <th>pos_words</th>\n",
       "      <th>neg_words</th>\n",
       "      <th>prediction</th>\n",
       "      <th>num_toks</th>\n",
       "      <th>time</th>\n",
       "      <th>time10a</th>\n",
       "      <th>time10b</th>\n",
       "      <th>sal_topic</th>\n",
       "      <th>arabic_topic</th>\n",
       "    </tr>\n",
       "  </thead>\n",
       "  <tbody>\n",
       "    <tr>\n",
       "      <th>0</th>\n",
       "      <td>_UmmWaqqas\\tThe test in our struggles is our a...</td>\n",
       "      <td>8</td>\n",
       "      <td>3</td>\n",
       "      <td>positive</td>\n",
       "      <td>215</td>\n",
       "      <td>0.0</td>\n",
       "      <td>0.0</td>\n",
       "      <td>0.0</td>\n",
       "      <td>0.000552</td>\n",
       "      <td>0.000552</td>\n",
       "    </tr>\n",
       "    <tr>\n",
       "      <th>2</th>\n",
       "      <td>There was a sister who wanted to make Hijrah &amp;...</td>\n",
       "      <td>1</td>\n",
       "      <td>2</td>\n",
       "      <td>negative</td>\n",
       "      <td>144</td>\n",
       "      <td>1.0</td>\n",
       "      <td>0.0</td>\n",
       "      <td>0.0</td>\n",
       "      <td>0.000862</td>\n",
       "      <td>0.000862</td>\n",
       "    </tr>\n",
       "    <tr>\n",
       "      <th>4</th>\n",
       "      <td>(Tirmidhi)Lool at those articles. The crap jo...</td>\n",
       "      <td>0</td>\n",
       "      <td>3</td>\n",
       "      <td>negative</td>\n",
       "      <td>49</td>\n",
       "      <td>2.0</td>\n",
       "      <td>0.0</td>\n",
       "      <td>0.0</td>\n",
       "      <td>0.002500</td>\n",
       "      <td>0.002500</td>\n",
       "    </tr>\n",
       "    <tr>\n",
       "      <th>6</th>\n",
       "      <td>http://t.co/PPqSvThW9I</td>\n",
       "      <td>0</td>\n",
       "      <td>0</td>\n",
       "      <td>neutral</td>\n",
       "      <td>1</td>\n",
       "      <td>3.0</td>\n",
       "      <td>0.0</td>\n",
       "      <td>0.0</td>\n",
       "      <td>0.025000</td>\n",
       "      <td>0.274970</td>\n",
       "    </tr>\n",
       "    <tr>\n",
       "      <th>8</th>\n",
       "      <td>I love reading articlesPretty much that articl...</td>\n",
       "      <td>2</td>\n",
       "      <td>0</td>\n",
       "      <td>positive</td>\n",
       "      <td>48</td>\n",
       "      <td>4.0</td>\n",
       "      <td>0.0</td>\n",
       "      <td>0.0</td>\n",
       "      <td>0.002381</td>\n",
       "      <td>0.002381</td>\n",
       "    </tr>\n",
       "  </tbody>\n",
       "</table>\n",
       "</div>"
      ],
      "text/plain": [
       "                                               tweet  pos_words  neg_words  \\\n",
       "0  _UmmWaqqas\\tThe test in our struggles is our a...          8          3   \n",
       "2  There was a sister who wanted to make Hijrah &...          1          2   \n",
       "4   (Tirmidhi)Lool at those articles. The crap jo...          0          3   \n",
       "6                             http://t.co/PPqSvThW9I          0          0   \n",
       "8  I love reading articlesPretty much that articl...          2          0   \n",
       "\n",
       "  prediction  num_toks  time  time10a  time10b  sal_topic  arabic_topic  \n",
       "0   positive       215   0.0      0.0      0.0   0.000552      0.000552  \n",
       "2   negative       144   1.0      0.0      0.0   0.000862      0.000862  \n",
       "4   negative        49   2.0      0.0      0.0   0.002500      0.002500  \n",
       "6    neutral         1   3.0      0.0      0.0   0.025000      0.274970  \n",
       "8   positive        48   4.0      0.0      0.0   0.002381      0.002381  "
      ]
     },
     "execution_count": 366,
     "metadata": {},
     "output_type": "execute_result"
    }
   ],
   "source": [
    "dfNew.head()"
   ]
  },
  {
   "cell_type": "code",
   "execution_count": 354,
   "metadata": {},
   "outputs": [
    {
     "data": {
      "text/plain": [
       "(1067, 9)"
      ]
     },
     "execution_count": 354,
     "metadata": {},
     "output_type": "execute_result"
    }
   ],
   "source": [
    "dfNew.shape"
   ]
  },
  {
   "cell_type": "code",
   "execution_count": 346,
   "metadata": {},
   "outputs": [
    {
     "name": "stdout",
     "output_type": "stream",
     "text": [
      "1856    Lol @_Only1M & @MannWaSalwah use to say \"The D...\n",
      "1858    Its sad we have 2 sides though tbhLol we just ...\n",
      "1860    The strength of Muslim twitter i tell ya.Chang...\n",
      "1862    Lol Sorry@ana_mrida Lol i fell of the couch re...\n",
      "1864    Lol i don't trust eggs man, you shouldve told ...\n",
      "1866    I blocked the person without viewing the pictu...\n",
      "1868      @BananaAndRiceP2 @MannWaSalwahShe stated me ...\n",
      "1870    Prestige 😌😌😌😌😌😌😌😌😌RT @BananaAndRiceP2: My stat...\n",
      "1872    - Ibn Qay…No wisdom behind recklessness, hones...\n",
      "1873    #StopTwitterUkhtis2014Vine is comedy..LOOOOOOO...\n",
      "1875    SubhanAllah Allah is amazingRasululilah SAW sa...\n",
      "1877    Man opportunities we are givenWhilst sipping Z...\n",
      "1879                                       Whilst Raining\n",
      "1880                               Qiyyamul Layl/Tahajjud\n",
      "1881                             After Athan before Iqama\n",
      "1882                                            Traveling\n",
      "1883                                  Before braking fast\n",
      "Name: tweet, dtype: object\n"
     ]
    }
   ],
   "source": [
    "print(dfNew['tweet'][1050:])"
   ]
  },
  {
   "cell_type": "code",
   "execution_count": 333,
   "metadata": {},
   "outputs": [
    {
     "name": "stdout",
     "output_type": "stream",
     "text": [
      "Before braking fast\n"
     ]
    }
   ],
   "source": [
    "print(dfNew['tweet'].loc[1883])"
   ]
  },
  {
   "cell_type": "code",
   "execution_count": null,
   "metadata": {},
   "outputs": [],
   "source": [
    "print(dfNew['tweet'].loc[672])"
   ]
  },
  {
   "cell_type": "code",
   "execution_count": 336,
   "metadata": {},
   "outputs": [
    {
     "name": "stdout",
     "output_type": "stream",
     "text": [
      "\"O you who believe! Why do you say that which you do not do?\"\n"
     ]
    }
   ],
   "source": [
    "print(dfNew['tweet'].loc[554])"
   ]
  },
  {
   "cell_type": "code",
   "execution_count": null,
   "metadata": {},
   "outputs": [],
   "source": [
    "print(dfNew['tweet'].loc[983])"
   ]
  },
  {
   "cell_type": "code",
   "execution_count": null,
   "metadata": {},
   "outputs": [],
   "source": [
    "#Look at the top docs in that topic\n",
    "for filenum in top_docs:\n",
    "    print(dfNew['tweet'].loc[filenum])\n",
    "#    with open (dfNew['tweet'][filenum]) as fin:\n",
    "#        print(dfNew['tweet'][filenum],fin.readlines())"
   ]
  },
  {
   "cell_type": "code",
   "execution_count": 279,
   "metadata": {},
   "outputs": [
    {
     "ename": "SyntaxError",
     "evalue": "invalid syntax (<ipython-input-279-75dfd1ebec9f>, line 2)",
     "output_type": "error",
     "traceback": [
      "\u001b[0;36m  File \u001b[0;32m\"<ipython-input-279-75dfd1ebec9f>\"\u001b[0;36m, line \u001b[0;32m2\u001b[0m\n\u001b[0;31m    plt.scatter([dfNew['time'][t]] for t in time],theta_longrun[:,war_topic],alpha=0.5);\u001b[0m\n\u001b[0m                                                ^\u001b[0m\n\u001b[0;31mSyntaxError\u001b[0m\u001b[0;31m:\u001b[0m invalid syntax\n"
     ]
    }
   ],
   "source": [
    "#Topic strength over time\n",
    "plt.scatter([dfNew['time'][t]] for t in time],theta_longrun[:,war_topic],alpha=0.5);\n",
    "plt.ylabel('strength of topic')\n",
    "plt.xlabel('time');"
   ]
  },
  {
   "cell_type": "code",
   "execution_count": 368,
   "metadata": {},
   "outputs": [
    {
     "data": {
      "image/png": "[encoded data removed]",
      "text/plain": [
       "<matplotlib.figure.Figure at 0x1229b95c0>"
      ]
     },
     "metadata": {},
     "output_type": "display_data"
    }
   ],
   "source": [
    "plt.plot(dfNew['time'],dfNew['sal_topic'])\n",
    "plt.plot(dfNew['time'],dfNew['arabic_topic'],linestyle='--')\n",
    "plt.ylabel('strength of topic')\n",
    "plt.xlabel('time');"
   ]
  },
  {
   "cell_type": "code",
   "execution_count": 374,
   "metadata": {},
   "outputs": [
    {
     "data": {
      "image/png": "[encoded data removed]",
      "text/plain": [
       "<matplotlib.figure.Figure at 0x1126224a8>"
      ]
     },
     "metadata": {},
     "output_type": "display_data"
    }
   ],
   "source": [
    "plt.plot(dfNew['time'],dfNew['sal_topic']);\n",
    "plt.plot(dfNew['time'],dfNew['pos_words']/dfNew['num_toks']);\n",
    "plt.xlabel('time')\n",
    "plt.ylabel('sentiment rate')\n",
    "plt.legend(['salafi','positive']);"
   ]
  },
  {
   "cell_type": "code",
   "execution_count": 375,
   "metadata": {},
   "outputs": [
    {
     "data": {
      "image/png": "[encoded data removed]",
      "text/plain": [
       "<matplotlib.figure.Figure at 0x111055ba8>"
      ]
     },
     "metadata": {},
     "output_type": "display_data"
    }
   ],
   "source": [
    "plt.plot(dfNew['time'],dfNew['sal_topic']);\n",
    "plt.plot(dfNew['time'],dfNew['neg_words']/dfNew['num_toks']);\n",
    "plt.xlabel('time')\n",
    "plt.ylabel('sentiment rate')\n",
    "plt.legend(['salafi','negative']);"
   ]
  },
  {
   "cell_type": "code",
   "execution_count": 379,
   "metadata": {},
   "outputs": [
    {
     "data": {
      "image/png": "[encoded data removed]",
      "text/plain": [
       "<matplotlib.figure.Figure at 0x121b45e80>"
      ]
     },
     "metadata": {},
     "output_type": "display_data"
    }
   ],
   "source": [
    "plt.plot(dfNew['time'],dfNew['arabic_topic']);\n",
    "plt.plot(dfNew['time'],dfNew['pos_words']/dfNew['num_toks']);\n",
    "plt.xlabel('time')\n",
    "plt.ylabel('sentiment rate')\n",
    "plt.legend(['arabic','positive']);"
   ]
  },
  {
   "cell_type": "code",
   "execution_count": 378,
   "metadata": {},
   "outputs": [
    {
     "data": {
      "image/png": "[encoded data removed]",
      "text/plain": [
       "<matplotlib.figure.Figure at 0x11ce7eeb8>"
      ]
     },
     "metadata": {},
     "output_type": "display_data"
    }
   ],
   "source": [
    "plt.plot(dfNew['time'],dfNew['arabic_topic']);\n",
    "plt.plot(dfNew['time'],dfNew['neg_words']/dfNew['num_toks']);\n",
    "plt.xlabel('time')\n",
    "plt.ylabel('sentiment rate')\n",
    "plt.legend(['arabic','negative']);"
   ]
  },
  {
   "cell_type": "code",
   "execution_count": 382,
   "metadata": {
    "collapsed": true
   },
   "outputs": [],
   "source": [
    "import numpy as np"
   ]
  },
  {
   "cell_type": "code",
   "execution_count": 388,
   "metadata": {},
   "outputs": [
    {
     "data": {
      "text/plain": [
       "array([[ 1.        ,  0.06771917],\n",
       "       [ 0.06771917,  1.        ]])"
      ]
     },
     "execution_count": 388,
     "metadata": {},
     "output_type": "execute_result"
    }
   ],
   "source": [
    "np.corrcoef(dfNew['arabic_topic'], dfNew['sal_topic'])"
   ]
  },
  {
   "cell_type": "code",
   "execution_count": 398,
   "metadata": {},
   "outputs": [],
   "source": [
    "dfNew = dfNew.assign(negsem = dfNew['neg_words']/dfNew['num_toks'])"
   ]
  },
  {
   "cell_type": "code",
   "execution_count": 400,
   "metadata": {
    "collapsed": true
   },
   "outputs": [],
   "source": [
    "dfNew = dfNew.assign(possem = dfNew['pos_words']/dfNew['num_toks'])"
   ]
  },
  {
   "cell_type": "code",
   "execution_count": 401,
   "metadata": {},
   "outputs": [
    {
     "data": {
      "text/html": [
       "<div>\n",
       "<style>\n",
       "    .dataframe thead tr:only-child th {\n",
       "        text-align: right;\n",
       "    }\n",
       "\n",
       "    .dataframe thead th {\n",
       "        text-align: left;\n",
       "    }\n",
       "\n",
       "    .dataframe tbody tr th {\n",
       "        vertical-align: top;\n",
       "    }\n",
       "</style>\n",
       "<table border=\"1\" class=\"dataframe\">\n",
       "  <thead>\n",
       "    <tr style=\"text-align: right;\">\n",
       "      <th></th>\n",
       "      <th>tweet</th>\n",
       "      <th>pos_words</th>\n",
       "      <th>neg_words</th>\n",
       "      <th>prediction</th>\n",
       "      <th>num_toks</th>\n",
       "      <th>time</th>\n",
       "      <th>time10a</th>\n",
       "      <th>time10b</th>\n",
       "      <th>sal_topic</th>\n",
       "      <th>arabic_topic</th>\n",
       "      <th>negsem</th>\n",
       "      <th>possem</th>\n",
       "    </tr>\n",
       "  </thead>\n",
       "  <tbody>\n",
       "    <tr>\n",
       "      <th>0</th>\n",
       "      <td>_UmmWaqqas\\tThe test in our struggles is our a...</td>\n",
       "      <td>8</td>\n",
       "      <td>3</td>\n",
       "      <td>positive</td>\n",
       "      <td>215</td>\n",
       "      <td>0.0</td>\n",
       "      <td>0.0</td>\n",
       "      <td>0.0</td>\n",
       "      <td>0.000552</td>\n",
       "      <td>0.000552</td>\n",
       "      <td>0.013953</td>\n",
       "      <td>0.037209</td>\n",
       "    </tr>\n",
       "    <tr>\n",
       "      <th>2</th>\n",
       "      <td>There was a sister who wanted to make Hijrah &amp;...</td>\n",
       "      <td>1</td>\n",
       "      <td>2</td>\n",
       "      <td>negative</td>\n",
       "      <td>144</td>\n",
       "      <td>1.0</td>\n",
       "      <td>0.0</td>\n",
       "      <td>0.0</td>\n",
       "      <td>0.000862</td>\n",
       "      <td>0.000862</td>\n",
       "      <td>0.013889</td>\n",
       "      <td>0.006944</td>\n",
       "    </tr>\n",
       "    <tr>\n",
       "      <th>4</th>\n",
       "      <td>(Tirmidhi)Lool at those articles. The crap jo...</td>\n",
       "      <td>0</td>\n",
       "      <td>3</td>\n",
       "      <td>negative</td>\n",
       "      <td>49</td>\n",
       "      <td>2.0</td>\n",
       "      <td>0.0</td>\n",
       "      <td>0.0</td>\n",
       "      <td>0.002500</td>\n",
       "      <td>0.002500</td>\n",
       "      <td>0.061224</td>\n",
       "      <td>0.000000</td>\n",
       "    </tr>\n",
       "    <tr>\n",
       "      <th>6</th>\n",
       "      <td>http://t.co/PPqSvThW9I</td>\n",
       "      <td>0</td>\n",
       "      <td>0</td>\n",
       "      <td>neutral</td>\n",
       "      <td>1</td>\n",
       "      <td>3.0</td>\n",
       "      <td>0.0</td>\n",
       "      <td>0.0</td>\n",
       "      <td>0.025000</td>\n",
       "      <td>0.274970</td>\n",
       "      <td>0.000000</td>\n",
       "      <td>0.000000</td>\n",
       "    </tr>\n",
       "    <tr>\n",
       "      <th>8</th>\n",
       "      <td>I love reading articlesPretty much that articl...</td>\n",
       "      <td>2</td>\n",
       "      <td>0</td>\n",
       "      <td>positive</td>\n",
       "      <td>48</td>\n",
       "      <td>4.0</td>\n",
       "      <td>0.0</td>\n",
       "      <td>0.0</td>\n",
       "      <td>0.002381</td>\n",
       "      <td>0.002381</td>\n",
       "      <td>0.000000</td>\n",
       "      <td>0.041667</td>\n",
       "    </tr>\n",
       "  </tbody>\n",
       "</table>\n",
       "</div>"
      ],
      "text/plain": [
       "                                               tweet  pos_words  neg_words  \\\n",
       "0  _UmmWaqqas\\tThe test in our struggles is our a...          8          3   \n",
       "2  There was a sister who wanted to make Hijrah &...          1          2   \n",
       "4   (Tirmidhi)Lool at those articles. The crap jo...          0          3   \n",
       "6                             http://t.co/PPqSvThW9I          0          0   \n",
       "8  I love reading articlesPretty much that articl...          2          0   \n",
       "\n",
       "  prediction  num_toks  time  time10a  time10b  sal_topic  arabic_topic  \\\n",
       "0   positive       215   0.0      0.0      0.0   0.000552      0.000552   \n",
       "2   negative       144   1.0      0.0      0.0   0.000862      0.000862   \n",
       "4   negative        49   2.0      0.0      0.0   0.002500      0.002500   \n",
       "6    neutral         1   3.0      0.0      0.0   0.025000      0.274970   \n",
       "8   positive        48   4.0      0.0      0.0   0.002381      0.002381   \n",
       "\n",
       "     negsem    possem  \n",
       "0  0.013953  0.037209  \n",
       "2  0.013889  0.006944  \n",
       "4  0.061224  0.000000  \n",
       "6  0.000000  0.000000  \n",
       "8  0.000000  0.041667  "
      ]
     },
     "execution_count": 401,
     "metadata": {},
     "output_type": "execute_result"
    }
   ],
   "source": [
    "dfNew.head()"
   ]
  },
  {
   "cell_type": "code",
   "execution_count": 408,
   "metadata": {},
   "outputs": [
    {
     "data": {
      "text/plain": [
       "array([[  1.,  nan],\n",
       "       [ nan,  nan]])"
      ]
     },
     "execution_count": 408,
     "metadata": {},
     "output_type": "execute_result"
    }
   ],
   "source": [
    "#It would be most helpful to know which of the topic modeling choices are picking up on real topics. \n",
    "#1. to figure that out the fastest, I need code that runs a choice over parameters\n",
    "#2. to calculate the probability distribution over topics\n",
    "#3. then to pick out the documents that are most highly correlated with each topic to verify that the topic is meaningful\n",
    "#4. then we can look at them over time.\n",
    "\n",
    "# I am having trouble with step 3. I don't understand how the transformation works to pick out the documents. \n"
   ]
  }
 ],
 "metadata": {
  "kernelspec": {
   "display_name": "Python 3",
   "language": "python",
   "name": "python3"
  },
  "language_info": {
   "codemirror_mode": {
    "name": "ipython",
    "version": 3
   },
   "file_extension": ".py",
   "mimetype": "text/x-python",
   "name": "python",
   "nbconvert_exporter": "python",
   "pygments_lexer": "ipython3",
   "version": "3.6.1"
  }
 },
 "nbformat": 4,
 "nbformat_minor": 2
}
