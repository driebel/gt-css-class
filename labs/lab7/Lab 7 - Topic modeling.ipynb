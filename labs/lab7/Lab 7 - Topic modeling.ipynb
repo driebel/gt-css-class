{
 "cells": [
  {
   "cell_type": "markdown",
   "metadata": {},
   "source": [
    "# Lab 7: Topic Models\n",
    "\n",
    "In this lab, we'll apply Latent Dirichlet Allocation to the text data that we explored last week. We'll focus on [The Liberator](https://en.wikipedia.org/wiki/The_Liberator_(newspaper)), a prominent anti-slavery newspaper. As a warning, the corpus contains offensively racist language, often quoted from pro-slavery advocates. \n",
    "\n",
    "To do the lab, Georgia Tech students can download the resource `liberator-stories.tgz` from T-square. Put it in the same directory as this lab."
   ]
  },
  {
   "cell_type": "code",
   "execution_count": 28,
   "metadata": {
    "collapsed": true
   },
   "outputs": [],
   "source": [
    "from sklearn.decomposition import LatentDirichletAllocation \n",
    "from sklearn.feature_extraction.text import CountVectorizer\n",
    "from glob import glob\n",
    "from dateutil.parser import parse\n",
    "import os\n",
    "import matplotlib.pyplot as plt\n",
    "%matplotlib inline"
   ]
  },
  {
   "cell_type": "code",
   "execution_count": 3,
   "metadata": {},
   "outputs": [
    {
     "name": "stdout",
     "output_type": "stream",
     "text": [
      "x liberator-stories/\n",
      "x liberator-stories/Issue of March 11, 1853/\n",
      "x liberator-stories/Issue of March 11, 1853/story000.txt\n",
      "x liberator-stories/Issue of March 11, 1853/story008.txt\n",
      "x liberator-stories/Issue of March 11, 1853/story003.txt\n",
      "x liberator-stories/Issue of March 11, 1853/story004.txt\n",
      "x liberator-stories/Issue of March 11, 1853/story006.txt\n",
      "x liberator-stories/Issue of March 11, 1853/story001.txt\n",
      "x liberator-stories/Issue of March 11, 1853/story007.txt\n",
      "x liberator-stories/Issue of March 11, 1853/story002.txt\n",
      "x liberator-stories/Issue of March 11, 1853/story009.txt\n",
      "x liberator-stories/Issue of March 11, 1853/story005.txt\n",
      "x liberator-stories/Issue of June 01, 1855/\n",
      "x liberator-stories/Issue of June 01, 1855/story000.txt\n",
      "x liberator-stories/Issue of June 01, 1855/story008.txt\n",
      "x liberator-stories/Issue of June 01, 1855/story003.txt\n",
      "x liberator-stories/Issue of June 01, 1855/story004.txt\n",
      "x liberator-stories/Issue of June 01, 1855/story006.txt\n",
      "x liberator-stories/Issue of June 01, 1855/story001.txt\n",
      "x liberator-stories/Issue of June 01, 1855/story007.txt\n",
      "x liberator-stories/Issue of June 01, 1855/story002.txt\n",
      "x liberator-stories/Issue of June 01, 1855/story009.txt\n",
      "x liberator-stories/Issue of June 01, 1855/story005.txt\n",
      "x liberator-stories/Issue of October 01, 1847/\n",
      "x liberator-stories/Issue of October 01, 1847/story000.txt\n",
      "x liberator-stories/Issue of October 01, 1847/story008.txt\n",
      "x liberator-stories/Issue of October 01, 1847/story003.txt\n",
      "x liberator-stories/Issue of October 01, 1847/story004.txt\n",
      "x liberator-stories/Issue of October 01, 1847/story006.txt\n",
      "x liberator-stories/Issue of October 01, 1847/story001.txt\n",
      "x liberator-stories/Issue of October 01, 1847/story007.txt\n",
      "x liberator-stories/Issue of October 01, 1847/story002.txt\n",
      "x liberator-stories/Issue of October 01, 1847/story009.txt\n",
      "x liberator-stories/Issue of October 01, 1847/story005.txt\n",
      "x liberator-stories/Issue of August 31, 1860/\n",
      "x liberator-stories/Issue of August 31, 1860/story000.txt\n",
      "x liberator-stories/Issue of August 31, 1860/story008.txt\n",
      "x liberator-stories/Issue of August 31, 1860/story003.txt\n",
      "x liberator-stories/Issue of August 31, 1860/story004.txt\n",
      "x liberator-stories/Issue of August 31, 1860/story006.txt\n",
      "x liberator-stories/Issue of August 31, 1860/story001.txt\n",
      "x liberator-stories/Issue of August 31, 1860/story007.txt\n",
      "x liberator-stories/Issue of August 31, 1860/story002.txt\n",
      "x liberator-stories/Issue of August 31, 1860/story009.txt\n",
      "x liberator-stories/Issue of August 31, 1860/story005.txt\n",
      "x liberator-stories/Issue of November 01, 1850/\n",
      "x liberator-stories/Issue of November 01, 1850/story000.txt\n",
      "x liberator-stories/Issue of November 01, 1850/story008.txt\n",
      "x liberator-stories/Issue of November 01, 1850/story003.txt\n",
      "x liberator-stories/Issue of November 01, 1850/story004.txt\n",
      "x liberator-stories/Issue of November 01, 1850/story006.txt\n",
      "x liberator-stories/Issue of November 01, 1850/story001.txt\n",
      "x liberator-stories/Issue of November 01, 1850/story007.txt\n",
      "x liberator-stories/Issue of November 01, 1850/story002.txt\n",
      "x liberator-stories/Issue of November 01, 1850/story009.txt\n",
      "x liberator-stories/Issue of November 01, 1850/story005.txt\n",
      "x liberator-stories/Issue of February 01, 1856/\n",
      "x liberator-stories/Issue of February 01, 1856/story000.txt\n",
      "x liberator-stories/Issue of February 01, 1856/story008.txt\n",
      "x liberator-stories/Issue of February 01, 1856/story003.txt\n",
      "x liberator-stories/Issue of February 01, 1856/story004.txt\n",
      "x liberator-stories/Issue of February 01, 1856/story006.txt\n",
      "x liberator-stories/Issue of February 01, 1856/story001.txt\n",
      "x liberator-stories/Issue of February 01, 1856/story007.txt\n",
      "x liberator-stories/Issue of February 01, 1856/story002.txt\n",
      "x liberator-stories/Issue of February 01, 1856/story009.txt\n",
      "x liberator-stories/Issue of February 01, 1856/story005.txt\n",
      "x liberator-stories/Issue of August 01, 1856/\n",
      "x liberator-stories/Issue of August 01, 1856/story000.txt\n",
      "x liberator-stories/Issue of August 01, 1856/story008.txt\n",
      "x liberator-stories/Issue of August 01, 1856/story003.txt\n",
      "x liberator-stories/Issue of August 01, 1856/story004.txt\n",
      "x liberator-stories/Issue of August 01, 1856/story006.txt\n",
      "x liberator-stories/Issue of August 01, 1856/story001.txt\n",
      "x liberator-stories/Issue of August 01, 1856/story007.txt\n",
      "x liberator-stories/Issue of August 01, 1856/story002.txt\n",
      "x liberator-stories/Issue of August 01, 1856/story009.txt\n",
      "x liberator-stories/Issue of August 01, 1856/story005.txt\n",
      "x liberator-stories/Issue of October 01, 1852/\n",
      "x liberator-stories/Issue of October 01, 1852/story000.txt\n",
      "x liberator-stories/Issue of October 01, 1852/story008.txt\n",
      "x liberator-stories/Issue of October 01, 1852/story003.txt\n",
      "x liberator-stories/Issue of October 01, 1852/story004.txt\n",
      "x liberator-stories/Issue of October 01, 1852/story006.txt\n",
      "x liberator-stories/Issue of October 01, 1852/story001.txt\n",
      "x liberator-stories/Issue of October 01, 1852/story007.txt\n",
      "x liberator-stories/Issue of October 01, 1852/story002.txt\n",
      "x liberator-stories/Issue of October 01, 1852/story009.txt\n",
      "x liberator-stories/Issue of October 01, 1852/story005.txt\n",
      "x liberator-stories/Issue of March 01, 1850/\n",
      "x liberator-stories/Issue of March 01, 1850/story000.txt\n",
      "x liberator-stories/Issue of March 01, 1850/story008.txt\n",
      "x liberator-stories/Issue of March 01, 1850/story003.txt\n",
      "x liberator-stories/Issue of March 01, 1850/story004.txt\n",
      "x liberator-stories/Issue of March 01, 1850/story006.txt\n",
      "x liberator-stories/Issue of March 01, 1850/story001.txt\n",
      "x liberator-stories/Issue of March 01, 1850/story007.txt\n",
      "x liberator-stories/Issue of March 01, 1850/story002.txt\n",
      "x liberator-stories/Issue of March 01, 1850/story009.txt\n",
      "x liberator-stories/Issue of March 01, 1850/story005.txt\n",
      "x liberator-stories/Issue of May 31, 1850/\n",
      "x liberator-stories/Issue of May 31, 1850/story000.txt\n",
      "x liberator-stories/Issue of May 31, 1850/story008.txt\n",
      "x liberator-stories/Issue of May 31, 1850/story003.txt\n",
      "x liberator-stories/Issue of May 31, 1850/story004.txt\n",
      "x liberator-stories/Issue of May 31, 1850/story006.txt\n",
      "x liberator-stories/Issue of May 31, 1850/story001.txt\n",
      "x liberator-stories/Issue of May 31, 1850/story007.txt\n",
      "x liberator-stories/Issue of May 31, 1850/story002.txt\n",
      "x liberator-stories/Issue of May 31, 1850/story009.txt\n",
      "x liberator-stories/Issue of May 31, 1850/story005.txt\n",
      "x liberator-stories/Issue of July 11, 1856/\n",
      "x liberator-stories/Issue of July 11, 1856/story000.txt\n",
      "x liberator-stories/Issue of July 11, 1856/story008.txt\n",
      "x liberator-stories/Issue of July 11, 1856/story003.txt\n",
      "x liberator-stories/Issue of July 11, 1856/story004.txt\n",
      "x liberator-stories/Issue of July 11, 1856/story006.txt\n",
      "x liberator-stories/Issue of July 11, 1856/story001.txt\n",
      "x liberator-stories/Issue of July 11, 1856/story007.txt\n",
      "x liberator-stories/Issue of July 11, 1856/story002.txt\n",
      "x liberator-stories/Issue of July 11, 1856/story009.txt\n",
      "x liberator-stories/Issue of July 11, 1856/story005.txt\n",
      "x liberator-stories/Issue of December 11, 1857/\n",
      "x liberator-stories/Issue of December 11, 1857/story000.txt\n",
      "x liberator-stories/Issue of December 11, 1857/story008.txt\n",
      "x liberator-stories/Issue of December 11, 1857/story003.txt\n",
      "x liberator-stories/Issue of December 11, 1857/story004.txt\n",
      "x liberator-stories/Issue of December 11, 1857/story006.txt\n",
      "x liberator-stories/Issue of December 11, 1857/story001.txt\n",
      "x liberator-stories/Issue of December 11, 1857/story007.txt\n",
      "x liberator-stories/Issue of December 11, 1857/story002.txt\n",
      "x liberator-stories/Issue of December 11, 1857/story009.txt\n",
      "x liberator-stories/Issue of December 11, 1857/story005.txt\n",
      "x liberator-stories/Issue of October 01, 1858/\n",
      "x liberator-stories/Issue of October 01, 1858/story000.txt\n",
      "x liberator-stories/Issue of October 01, 1858/story008.txt\n",
      "x liberator-stories/Issue of October 01, 1858/story003.txt\n",
      "x liberator-stories/Issue of October 01, 1858/story004.txt\n",
      "x liberator-stories/Issue of October 01, 1858/story006.txt\n",
      "x liberator-stories/Issue of October 01, 1858/story001.txt\n",
      "x liberator-stories/Issue of October 01, 1858/story007.txt\n",
      "x liberator-stories/Issue of October 01, 1858/story002.txt\n",
      "x liberator-stories/Issue of October 01, 1858/story009.txt\n",
      "x liberator-stories/Issue of October 01, 1858/story005.txt\n",
      "x liberator-stories/Issue of March 21, 1851/\n",
      "x liberator-stories/Issue of March 21, 1851/story000.txt\n",
      "x liberator-stories/Issue of March 21, 1851/story008.txt\n",
      "x liberator-stories/Issue of March 21, 1851/story003.txt\n",
      "x liberator-stories/Issue of March 21, 1851/story004.txt\n",
      "x liberator-stories/Issue of March 21, 1851/story006.txt\n"
     ]
    },
    {
     "name": "stdout",
     "output_type": "stream",
     "text": [
      "x liberator-stories/Issue of March 21, 1851/story001.txt\n",
      "x liberator-stories/Issue of March 21, 1851/story007.txt\n",
      "x liberator-stories/Issue of March 21, 1851/story002.txt\n",
      "x liberator-stories/Issue of March 21, 1851/story009.txt\n",
      "x liberator-stories/Issue of March 21, 1851/story005.txt\n",
      "x liberator-stories/Issue of September 11, 1857/\n",
      "x liberator-stories/Issue of September 11, 1857/story000.txt\n",
      "x liberator-stories/Issue of September 11, 1857/story008.txt\n",
      "x liberator-stories/Issue of September 11, 1857/story003.txt\n",
      "x liberator-stories/Issue of September 11, 1857/story004.txt\n",
      "x liberator-stories/Issue of September 11, 1857/story006.txt\n",
      "x liberator-stories/Issue of September 11, 1857/story001.txt\n",
      "x liberator-stories/Issue of September 11, 1857/story007.txt\n",
      "x liberator-stories/Issue of September 11, 1857/story002.txt\n",
      "x liberator-stories/Issue of September 11, 1857/story009.txt\n",
      "x liberator-stories/Issue of September 11, 1857/story005.txt\n",
      "x liberator-stories/Issue of January 11, 1861/\n",
      "x liberator-stories/Issue of January 11, 1861/story000.txt\n",
      "x liberator-stories/Issue of January 11, 1861/story008.txt\n",
      "x liberator-stories/Issue of January 11, 1861/story003.txt\n",
      "x liberator-stories/Issue of January 11, 1861/story004.txt\n",
      "x liberator-stories/Issue of January 11, 1861/story006.txt\n",
      "x liberator-stories/Issue of January 11, 1861/story001.txt\n",
      "x liberator-stories/Issue of January 11, 1861/story007.txt\n",
      "x liberator-stories/Issue of January 11, 1861/story002.txt\n",
      "x liberator-stories/Issue of January 11, 1861/story009.txt\n",
      "x liberator-stories/Issue of January 11, 1861/story005.txt\n",
      "x liberator-stories/Issue of August 11, 1854/\n",
      "x liberator-stories/Issue of August 11, 1854/story000.txt\n",
      "x liberator-stories/Issue of August 11, 1854/story008.txt\n",
      "x liberator-stories/Issue of August 11, 1854/story003.txt\n",
      "x liberator-stories/Issue of August 11, 1854/story004.txt\n",
      "x liberator-stories/Issue of August 11, 1854/story006.txt\n",
      "x liberator-stories/Issue of August 11, 1854/story001.txt\n",
      "x liberator-stories/Issue of August 11, 1854/story007.txt\n",
      "x liberator-stories/Issue of August 11, 1854/story002.txt\n",
      "x liberator-stories/Issue of August 11, 1854/story009.txt\n",
      "x liberator-stories/Issue of August 11, 1854/story005.txt\n",
      "x liberator-stories/Issue of September 21, 1855/\n",
      "x liberator-stories/Issue of September 21, 1855/story000.txt\n",
      "x liberator-stories/Issue of September 21, 1855/story008.txt\n",
      "x liberator-stories/Issue of September 21, 1855/story003.txt\n",
      "x liberator-stories/Issue of September 21, 1855/story004.txt\n",
      "x liberator-stories/Issue of September 21, 1855/story006.txt\n",
      "x liberator-stories/Issue of September 21, 1855/story001.txt\n",
      "x liberator-stories/Issue of September 21, 1855/story007.txt\n",
      "x liberator-stories/Issue of September 21, 1855/story002.txt\n",
      "x liberator-stories/Issue of September 21, 1855/story009.txt\n",
      "x liberator-stories/Issue of September 21, 1855/story005.txt\n",
      "x liberator-stories/Issue of January 11, 1850/\n",
      "x liberator-stories/Issue of January 11, 1850/story000.txt\n",
      "x liberator-stories/Issue of January 11, 1850/story008.txt\n",
      "x liberator-stories/Issue of January 11, 1850/story003.txt\n",
      "x liberator-stories/Issue of January 11, 1850/story004.txt\n",
      "x liberator-stories/Issue of January 11, 1850/story006.txt\n",
      "x liberator-stories/Issue of January 11, 1850/story001.txt\n",
      "x liberator-stories/Issue of January 11, 1850/story007.txt\n",
      "x liberator-stories/Issue of January 11, 1850/story002.txt\n",
      "x liberator-stories/Issue of January 11, 1850/story009.txt\n",
      "x liberator-stories/Issue of January 11, 1850/story005.txt\n",
      "x liberator-stories/Issue of July 31, 1846/\n",
      "x liberator-stories/Issue of July 31, 1846/story000.txt\n",
      "x liberator-stories/Issue of July 31, 1846/story008.txt\n",
      "x liberator-stories/Issue of July 31, 1846/story003.txt\n",
      "x liberator-stories/Issue of July 31, 1846/story004.txt\n",
      "x liberator-stories/Issue of July 31, 1846/story006.txt\n",
      "x liberator-stories/Issue of July 31, 1846/story001.txt\n",
      "x liberator-stories/Issue of July 31, 1846/story007.txt\n",
      "x liberator-stories/Issue of July 31, 1846/story002.txt\n",
      "x liberator-stories/Issue of July 31, 1846/story009.txt\n",
      "x liberator-stories/Issue of July 31, 1846/story005.txt\n",
      "x liberator-stories/Issue of March 11, 1859/\n",
      "x liberator-stories/Issue of March 11, 1859/story000.txt\n",
      "x liberator-stories/Issue of March 11, 1859/story008.txt\n",
      "x liberator-stories/Issue of March 11, 1859/story003.txt\n",
      "x liberator-stories/Issue of March 11, 1859/story004.txt\n",
      "x liberator-stories/Issue of March 11, 1859/story006.txt\n",
      "x liberator-stories/Issue of March 11, 1859/story001.txt\n",
      "x liberator-stories/Issue of March 11, 1859/story007.txt\n",
      "x liberator-stories/Issue of March 11, 1859/story002.txt\n",
      "x liberator-stories/Issue of March 11, 1859/story009.txt\n",
      "x liberator-stories/Issue of March 11, 1859/story005.txt\n",
      "x liberator-stories/Issue of September 01, 1848/\n",
      "x liberator-stories/Issue of September 01, 1848/story000.txt\n",
      "x liberator-stories/Issue of September 01, 1848/story008.txt\n",
      "x liberator-stories/Issue of September 01, 1848/story003.txt\n",
      "x liberator-stories/Issue of September 01, 1848/story004.txt\n",
      "x liberator-stories/Issue of September 01, 1848/story006.txt\n",
      "x liberator-stories/Issue of September 01, 1848/story001.txt\n",
      "x liberator-stories/Issue of September 01, 1848/story007.txt\n",
      "x liberator-stories/Issue of September 01, 1848/story002.txt\n",
      "x liberator-stories/Issue of September 01, 1848/story009.txt\n",
      "x liberator-stories/Issue of September 01, 1848/story005.txt\n",
      "x liberator-stories/Issue of July 31, 1857/\n",
      "x liberator-stories/Issue of July 31, 1857/story000.txt\n",
      "x liberator-stories/Issue of July 31, 1857/story008.txt\n",
      "x liberator-stories/Issue of July 31, 1857/story003.txt\n",
      "x liberator-stories/Issue of July 31, 1857/story004.txt\n",
      "x liberator-stories/Issue of July 31, 1857/story006.txt\n",
      "x liberator-stories/Issue of July 31, 1857/story001.txt\n",
      "x liberator-stories/Issue of July 31, 1857/story007.txt\n",
      "x liberator-stories/Issue of July 31, 1857/story002.txt\n",
      "x liberator-stories/Issue of July 31, 1857/story009.txt\n",
      "x liberator-stories/Issue of July 31, 1857/story005.txt\n",
      "x liberator-stories/Issue of February 21, 1851/\n",
      "x liberator-stories/Issue of February 21, 1851/story000.txt\n",
      "x liberator-stories/Issue of February 21, 1851/story008.txt\n",
      "x liberator-stories/Issue of February 21, 1851/story003.txt\n",
      "x liberator-stories/Issue of February 21, 1851/story004.txt\n",
      "x liberator-stories/Issue of February 21, 1851/story006.txt\n",
      "x liberator-stories/Issue of February 21, 1851/story001.txt\n",
      "x liberator-stories/Issue of February 21, 1851/story007.txt\n",
      "x liberator-stories/Issue of February 21, 1851/story002.txt\n",
      "x liberator-stories/Issue of February 21, 1851/story009.txt\n",
      "x liberator-stories/Issue of February 21, 1851/story005.txt\n",
      "x liberator-stories/Issue of August 11, 1848/\n",
      "x liberator-stories/Issue of August 11, 1848/story000.txt\n",
      "x liberator-stories/Issue of August 11, 1848/story008.txt\n",
      "x liberator-stories/Issue of August 11, 1848/story003.txt\n",
      "x liberator-stories/Issue of August 11, 1848/story004.txt\n",
      "x liberator-stories/Issue of August 11, 1848/story006.txt\n",
      "x liberator-stories/Issue of August 11, 1848/story001.txt\n",
      "x liberator-stories/Issue of August 11, 1848/story007.txt\n",
      "x liberator-stories/Issue of August 11, 1848/story002.txt\n",
      "x liberator-stories/Issue of August 11, 1848/story009.txt\n",
      "x liberator-stories/Issue of August 11, 1848/story005.txt\n",
      "x liberator-stories/Issue of December 01, 1854/\n",
      "x liberator-stories/Issue of December 01, 1854/story000.txt\n",
      "x liberator-stories/Issue of December 01, 1854/story008.txt\n",
      "x liberator-stories/Issue of December 01, 1854/story003.txt\n",
      "x liberator-stories/Issue of December 01, 1854/story004.txt\n",
      "x liberator-stories/Issue of December 01, 1854/story006.txt\n",
      "x liberator-stories/Issue of December 01, 1854/story001.txt\n",
      "x liberator-stories/Issue of December 01, 1854/story007.txt\n",
      "x liberator-stories/Issue of December 01, 1854/story002.txt\n",
      "x liberator-stories/Issue of December 01, 1854/story009.txt\n",
      "x liberator-stories/Issue of December 01, 1854/story005.txt\n",
      "x liberator-stories/Issue of September 11, 1863/\n",
      "x liberator-stories/Issue of September 11, 1863/story000.txt\n",
      "x liberator-stories/Issue of September 11, 1863/story008.txt\n",
      "x liberator-stories/Issue of September 11, 1863/story003.txt\n",
      "x liberator-stories/Issue of September 11, 1863/story004.txt\n",
      "x liberator-stories/Issue of September 11, 1863/story006.txt\n"
     ]
    },
    {
     "name": "stdout",
     "output_type": "stream",
     "text": [
      "x liberator-stories/Issue of September 11, 1863/story001.txt\n",
      "x liberator-stories/Issue of September 11, 1863/story007.txt\n",
      "x liberator-stories/Issue of September 11, 1863/story002.txt\n",
      "x liberator-stories/Issue of September 11, 1863/story009.txt\n",
      "x liberator-stories/Issue of September 11, 1863/story005.txt\n",
      "x liberator-stories/Issue of April 21, 1848/\n",
      "x liberator-stories/Issue of April 21, 1848/story000.txt\n",
      "x liberator-stories/Issue of April 21, 1848/story008.txt\n",
      "x liberator-stories/Issue of April 21, 1848/story003.txt\n",
      "x liberator-stories/Issue of April 21, 1848/story004.txt\n",
      "x liberator-stories/Issue of April 21, 1848/story006.txt\n",
      "x liberator-stories/Issue of April 21, 1848/story001.txt\n",
      "x liberator-stories/Issue of April 21, 1848/story007.txt\n",
      "x liberator-stories/Issue of April 21, 1848/story002.txt\n",
      "x liberator-stories/Issue of April 21, 1848/story009.txt\n",
      "x liberator-stories/Issue of April 21, 1848/story005.txt\n",
      "x liberator-stories/Issue of July 21, 1854/\n",
      "x liberator-stories/Issue of July 21, 1854/story000.txt\n",
      "x liberator-stories/Issue of July 21, 1854/story008.txt\n",
      "x liberator-stories/Issue of July 21, 1854/story003.txt\n",
      "x liberator-stories/Issue of July 21, 1854/story004.txt\n",
      "x liberator-stories/Issue of July 21, 1854/story006.txt\n",
      "x liberator-stories/Issue of July 21, 1854/story001.txt\n",
      "x liberator-stories/Issue of July 21, 1854/story007.txt\n",
      "x liberator-stories/Issue of July 21, 1854/story002.txt\n",
      "x liberator-stories/Issue of July 21, 1854/story009.txt\n",
      "x liberator-stories/Issue of July 21, 1854/story005.txt\n",
      "x liberator-stories/Issue of September 01, 1854/\n",
      "x liberator-stories/Issue of September 01, 1854/story000.txt\n",
      "x liberator-stories/Issue of September 01, 1854/story008.txt\n",
      "x liberator-stories/Issue of September 01, 1854/story003.txt\n",
      "x liberator-stories/Issue of September 01, 1854/story004.txt\n",
      "x liberator-stories/Issue of September 01, 1854/story006.txt\n",
      "x liberator-stories/Issue of September 01, 1854/story001.txt\n",
      "x liberator-stories/Issue of September 01, 1854/story007.txt\n",
      "x liberator-stories/Issue of September 01, 1854/story002.txt\n",
      "x liberator-stories/Issue of September 01, 1854/story009.txt\n",
      "x liberator-stories/Issue of September 01, 1854/story005.txt\n",
      "x liberator-stories/Issue of October 21, 1859/\n",
      "x liberator-stories/Issue of October 21, 1859/story000.txt\n",
      "x liberator-stories/Issue of October 21, 1859/story008.txt\n",
      "x liberator-stories/Issue of October 21, 1859/story003.txt\n",
      "x liberator-stories/Issue of October 21, 1859/story004.txt\n",
      "x liberator-stories/Issue of October 21, 1859/story006.txt\n",
      "x liberator-stories/Issue of October 21, 1859/story001.txt\n",
      "x liberator-stories/Issue of October 21, 1859/story007.txt\n",
      "x liberator-stories/Issue of October 21, 1859/story002.txt\n",
      "x liberator-stories/Issue of October 21, 1859/story009.txt\n",
      "x liberator-stories/Issue of October 21, 1859/story005.txt\n",
      "x liberator-stories/Issue of December 11, 1846/\n",
      "x liberator-stories/Issue of December 11, 1846/story000.txt\n",
      "x liberator-stories/Issue of December 11, 1846/story008.txt\n",
      "x liberator-stories/Issue of December 11, 1846/story003.txt\n",
      "x liberator-stories/Issue of December 11, 1846/story004.txt\n",
      "x liberator-stories/Issue of December 11, 1846/story006.txt\n",
      "x liberator-stories/Issue of December 11, 1846/story001.txt\n",
      "x liberator-stories/Issue of December 11, 1846/story007.txt\n",
      "x liberator-stories/Issue of December 11, 1846/story002.txt\n",
      "x liberator-stories/Issue of December 11, 1846/story009.txt\n",
      "x liberator-stories/Issue of December 11, 1846/story005.txt\n",
      "x liberator-stories/Issue of June 01, 1860/\n",
      "x liberator-stories/Issue of June 01, 1860/story000.txt\n",
      "x liberator-stories/Issue of June 01, 1860/story008.txt\n",
      "x liberator-stories/Issue of June 01, 1860/story003.txt\n",
      "x liberator-stories/Issue of June 01, 1860/story004.txt\n",
      "x liberator-stories/Issue of June 01, 1860/story006.txt\n",
      "x liberator-stories/Issue of June 01, 1860/story001.txt\n",
      "x liberator-stories/Issue of June 01, 1860/story007.txt\n",
      "x liberator-stories/Issue of June 01, 1860/story002.txt\n",
      "x liberator-stories/Issue of June 01, 1860/story009.txt\n",
      "x liberator-stories/Issue of June 01, 1860/story005.txt\n",
      "x liberator-stories/Issue of September 11, 1846/\n",
      "x liberator-stories/Issue of September 11, 1846/story000.txt\n",
      "x liberator-stories/Issue of September 11, 1846/story008.txt\n",
      "x liberator-stories/Issue of September 11, 1846/story003.txt\n",
      "x liberator-stories/Issue of September 11, 1846/story004.txt\n",
      "x liberator-stories/Issue of September 11, 1846/story006.txt\n",
      "x liberator-stories/Issue of September 11, 1846/story001.txt\n",
      "x liberator-stories/Issue of September 11, 1846/story007.txt\n",
      "x liberator-stories/Issue of September 11, 1846/story002.txt\n",
      "x liberator-stories/Issue of September 11, 1846/story009.txt\n",
      "x liberator-stories/Issue of September 11, 1846/story005.txt\n",
      "x liberator-stories/Issue of November 01, 1861/\n",
      "x liberator-stories/Issue of November 01, 1861/story000.txt\n",
      "x liberator-stories/Issue of November 01, 1861/story008.txt\n",
      "x liberator-stories/Issue of November 01, 1861/story003.txt\n",
      "x liberator-stories/Issue of November 01, 1861/story004.txt\n",
      "x liberator-stories/Issue of November 01, 1861/story006.txt\n",
      "x liberator-stories/Issue of November 01, 1861/story001.txt\n",
      "x liberator-stories/Issue of November 01, 1861/story007.txt\n",
      "x liberator-stories/Issue of November 01, 1861/story002.txt\n",
      "x liberator-stories/Issue of November 01, 1861/story009.txt\n",
      "x liberator-stories/Issue of November 01, 1861/story005.txt\n",
      "x liberator-stories/Issue of August 21, 1857/\n",
      "x liberator-stories/Issue of August 21, 1857/story000.txt\n",
      "x liberator-stories/Issue of August 21, 1857/story008.txt\n",
      "x liberator-stories/Issue of August 21, 1857/story003.txt\n",
      "x liberator-stories/Issue of August 21, 1857/story004.txt\n",
      "x liberator-stories/Issue of August 21, 1857/story006.txt\n",
      "x liberator-stories/Issue of August 21, 1857/story001.txt\n",
      "x liberator-stories/Issue of August 21, 1857/story007.txt\n",
      "x liberator-stories/Issue of August 21, 1857/story002.txt\n",
      "x liberator-stories/Issue of August 21, 1857/story009.txt\n",
      "x liberator-stories/Issue of August 21, 1857/story005.txt\n",
      "x liberator-stories/Issue of April 01, 1864/\n",
      "x liberator-stories/Issue of April 01, 1864/story000.txt\n",
      "x liberator-stories/Issue of April 01, 1864/story008.txt\n",
      "x liberator-stories/Issue of April 01, 1864/story003.txt\n",
      "x liberator-stories/Issue of April 01, 1864/story004.txt\n",
      "x liberator-stories/Issue of April 01, 1864/story006.txt\n",
      "x liberator-stories/Issue of April 01, 1864/story001.txt\n",
      "x liberator-stories/Issue of April 01, 1864/story007.txt\n",
      "x liberator-stories/Issue of April 01, 1864/story002.txt\n",
      "x liberator-stories/Issue of April 01, 1864/story009.txt\n",
      "x liberator-stories/Issue of April 01, 1864/story005.txt\n",
      "x liberator-stories/Issue of June 21, 1850/\n",
      "x liberator-stories/Issue of June 21, 1850/story000.txt\n",
      "x liberator-stories/Issue of June 21, 1850/story008.txt\n",
      "x liberator-stories/Issue of June 21, 1850/story003.txt\n",
      "x liberator-stories/Issue of June 21, 1850/story004.txt\n",
      "x liberator-stories/Issue of June 21, 1850/story006.txt\n",
      "x liberator-stories/Issue of June 21, 1850/story001.txt\n",
      "x liberator-stories/Issue of June 21, 1850/story007.txt\n",
      "x liberator-stories/Issue of June 21, 1850/story002.txt\n",
      "x liberator-stories/Issue of June 21, 1850/story009.txt\n",
      "x liberator-stories/Issue of June 21, 1850/story005.txt\n",
      "x liberator-stories/Issue of December 21, 1860/\n",
      "x liberator-stories/Issue of December 21, 1860/story000.txt\n",
      "x liberator-stories/Issue of December 21, 1860/story008.txt\n",
      "x liberator-stories/Issue of December 21, 1860/story003.txt\n",
      "x liberator-stories/Issue of December 21, 1860/story004.txt\n",
      "x liberator-stories/Issue of December 21, 1860/story006.txt\n",
      "x liberator-stories/Issue of December 21, 1860/story001.txt\n",
      "x liberator-stories/Issue of December 21, 1860/story007.txt\n",
      "x liberator-stories/Issue of December 21, 1860/story002.txt\n",
      "x liberator-stories/Issue of December 21, 1860/story009.txt\n",
      "x liberator-stories/Issue of December 21, 1860/story005.txt\n",
      "x liberator-stories/Issue of May 01, 1863/\n",
      "x liberator-stories/Issue of May 01, 1863/story000.txt\n",
      "x liberator-stories/Issue of May 01, 1863/story008.txt\n",
      "x liberator-stories/Issue of May 01, 1863/story003.txt\n",
      "x liberator-stories/Issue of May 01, 1863/story004.txt\n",
      "x liberator-stories/Issue of May 01, 1863/story006.txt\n",
      "x liberator-stories/Issue of May 01, 1863/story001.txt\n"
     ]
    },
    {
     "name": "stdout",
     "output_type": "stream",
     "text": [
      "x liberator-stories/Issue of May 01, 1863/story007.txt\n",
      "x liberator-stories/Issue of May 01, 1863/story002.txt\n",
      "x liberator-stories/Issue of May 01, 1863/story009.txt\n",
      "x liberator-stories/Issue of May 01, 1863/story005.txt\n",
      "x liberator-stories/Issue of July 01, 1864/\n",
      "x liberator-stories/Issue of July 01, 1864/story000.txt\n",
      "x liberator-stories/Issue of July 01, 1864/story008.txt\n",
      "x liberator-stories/Issue of July 01, 1864/story003.txt\n",
      "x liberator-stories/Issue of July 01, 1864/story004.txt\n",
      "x liberator-stories/Issue of July 01, 1864/story006.txt\n",
      "x liberator-stories/Issue of July 01, 1864/story001.txt\n",
      "x liberator-stories/Issue of July 01, 1864/story007.txt\n",
      "x liberator-stories/Issue of July 01, 1864/story002.txt\n",
      "x liberator-stories/Issue of July 01, 1864/story009.txt\n",
      "x liberator-stories/Issue of July 01, 1864/story005.txt\n",
      "x liberator-stories/Issue of March 31, 1865/\n",
      "x liberator-stories/Issue of March 31, 1865/story000.txt\n",
      "x liberator-stories/Issue of March 31, 1865/story008.txt\n",
      "x liberator-stories/Issue of March 31, 1865/story003.txt\n",
      "x liberator-stories/Issue of March 31, 1865/story004.txt\n",
      "x liberator-stories/Issue of March 31, 1865/story006.txt\n",
      "x liberator-stories/Issue of March 31, 1865/story001.txt\n",
      "x liberator-stories/Issue of March 31, 1865/story007.txt\n",
      "x liberator-stories/Issue of March 31, 1865/story002.txt\n",
      "x liberator-stories/Issue of March 31, 1865/story009.txt\n",
      "x liberator-stories/Issue of March 31, 1865/story005.txt\n",
      "x liberator-stories/Issue of January 21, 1859/\n",
      "x liberator-stories/Issue of January 21, 1859/story000.txt\n",
      "x liberator-stories/Issue of January 21, 1859/story008.txt\n",
      "x liberator-stories/Issue of January 21, 1859/story003.txt\n",
      "x liberator-stories/Issue of January 21, 1859/story004.txt\n",
      "x liberator-stories/Issue of January 21, 1859/story006.txt\n",
      "x liberator-stories/Issue of January 21, 1859/story001.txt\n",
      "x liberator-stories/Issue of January 21, 1859/story007.txt\n",
      "x liberator-stories/Issue of January 21, 1859/story002.txt\n",
      "x liberator-stories/Issue of January 21, 1859/story009.txt\n",
      "x liberator-stories/Issue of January 21, 1859/story005.txt\n",
      "x liberator-stories/Issue of October 31, 1856/\n",
      "x liberator-stories/Issue of October 31, 1856/story000.txt\n",
      "x liberator-stories/Issue of October 31, 1856/story008.txt\n",
      "x liberator-stories/Issue of October 31, 1856/story003.txt\n",
      "x liberator-stories/Issue of October 31, 1856/story004.txt\n",
      "x liberator-stories/Issue of October 31, 1856/story006.txt\n",
      "x liberator-stories/Issue of October 31, 1856/story001.txt\n",
      "x liberator-stories/Issue of October 31, 1856/story007.txt\n",
      "x liberator-stories/Issue of October 31, 1856/story002.txt\n",
      "x liberator-stories/Issue of October 31, 1856/story009.txt\n",
      "x liberator-stories/Issue of October 31, 1856/story005.txt\n",
      "x liberator-stories/Issue of December 11, 1863/\n",
      "x liberator-stories/Issue of December 11, 1863/story000.txt\n",
      "x liberator-stories/Issue of December 11, 1863/story008.txt\n",
      "x liberator-stories/Issue of December 11, 1863/story003.txt\n",
      "x liberator-stories/Issue of December 11, 1863/story004.txt\n",
      "x liberator-stories/Issue of December 11, 1863/story006.txt\n",
      "x liberator-stories/Issue of December 11, 1863/story001.txt\n",
      "x liberator-stories/Issue of December 11, 1863/story007.txt\n",
      "x liberator-stories/Issue of December 11, 1863/story002.txt\n",
      "x liberator-stories/Issue of December 11, 1863/story009.txt\n",
      "x liberator-stories/Issue of December 11, 1863/story005.txt\n",
      "x liberator-stories/Issue of June 21, 1861/\n",
      "x liberator-stories/Issue of June 21, 1861/story000.txt\n",
      "x liberator-stories/Issue of June 21, 1861/story008.txt\n",
      "x liberator-stories/Issue of June 21, 1861/story003.txt\n",
      "x liberator-stories/Issue of June 21, 1861/story004.txt\n",
      "x liberator-stories/Issue of June 21, 1861/story006.txt\n",
      "x liberator-stories/Issue of June 21, 1861/story001.txt\n",
      "x liberator-stories/Issue of June 21, 1861/story007.txt\n",
      "x liberator-stories/Issue of June 21, 1861/story002.txt\n",
      "x liberator-stories/Issue of June 21, 1861/story009.txt\n",
      "x liberator-stories/Issue of June 21, 1861/story005.txt\n",
      "x liberator-stories/Issue of October 31, 1862/\n",
      "x liberator-stories/Issue of October 31, 1862/story000.txt\n",
      "x liberator-stories/Issue of October 31, 1862/story008.txt\n",
      "x liberator-stories/Issue of October 31, 1862/story003.txt\n",
      "x liberator-stories/Issue of October 31, 1862/story004.txt\n",
      "x liberator-stories/Issue of October 31, 1862/story006.txt\n",
      "x liberator-stories/Issue of October 31, 1862/story001.txt\n",
      "x liberator-stories/Issue of October 31, 1862/story007.txt\n",
      "x liberator-stories/Issue of October 31, 1862/story002.txt\n",
      "x liberator-stories/Issue of October 31, 1862/story009.txt\n",
      "x liberator-stories/Issue of October 31, 1862/story005.txt\n",
      "x liberator-stories/Issue of March 31, 1854/\n",
      "x liberator-stories/Issue of March 31, 1854/story000.txt\n",
      "x liberator-stories/Issue of March 31, 1854/story008.txt\n",
      "x liberator-stories/Issue of March 31, 1854/story003.txt\n",
      "x liberator-stories/Issue of March 31, 1854/story004.txt\n",
      "x liberator-stories/Issue of March 31, 1854/story006.txt\n",
      "x liberator-stories/Issue of March 31, 1854/story001.txt\n",
      "x liberator-stories/Issue of March 31, 1854/story007.txt\n",
      "x liberator-stories/Issue of March 31, 1854/story002.txt\n",
      "x liberator-stories/Issue of March 31, 1854/story009.txt\n",
      "x liberator-stories/Issue of March 31, 1854/story005.txt\n",
      "x liberator-stories/Issue of May 21, 1847/\n",
      "x liberator-stories/Issue of May 21, 1847/story000.txt\n",
      "x liberator-stories/Issue of May 21, 1847/story008.txt\n",
      "x liberator-stories/Issue of May 21, 1847/story003.txt\n",
      "x liberator-stories/Issue of May 21, 1847/story004.txt\n",
      "x liberator-stories/Issue of May 21, 1847/story006.txt\n",
      "x liberator-stories/Issue of May 21, 1847/story001.txt\n",
      "x liberator-stories/Issue of May 21, 1847/story007.txt\n",
      "x liberator-stories/Issue of May 21, 1847/story002.txt\n",
      "x liberator-stories/Issue of May 21, 1847/story009.txt\n",
      "x liberator-stories/Issue of May 21, 1847/story005.txt\n",
      "x liberator-stories/Issue of September 21, 1860/\n",
      "x liberator-stories/Issue of September 21, 1860/story000.txt\n",
      "x liberator-stories/Issue of September 21, 1860/story008.txt\n",
      "x liberator-stories/Issue of September 21, 1860/story003.txt\n",
      "x liberator-stories/Issue of September 21, 1860/story004.txt\n",
      "x liberator-stories/Issue of September 21, 1860/story006.txt\n",
      "x liberator-stories/Issue of September 21, 1860/story001.txt\n",
      "x liberator-stories/Issue of September 21, 1860/story007.txt\n",
      "x liberator-stories/Issue of September 21, 1860/story002.txt\n",
      "x liberator-stories/Issue of September 21, 1860/story009.txt\n",
      "x liberator-stories/Issue of September 21, 1860/story005.txt\n",
      "x liberator-stories/Issue of July 01, 1853/\n",
      "x liberator-stories/Issue of July 01, 1853/story000.txt\n",
      "x liberator-stories/Issue of July 01, 1853/story008.txt\n",
      "x liberator-stories/Issue of July 01, 1853/story003.txt\n",
      "x liberator-stories/Issue of July 01, 1853/story004.txt\n",
      "x liberator-stories/Issue of July 01, 1853/story006.txt\n",
      "x liberator-stories/Issue of July 01, 1853/story001.txt\n",
      "x liberator-stories/Issue of July 01, 1853/story007.txt\n",
      "x liberator-stories/Issue of July 01, 1853/story002.txt\n",
      "x liberator-stories/Issue of July 01, 1853/story009.txt\n",
      "x liberator-stories/Issue of July 01, 1853/story005.txt\n",
      "x liberator-stories/Issue of April 21, 1865/\n",
      "x liberator-stories/Issue of April 21, 1865/story000.txt\n",
      "x liberator-stories/Issue of April 21, 1865/story008.txt\n",
      "x liberator-stories/Issue of April 21, 1865/story003.txt\n",
      "x liberator-stories/Issue of April 21, 1865/story004.txt\n",
      "x liberator-stories/Issue of April 21, 1865/story006.txt\n",
      "x liberator-stories/Issue of April 21, 1865/story001.txt\n",
      "x liberator-stories/Issue of April 21, 1865/story007.txt\n",
      "x liberator-stories/Issue of April 21, 1865/story002.txt\n",
      "x liberator-stories/Issue of April 21, 1865/story009.txt\n",
      "x liberator-stories/Issue of April 21, 1865/story005.txt\n",
      "x liberator-stories/Issue of June 11, 1847/\n",
      "x liberator-stories/Issue of June 11, 1847/story000.txt\n",
      "x liberator-stories/Issue of June 11, 1847/story008.txt\n",
      "x liberator-stories/Issue of June 11, 1847/story003.txt\n",
      "x liberator-stories/Issue of June 11, 1847/story004.txt\n",
      "x liberator-stories/Issue of June 11, 1847/story006.txt\n",
      "x liberator-stories/Issue of June 11, 1847/story001.txt\n",
      "x liberator-stories/Issue of June 11, 1847/story007.txt\n",
      "x liberator-stories/Issue of June 11, 1847/story002.txt\n",
      "x liberator-stories/Issue of June 11, 1847/story009.txt\n",
      "x liberator-stories/Issue of June 11, 1847/story005.txt\n",
      "x liberator-stories/Issue of March 01, 1861/\n",
      "x liberator-stories/Issue of March 01, 1861/story000.txt\n",
      "x liberator-stories/Issue of March 01, 1861/story008.txt\n"
     ]
    },
    {
     "name": "stdout",
     "output_type": "stream",
     "text": [
      "x liberator-stories/Issue of March 01, 1861/story003.txt\n",
      "x liberator-stories/Issue of March 01, 1861/story004.txt\n",
      "x liberator-stories/Issue of March 01, 1861/story006.txt\n",
      "x liberator-stories/Issue of March 01, 1861/story001.txt\n",
      "x liberator-stories/Issue of March 01, 1861/story007.txt\n",
      "x liberator-stories/Issue of March 01, 1861/story002.txt\n",
      "x liberator-stories/Issue of March 01, 1861/story009.txt\n",
      "x liberator-stories/Issue of March 01, 1861/story005.txt\n",
      "x liberator-stories/Issue of June 11, 1852/\n",
      "x liberator-stories/Issue of June 11, 1852/story000.txt\n",
      "x liberator-stories/Issue of June 11, 1852/story008.txt\n",
      "x liberator-stories/Issue of June 11, 1852/story003.txt\n",
      "x liberator-stories/Issue of June 11, 1852/story004.txt\n",
      "x liberator-stories/Issue of June 11, 1852/story006.txt\n",
      "x liberator-stories/Issue of June 11, 1852/story001.txt\n",
      "x liberator-stories/Issue of June 11, 1852/story007.txt\n",
      "x liberator-stories/Issue of June 11, 1852/story002.txt\n",
      "x liberator-stories/Issue of June 11, 1852/story009.txt\n",
      "x liberator-stories/Issue of June 11, 1852/story005.txt\n",
      "x liberator-stories/Issue of April 11, 1851/\n",
      "x liberator-stories/Issue of April 11, 1851/story000.txt\n",
      "x liberator-stories/Issue of April 11, 1851/story008.txt\n",
      "x liberator-stories/Issue of April 11, 1851/story003.txt\n",
      "x liberator-stories/Issue of April 11, 1851/story004.txt\n",
      "x liberator-stories/Issue of April 11, 1851/story006.txt\n",
      "x liberator-stories/Issue of April 11, 1851/story001.txt\n",
      "x liberator-stories/Issue of April 11, 1851/story007.txt\n",
      "x liberator-stories/Issue of April 11, 1851/story002.txt\n",
      "x liberator-stories/Issue of April 11, 1851/story009.txt\n",
      "x liberator-stories/Issue of April 11, 1851/story005.txt\n",
      "x liberator-stories/Issue of November 11, 1859/\n",
      "x liberator-stories/Issue of November 11, 1859/story000.txt\n",
      "x liberator-stories/Issue of November 11, 1859/story008.txt\n",
      "x liberator-stories/Issue of November 11, 1859/story003.txt\n",
      "x liberator-stories/Issue of November 11, 1859/story004.txt\n",
      "x liberator-stories/Issue of November 11, 1859/story006.txt\n",
      "x liberator-stories/Issue of November 11, 1859/story001.txt\n",
      "x liberator-stories/Issue of November 11, 1859/story007.txt\n",
      "x liberator-stories/Issue of November 11, 1859/story002.txt\n",
      "x liberator-stories/Issue of November 11, 1859/story009.txt\n",
      "x liberator-stories/Issue of November 11, 1859/story005.txt\n",
      "x liberator-stories/Issue of December 31, 1847/\n",
      "x liberator-stories/Issue of December 31, 1847/story000.txt\n",
      "x liberator-stories/Issue of December 31, 1847/story008.txt\n",
      "x liberator-stories/Issue of December 31, 1847/story003.txt\n",
      "x liberator-stories/Issue of December 31, 1847/story004.txt\n",
      "x liberator-stories/Issue of December 31, 1847/story006.txt\n",
      "x liberator-stories/Issue of December 31, 1847/story001.txt\n",
      "x liberator-stories/Issue of December 31, 1847/story007.txt\n",
      "x liberator-stories/Issue of December 31, 1847/story002.txt\n",
      "x liberator-stories/Issue of December 31, 1847/story009.txt\n",
      "x liberator-stories/Issue of December 31, 1847/story005.txt\n",
      "x liberator-stories/Issue of December 31, 1859/\n",
      "x liberator-stories/Issue of December 31, 1859/story000.txt\n",
      "x liberator-stories/Issue of December 31, 1859/story008.txt\n",
      "x liberator-stories/Issue of December 31, 1859/story003.txt\n",
      "x liberator-stories/Issue of December 31, 1859/story004.txt\n",
      "x liberator-stories/Issue of December 31, 1859/story006.txt\n",
      "x liberator-stories/Issue of December 31, 1859/story001.txt\n",
      "x liberator-stories/Issue of December 31, 1859/story007.txt\n",
      "x liberator-stories/Issue of December 31, 1859/story002.txt\n",
      "x liberator-stories/Issue of December 31, 1859/story009.txt\n",
      "x liberator-stories/Issue of December 31, 1859/story005.txt\n",
      "x liberator-stories/Issue of December 31, 1852/\n",
      "x liberator-stories/Issue of December 31, 1852/story000.txt\n",
      "x liberator-stories/Issue of December 31, 1852/story008.txt\n",
      "x liberator-stories/Issue of December 31, 1852/story003.txt\n",
      "x liberator-stories/Issue of December 31, 1852/story004.txt\n",
      "x liberator-stories/Issue of December 31, 1852/story006.txt\n",
      "x liberator-stories/Issue of December 31, 1852/story001.txt\n",
      "x liberator-stories/Issue of December 31, 1852/story007.txt\n",
      "x liberator-stories/Issue of December 31, 1852/story002.txt\n",
      "x liberator-stories/Issue of December 31, 1852/story009.txt\n",
      "x liberator-stories/Issue of December 31, 1852/story005.txt\n",
      "x liberator-stories/Issue of November 21, 1856/\n",
      "x liberator-stories/Issue of November 21, 1856/story000.txt\n",
      "x liberator-stories/Issue of November 21, 1856/story008.txt\n",
      "x liberator-stories/Issue of November 21, 1856/story003.txt\n",
      "x liberator-stories/Issue of November 21, 1856/story004.txt\n",
      "x liberator-stories/Issue of November 21, 1856/story006.txt\n",
      "x liberator-stories/Issue of November 21, 1856/story001.txt\n",
      "x liberator-stories/Issue of November 21, 1856/story007.txt\n",
      "x liberator-stories/Issue of November 21, 1856/story002.txt\n",
      "x liberator-stories/Issue of November 21, 1856/story009.txt\n",
      "x liberator-stories/Issue of November 21, 1856/story005.txt\n",
      "x liberator-stories/Issue of August 31, 1849/\n",
      "x liberator-stories/Issue of August 31, 1849/story000.txt\n",
      "x liberator-stories/Issue of August 31, 1849/story008.txt\n",
      "x liberator-stories/Issue of August 31, 1849/story003.txt\n",
      "x liberator-stories/Issue of August 31, 1849/story004.txt\n",
      "x liberator-stories/Issue of August 31, 1849/story006.txt\n",
      "x liberator-stories/Issue of August 31, 1849/story001.txt\n",
      "x liberator-stories/Issue of August 31, 1849/story007.txt\n",
      "x liberator-stories/Issue of August 31, 1849/story002.txt\n",
      "x liberator-stories/Issue of August 31, 1849/story009.txt\n",
      "x liberator-stories/Issue of August 31, 1849/story005.txt\n",
      "x liberator-stories/Issue of September 01, 1865/\n",
      "x liberator-stories/Issue of September 01, 1865/story000.txt\n",
      "x liberator-stories/Issue of September 01, 1865/story008.txt\n",
      "x liberator-stories/Issue of September 01, 1865/story003.txt\n",
      "x liberator-stories/Issue of September 01, 1865/story004.txt\n",
      "x liberator-stories/Issue of September 01, 1865/story006.txt\n",
      "x liberator-stories/Issue of September 01, 1865/story001.txt\n",
      "x liberator-stories/Issue of September 01, 1865/story007.txt\n",
      "x liberator-stories/Issue of September 01, 1865/story002.txt\n",
      "x liberator-stories/Issue of September 01, 1865/story009.txt\n",
      "x liberator-stories/Issue of September 01, 1865/story005.txt\n",
      "x liberator-stories/Issue of October 21, 1853/\n",
      "x liberator-stories/Issue of October 21, 1853/story000.txt\n",
      "x liberator-stories/Issue of October 21, 1853/story008.txt\n",
      "x liberator-stories/Issue of October 21, 1853/story003.txt\n",
      "x liberator-stories/Issue of October 21, 1853/story004.txt\n",
      "x liberator-stories/Issue of October 21, 1853/story006.txt\n",
      "x liberator-stories/Issue of October 21, 1853/story001.txt\n",
      "x liberator-stories/Issue of October 21, 1853/story007.txt\n",
      "x liberator-stories/Issue of October 21, 1853/story002.txt\n",
      "x liberator-stories/Issue of October 21, 1853/story009.txt\n",
      "x liberator-stories/Issue of October 21, 1853/story005.txt\n",
      "x liberator-stories/Issue of July 21, 1865/\n",
      "x liberator-stories/Issue of July 21, 1865/story000.txt\n",
      "x liberator-stories/Issue of July 21, 1865/story008.txt\n",
      "x liberator-stories/Issue of July 21, 1865/story003.txt\n",
      "x liberator-stories/Issue of July 21, 1865/story004.txt\n",
      "x liberator-stories/Issue of July 21, 1865/story006.txt\n",
      "x liberator-stories/Issue of July 21, 1865/story001.txt\n",
      "x liberator-stories/Issue of July 21, 1865/story007.txt\n",
      "x liberator-stories/Issue of July 21, 1865/story002.txt\n",
      "x liberator-stories/Issue of July 21, 1865/story009.txt\n",
      "x liberator-stories/Issue of July 21, 1865/story005.txt\n",
      "x liberator-stories/Issue of July 31, 1863/\n",
      "x liberator-stories/Issue of July 31, 1863/story000.txt\n",
      "x liberator-stories/Issue of July 31, 1863/story008.txt\n",
      "x liberator-stories/Issue of July 31, 1863/story003.txt\n",
      "x liberator-stories/Issue of July 31, 1863/story004.txt\n",
      "x liberator-stories/Issue of July 31, 1863/story006.txt\n",
      "x liberator-stories/Issue of July 31, 1863/story001.txt\n",
      "x liberator-stories/Issue of July 31, 1863/story007.txt\n",
      "x liberator-stories/Issue of July 31, 1863/story002.txt\n",
      "x liberator-stories/Issue of July 31, 1863/story009.txt\n",
      "x liberator-stories/Issue of July 31, 1863/story005.txt\n",
      "x liberator-stories/Issue of March 11, 1864/\n",
      "x liberator-stories/Issue of March 11, 1864/story000.txt\n",
      "x liberator-stories/Issue of March 11, 1864/story008.txt\n",
      "x liberator-stories/Issue of March 11, 1864/story003.txt\n",
      "x liberator-stories/Issue of March 11, 1864/story004.txt\n",
      "x liberator-stories/Issue of March 11, 1864/story006.txt\n"
     ]
    },
    {
     "name": "stdout",
     "output_type": "stream",
     "text": [
      "x liberator-stories/Issue of March 11, 1864/story001.txt\n",
      "x liberator-stories/Issue of March 11, 1864/story007.txt\n",
      "x liberator-stories/Issue of March 11, 1864/story002.txt\n",
      "x liberator-stories/Issue of March 11, 1864/story009.txt\n",
      "x liberator-stories/Issue of March 11, 1864/story005.txt\n",
      "x liberator-stories/Issue of October 21, 1864/\n",
      "x liberator-stories/Issue of October 21, 1864/story000.txt\n",
      "x liberator-stories/Issue of October 21, 1864/story008.txt\n",
      "x liberator-stories/Issue of October 21, 1864/story003.txt\n",
      "x liberator-stories/Issue of October 21, 1864/story004.txt\n",
      "x liberator-stories/Issue of October 21, 1864/story006.txt\n",
      "x liberator-stories/Issue of October 21, 1864/story001.txt\n",
      "x liberator-stories/Issue of October 21, 1864/story007.txt\n",
      "x liberator-stories/Issue of October 21, 1864/story002.txt\n",
      "x liberator-stories/Issue of October 21, 1864/story009.txt\n",
      "x liberator-stories/Issue of October 21, 1864/story005.txt\n",
      "x liberator-stories/Issue of February 11, 1848/\n",
      "x liberator-stories/Issue of February 11, 1848/story000.txt\n",
      "x liberator-stories/Issue of February 11, 1848/story008.txt\n",
      "x liberator-stories/Issue of February 11, 1848/story003.txt\n",
      "x liberator-stories/Issue of February 11, 1848/story004.txt\n",
      "x liberator-stories/Issue of February 11, 1848/story006.txt\n",
      "x liberator-stories/Issue of February 11, 1848/story001.txt\n",
      "x liberator-stories/Issue of February 11, 1848/story007.txt\n",
      "x liberator-stories/Issue of February 11, 1848/story002.txt\n",
      "x liberator-stories/Issue of February 11, 1848/story009.txt\n",
      "x liberator-stories/Issue of February 11, 1848/story005.txt\n",
      "x liberator-stories/Issue of November 01, 1851/\n",
      "x liberator-stories/Issue of November 01, 1851/story000.txt\n",
      "x liberator-stories/Issue of November 01, 1851/story008.txt\n",
      "x liberator-stories/Issue of November 01, 1851/story003.txt\n",
      "x liberator-stories/Issue of November 01, 1851/story004.txt\n",
      "x liberator-stories/Issue of November 01, 1851/story006.txt\n",
      "x liberator-stories/Issue of November 01, 1851/story001.txt\n",
      "x liberator-stories/Issue of November 01, 1851/story007.txt\n",
      "x liberator-stories/Issue of November 01, 1851/story002.txt\n",
      "x liberator-stories/Issue of November 01, 1851/story009.txt\n",
      "x liberator-stories/Issue of November 01, 1851/story005.txt\n",
      "x liberator-stories/Issue of May 11, 1855/\n",
      "x liberator-stories/Issue of May 11, 1855/story000.txt\n",
      "x liberator-stories/Issue of May 11, 1855/story008.txt\n",
      "x liberator-stories/Issue of May 11, 1855/story003.txt\n",
      "x liberator-stories/Issue of May 11, 1855/story004.txt\n",
      "x liberator-stories/Issue of May 11, 1855/story006.txt\n",
      "x liberator-stories/Issue of May 11, 1855/story001.txt\n",
      "x liberator-stories/Issue of May 11, 1855/story007.txt\n",
      "x liberator-stories/Issue of May 11, 1855/story002.txt\n",
      "x liberator-stories/Issue of May 11, 1855/story009.txt\n",
      "x liberator-stories/Issue of May 11, 1855/story005.txt\n",
      "x liberator-stories/Issue of February 01, 1861/\n",
      "x liberator-stories/Issue of February 01, 1861/story000.txt\n",
      "x liberator-stories/Issue of February 01, 1861/story008.txt\n",
      "x liberator-stories/Issue of February 01, 1861/story003.txt\n",
      "x liberator-stories/Issue of February 01, 1861/story004.txt\n",
      "x liberator-stories/Issue of February 01, 1861/story006.txt\n",
      "x liberator-stories/Issue of February 01, 1861/story001.txt\n",
      "x liberator-stories/Issue of February 01, 1861/story007.txt\n",
      "x liberator-stories/Issue of February 01, 1861/story002.txt\n",
      "x liberator-stories/Issue of February 01, 1861/story009.txt\n",
      "x liberator-stories/Issue of February 01, 1861/story005.txt\n",
      "x liberator-stories/Issue of May 01, 1857/\n",
      "x liberator-stories/Issue of May 01, 1857/story000.txt\n",
      "x liberator-stories/Issue of May 01, 1857/story008.txt\n",
      "x liberator-stories/Issue of May 01, 1857/story003.txt\n",
      "x liberator-stories/Issue of May 01, 1857/story004.txt\n",
      "x liberator-stories/Issue of May 01, 1857/story006.txt\n",
      "x liberator-stories/Issue of May 01, 1857/story001.txt\n",
      "x liberator-stories/Issue of May 01, 1857/story007.txt\n",
      "x liberator-stories/Issue of May 01, 1857/story002.txt\n",
      "x liberator-stories/Issue of May 01, 1857/story009.txt\n",
      "x liberator-stories/Issue of May 01, 1857/story005.txt\n",
      "x liberator-stories/Issue of January 31, 1862/\n",
      "x liberator-stories/Issue of January 31, 1862/story000.txt\n",
      "x liberator-stories/Issue of January 31, 1862/story008.txt\n",
      "x liberator-stories/Issue of January 31, 1862/story003.txt\n",
      "x liberator-stories/Issue of January 31, 1862/story004.txt\n",
      "x liberator-stories/Issue of January 31, 1862/story006.txt\n",
      "x liberator-stories/Issue of January 31, 1862/story001.txt\n",
      "x liberator-stories/Issue of January 31, 1862/story007.txt\n",
      "x liberator-stories/Issue of January 31, 1862/story002.txt\n",
      "x liberator-stories/Issue of January 31, 1862/story009.txt\n",
      "x liberator-stories/Issue of January 31, 1862/story005.txt\n",
      "x liberator-stories/Issue of April 21, 1854/\n",
      "x liberator-stories/Issue of April 21, 1854/story000.txt\n",
      "x liberator-stories/Issue of April 21, 1854/story008.txt\n",
      "x liberator-stories/Issue of April 21, 1854/story003.txt\n",
      "x liberator-stories/Issue of April 21, 1854/story004.txt\n",
      "x liberator-stories/Issue of April 21, 1854/story006.txt\n",
      "x liberator-stories/Issue of April 21, 1854/story001.txt\n",
      "x liberator-stories/Issue of April 21, 1854/story007.txt\n",
      "x liberator-stories/Issue of April 21, 1854/story002.txt\n",
      "x liberator-stories/Issue of April 21, 1854/story009.txt\n",
      "x liberator-stories/Issue of April 21, 1854/story005.txt\n",
      "x liberator-stories/Issue of September 21, 1849/\n",
      "x liberator-stories/Issue of September 21, 1849/story000.txt\n",
      "x liberator-stories/Issue of September 21, 1849/story008.txt\n",
      "x liberator-stories/Issue of September 21, 1849/story003.txt\n",
      "x liberator-stories/Issue of September 21, 1849/story004.txt\n",
      "x liberator-stories/Issue of September 21, 1849/story006.txt\n",
      "x liberator-stories/Issue of September 21, 1849/story001.txt\n",
      "x liberator-stories/Issue of September 21, 1849/story007.txt\n",
      "x liberator-stories/Issue of September 21, 1849/story002.txt\n",
      "x liberator-stories/Issue of September 21, 1849/story009.txt\n",
      "x liberator-stories/Issue of September 21, 1849/story005.txt\n",
      "x liberator-stories/Issue of January 01, 1864/\n",
      "x liberator-stories/Issue of January 01, 1864/story000.txt\n",
      "x liberator-stories/Issue of January 01, 1864/story008.txt\n",
      "x liberator-stories/Issue of January 01, 1864/story003.txt\n",
      "x liberator-stories/Issue of January 01, 1864/story004.txt\n",
      "x liberator-stories/Issue of January 01, 1864/story006.txt\n",
      "x liberator-stories/Issue of January 01, 1864/story001.txt\n",
      "x liberator-stories/Issue of January 01, 1864/story007.txt\n",
      "x liberator-stories/Issue of January 01, 1864/story002.txt\n",
      "x liberator-stories/Issue of January 01, 1864/story009.txt\n",
      "x liberator-stories/Issue of January 01, 1864/story005.txt\n",
      "x liberator-stories/Issue of August 01, 1862/\n",
      "x liberator-stories/Issue of August 01, 1862/story000.txt\n",
      "x liberator-stories/Issue of August 01, 1862/story008.txt\n",
      "x liberator-stories/Issue of August 01, 1862/story003.txt\n",
      "x liberator-stories/Issue of August 01, 1862/story004.txt\n",
      "x liberator-stories/Issue of August 01, 1862/story006.txt\n",
      "x liberator-stories/Issue of August 01, 1862/story001.txt\n",
      "x liberator-stories/Issue of August 01, 1862/story007.txt\n",
      "x liberator-stories/Issue of August 01, 1862/story002.txt\n",
      "x liberator-stories/Issue of August 01, 1862/story009.txt\n",
      "x liberator-stories/Issue of August 01, 1862/story005.txt\n",
      "x liberator-stories/Issue of January 21, 1848/\n",
      "x liberator-stories/Issue of January 21, 1848/story000.txt\n",
      "x liberator-stories/Issue of January 21, 1848/story008.txt\n",
      "x liberator-stories/Issue of January 21, 1848/story003.txt\n",
      "x liberator-stories/Issue of January 21, 1848/story004.txt\n",
      "x liberator-stories/Issue of January 21, 1848/story006.txt\n",
      "x liberator-stories/Issue of January 21, 1848/story001.txt\n",
      "x liberator-stories/Issue of January 21, 1848/story007.txt\n",
      "x liberator-stories/Issue of January 21, 1848/story002.txt\n",
      "x liberator-stories/Issue of January 21, 1848/story009.txt\n",
      "x liberator-stories/Issue of January 21, 1848/story005.txt\n",
      "x liberator-stories/Issue of March 31, 1848/\n",
      "x liberator-stories/Issue of March 31, 1848/story000.txt\n",
      "x liberator-stories/Issue of March 31, 1848/story008.txt\n",
      "x liberator-stories/Issue of March 31, 1848/story003.txt\n",
      "x liberator-stories/Issue of March 31, 1848/story004.txt\n",
      "x liberator-stories/Issue of March 31, 1848/story006.txt\n",
      "x liberator-stories/Issue of March 31, 1848/story001.txt\n",
      "x liberator-stories/Issue of March 31, 1848/story007.txt\n",
      "x liberator-stories/Issue of March 31, 1848/story002.txt\n"
     ]
    },
    {
     "name": "stdout",
     "output_type": "stream",
     "text": [
      "x liberator-stories/Issue of March 31, 1848/story009.txt\n",
      "x liberator-stories/Issue of March 31, 1848/story005.txt\n",
      "x liberator-stories/Issue of July 01, 1859/\n",
      "x liberator-stories/Issue of July 01, 1859/story000.txt\n",
      "x liberator-stories/Issue of July 01, 1859/story008.txt\n",
      "x liberator-stories/Issue of July 01, 1859/story003.txt\n",
      "x liberator-stories/Issue of July 01, 1859/story004.txt\n",
      "x liberator-stories/Issue of July 01, 1859/story006.txt\n",
      "x liberator-stories/Issue of July 01, 1859/story001.txt\n",
      "x liberator-stories/Issue of July 01, 1859/story007.txt\n",
      "x liberator-stories/Issue of July 01, 1859/story002.txt\n",
      "x liberator-stories/Issue of July 01, 1859/story009.txt\n",
      "x liberator-stories/Issue of July 01, 1859/story005.txt\n",
      "x liberator-stories/Issue of December 01, 1865/\n",
      "x liberator-stories/Issue of December 01, 1865/story000.txt\n",
      "x liberator-stories/Issue of December 01, 1865/story008.txt\n",
      "x liberator-stories/Issue of December 01, 1865/story003.txt\n",
      "x liberator-stories/Issue of December 01, 1865/story004.txt\n",
      "x liberator-stories/Issue of December 01, 1865/story006.txt\n",
      "x liberator-stories/Issue of December 01, 1865/story001.txt\n",
      "x liberator-stories/Issue of December 01, 1865/story007.txt\n",
      "x liberator-stories/Issue of December 01, 1865/story002.txt\n",
      "x liberator-stories/Issue of December 01, 1865/story009.txt\n",
      "x liberator-stories/Issue of December 01, 1865/story005.txt\n",
      "x liberator-stories/Issue of October 11, 1850/\n",
      "x liberator-stories/Issue of October 11, 1850/story000.txt\n",
      "x liberator-stories/Issue of October 11, 1850/story008.txt\n",
      "x liberator-stories/Issue of October 11, 1850/story003.txt\n",
      "x liberator-stories/Issue of October 11, 1850/story004.txt\n",
      "x liberator-stories/Issue of October 11, 1850/story006.txt\n",
      "x liberator-stories/Issue of October 11, 1850/story001.txt\n",
      "x liberator-stories/Issue of October 11, 1850/story007.txt\n",
      "x liberator-stories/Issue of October 11, 1850/story002.txt\n",
      "x liberator-stories/Issue of October 11, 1850/story009.txt\n",
      "x liberator-stories/Issue of October 11, 1850/story005.txt\n",
      "x liberator-stories/Issue of November 21, 1863/\n",
      "x liberator-stories/Issue of November 21, 1863/story000.txt\n",
      "x liberator-stories/Issue of November 21, 1863/story008.txt\n",
      "x liberator-stories/Issue of November 21, 1863/story003.txt\n",
      "x liberator-stories/Issue of November 21, 1863/story004.txt\n",
      "x liberator-stories/Issue of November 21, 1863/story006.txt\n",
      "x liberator-stories/Issue of November 21, 1863/story001.txt\n",
      "x liberator-stories/Issue of November 21, 1863/story007.txt\n",
      "x liberator-stories/Issue of November 21, 1863/story002.txt\n",
      "x liberator-stories/Issue of November 21, 1863/story009.txt\n",
      "x liberator-stories/Issue of November 21, 1863/story005.txt\n",
      "x liberator-stories/Issue of July 11, 1862/\n",
      "x liberator-stories/Issue of July 11, 1862/story000.txt\n",
      "x liberator-stories/Issue of July 11, 1862/story008.txt\n",
      "x liberator-stories/Issue of July 11, 1862/story003.txt\n",
      "x liberator-stories/Issue of July 11, 1862/story004.txt\n",
      "x liberator-stories/Issue of July 11, 1862/story006.txt\n",
      "x liberator-stories/Issue of July 11, 1862/story001.txt\n",
      "x liberator-stories/Issue of July 11, 1862/story007.txt\n",
      "x liberator-stories/Issue of July 11, 1862/story002.txt\n",
      "x liberator-stories/Issue of July 11, 1862/story009.txt\n",
      "x liberator-stories/Issue of July 11, 1862/story005.txt\n",
      "x liberator-stories/Issue of July 11, 1851/\n",
      "x liberator-stories/Issue of July 11, 1851/story000.txt\n",
      "x liberator-stories/Issue of July 11, 1851/story008.txt\n",
      "x liberator-stories/Issue of July 11, 1851/story003.txt\n",
      "x liberator-stories/Issue of July 11, 1851/story004.txt\n",
      "x liberator-stories/Issue of July 11, 1851/story006.txt\n",
      "x liberator-stories/Issue of July 11, 1851/story001.txt\n",
      "x liberator-stories/Issue of July 11, 1851/story007.txt\n",
      "x liberator-stories/Issue of July 11, 1851/story002.txt\n",
      "x liberator-stories/Issue of July 11, 1851/story009.txt\n",
      "x liberator-stories/Issue of July 11, 1851/story005.txt\n",
      "x liberator-stories/Issue of December 31, 1858/\n",
      "x liberator-stories/Issue of December 31, 1858/story000.txt\n",
      "x liberator-stories/Issue of December 31, 1858/story008.txt\n",
      "x liberator-stories/Issue of December 31, 1858/story003.txt\n",
      "x liberator-stories/Issue of December 31, 1858/story004.txt\n",
      "x liberator-stories/Issue of December 31, 1858/story006.txt\n",
      "x liberator-stories/Issue of December 31, 1858/story001.txt\n",
      "x liberator-stories/Issue of December 31, 1858/story007.txt\n",
      "x liberator-stories/Issue of December 31, 1858/story002.txt\n",
      "x liberator-stories/Issue of December 31, 1858/story009.txt\n",
      "x liberator-stories/Issue of December 31, 1858/story005.txt\n",
      "x liberator-stories/Issue of June 11, 1858/\n",
      "x liberator-stories/Issue of June 11, 1858/story000.txt\n",
      "x liberator-stories/Issue of June 11, 1858/story008.txt\n",
      "x liberator-stories/Issue of June 11, 1858/story003.txt\n",
      "x liberator-stories/Issue of June 11, 1858/story004.txt\n",
      "x liberator-stories/Issue of June 11, 1858/story006.txt\n",
      "x liberator-stories/Issue of June 11, 1858/story001.txt\n",
      "x liberator-stories/Issue of June 11, 1858/story007.txt\n",
      "x liberator-stories/Issue of June 11, 1858/story002.txt\n",
      "x liberator-stories/Issue of June 11, 1858/story009.txt\n",
      "x liberator-stories/Issue of June 11, 1858/story005.txt\n",
      "x liberator-stories/Issue of February 01, 1850/\n",
      "x liberator-stories/Issue of February 01, 1850/story000.txt\n",
      "x liberator-stories/Issue of February 01, 1850/story008.txt\n",
      "x liberator-stories/Issue of February 01, 1850/story003.txt\n",
      "x liberator-stories/Issue of February 01, 1850/story004.txt\n",
      "x liberator-stories/Issue of February 01, 1850/story006.txt\n",
      "x liberator-stories/Issue of February 01, 1850/story001.txt\n",
      "x liberator-stories/Issue of February 01, 1850/story007.txt\n",
      "x liberator-stories/Issue of February 01, 1850/story002.txt\n",
      "x liberator-stories/Issue of February 01, 1850/story009.txt\n",
      "x liberator-stories/Issue of February 01, 1850/story005.txt\n",
      "x liberator-stories/Issue of May 21, 1858/\n",
      "x liberator-stories/Issue of May 21, 1858/story000.txt\n",
      "x liberator-stories/Issue of May 21, 1858/story008.txt\n",
      "x liberator-stories/Issue of May 21, 1858/story003.txt\n",
      "x liberator-stories/Issue of May 21, 1858/story004.txt\n",
      "x liberator-stories/Issue of May 21, 1858/story006.txt\n",
      "x liberator-stories/Issue of May 21, 1858/story001.txt\n",
      "x liberator-stories/Issue of May 21, 1858/story007.txt\n",
      "x liberator-stories/Issue of May 21, 1858/story002.txt\n",
      "x liberator-stories/Issue of May 21, 1858/story009.txt\n",
      "x liberator-stories/Issue of May 21, 1858/story005.txt\n",
      "x liberator-stories/Issue of August 21, 1863/\n",
      "x liberator-stories/Issue of August 21, 1863/story000.txt\n",
      "x liberator-stories/Issue of August 21, 1863/story008.txt\n",
      "x liberator-stories/Issue of August 21, 1863/story003.txt\n",
      "x liberator-stories/Issue of August 21, 1863/story004.txt\n",
      "x liberator-stories/Issue of August 21, 1863/story006.txt\n",
      "x liberator-stories/Issue of August 21, 1863/story001.txt\n",
      "x liberator-stories/Issue of August 21, 1863/story007.txt\n",
      "x liberator-stories/Issue of August 21, 1863/story002.txt\n",
      "x liberator-stories/Issue of August 21, 1863/story009.txt\n",
      "x liberator-stories/Issue of August 21, 1863/story005.txt\n",
      "x liberator-stories/Issue of January 11, 1856/\n",
      "x liberator-stories/Issue of January 11, 1856/story000.txt\n",
      "x liberator-stories/Issue of January 11, 1856/story008.txt\n",
      "x liberator-stories/Issue of January 11, 1856/story003.txt\n",
      "x liberator-stories/Issue of January 11, 1856/story004.txt\n",
      "x liberator-stories/Issue of January 11, 1856/story006.txt\n",
      "x liberator-stories/Issue of January 11, 1856/story001.txt\n",
      "x liberator-stories/Issue of January 11, 1856/story007.txt\n",
      "x liberator-stories/Issue of January 11, 1856/story002.txt\n",
      "x liberator-stories/Issue of January 11, 1856/story009.txt\n",
      "x liberator-stories/Issue of January 11, 1856/story005.txt\n",
      "x liberator-stories/Issue of May 21, 1852/\n",
      "x liberator-stories/Issue of May 21, 1852/story000.txt\n",
      "x liberator-stories/Issue of May 21, 1852/story008.txt\n",
      "x liberator-stories/Issue of May 21, 1852/story003.txt\n",
      "x liberator-stories/Issue of May 21, 1852/story004.txt\n",
      "x liberator-stories/Issue of May 21, 1852/story006.txt\n",
      "x liberator-stories/Issue of May 21, 1852/story001.txt\n",
      "x liberator-stories/Issue of May 21, 1852/story007.txt\n",
      "x liberator-stories/Issue of May 21, 1852/story002.txt\n",
      "x liberator-stories/Issue of May 21, 1852/story009.txt\n",
      "x liberator-stories/Issue of May 21, 1852/story005.txt\n",
      "x liberator-stories/Issue of March 21, 1862/\n",
      "x liberator-stories/Issue of March 21, 1862/story000.txt\n",
      "x liberator-stories/Issue of March 21, 1862/story008.txt\n"
     ]
    },
    {
     "name": "stdout",
     "output_type": "stream",
     "text": [
      "x liberator-stories/Issue of March 21, 1862/story003.txt\n",
      "x liberator-stories/Issue of March 21, 1862/story004.txt\n",
      "x liberator-stories/Issue of March 21, 1862/story006.txt\n",
      "x liberator-stories/Issue of March 21, 1862/story001.txt\n",
      "x liberator-stories/Issue of March 21, 1862/story007.txt\n",
      "x liberator-stories/Issue of March 21, 1862/story002.txt\n",
      "x liberator-stories/Issue of March 21, 1862/story009.txt\n",
      "x liberator-stories/Issue of March 21, 1862/story005.txt\n",
      "x liberator-stories/Issue of December 21, 1849/\n",
      "x liberator-stories/Issue of December 21, 1849/story000.txt\n",
      "x liberator-stories/Issue of December 21, 1849/story008.txt\n",
      "x liberator-stories/Issue of December 21, 1849/story003.txt\n",
      "x liberator-stories/Issue of December 21, 1849/story004.txt\n",
      "x liberator-stories/Issue of December 21, 1849/story006.txt\n",
      "x liberator-stories/Issue of December 21, 1849/story001.txt\n",
      "x liberator-stories/Issue of December 21, 1849/story007.txt\n",
      "x liberator-stories/Issue of December 21, 1849/story002.txt\n",
      "x liberator-stories/Issue of December 21, 1849/story009.txt\n",
      "x liberator-stories/Issue of December 21, 1849/story005.txt\n",
      "x liberator-stories/Issue of January 01, 1858/\n",
      "x liberator-stories/Issue of January 01, 1858/story000.txt\n",
      "x liberator-stories/Issue of January 01, 1858/story008.txt\n",
      "x liberator-stories/Issue of January 01, 1858/story003.txt\n",
      "x liberator-stories/Issue of January 01, 1858/story004.txt\n",
      "x liberator-stories/Issue of January 01, 1858/story006.txt\n",
      "x liberator-stories/Issue of January 01, 1858/story001.txt\n",
      "x liberator-stories/Issue of January 01, 1858/story007.txt\n",
      "x liberator-stories/Issue of January 01, 1858/story002.txt\n",
      "x liberator-stories/Issue of January 01, 1858/story009.txt\n",
      "x liberator-stories/Issue of January 01, 1858/story005.txt\n",
      "x liberator-stories/Issue of January 31, 1851/\n",
      "x liberator-stories/Issue of January 31, 1851/story000.txt\n",
      "x liberator-stories/Issue of January 31, 1851/story008.txt\n",
      "x liberator-stories/Issue of January 31, 1851/story003.txt\n",
      "x liberator-stories/Issue of January 31, 1851/story004.txt\n",
      "x liberator-stories/Issue of January 31, 1851/story006.txt\n",
      "x liberator-stories/Issue of January 31, 1851/story001.txt\n",
      "x liberator-stories/Issue of January 31, 1851/story007.txt\n",
      "x liberator-stories/Issue of January 31, 1851/story002.txt\n",
      "x liberator-stories/Issue of January 31, 1851/story009.txt\n",
      "x liberator-stories/Issue of January 31, 1851/story005.txt\n",
      "x liberator-stories/Issue of April 11, 1862/\n",
      "x liberator-stories/Issue of April 11, 1862/story000.txt\n",
      "x liberator-stories/Issue of April 11, 1862/story008.txt\n",
      "x liberator-stories/Issue of April 11, 1862/story003.txt\n",
      "x liberator-stories/Issue of April 11, 1862/story004.txt\n",
      "x liberator-stories/Issue of April 11, 1862/story006.txt\n",
      "x liberator-stories/Issue of April 11, 1862/story001.txt\n",
      "x liberator-stories/Issue of April 11, 1862/story007.txt\n",
      "x liberator-stories/Issue of April 11, 1862/story002.txt\n",
      "x liberator-stories/Issue of April 11, 1862/story009.txt\n",
      "x liberator-stories/Issue of April 11, 1862/story005.txt\n",
      "x liberator-stories/Issue of November 11, 1853/\n",
      "x liberator-stories/Issue of November 11, 1853/story000.txt\n",
      "x liberator-stories/Issue of November 11, 1853/story008.txt\n",
      "x liberator-stories/Issue of November 11, 1853/story003.txt\n",
      "x liberator-stories/Issue of November 11, 1853/story004.txt\n",
      "x liberator-stories/Issue of November 11, 1853/story006.txt\n",
      "x liberator-stories/Issue of November 11, 1853/story001.txt\n",
      "x liberator-stories/Issue of November 11, 1853/story007.txt\n",
      "x liberator-stories/Issue of November 11, 1853/story002.txt\n",
      "x liberator-stories/Issue of November 11, 1853/story009.txt\n",
      "x liberator-stories/Issue of November 11, 1853/story005.txt\n",
      "x liberator-stories/Issue of April 11, 1856/\n",
      "x liberator-stories/Issue of April 11, 1856/story000.txt\n",
      "x liberator-stories/Issue of April 11, 1856/story008.txt\n",
      "x liberator-stories/Issue of April 11, 1856/story003.txt\n",
      "x liberator-stories/Issue of April 11, 1856/story004.txt\n",
      "x liberator-stories/Issue of April 11, 1856/story006.txt\n",
      "x liberator-stories/Issue of April 11, 1856/story001.txt\n",
      "x liberator-stories/Issue of April 11, 1856/story007.txt\n",
      "x liberator-stories/Issue of April 11, 1856/story002.txt\n",
      "x liberator-stories/Issue of April 11, 1856/story009.txt\n",
      "x liberator-stories/Issue of April 11, 1856/story005.txt\n",
      "x liberator-stories/Issue of January 21, 1853/\n",
      "x liberator-stories/Issue of January 21, 1853/story000.txt\n",
      "x liberator-stories/Issue of January 21, 1853/story008.txt\n",
      "x liberator-stories/Issue of January 21, 1853/story003.txt\n",
      "x liberator-stories/Issue of January 21, 1853/story004.txt\n",
      "x liberator-stories/Issue of January 21, 1853/story006.txt\n",
      "x liberator-stories/Issue of January 21, 1853/story001.txt\n",
      "x liberator-stories/Issue of January 21, 1853/story007.txt\n",
      "x liberator-stories/Issue of January 21, 1853/story002.txt\n",
      "x liberator-stories/Issue of January 21, 1853/story009.txt\n",
      "x liberator-stories/Issue of January 21, 1853/story005.txt\n",
      "x liberator-stories/Issue of August 01, 1851/\n",
      "x liberator-stories/Issue of August 01, 1851/story000.txt\n",
      "x liberator-stories/Issue of August 01, 1851/story008.txt\n",
      "x liberator-stories/Issue of August 01, 1851/story003.txt\n",
      "x liberator-stories/Issue of August 01, 1851/story004.txt\n",
      "x liberator-stories/Issue of August 01, 1851/story006.txt\n",
      "x liberator-stories/Issue of August 01, 1851/story001.txt\n",
      "x liberator-stories/Issue of August 01, 1851/story007.txt\n",
      "x liberator-stories/Issue of August 01, 1851/story002.txt\n",
      "x liberator-stories/Issue of August 01, 1851/story009.txt\n",
      "x liberator-stories/Issue of August 01, 1851/story005.txt\n",
      "x liberator-stories/Issue of October 11, 1861/\n",
      "x liberator-stories/Issue of October 11, 1861/story000.txt\n",
      "x liberator-stories/Issue of October 11, 1861/story008.txt\n",
      "x liberator-stories/Issue of October 11, 1861/story003.txt\n",
      "x liberator-stories/Issue of October 11, 1861/story004.txt\n",
      "x liberator-stories/Issue of October 11, 1861/story006.txt\n",
      "x liberator-stories/Issue of October 11, 1861/story001.txt\n",
      "x liberator-stories/Issue of October 11, 1861/story007.txt\n",
      "x liberator-stories/Issue of October 11, 1861/story002.txt\n",
      "x liberator-stories/Issue of October 11, 1861/story009.txt\n",
      "x liberator-stories/Issue of October 11, 1861/story005.txt\n",
      "x liberator-stories/Issue of January 01, 1847/\n",
      "x liberator-stories/Issue of January 01, 1847/story000.txt\n",
      "x liberator-stories/Issue of January 01, 1847/story008.txt\n",
      "x liberator-stories/Issue of January 01, 1847/story003.txt\n",
      "x liberator-stories/Issue of January 01, 1847/story004.txt\n",
      "x liberator-stories/Issue of January 01, 1847/story006.txt\n",
      "x liberator-stories/Issue of January 01, 1847/story001.txt\n",
      "x liberator-stories/Issue of January 01, 1847/story007.txt\n",
      "x liberator-stories/Issue of January 01, 1847/story002.txt\n",
      "x liberator-stories/Issue of January 01, 1847/story009.txt\n",
      "x liberator-stories/Issue of January 01, 1847/story005.txt\n",
      "x liberator-stories/Issue of August 31, 1855/\n",
      "x liberator-stories/Issue of August 31, 1855/story000.txt\n",
      "x liberator-stories/Issue of August 31, 1855/story008.txt\n",
      "x liberator-stories/Issue of August 31, 1855/story003.txt\n",
      "x liberator-stories/Issue of August 31, 1855/story004.txt\n",
      "x liberator-stories/Issue of August 31, 1855/story006.txt\n",
      "x liberator-stories/Issue of August 31, 1855/story001.txt\n",
      "x liberator-stories/Issue of August 31, 1855/story007.txt\n",
      "x liberator-stories/Issue of August 31, 1855/story002.txt\n",
      "x liberator-stories/Issue of August 31, 1855/story009.txt\n",
      "x liberator-stories/Issue of August 31, 1855/story005.txt\n",
      "x liberator-stories/Issue of March 21, 1856/\n",
      "x liberator-stories/Issue of March 21, 1856/story000.txt\n",
      "x liberator-stories/Issue of March 21, 1856/story008.txt\n",
      "x liberator-stories/Issue of March 21, 1856/story003.txt\n",
      "x liberator-stories/Issue of March 21, 1856/story004.txt\n",
      "x liberator-stories/Issue of March 21, 1856/story006.txt\n",
      "x liberator-stories/Issue of March 21, 1856/story001.txt\n",
      "x liberator-stories/Issue of March 21, 1856/story007.txt\n",
      "x liberator-stories/Issue of March 21, 1856/story002.txt\n",
      "x liberator-stories/Issue of March 21, 1856/story009.txt\n",
      "x liberator-stories/Issue of March 21, 1856/story005.txt\n",
      "x liberator-stories/Issue of May 01, 1846/\n",
      "x liberator-stories/Issue of May 01, 1846/story000.txt\n",
      "x liberator-stories/Issue of May 01, 1846/story008.txt\n",
      "x liberator-stories/Issue of May 01, 1846/story003.txt\n"
     ]
    },
    {
     "name": "stdout",
     "output_type": "stream",
     "text": [
      "x liberator-stories/Issue of May 01, 1846/story004.txt\n",
      "x liberator-stories/Issue of May 01, 1846/story006.txt\n",
      "x liberator-stories/Issue of May 01, 1846/story001.txt\n",
      "x liberator-stories/Issue of May 01, 1846/story007.txt\n",
      "x liberator-stories/Issue of May 01, 1846/story002.txt\n",
      "x liberator-stories/Issue of May 01, 1846/story009.txt\n",
      "x liberator-stories/Issue of May 01, 1846/story005.txt\n",
      "x liberator-stories/Issue of December 21, 1855/\n",
      "x liberator-stories/Issue of December 21, 1855/story000.txt\n",
      "x liberator-stories/Issue of December 21, 1855/story008.txt\n",
      "x liberator-stories/Issue of December 21, 1855/story003.txt\n",
      "x liberator-stories/Issue of December 21, 1855/story004.txt\n",
      "x liberator-stories/Issue of December 21, 1855/story006.txt\n",
      "x liberator-stories/Issue of December 21, 1855/story001.txt\n",
      "x liberator-stories/Issue of December 21, 1855/story007.txt\n",
      "x liberator-stories/Issue of December 21, 1855/story002.txt\n",
      "x liberator-stories/Issue of December 21, 1855/story009.txt\n",
      "x liberator-stories/Issue of December 21, 1855/story005.txt\n",
      "x liberator-stories/Issue of November 21, 1851/\n",
      "x liberator-stories/Issue of November 21, 1851/story000.txt\n",
      "x liberator-stories/Issue of November 21, 1851/story008.txt\n",
      "x liberator-stories/Issue of November 21, 1851/story003.txt\n",
      "x liberator-stories/Issue of November 21, 1851/story004.txt\n",
      "x liberator-stories/Issue of November 21, 1851/story006.txt\n",
      "x liberator-stories/Issue of November 21, 1851/story001.txt\n",
      "x liberator-stories/Issue of November 21, 1851/story007.txt\n",
      "x liberator-stories/Issue of November 21, 1851/story002.txt\n",
      "x liberator-stories/Issue of November 21, 1851/story009.txt\n",
      "x liberator-stories/Issue of November 21, 1851/story005.txt\n",
      "x liberator-stories/Issue of December 01, 1848/\n",
      "x liberator-stories/Issue of December 01, 1848/story000.txt\n",
      "x liberator-stories/Issue of December 01, 1848/story008.txt\n",
      "x liberator-stories/Issue of December 01, 1848/story003.txt\n",
      "x liberator-stories/Issue of December 01, 1848/story004.txt\n",
      "x liberator-stories/Issue of December 01, 1848/story006.txt\n",
      "x liberator-stories/Issue of December 01, 1848/story001.txt\n",
      "x liberator-stories/Issue of December 01, 1848/story007.txt\n",
      "x liberator-stories/Issue of December 01, 1848/story002.txt\n",
      "x liberator-stories/Issue of December 01, 1848/story009.txt\n",
      "x liberator-stories/Issue of December 01, 1848/story005.txt\n",
      "x liberator-stories/Issue of February 21, 1862/\n",
      "x liberator-stories/Issue of February 21, 1862/story000.txt\n",
      "x liberator-stories/Issue of February 21, 1862/story008.txt\n",
      "x liberator-stories/Issue of February 21, 1862/story003.txt\n",
      "x liberator-stories/Issue of February 21, 1862/story004.txt\n",
      "x liberator-stories/Issue of February 21, 1862/story006.txt\n",
      "x liberator-stories/Issue of February 21, 1862/story001.txt\n",
      "x liberator-stories/Issue of February 21, 1862/story007.txt\n",
      "x liberator-stories/Issue of February 21, 1862/story002.txt\n",
      "x liberator-stories/Issue of February 21, 1862/story009.txt\n",
      "x liberator-stories/Issue of February 21, 1862/story005.txt\n",
      "x liberator-stories/Issue of August 11, 1865/\n",
      "x liberator-stories/Issue of August 11, 1865/story000.txt\n",
      "x liberator-stories/Issue of August 11, 1865/story008.txt\n",
      "x liberator-stories/Issue of August 11, 1865/story003.txt\n",
      "x liberator-stories/Issue of August 11, 1865/story004.txt\n",
      "x liberator-stories/Issue of August 11, 1865/story006.txt\n",
      "x liberator-stories/Issue of August 11, 1865/story001.txt\n",
      "x liberator-stories/Issue of August 11, 1865/story007.txt\n",
      "x liberator-stories/Issue of August 11, 1865/story002.txt\n",
      "x liberator-stories/Issue of August 11, 1865/story009.txt\n",
      "x liberator-stories/Issue of August 11, 1865/story005.txt\n",
      "x liberator-stories/Issue of February 11, 1859/\n",
      "x liberator-stories/Issue of February 11, 1859/story000.txt\n",
      "x liberator-stories/Issue of February 11, 1859/story008.txt\n",
      "x liberator-stories/Issue of February 11, 1859/story003.txt\n",
      "x liberator-stories/Issue of February 11, 1859/story004.txt\n",
      "x liberator-stories/Issue of February 11, 1859/story006.txt\n",
      "x liberator-stories/Issue of February 11, 1859/story001.txt\n",
      "x liberator-stories/Issue of February 11, 1859/story007.txt\n",
      "x liberator-stories/Issue of February 11, 1859/story002.txt\n",
      "x liberator-stories/Issue of February 11, 1859/story009.txt\n",
      "x liberator-stories/Issue of February 11, 1859/story005.txt\n",
      "x liberator-stories/Issue of August 21, 1846/\n",
      "x liberator-stories/Issue of August 21, 1846/story000.txt\n",
      "x liberator-stories/Issue of August 21, 1846/story008.txt\n",
      "x liberator-stories/Issue of August 21, 1846/story003.txt\n",
      "x liberator-stories/Issue of August 21, 1846/story004.txt\n",
      "x liberator-stories/Issue of August 21, 1846/story006.txt\n",
      "x liberator-stories/Issue of August 21, 1846/story001.txt\n",
      "x liberator-stories/Issue of August 21, 1846/story007.txt\n",
      "x liberator-stories/Issue of August 21, 1846/story002.txt\n",
      "x liberator-stories/Issue of August 21, 1846/story009.txt\n",
      "x liberator-stories/Issue of August 21, 1846/story005.txt\n",
      "x liberator-stories/Issue of May 11, 1849/\n",
      "x liberator-stories/Issue of May 11, 1849/story000.txt\n",
      "x liberator-stories/Issue of May 11, 1849/story008.txt\n",
      "x liberator-stories/Issue of May 11, 1849/story003.txt\n",
      "x liberator-stories/Issue of May 11, 1849/story004.txt\n",
      "x liberator-stories/Issue of May 11, 1849/story006.txt\n",
      "x liberator-stories/Issue of May 11, 1849/story001.txt\n",
      "x liberator-stories/Issue of May 11, 1849/story007.txt\n",
      "x liberator-stories/Issue of May 11, 1849/story002.txt\n",
      "x liberator-stories/Issue of May 11, 1849/story009.txt\n",
      "x liberator-stories/Issue of May 11, 1849/story005.txt\n",
      "x liberator-stories/Issue of July 21, 1848/\n",
      "x liberator-stories/Issue of July 21, 1848/story000.txt\n",
      "x liberator-stories/Issue of July 21, 1848/story008.txt\n",
      "x liberator-stories/Issue of July 21, 1848/story003.txt\n",
      "x liberator-stories/Issue of July 21, 1848/story004.txt\n",
      "x liberator-stories/Issue of July 21, 1848/story006.txt\n",
      "x liberator-stories/Issue of July 21, 1848/story001.txt\n",
      "x liberator-stories/Issue of July 21, 1848/story007.txt\n",
      "x liberator-stories/Issue of July 21, 1848/story002.txt\n",
      "x liberator-stories/Issue of July 21, 1848/story009.txt\n",
      "x liberator-stories/Issue of July 21, 1848/story005.txt\n",
      "x liberator-stories/Issue of November 11, 1864/\n",
      "x liberator-stories/Issue of November 11, 1864/story000.txt\n",
      "x liberator-stories/Issue of November 11, 1864/story008.txt\n",
      "x liberator-stories/Issue of November 11, 1864/story003.txt\n",
      "x liberator-stories/Issue of November 11, 1864/story004.txt\n",
      "x liberator-stories/Issue of November 11, 1864/story006.txt\n",
      "x liberator-stories/Issue of November 11, 1864/story001.txt\n",
      "x liberator-stories/Issue of November 11, 1864/story007.txt\n",
      "x liberator-stories/Issue of November 11, 1864/story002.txt\n",
      "x liberator-stories/Issue of November 11, 1864/story009.txt\n",
      "x liberator-stories/Issue of November 11, 1864/story005.txt\n",
      "x liberator-stories/Issue of February 11, 1853/\n",
      "x liberator-stories/Issue of February 11, 1853/story000.txt\n",
      "x liberator-stories/Issue of February 11, 1853/story008.txt\n",
      "x liberator-stories/Issue of February 11, 1853/story003.txt\n",
      "x liberator-stories/Issue of February 11, 1853/story004.txt\n",
      "x liberator-stories/Issue of February 11, 1853/story006.txt\n",
      "x liberator-stories/Issue of February 11, 1853/story001.txt\n",
      "x liberator-stories/Issue of February 11, 1853/story007.txt\n",
      "x liberator-stories/Issue of February 11, 1853/story002.txt\n",
      "x liberator-stories/Issue of February 11, 1853/story009.txt\n",
      "x liberator-stories/Issue of February 11, 1853/story005.txt\n",
      "x liberator-stories/Issue of December 31, 1860/\n",
      "x liberator-stories/Issue of December 31, 1860/story000.txt\n",
      "x liberator-stories/Issue of December 31, 1860/story008.txt\n",
      "x liberator-stories/Issue of December 31, 1860/story003.txt\n",
      "x liberator-stories/Issue of December 31, 1860/story004.txt\n",
      "x liberator-stories/Issue of December 31, 1860/story006.txt\n",
      "x liberator-stories/Issue of December 31, 1860/story001.txt\n",
      "x liberator-stories/Issue of December 31, 1860/story007.txt\n",
      "x liberator-stories/Issue of December 31, 1860/story002.txt\n",
      "x liberator-stories/Issue of December 31, 1860/story009.txt\n",
      "x liberator-stories/Issue of December 31, 1860/story005.txt\n",
      "x liberator-stories/Issue of April 01, 1853/\n",
      "x liberator-stories/Issue of April 01, 1853/story000.txt\n",
      "x liberator-stories/Issue of April 01, 1853/story008.txt\n",
      "x liberator-stories/Issue of April 01, 1853/story003.txt\n",
      "x liberator-stories/Issue of April 01, 1853/story004.txt\n"
     ]
    },
    {
     "name": "stdout",
     "output_type": "stream",
     "text": [
      "x liberator-stories/Issue of April 01, 1853/story006.txt\n",
      "x liberator-stories/Issue of April 01, 1853/story001.txt\n",
      "x liberator-stories/Issue of April 01, 1853/story007.txt\n",
      "x liberator-stories/Issue of April 01, 1853/story002.txt\n",
      "x liberator-stories/Issue of April 01, 1853/story009.txt\n",
      "x liberator-stories/Issue of April 01, 1853/story005.txt\n",
      "x liberator-stories/Issue of May 31, 1861/\n",
      "x liberator-stories/Issue of May 31, 1861/story000.txt\n",
      "x liberator-stories/Issue of May 31, 1861/story008.txt\n",
      "x liberator-stories/Issue of May 31, 1861/story003.txt\n",
      "x liberator-stories/Issue of May 31, 1861/story004.txt\n",
      "x liberator-stories/Issue of May 31, 1861/story006.txt\n",
      "x liberator-stories/Issue of May 31, 1861/story001.txt\n",
      "x liberator-stories/Issue of May 31, 1861/story007.txt\n",
      "x liberator-stories/Issue of May 31, 1861/story002.txt\n",
      "x liberator-stories/Issue of May 31, 1861/story009.txt\n",
      "x liberator-stories/Issue of May 31, 1861/story005.txt\n",
      "x liberator-stories/Issue of June 01, 1849/\n",
      "x liberator-stories/Issue of June 01, 1849/story000.txt\n",
      "x liberator-stories/Issue of June 01, 1849/story008.txt\n",
      "x liberator-stories/Issue of June 01, 1849/story003.txt\n",
      "x liberator-stories/Issue of June 01, 1849/story004.txt\n",
      "x liberator-stories/Issue of June 01, 1849/story006.txt\n",
      "x liberator-stories/Issue of June 01, 1849/story001.txt\n",
      "x liberator-stories/Issue of June 01, 1849/story007.txt\n",
      "x liberator-stories/Issue of June 01, 1849/story002.txt\n",
      "x liberator-stories/Issue of June 01, 1849/story009.txt\n",
      "x liberator-stories/Issue of June 01, 1849/story005.txt\n"
     ]
    }
   ],
   "source": [
    "! tar xvzf liberator-stories.tgz"
   ]
  },
  {
   "cell_type": "code",
   "execution_count": 29,
   "metadata": {
    "collapsed": true
   },
   "outputs": [],
   "source": [
    "files = glob('liberator-stories/Iss*/*.txt')"
   ]
  },
  {
   "cell_type": "code",
   "execution_count": 30,
   "metadata": {
    "collapsed": true
   },
   "outputs": [],
   "source": [
    "# this list comprehension parses each of the dates in the filenames\n",
    "dates = [parse(os.path.split(os.path.dirname(filename))[1][9:],'')\n",
    "         for filename \n",
    "         in files]"
   ]
  },
  {
   "cell_type": "code",
   "execution_count": 31,
   "metadata": {},
   "outputs": [
    {
     "data": {
      "text/plain": [
       "[datetime.datetime(1853, 4, 1, 0, 0),\n",
       " datetime.datetime(1853, 4, 1, 0, 0),\n",
       " datetime.datetime(1853, 4, 1, 0, 0)]"
      ]
     },
     "execution_count": 31,
     "metadata": {},
     "output_type": "execute_result"
    }
   ],
   "source": [
    "dates[1:4]"
   ]
  },
  {
   "cell_type": "markdown",
   "metadata": {},
   "source": [
    "Read the text into a numpy array."
   ]
  },
  {
   "cell_type": "code",
   "execution_count": 33,
   "metadata": {
    "collapsed": true
   },
   "outputs": [],
   "source": [
    "vect = CountVectorizer(max_df=0.5,min_df=0.01,lowercase=True,input='filename')"
   ]
  },
  {
   "cell_type": "code",
   "execution_count": 34,
   "metadata": {
    "collapsed": true
   },
   "outputs": [],
   "source": [
    "X = vect.fit_transform(files)"
   ]
  },
  {
   "cell_type": "code",
   "execution_count": 35,
   "metadata": {},
   "outputs": [
    {
     "data": {
      "text/plain": [
       "(1220, 5271)"
      ]
     },
     "execution_count": 35,
     "metadata": {},
     "output_type": "execute_result"
    }
   ],
   "source": [
    "X.shape"
   ]
  },
  {
   "cell_type": "code",
   "execution_count": 36,
   "metadata": {
    "collapsed": true
   },
   "outputs": [],
   "source": [
    "#this constructs and inverted index from the columns (each word) of X back to the vocabulary\n",
    "ivoc = {j:i for i,j in vect.vocabulary_.items()}"
   ]
  },
  {
   "cell_type": "markdown",
   "metadata": {},
   "source": [
    "**Your turn**\n",
    "\n",
    "1. What is the highest-frequency word in the dataset?\n",
    "2. Modify the vectorizer to include fewer high-frequency words."
   ]
  },
  {
   "cell_type": "code",
   "execution_count": 37,
   "metadata": {
    "collapsed": true
   },
   "outputs": [],
   "source": [
    "# your code\n",
    "import numpy as np"
   ]
  },
  {
   "cell_type": "code",
   "execution_count": 38,
   "metadata": {},
   "outputs": [
    {
     "data": {
      "text/plain": [
       "['you', 'mr', 'had', 'were', 'men']"
      ]
     },
     "execution_count": 38,
     "metadata": {},
     "output_type": "execute_result"
    }
   ],
   "source": [
    "#let's use numpy to generate an array where we sum the total counts for each word (columns)\n",
    "[ivoc[i] for i in np.array(X.sum(axis=0))[0].argsort()[::-1][:5]]"
   ]
  },
  {
   "cell_type": "code",
   "execution_count": 39,
   "metadata": {
    "collapsed": true
   },
   "outputs": [],
   "source": [
    "#We are removing words that are represented in over 20% of documents\n",
    "#QUESTION: What are criteria for the \"right\" amount?\n",
    "vect2 = CountVectorizer(max_df=.20,min_df=0.01,lowercase=True,input='filename') # your code"
   ]
  },
  {
   "cell_type": "code",
   "execution_count": 40,
   "metadata": {
    "collapsed": true
   },
   "outputs": [],
   "source": [
    "X2 = vect2.fit_transform(files)"
   ]
  },
  {
   "cell_type": "code",
   "execution_count": 15,
   "metadata": {
    "collapsed": true
   },
   "outputs": [],
   "source": [
    "?CountVectorizer"
   ]
  },
  {
   "cell_type": "code",
   "execution_count": 41,
   "metadata": {
    "collapsed": true
   },
   "outputs": [],
   "source": [
    "ivoc = {j:i for i,j in vect2.vocabulary_.items()}"
   ]
  },
  {
   "cell_type": "code",
   "execution_count": 42,
   "metadata": {},
   "outputs": [
    {
     "data": {
      "text/plain": [
       "['she', 'meeting', 'church', 'am', 'boston']"
      ]
     },
     "execution_count": 42,
     "metadata": {},
     "output_type": "execute_result"
    }
   ],
   "source": [
    "[ivoc[i] for i in np.array(X2.sum(axis=0))[0].argsort()[::-1][:5]]"
   ]
  },
  {
   "cell_type": "markdown",
   "metadata": {},
   "source": [
    "# Running the topic model\n",
    "\n",
    "In sklearn, we create a `LatentDirichletAllocation` model before fitting it."
   ]
  },
  {
   "cell_type": "code",
   "execution_count": 54,
   "metadata": {},
   "outputs": [],
   "source": [
    "#lda = LatentDirichletAllocation(n_components=10)\n",
    "lda = LatentDirichletAllocation(n_topics=10)"
   ]
  },
  {
   "cell_type": "code",
   "execution_count": 55,
   "metadata": {
    "collapsed": true
   },
   "outputs": [],
   "source": [
    "?LatentDirichletAllocation"
   ]
  },
  {
   "cell_type": "markdown",
   "metadata": {},
   "source": [
    "We can fit the model and obtain the topic loadings per document in a single command, using `fit_transform`."
   ]
  },
  {
   "cell_type": "code",
   "execution_count": 56,
   "metadata": {},
   "outputs": [
    {
     "name": "stderr",
     "output_type": "stream",
     "text": [
      "/Users/shawnramirez/anaconda/lib/python3.6/site-packages/sklearn/decomposition/online_lda.py:508: DeprecationWarning: The default value for 'learning_method' will be changed from 'online' to 'batch' in the release 0.20. This warning was introduced in 0.18.\n",
      "  DeprecationWarning)\n"
     ]
    }
   ],
   "source": [
    "theta = lda.fit_transform(X)"
   ]
  },
  {
   "cell_type": "markdown",
   "metadata": {},
   "source": [
    "Now let's look at the topics"
   ]
  },
  {
   "cell_type": "code",
   "execution_count": 48,
   "metadata": {
    "collapsed": true
   },
   "outputs": [],
   "source": [
    "def show_topics(lda,ivoc):\n",
    "    for k,topic in enumerate(lda.components_):\n",
    "        print(k,[ivoc[i] for i in topic.argsort()[::-1][:7]])"
   ]
  },
  {
   "cell_type": "code",
   "execution_count": 49,
   "metadata": {},
   "outputs": [
    {
     "name": "stdout",
     "output_type": "stream",
     "text": [
      "0 ['root', 'stolen', 'labors', 'steadily', 'personally', 'added', 'rejoice']\n"
     ]
    },
    {
     "ename": "KeyError",
     "evalue": "5259",
     "output_type": "error",
     "traceback": [
      "\u001b[0;31m---------------------------------------------------------------------------\u001b[0m",
      "\u001b[0;31mKeyError\u001b[0m                                  Traceback (most recent call last)",
      "\u001b[0;32m<ipython-input-49-4564e778a638>\u001b[0m in \u001b[0;36m<module>\u001b[0;34m()\u001b[0m\n\u001b[0;32m----> 1\u001b[0;31m \u001b[0mshow_topics\u001b[0m\u001b[0;34m(\u001b[0m\u001b[0mlda\u001b[0m\u001b[0;34m,\u001b[0m\u001b[0mivoc\u001b[0m\u001b[0;34m)\u001b[0m\u001b[0;34m\u001b[0m\u001b[0m\n\u001b[0m",
      "\u001b[0;32m<ipython-input-48-93ddf21d6e8c>\u001b[0m in \u001b[0;36mshow_topics\u001b[0;34m(lda, ivoc)\u001b[0m\n\u001b[1;32m      1\u001b[0m \u001b[0;32mdef\u001b[0m \u001b[0mshow_topics\u001b[0m\u001b[0;34m(\u001b[0m\u001b[0mlda\u001b[0m\u001b[0;34m,\u001b[0m\u001b[0mivoc\u001b[0m\u001b[0;34m)\u001b[0m\u001b[0;34m:\u001b[0m\u001b[0;34m\u001b[0m\u001b[0m\n\u001b[1;32m      2\u001b[0m     \u001b[0;32mfor\u001b[0m \u001b[0mk\u001b[0m\u001b[0;34m,\u001b[0m\u001b[0mtopic\u001b[0m \u001b[0;32min\u001b[0m \u001b[0menumerate\u001b[0m\u001b[0;34m(\u001b[0m\u001b[0mlda\u001b[0m\u001b[0;34m.\u001b[0m\u001b[0mcomponents_\u001b[0m\u001b[0;34m)\u001b[0m\u001b[0;34m:\u001b[0m\u001b[0;34m\u001b[0m\u001b[0m\n\u001b[0;32m----> 3\u001b[0;31m         \u001b[0mprint\u001b[0m\u001b[0;34m(\u001b[0m\u001b[0mk\u001b[0m\u001b[0;34m,\u001b[0m\u001b[0;34m[\u001b[0m\u001b[0mivoc\u001b[0m\u001b[0;34m[\u001b[0m\u001b[0mi\u001b[0m\u001b[0;34m]\u001b[0m \u001b[0;32mfor\u001b[0m \u001b[0mi\u001b[0m \u001b[0;32min\u001b[0m \u001b[0mtopic\u001b[0m\u001b[0;34m.\u001b[0m\u001b[0margsort\u001b[0m\u001b[0;34m(\u001b[0m\u001b[0;34m)\u001b[0m\u001b[0;34m[\u001b[0m\u001b[0;34m:\u001b[0m\u001b[0;34m:\u001b[0m\u001b[0;34m-\u001b[0m\u001b[0;36m1\u001b[0m\u001b[0;34m]\u001b[0m\u001b[0;34m[\u001b[0m\u001b[0;34m:\u001b[0m\u001b[0;36m7\u001b[0m\u001b[0;34m]\u001b[0m\u001b[0;34m]\u001b[0m\u001b[0;34m)\u001b[0m\u001b[0;34m\u001b[0m\u001b[0m\n\u001b[0m",
      "\u001b[0;32m<ipython-input-48-93ddf21d6e8c>\u001b[0m in \u001b[0;36m<listcomp>\u001b[0;34m(.0)\u001b[0m\n\u001b[1;32m      1\u001b[0m \u001b[0;32mdef\u001b[0m \u001b[0mshow_topics\u001b[0m\u001b[0;34m(\u001b[0m\u001b[0mlda\u001b[0m\u001b[0;34m,\u001b[0m\u001b[0mivoc\u001b[0m\u001b[0;34m)\u001b[0m\u001b[0;34m:\u001b[0m\u001b[0;34m\u001b[0m\u001b[0m\n\u001b[1;32m      2\u001b[0m     \u001b[0;32mfor\u001b[0m \u001b[0mk\u001b[0m\u001b[0;34m,\u001b[0m\u001b[0mtopic\u001b[0m \u001b[0;32min\u001b[0m \u001b[0menumerate\u001b[0m\u001b[0;34m(\u001b[0m\u001b[0mlda\u001b[0m\u001b[0;34m.\u001b[0m\u001b[0mcomponents_\u001b[0m\u001b[0;34m)\u001b[0m\u001b[0;34m:\u001b[0m\u001b[0;34m\u001b[0m\u001b[0m\n\u001b[0;32m----> 3\u001b[0;31m         \u001b[0mprint\u001b[0m\u001b[0;34m(\u001b[0m\u001b[0mk\u001b[0m\u001b[0;34m,\u001b[0m\u001b[0;34m[\u001b[0m\u001b[0mivoc\u001b[0m\u001b[0;34m[\u001b[0m\u001b[0mi\u001b[0m\u001b[0;34m]\u001b[0m \u001b[0;32mfor\u001b[0m \u001b[0mi\u001b[0m \u001b[0;32min\u001b[0m \u001b[0mtopic\u001b[0m\u001b[0;34m.\u001b[0m\u001b[0margsort\u001b[0m\u001b[0;34m(\u001b[0m\u001b[0;34m)\u001b[0m\u001b[0;34m[\u001b[0m\u001b[0;34m:\u001b[0m\u001b[0;34m:\u001b[0m\u001b[0;34m-\u001b[0m\u001b[0;36m1\u001b[0m\u001b[0;34m]\u001b[0m\u001b[0;34m[\u001b[0m\u001b[0;34m:\u001b[0m\u001b[0;36m7\u001b[0m\u001b[0;34m]\u001b[0m\u001b[0;34m]\u001b[0m\u001b[0;34m)\u001b[0m\u001b[0;34m\u001b[0m\u001b[0m\n\u001b[0m",
      "\u001b[0;31mKeyError\u001b[0m: 5259"
     ]
    }
   ],
   "source": [
    "show_topics(lda,ivoc)"
   ]
  },
  {
   "cell_type": "markdown",
   "metadata": {},
   "source": [
    "## How many topics?\n",
    "\n",
    "**Your turn**: To see the role of then number of topics on the output, run the model above with half as many and twice as money topics. "
   ]
  },
  {
   "cell_type": "code",
   "execution_count": 50,
   "metadata": {},
   "outputs": [
    {
     "name": "stderr",
     "output_type": "stream",
     "text": [
      "/Users/shawnramirez/anaconda/lib/python3.6/site-packages/sklearn/decomposition/online_lda.py:508: DeprecationWarning: The default value for 'learning_method' will be changed from 'online' to 'batch' in the release 0.20. This warning was introduced in 0.18.\n",
      "  DeprecationWarning)\n",
      "/Users/shawnramirez/anaconda/lib/python3.6/site-packages/sklearn/decomposition/online_lda.py:508: DeprecationWarning: The default value for 'learning_method' will be changed from 'online' to 'batch' in the release 0.20. This warning was introduced in 0.18.\n",
      "  DeprecationWarning)\n"
     ]
    }
   ],
   "source": [
    "lda_half = LatentDirichletAllocation(n_topics=5)# your code here\n",
    "theta_half = lda_half.fit_transform(X)\n",
    "\n",
    "lda_twice = LatentDirichletAllocation(n_topics=20)# your code here. This might take a few minutes to run.\n",
    "theta_twice = lda_twice.fit_transform(X)"
   ]
  },
  {
   "cell_type": "code",
   "execution_count": null,
   "metadata": {},
   "outputs": [],
   "source": [
    "#my code\n",
    "show_topics(lda_half,ivoc)"
   ]
  },
  {
   "cell_type": "code",
   "execution_count": 94,
   "metadata": {},
   "outputs": [
    {
     "name": "stdout",
     "output_type": "stream",
     "text": [
      "0 ['you', 'men', 'do', 'man', 'had', 'were', 'him']\n",
      "1 ['made', 'paper', 'advance', 'quincy', 'square', 'cents', 'phillips']\n",
      "2 ['mann', 'statue', 'horace', 'mr', 'liberator', 'webster', 'phillips']\n",
      "3 ['mr', 'had', 'meeting', 'were', 'society', 'anti', 'committee']\n",
      "4 ['states', 'state', 'constitution', 'power', 'government', 'law', 'shall']\n"
     ]
    }
   ],
   "source": [
    "# rerun after filling in the code above\n",
    "show_topics(lda_half,ivoc)"
   ]
  },
  {
   "cell_type": "code",
   "execution_count": 67,
   "metadata": {},
   "outputs": [
    {
     "name": "stdout",
     "output_type": "stream",
     "text": [
      "0 ['texas', 'annexation', 'gazette', 'legislature', 'treaty', 'alarm', 'state']\n",
      "1 ['had', 'mr', 'blood', 'man', 'men', 'war', 'shall']\n",
      "2 ['mr', 'had', 'him', 'do', 'men', 'should', 'you']\n",
      "3 ['mr', 'had', 'were', 'him', 'you', 'man', 'slave']\n",
      "4 ['volume', 'standard', 'price', 'annum', '1st', 'new', 'boston']\n",
      "5 ['war', 'made', 'paper', 'advance', 'square', 'cents', 'power']\n",
      "6 ['you', 'states', 'south', 'do', 'people', 'union', 'men']\n",
      "7 ['thecity', 'seats', 'threats', 'blackest', 'triumph', 'amidst', 'holds']\n",
      "8 ['courier', 'said', 'shall', 'negro', 'illinois', 'sec', 'fine']\n",
      "9 ['bestowed', 'accord', 'bean', 'presiding', 'courtesy', 'excitement', 'allthe']\n",
      "10 ['mr', 'men', 'slave', 'army', 'made', 'had', 'said']\n",
      "11 ['were', 'mr', 'men', 'you', 'may', 'man', 'phillips']\n",
      "12 ['union', 'dissolve', 'mr', 'fillmore', 'unless', 'should', 'stick']\n",
      "13 ['beecher', 'kill', 'fifty', 'sharp', 'mason', 'ward', 'election']\n",
      "14 ['slave', 'state', 'south', 'states', 'over', 'into', 'without']\n",
      "15 ['men', 'states', 'had', 'may', 'through', 'state', 'free']\n",
      "16 ['law', 'you', 'states', 'people', 'mr', 'like', 'these']\n",
      "17 ['states', 'constitution', 'representation', 'slaves', 'slave', 'john', 'over']\n",
      "18 ['meeting', 'society', 'anti', 'resolved', 'committee', 'resolution', 'resolutions']\n",
      "19 ['were', 'army', 'hold', 'gen', 'general', 'fremont', 'had']\n"
     ]
    }
   ],
   "source": [
    "#my code\n",
    "show_topics(lda_twice,ivoc)"
   ]
  },
  {
   "cell_type": "code",
   "execution_count": 95,
   "metadata": {},
   "outputs": [
    {
     "name": "stdout",
     "output_type": "stream",
     "text": [
      "0 ['made', 'paper', 'advance', 'square', 'cents', 'per', 'dmund']\n",
      "1 ['hold', '10', '50', '100', 'slave', '20', 'men']\n",
      "2 ['mr', 'anti', 'meeting', 'were', 'had', 'society', 'church']\n",
      "3 ['dissolve', 'stick', 'thinks', 'entered', 'threatened', 'threat', 'unless']\n",
      "4 ['party', 'south', 'whig', 'union', 'national', 'know', 'anti']\n",
      "5 ['niggers', 'nigger', 'johnson', 'capt', 'audience', 'brothers', 'worthy']\n",
      "6 ['states', 'state', 'constitution', 'union', 'government', 'law', 'south']\n",
      "7 ['her', 'were', 'these', 'had', 'him', 'states', 'country']\n",
      "8 ['hold', '000', '10', '20', 'value', 'carolina', '50']\n",
      "9 ['you', 'men', 'do', 'man', 'were', 'us', 'had']\n",
      "10 ['him', 'fort', 'should', 'man', 'can', 'law', 'theday']\n",
      "11 ['south', 'carolina', 'congress', 'adopted', 'mr', 'people', 'union']\n",
      "12 ['states', 'other', 'free', 'tending', 'compensation', 'aiding', 'must']\n",
      "13 ['mr', 'slave', 'principles', 'you', 'christian', 'into', 'out']\n",
      "14 ['hon', 'pierce', 'secretary', 'party', 'cabinet', 'mr', 'union']\n",
      "15 ['colony', 'these', 'council', 'planters', 'states', 'great', 'into']\n",
      "16 ['war', 'power', 'slaves', 'laws', 'states', 'adams', 'slave']\n",
      "17 ['ibid', 'yankee', 'tree', 'indignation', 'brooks', 'commerce', 'sovereign']\n",
      "18 ['had', 'him', 'her', 'mr', 'said', 'my', 'me']\n",
      "19 ['mr', 'had', 'hold', 'were', 'these', 'slave', 'should']\n"
     ]
    }
   ],
   "source": [
    "# rerun after filling in the code above\n",
    "show_topics(lda_twice,ivoc)"
   ]
  },
  {
   "cell_type": "markdown",
   "metadata": {},
   "source": [
    "## How many iterations?\n",
    "\n",
    "The number of iterations can also affect the quality of the topics."
   ]
  },
  {
   "cell_type": "code",
   "execution_count": 13,
   "metadata": {},
   "outputs": [
    {
     "name": "stderr",
     "output_type": "stream",
     "text": [
      "/home/jacob/.local/lib/python3.5/site-packages/sklearn/decomposition/online_lda.py:532: DeprecationWarning: The default value for 'learning_method' will be changed from 'online' to 'batch' in the release 0.20. This warning was introduced in 0.18.\n",
      "  DeprecationWarning)\n"
     ]
    },
    {
     "name": "stdout",
     "output_type": "stream",
     "text": [
      "0 ['constitution', 'slave', 'slaves', 'representation', 'garrison', 'over', 'john']\n",
      "1 ['you', 'do', 'man', 'men', 'him', 'what', 'us']\n",
      "2 ['union', 'states', 'some', 'men', 'were', 'these', 'ship']\n",
      "3 ['states', 'other', 'free', 'tending', 'binding', 'constitution', 'must']\n",
      "4 ['made', 'paper', 'advance', 'square', 'cents', 'per', 'dmund']\n",
      "5 ['had', 'south', 'my', 'these', 'presbyterian', 'now', 'us']\n",
      "6 ['mr', 'were', 'had', 'states', 'state', 'people', 'said']\n",
      "7 ['hold', 'us', 'celebration', 'were', 'slave', 'man', 'may']\n",
      "8 ['war', 'power', 'states', 'laws', 'slaves', 'foreign', 'invaded']\n",
      "9 ['slave', 'value', 'free', 'south', 'ibid', 'her', 'states']\n"
     ]
    }
   ],
   "source": [
    "lda_quick = LatentDirichletAllocation(n_components=10,max_iter=2)\n",
    "lda_quick.fit(X)\n",
    "show_topics(lda_quick,ivoc)"
   ]
  },
  {
   "cell_type": "code",
   "execution_count": 69,
   "metadata": {},
   "outputs": [
    {
     "name": "stderr",
     "output_type": "stream",
     "text": [
      "/Users/shawnramirez/anaconda/lib/python3.6/site-packages/sklearn/decomposition/online_lda.py:508: DeprecationWarning: The default value for 'learning_method' will be changed from 'online' to 'batch' in the release 0.20. This warning was introduced in 0.18.\n",
      "  DeprecationWarning)\n"
     ]
    },
    {
     "name": "stdout",
     "output_type": "stream",
     "text": [
      "0 ['states', 'other', 'shall', 'free', 'said', 'must', 'tending']\n",
      "1 ['patriot', 'were', 'him', 'you', 'her', 'yankee', 'men']\n",
      "2 ['you', 'anti', 'slave', 'him', 'day', 'were', 'my']\n",
      "3 ['fremont', 'lincoln', 'davis', 'jeff', 'tribune', 'union', 'may']\n",
      "4 ['states', 'power', 'war', 'you', 'constitution', 'government', 'your']\n",
      "5 ['constitution', 'state', 'congress', 'resolved', 'colored', 'law', 'district']\n",
      "6 ['had', 'were', 'mr', 'union', 'state', 'states', 'south']\n",
      "7 ['made', 'advance', 'paper', 'square', 'cents', 'dmund', 'per']\n",
      "8 ['infidel', 'man', 'mr', 'against', 'society', 'class', 'men']\n",
      "9 ['you', 'mr', 'man', 'had', 'him', 'were', 'do']\n"
     ]
    }
   ],
   "source": [
    "#my code: \n",
    "lda_quick = LatentDirichletAllocation(n_topics=10,max_iter=2)\n",
    "lda_quick.fit(X)\n",
    "show_topics(lda_quick,ivoc)"
   ]
  },
  {
   "cell_type": "markdown",
   "metadata": {},
   "source": [
    "**Discuss** are these topics more or less coherent than in the 10-topic model above?\n",
    "\n",
    "If you like, try running one of the other models for longer than the default number of iterations, which you can find here: http://scikit-learn.org/stable/modules/generated/sklearn.decomposition.LatentDirichletAllocation.html"
   ]
  },
  {
   "cell_type": "code",
   "execution_count": 70,
   "metadata": {},
   "outputs": [
    {
     "name": "stderr",
     "output_type": "stream",
     "text": [
      "/Users/shawnramirez/anaconda/lib/python3.6/site-packages/sklearn/decomposition/online_lda.py:508: DeprecationWarning: The default value for 'learning_method' will be changed from 'online' to 'batch' in the release 0.20. This warning was introduced in 0.18.\n",
      "  DeprecationWarning)\n"
     ]
    },
    {
     "name": "stdout",
     "output_type": "stream",
     "text": [
      "iteration: 5, perplexity: 1976.0602\n",
      "iteration: 10, perplexity: 1961.2263\n",
      "iteration: 15, perplexity: 1955.7944\n",
      "iteration: 20, perplexity: 1952.8128\n",
      "iteration: 25, perplexity: 1950.7057\n",
      "iteration: 30, perplexity: 1949.2012\n",
      "iteration: 35, perplexity: 1948.1118\n",
      "iteration: 40, perplexity: 1947.2502\n",
      "iteration: 45, perplexity: 1946.5041\n",
      "iteration: 50, perplexity: 1945.8895\n",
      "iteration: 55, perplexity: 1945.3503\n",
      "iteration: 60, perplexity: 1944.9075\n",
      "iteration: 65, perplexity: 1944.4998\n",
      "iteration: 70, perplexity: 1944.1232\n",
      "iteration: 75, perplexity: 1943.7946\n",
      "iteration: 80, perplexity: 1943.5048\n",
      "iteration: 85, perplexity: 1943.2474\n",
      "iteration: 90, perplexity: 1943.0085\n",
      "iteration: 95, perplexity: 1942.7869\n",
      "iteration: 100, perplexity: 1942.5704\n"
     ]
    }
   ],
   "source": [
    "#my run\n",
    "lda_longrun = LatentDirichletAllocation(max_iter=100,evaluate_every=5,verbose=1)\n",
    "theta_longrun = lda_longrun.fit_transform(X)"
   ]
  },
  {
   "cell_type": "code",
   "execution_count": 15,
   "metadata": {},
   "outputs": [
    {
     "name": "stderr",
     "output_type": "stream",
     "text": [
      "/home/jacob/.local/lib/python3.5/site-packages/sklearn/decomposition/online_lda.py:532: DeprecationWarning: The default value for 'learning_method' will be changed from 'online' to 'batch' in the release 0.20. This warning was introduced in 0.18.\n",
      "  DeprecationWarning)\n"
     ]
    },
    {
     "name": "stdout",
     "output_type": "stream",
     "text": [
      "iteration: 1 of max_iter: 100\n",
      "iteration: 2 of max_iter: 100\n",
      "iteration: 3 of max_iter: 100\n",
      "iteration: 4 of max_iter: 100\n",
      "iteration: 5 of max_iter: 100, perplexity: 1989.7552\n",
      "iteration: 6 of max_iter: 100\n",
      "iteration: 7 of max_iter: 100\n",
      "iteration: 8 of max_iter: 100\n",
      "iteration: 9 of max_iter: 100\n",
      "iteration: 10 of max_iter: 100, perplexity: 1965.6389\n",
      "iteration: 11 of max_iter: 100\n",
      "iteration: 12 of max_iter: 100\n",
      "iteration: 13 of max_iter: 100\n",
      "iteration: 14 of max_iter: 100\n",
      "iteration: 15 of max_iter: 100, perplexity: 1957.8867\n",
      "iteration: 16 of max_iter: 100\n",
      "iteration: 17 of max_iter: 100\n",
      "iteration: 18 of max_iter: 100\n",
      "iteration: 19 of max_iter: 100\n",
      "iteration: 20 of max_iter: 100, perplexity: 1953.9397\n",
      "iteration: 21 of max_iter: 100\n",
      "iteration: 22 of max_iter: 100\n",
      "iteration: 23 of max_iter: 100\n",
      "iteration: 24 of max_iter: 100\n",
      "iteration: 25 of max_iter: 100, perplexity: 1951.5312\n",
      "iteration: 26 of max_iter: 100\n",
      "iteration: 27 of max_iter: 100\n",
      "iteration: 28 of max_iter: 100\n",
      "iteration: 29 of max_iter: 100\n",
      "iteration: 30 of max_iter: 100, perplexity: 1949.8896\n",
      "iteration: 31 of max_iter: 100\n",
      "iteration: 32 of max_iter: 100\n",
      "iteration: 33 of max_iter: 100\n",
      "iteration: 34 of max_iter: 100\n",
      "iteration: 35 of max_iter: 100, perplexity: 1948.7092\n",
      "iteration: 36 of max_iter: 100\n",
      "iteration: 37 of max_iter: 100\n",
      "iteration: 38 of max_iter: 100\n",
      "iteration: 39 of max_iter: 100\n",
      "iteration: 40 of max_iter: 100, perplexity: 1947.7697\n",
      "iteration: 41 of max_iter: 100\n",
      "iteration: 42 of max_iter: 100\n",
      "iteration: 43 of max_iter: 100\n",
      "iteration: 44 of max_iter: 100\n",
      "iteration: 45 of max_iter: 100, perplexity: 1947.0311\n",
      "iteration: 46 of max_iter: 100\n",
      "iteration: 47 of max_iter: 100\n",
      "iteration: 48 of max_iter: 100\n",
      "iteration: 49 of max_iter: 100\n",
      "iteration: 50 of max_iter: 100, perplexity: 1946.4477\n",
      "iteration: 51 of max_iter: 100\n",
      "iteration: 52 of max_iter: 100\n",
      "iteration: 53 of max_iter: 100\n",
      "iteration: 54 of max_iter: 100\n",
      "iteration: 55 of max_iter: 100, perplexity: 1945.9669\n",
      "iteration: 56 of max_iter: 100\n",
      "iteration: 57 of max_iter: 100\n",
      "iteration: 58 of max_iter: 100\n",
      "iteration: 59 of max_iter: 100\n",
      "iteration: 60 of max_iter: 100, perplexity: 1945.5442\n",
      "iteration: 61 of max_iter: 100\n",
      "iteration: 62 of max_iter: 100\n",
      "iteration: 63 of max_iter: 100\n",
      "iteration: 64 of max_iter: 100\n",
      "iteration: 65 of max_iter: 100, perplexity: 1945.1820\n",
      "iteration: 66 of max_iter: 100\n",
      "iteration: 67 of max_iter: 100\n",
      "iteration: 68 of max_iter: 100\n",
      "iteration: 69 of max_iter: 100\n",
      "iteration: 70 of max_iter: 100, perplexity: 1944.8687\n",
      "iteration: 71 of max_iter: 100\n",
      "iteration: 72 of max_iter: 100\n",
      "iteration: 73 of max_iter: 100\n",
      "iteration: 74 of max_iter: 100\n",
      "iteration: 75 of max_iter: 100, perplexity: 1944.5904\n",
      "iteration: 76 of max_iter: 100\n",
      "iteration: 77 of max_iter: 100\n",
      "iteration: 78 of max_iter: 100\n",
      "iteration: 79 of max_iter: 100\n",
      "iteration: 80 of max_iter: 100, perplexity: 1944.3359\n",
      "iteration: 81 of max_iter: 100\n",
      "iteration: 82 of max_iter: 100\n",
      "iteration: 83 of max_iter: 100\n",
      "iteration: 84 of max_iter: 100\n",
      "iteration: 85 of max_iter: 100, perplexity: 1944.1063\n",
      "iteration: 86 of max_iter: 100\n",
      "iteration: 87 of max_iter: 100\n",
      "iteration: 88 of max_iter: 100\n",
      "iteration: 89 of max_iter: 100\n",
      "iteration: 90 of max_iter: 100, perplexity: 1943.8982\n",
      "iteration: 91 of max_iter: 100\n",
      "iteration: 92 of max_iter: 100\n",
      "iteration: 93 of max_iter: 100\n",
      "iteration: 94 of max_iter: 100\n",
      "iteration: 95 of max_iter: 100, perplexity: 1943.7371\n",
      "iteration: 96 of max_iter: 100\n",
      "iteration: 97 of max_iter: 100\n",
      "iteration: 98 of max_iter: 100\n",
      "iteration: 99 of max_iter: 100\n",
      "iteration: 100 of max_iter: 100, perplexity: 1943.5525\n"
     ]
    }
   ],
   "source": [
    "lda_longrun = LatentDirichletAllocation(max_iter=100,evaluate_every=5,verbose=1)\n",
    "theta_longrun = lda_longrun.fit_transform(X)"
   ]
  },
  {
   "cell_type": "code",
   "execution_count": 71,
   "metadata": {},
   "outputs": [
    {
     "name": "stdout",
     "output_type": "stream",
     "text": [
      "0 ['fremont', 'texas', 'nigger', 'gen', 'niggers', 'feb', 'buchanan']\n",
      "1 ['had', 'were', 'her', 'him', 'she', 'said', 'some']\n",
      "2 ['you', 'do', 'men', 'man', 'what', 'us', 'your']\n",
      "3 ['accord', 'bestowed', 'presiding', 'bean', 'courtesy', 'rabid', 'loss']\n",
      "4 ['british', 'queen', 'lion', 'occur', 'shut', 'ships', 'arrival']\n",
      "5 ['states', 'state', 'union', 'government', 'constitution', 'people', 'south']\n",
      "6 ['states', 'other', 'free', 'compensation', 'tending', 'aiding', 'must']\n",
      "7 ['made', 'paper', 'advance', 'square', 'cents', 'per', 'dmund']\n",
      "8 ['mr', 'had', 'were', 'anti', 'meeting', 'society', 'church']\n",
      "9 ['representation', 'slaves', 'slave', 'john', 'over', 'quincy', 'adams']\n"
     ]
    }
   ],
   "source": [
    "show_topics(lda_longrun,ivoc)"
   ]
  },
  {
   "cell_type": "markdown",
   "metadata": {},
   "source": [
    "## Analysis\n",
    "\n",
    "**Your turn** From all your topic models, select the topic that seems most related to the civil war. If there is no such topic, run the model again with a different number of topics."
   ]
  },
  {
   "cell_type": "code",
   "execution_count": 78,
   "metadata": {
    "collapsed": true
   },
   "outputs": [],
   "source": [
    "war_topic = 5"
   ]
  },
  {
   "cell_type": "markdown",
   "metadata": {},
   "source": [
    "You can view the strength of each topic in each document in the output variable, `theta`"
   ]
  },
  {
   "cell_type": "code",
   "execution_count": 77,
   "metadata": {},
   "outputs": [
    {
     "data": {
      "text/plain": [
       "array([[  1.14942854e-03,   1.14943917e-03,   1.14943386e-03, ...,\n",
       "          9.89655095e-01,   1.14945101e-03,   1.14943586e-03],\n",
       "       [  1.05263955e-03,   1.05264440e-03,   1.05265233e-03, ...,\n",
       "          1.05264157e-03,   1.05264339e-03,   9.90526192e-01],\n",
       "       [  1.53610808e-04,   8.05598185e-01,   1.53640529e-04, ...,\n",
       "          1.53643557e-04,   1.53639183e-04,   1.53626219e-04],\n",
       "       ..., \n",
       "       [  4.78494569e-04,   2.08450533e-01,   2.49861638e-01, ...,\n",
       "          4.78523388e-04,   4.10993026e-01,   4.78509700e-04],\n",
       "       [  3.49664923e-04,   3.49745498e-04,   9.96852629e-01, ...,\n",
       "          3.49715101e-04,   3.49744756e-04,   3.49736189e-04],\n",
       "       [  4.18158383e-02,   2.73367924e-01,   1.88087171e-01, ...,\n",
       "          3.89120833e-04,   2.27602309e-01,   3.89130325e-04]])"
      ]
     },
     "execution_count": 77,
     "metadata": {},
     "output_type": "execute_result"
    }
   ],
   "source": [
    "theta_longrun"
   ]
  },
  {
   "cell_type": "code",
   "execution_count": 88,
   "metadata": {},
   "outputs": [
    {
     "data": {
      "text/plain": [
       "array([[ 0.00114943,  0.00114944,  0.00114943,  0.00114943,  0.00114943,\n",
       "         0.00114944,  0.00114943,  0.9896551 ,  0.00114945,  0.00114944]])"
      ]
     },
     "execution_count": 88,
     "metadata": {},
     "output_type": "execute_result"
    }
   ],
   "source": [
    "#this corresponds to line 1 above, because it's telling it to print up to line 1 (so it's\n",
    "#printing line zero)\n",
    "theta_longrun[:1]"
   ]
  },
  {
   "cell_type": "code",
   "execution_count": 90,
   "metadata": {},
   "outputs": [
    {
     "data": {
      "text/plain": [
       "array([[ 0.00105264,  0.00105264,  0.00105265,  0.00105263,  0.00105263,\n",
       "         0.00105266,  0.00105266,  0.00105264,  0.00105264,  0.99052619]])"
      ]
     },
     "execution_count": 90,
     "metadata": {},
     "output_type": "execute_result"
    }
   ],
   "source": [
    "#this corresponds to line 2\n",
    "theta_longrun[[1]]"
   ]
  },
  {
   "cell_type": "code",
   "execution_count": 91,
   "metadata": {},
   "outputs": [
    {
     "data": {
      "text/plain": [
       "array([[  1.05263955e-03,   1.05264440e-03,   1.05265233e-03, ...,\n",
       "          1.05264157e-03,   1.05264339e-03,   9.90526192e-01],\n",
       "       [  1.53610808e-04,   8.05598185e-01,   1.53640529e-04, ...,\n",
       "          1.53643557e-04,   1.53639183e-04,   1.53626219e-04],\n",
       "       [  9.17431238e-04,   9.17718288e-04,   2.62063486e-01, ...,\n",
       "          9.17431555e-04,   9.17750279e-04,   9.17501346e-04],\n",
       "       ..., \n",
       "       [  4.78494569e-04,   2.08450533e-01,   2.49861638e-01, ...,\n",
       "          4.78523388e-04,   4.10993026e-01,   4.78509700e-04],\n",
       "       [  3.49664923e-04,   3.49745498e-04,   9.96852629e-01, ...,\n",
       "          3.49715101e-04,   3.49744756e-04,   3.49736189e-04],\n",
       "       [  4.18158383e-02,   2.73367924e-01,   1.88087171e-01, ...,\n",
       "          3.89120833e-04,   2.27602309e-01,   3.89130325e-04]])"
      ]
     },
     "execution_count": 91,
     "metadata": {},
     "output_type": "execute_result"
    }
   ],
   "source": [
    "#this corresponds to lines 2 on\n",
    "theta_longrun[1:]"
   ]
  },
  {
   "cell_type": "code",
   "execution_count": null,
   "metadata": {
    "collapsed": true
   },
   "outputs": [],
   "source": []
  },
  {
   "cell_type": "markdown",
   "metadata": {},
   "source": [
    "**Your turn** verify that `theta` is a probability distribution over topics"
   ]
  },
  {
   "cell_type": "code",
   "execution_count": 102,
   "metadata": {
    "collapsed": true
   },
   "outputs": [],
   "source": [
    "# your code here\n",
    "#QUESTION: Ah! I'm stuck. "
   ]
  },
  {
   "cell_type": "markdown",
   "metadata": {},
   "source": [
    "### Viewing documents\n",
    "\n",
    "It can be helpful to look at individual documents."
   ]
  },
  {
   "cell_type": "code",
   "execution_count": 82,
   "metadata": {},
   "outputs": [
    {
     "data": {
      "text/plain": [
       "0.99875668805162643"
      ]
     },
     "execution_count": 82,
     "metadata": {},
     "output_type": "execute_result"
    }
   ],
   "source": [
    "theta_longrun[:,war_topic].max()"
   ]
  },
  {
   "cell_type": "code",
   "execution_count": 83,
   "metadata": {
    "collapsed": true
   },
   "outputs": [],
   "source": [
    "top_docs = theta_longrun[:,war_topic].argsort()[::-1][:3]"
   ]
  },
  {
   "cell_type": "code",
   "execution_count": 84,
   "metadata": {},
   "outputs": [
    {
     "data": {
      "text/plain": [
       "array([ 539, 1133,  414])"
      ]
     },
     "execution_count": 84,
     "metadata": {},
     "output_type": "execute_result"
    }
   ],
   "source": [
    "top_docs"
   ]
  },
  {
   "cell_type": "code",
   "execution_count": 85,
   "metadata": {},
   "outputs": [
    {
     "name": "stdout",
     "output_type": "stream",
     "text": [
      "liberator-stories/Issue of July 01, 1853/story009.txt [\" I have a suggestion to make to my friend opposite,[Mr. Wilson,] in regard to the form of hisproposition, which, if he will accept it, will, as itseems to me, absolutely remove his propositionfrom the criticism of my most eloquent friend beforeme, [Mr. Choate,] and from the criticism ofother gentlemen who nave addressed the Convention.I suggest to him to strike out the word'militia,' and substitute therefor the words 'militarycompanies,' so that his proposition will read'that in the organization of the volunteer militarycompanies of the Commonwealth, there shall be nodistinction of color or race.' Mr. WWILSON. I accept the suggestion, and willamend my proposition accordingly. WILSON. Mr. SUMNER. Now that proposition, as amended,I submit, is absolutely consistent with the Constitutionof the United States, and, I believe, inconformity with the public sentiment of Massachusetts. UMNER. A brief inquiry will show that it is consistentwith the Constitution of the United States, and inno respect interferes with the organization of theNational Militia. That Constitution provides 'fororganizing, arming and disciplining a militia, andgives Congress full power over the subject. To bemore explicit, I will read the clause. It is foundin the lone list of enumerated powers of Congress,and is as follows:—'Congress shall have power toprovide for organizing, arming and disciplining themilitia, and of governing such part of them asmay be employed in the service of the United States,reserving to the States respectively the appointmentof the officers, and the authority of trainingthe militia, according to the discipline prescribedby Congress.' And then at the close of the sectionit is further declared 'that Congress shall make alllaws which shall be necessary and proper for carryinginto execution the foregoing powers.' alllaws which shall be necessary and proper In pursuance of this power, Congress have proceededby various laws, 'to provide for organizing,arming and disciplining the militia, and for governingsuch part of them as may be engaged in theservice of the United States.' The earliest ofthese laws, which is still in force, is entitled, 'Anact more effectually to provide for the national defence,by establishing an uniform militia throughoutthe United States.' [Act of May 8th, 1792, ch.33.] This has been followed by several acts inaddition thereto. Congress, then, have undertakento exercise the power of 'organizing' the militiaunder the Constitution. establishing an uniform And here the question arises, to what extent, ifany, this power, when already exercised by Congress,is exclusive in its character. Among thepowers delegated to Congress, there may be somewhich are not for the time being, exercised. Forinstance, there is the power 'to fix the standardof weights and measures.' Practically this hasnever been exercised by Congress; but it has beenleft to each State within its own jurisdiction. Onthe other hand, there is a power belonging to thesame group, 'to establish uniform laws on the subjectof bankruptcies throughout the United States,'which, when exercised by Congress, has been heldso far exclusive, as to avoid at once all the bankruptand insolvent laws of the several States. Sir, I might go over all the powers of Congress,and find constant illustration of the subject. Forinstance, there is the power 'to establish an uniformrule of naturalization,' on which Chief JusticeMarshall once remarked:—'That the power ofnaturalization is exclusively in Congress, does notseem to be, and certainly ought not to be controverted.'There is the power 'to regulate commercewith foreign nations and among the severalStates,' which was early declared by the SupremeCourt to be exclusive, so as to prevent the exerciseof any part of it by the States. There is thepower over patents and copyrights, which has alsobeen regarded as exclusive. So, also, is the power'to define and punish piracies and felonies, committedon the high seas, and offences against thelaw of nations.' So; also, is still another power,viz.: 'to establish post-offices and post-roads.' Allof these powers, as in the case of the power overthe National Militia, have been exercised by Congress,and even if not absolutely exclusive in theiroriginal character, have become so by the exercise. exclusively Now, sir, upon what ground do gentlemen makeany discrimination in the case of the power overthe national militia? I know of no ground whichseems to be tenable. It is natural that the Statesshould desire to exercise this power, since it wasso important to them before the Union; but I donot see how any discrimination can be maintainedat the present time. Whatever may have been theoriginal importance of the militia to each State,yet when the Constitution of the United Stateswas formed, and Congress exercised the powerdelegated to it over this subject, the militia of theseveral States was absorbed into one uniform body,organized, armed, and disciplined as the NationalMilitia. To the States respectively was left, accordingto the express language of the Constitution,'the appointment of the officers and the authorityof training the militia, according to the disciplineprescribed by Congress.' To this we may add theimplied power of 'governing' them when in theservice of the State. This is all. The distinctspecification of certain powers, as reserved to theStates, seems to exclude them from the exercise ofall others, which are not specified or clearly implied.In other words, they are excluded from all powerover the 'organizing, arming, and disciplining themilitia,'—at least after Congress have undertakento enact laws for this purpose. The history of the adoption of the several partsof this clause in the Federal Convention reflectslight upon its true meaning. The first part, in regardto organizing, arming, and disciplining themilitia, was passed by a vote of nine States againsttwo; the next referring the appointment of officersto the States, after an ineffectual attempt to amendit by confining the appointment to officers underthe rank of general officers, was passed without adivision; and the last, reserving to the States theauthority to train the militia, according to the disciplineprescribed by Congress, was passed by avote of seven States against four. It seems, then,that there was a strong opposition in the Convention,even to the express reservation to the Statesof 'the authority of training the militia.' Butthis power is not reserved unqualifiedly. TheStates are to train the militia 'according to thediscipline prescribed by Congress;' not according toany discipline determined by the States, or by theStates concurrently with the General Government;but absolutely according to the discipline prescribed byCongress; nor more, nor less; thus distinctly recognizingthe exclusive character of the legislationof Congress on this subject. discipline prescribed according to the discipline prescribed byCongress; This interpretation derives confirmation from themanner in which the militia of England was constitutedor organized at the time of the adoption ofthe Federal Constitution. To the crown was giventhe 'sole right to govern and command them,'though they were 'officered' by the Lord Lieutenantof the county, the deputy Lieutenant, andother principal landholders of the county. Thecommentaries of Sir William Blackstone, fromwhich this description is drawn, were familiar tothe members of the Convention; and it is reasonableto suppose that in the distribution of powersbetween the General Government and the States, onthis subject, the peculiar arrangement which prevailedin the mother country was not disregarded. 'sole right If it should be said that the adoption of thisconclusion would affect the character of many lawsenacted by States, and thus far recognized asancillary to the National Militia, it may be repliedthat the possibility of these consequences cannotjustly influence our conclusions on a question whichmust be determined by acknowledged principles ofconstitutional law. In obedience to these same principles,the Supreme Court, in the case of Prigg vs.Pennsylvania, have pronounced an opinion, whichhas annulled a large number of statutes in differentStates. Mr. Justice Wayne in this case said:'That the legislation by Congress upon the provision,as the supreme law of the land, excludes all Statelegislation on the same subject; and that no State canpass any law or regulation, or interpose such asmay have been a law or regulation when the Constitutionof the United States was ratified, to superaddto, control, qualify, or impede a remedy enactedby Congress for the delivery of fugitive slavesto the parties to whom their service or labor is due.' Prigg vs.Pennsylvania excludes all Statelegislation on the same subject; to superaddto Without the sanction of any express words in theConstitution, and chiefly, if not solely, in view ofthe importance of consulting 'unity of purpose oruniformity of operation' in the legislation withregard to fugitive slaves, they have excluded theStates from all sovereignty in the premises. Now if this rule be applicable to the power overfugitive slaves, it is also applicable to the powerover the militia. Indeed, I know of no powerwhich so absolutely requires what has been regardedas an important criterion, 'unity of purpose oruniformity of operation,' as that over the militia.No true military organization can spring from oppositeor inharmonious systems; and all systemsproceeding from different sources are liable to beopposite or inharmonious. Now, sir, let us apply this reasoning in the matterin hand, that we may arrive at a just conclusion.In Massachusetts, there now exists, and has for along time existed, an anamolous system, familiarlyand loosely described as the Volunteer Militia, notcomposed absolutely of those enrolled under thelaws of the United States, but a smaller, moreselect and peculiar body.' Now it cannot be doubtedthat the State, by virtue of its police powers withinits own borders, would have power to constituteor organize a body of volunteers, to aid in enforcingits laws. But it does not follow that it will havepower to constitute or organize a body of volunteers,who shall be regarded as a part of the NationalMilitia. And, sir, I make bold to say thatthe volunteer militia—I prefer to call it the volunteermilitary companies—cannot be regarded as apart of the National Militia. It is no part of thatuniform militia which it was the object of the earlyAct of Congress to organize. 'It may appear to bea part of this system—it may affect to be; but, Isubmit, it is a mistake to suppose that it is so inany just constitutional sense. police powers volunteers uniform militia As a local system, disconnected from the nationalmilitia, and not in any way constrained by itsorganization, it is within our jurisdiction. We arefree to declare the principles which shall govern it.We may declare that, whatever may be the existinglaw of the United States with regard to its enrolledmilitia—and with this I propose no interference,because it would be futile—I say, Massachusetts,may proudly declare that, in her ownvolunteer military companies, marshalled under herown local laws, there shall be no distinction ofcolor or race. \\n\"]\n",
      "liberator-stories/Issue of September 01, 1848/story003.txt [\" On Monday, the following message was laid onthe table of the Speaker of the House:— WASHINGTON, August 14, 1848. ASHINGTON To the House of Representatives of the United States: To the House of Representatives of the United States: When the President has given his official sanctionto a bill which has passed Congress, usage requiresthat he shall notify the House in which itoriginated of that fact. The mode of giving thisnotification has been an oral message, deliveredby his private Secretary. Having this day approved and signed an act entitled'An act to establish the Territorial Governmentof Oregon,' I deem it proper, under the existing circumstances,to communicate the fact in a moresolemn form. The deeply interesting and protracteddiscussions which have taken place in bothHouses of Congress, and the absorbing interestwhich the subject has excited throughout the country,justify, in my judgment, this departure fromthe form of notice observed in other cases. Inthis communication with a co-ordinate branch ofthe government, made proper by the considerationsreferred to, I shall frankly and without reserve expressthe reasons which have constrained me notto withhold my signature from the hill to establisha government over Oregon, even though the twoterritories of New Mexico and California are to beleft for the present without governments. Nonedoubt that it is proper to establish a government inOregon. Indeed it I has been too long delayed. Ihave made repented recommendations to Congressto this effect. The petitions of the people of thatdistant region have been presented to the government,and ought not to be disregarded. To giveto them a regularly organized government and theprotection of our laws, which as citizens of theUnited States they claim, is a high duty on ourpart, and one which we are bound to perform unlessthere be controlling reasons to prevent it. In the progress of all Governments questions ofsuch transcendent importance occasionally ariseas to cast in the shade all those of a mere partycharacter. But one such question can now beagitated in this country; and this may endangerour glorious Union, the source of our greatnessand all our political blessings. This question isslavery. With the slaveholding States this doesnot embrace merely the rights of property, howevervaluable, but it ascends far higher, and] involvesthe domestic peace and security of everyfamily. The fathers of the constitution—the wise andpatriotic men who laid the foundation of our institutions—foreseeing the danger from this quarter,acted in a spirit of compromise and mutual concessionon this dangerous and delicate subject, andtheir wisdom ought to be the guide of their successors.Whilst they left to the States exclusively thequestion of domestic slavery within their respectivelimits, they provided that slaves who might escapeinto other States not recognizing the institution ofslavery shall' be delivered up on the claim of theparty to whom such service or labor may be due'. upon this foundation the matter rested until theMissouri question arose. In December, 1819, application was made toCongress by the people of the Missouri Territoryfor admission into the Union as a State. The discussionupon the subject in Congress involved thequestion of slavery, and was prosecuted with suchviolence as to produce excitments alarming to everypatriot in the Union. But the good genius of conciliationwhich presided at the birth of our institutionsfinally prevailed, and the Missouri compromise wasadopted. The 8th section of the act of Congressof the 6th of March, 1820, 'to authorize the peopleof the Missouri Territory to form a Constitutionand State Government,' & provides: 'That inall that territory ceded by France to the UnitedStates, under the mime of Louisiana, which liesnorth of thirty-six degrees and thirty minutes northlatitude, not included within the limits of the Statecontemplated by this act, slavery and involuntaryservitude, otherwise than in the punishment ofcrimes, whereof the parties shall have been dulyconvicted, shall be and is hereby prohibited: Provided,always, that any person escaping into thesame from whom labor or service in lawfully edin any State or Territory of the United States,such fugitive may be lawfully reclaimed and conveyedto the person claiming his or her labor orservices as aforesaid.' Provided,always  This compromise had the effect of calming thetroubled waves and restoring peace and good willthroughout the States of the Union. The Missouri question had excited intense agitationof the public mind, and threatened to dividethe country into geographical parties, alienating thefeelings of attachment which each portion of ourUnion should bear to every other. The Compromiseallayed the excitement, tranquilized the popularmind, and restored confidence and fraternalfeeling. Its authors were hailed as public benefactors. I do not doubt that a similar adjustment of thequestions now agitating the public mind wouldlend to the same happy results. If the legislationof Congress on the subject of the other Territoriesshall not be adopted in a spirit of conciliation andcompromise, it is impossible that the country canbe satisfied, or that the most disastrous consequencesshall fail to ensue. When Texas was admitted into the Union, thesame spirit of compromise which guided our predecessorsin the admission of Missouri, a quarter ofa century before, prevailed without any serious opposition.The 'joint resolution fur annexing Texasto the United States,' approved March the first,one thousand eight hundred and forty-five, providesthat 'such States as may be formed out of thatportion of said territory lying south of thirty-sixdegrees thirty minutes north latitude, commonlyknown as the Missouri compromise line, shall beadmitted into the Union with or without slavery,as the people of each State asking ad mission maydesire. And in such State or Stales as shall beformed out of said territory north of the Missouricompromise line, slavery, or involuntary servitude(except for crime) shall be prohibited. The territory of Oregon lies for north of thirty-sixdegrees, thirty minutes, the Missouri and Texascompromise line; its southern boundary is the parallelof 42, leaving the intermediate distance to bethree hundred and thirty geographical miles. And it is because the provisions of this bill arenot inconsistent with the terms of the MissouriCompromise, it extended from the Rio Grande tothe Pacific Ocean, that I have not felt at liberty towithhold nay sanction. Had it embraced territoriessouth of that Compromise, the question presentedfor my consideration would have been of a far differentcharacter, and my action upon it must havecorresponded with my convictions. Ought we now to disturb the Missouri and Texascompromises? Ought we, at this late day, inattempting to annul what has been so long establishedand acquiesced in, to excite sectional divisionsand jealousies; to alienate the people of different portionsof the Union from each other, and toendanger the existence of the Union itself? From the adoption of the Federal Constitution,during a period of sixty years, our progress as anation has been without example in the annals ofhistory. Uneder the protection of a bountifulProvidence, we have advanced with giant stridesin the career of wealth and prosperity. We haveenjoyed the blessings of freedom to a greater extentthan any other people, ancient or modern, undera government which has preserved, order andsecured to every citizen life, liberty, and property.We have now become an example for imitation tothe whole world. The friends of freedom in everyclime point with admiration to our institutions.Shall we, then, at the moment when the peopleof Europe are dovoting all their energies in theattempt to assimilate their institutions to our own,peril all our blessings by despising the lessons ofexperience, and refusing to tread in the footstepsour fathers have trodden? And for what would we endanger our gloriousUnion? The Missouri compromise contains a prohibitionof slavery throughout all that vast regionextending twelve and a half degrees along the,Pacific, from the parallel of 36 degrees 30 minutes,to that of 49 degrees, and east from that ocean toand beyond the summit of the Rocky Mountains.Why, then, should our institutions be endangered,because it is proposed to submit to the people ofthe remainder of our newly-acquired territorylying south of 36 degrees 30 minutes, embracingless than four degrees of latitude, the questionwhether, in the language of the Texas compromisethey 'shall be admitted (as a State) into the Unionwith or without slavery.' Is this a question to bepushed to such extremities by excited partizans,on the one side or the other, in regard to our newlyacquired distant possessions on the pacific, asto endanger the union of thirty glorious Stateswhich constitute our confederacy? I have an aladingconfidence that the sober reflection and soundpatriotism of the people of all the States will bringthem to the conclusion that the dictate of wisdomis, to follow the example of those who have gonebefore us, and settle this dangerous question onthe Missouri compromise, or some other equitablecompromise, which would respect the rights ofall, and prove satisfactory to the different portionsof the Union. Holding as a sacred trust the Executive authorityfor the whole Union, and bound to guard thethe rights of all, I should he constrained, by a senseof duty, to withhold my official sanction from anymeasure which would conflict with these importantobjects. JAMES K. POLK. \\n\"]\n",
      "liberator-stories/Issue of February 21, 1862/story004.txt [' The following are the resolutions on the presentrelations of the rebel States to the General Government,introduced on Tuesday in the Senate by Mr.Sumner:— Resolutions declaratory of the relations between the UnitedStates and the territory once occupied by certain States,and now usurped by pretended Governments, without constitutionalor legal right. Resolutions declaratory of the relations between the UnitedStates and the territory once occupied by certain States,and now usurped by pretended Governments, without constitutionalor legal right. Whereas certain States, rightfully belonging tothe Union of the United States, have through theirrespective Governments wickedly undertaken to abjureall those duties by which their connection withthe Union was maintained; to renounce all allegianceto the Constitution; to levy war upon theNational Government; and, for the consummationof this treason, have unconstitutionally and unlawfullyconfederated together, with the declared purposeof putting an end by force to the supremacy ofthe Constitution within their respective limits; andwhereas this condition of insurrection, organized bypretended governments, openly exists in South Carolina,Georgia, Florida, Alabama, Mississippi, Louisiana,Texas, Arkansas, Tennessee, and Virginia,except in Eastern Tennessee and Western Virginia,and has been declared by the President of the UnitedStates, in a proclamation duly made in conformitywith an act of Congress, to exist throughout thisterritory, with the exceptions already named; andwhereas the extensive territory thus usurped by thesepretended Governments, and organized into a hostileconfederation, belongs to the United States as anin the present and future generations, and is socompletely interlinked with the Union that itis forever dependent thereupon; and whereas theConstitution, which is the supreme law of theland, cannot be displaced in its rightful operationwithin this territory, but must ever continue the supremelaw thereof, notwithstanding the doings ofany pretended governments acting singly or in confederation,federation, in order to put an end to its supremacy;therefore, 1. Resolved, That any vote of secession or otheract by which any State may undertake to put anend to the supremacy of the Constitution within itsterritory is inoperative and void against the Constitution,and when sustained by force it becomes apractical abdication by the State of all rights underthe Constitution, while the treason which it involvesstill further works an instant forfeiture of all thosefunctions and powers essential to the continued existenceof the State as a body politic, so that fromthat time forward the territory falls finder the exclusivejurisdiction of Congress as other territory, andthe State being, according to the language of thelaw, felo-de-se, ceases to exist. abdication forfeiture felo-de-se 2. Resolved, That any combination, of men assumingto act in the place of such State, and attemptingto ensnare or coerce the inhabitants thereofinto a confederation hostile to the Union, is rebellious,treasonable, and destitute of all moral authority;and that such combination is a usurpation, incapableof any constitutional existence, and utterlylawless, so that everything dependent upon it iswithout constitutional or legal support. 3. Resolved, That the termination of a State underthe Constitution necessarily causes the terminationof those peculiar local institutions which, havingno origin in the Constitution or in those naturalrights which exist independent of the Constitution,are upheld by the sole and exclusive authority ofthe State. 4. Resolved, That slavery being a peculiar localinstitution, derived from local laws, without any originin the Constitution or in natural rights, is upheldby the sole and exclusive authority of the State, andmust therefore cease to exist legally or constitutionallywhen the State on which it depends no longerexists; for the incident cannot survive the principal. 5. Resolved, That in the exercise of its exclusivejurisdiction over the territory once occupied bythe States, it is the duty of Congress to see that thesupremacy of the Constitution is maintained in itsessential principles, so that everywhere in this extensiveterritory slavery shall cease to exist practically,as it has already ceased to exist constitutionallyor legally. 6. Resolved, That any recognition of slavery insuch territory, or any surrender of slaves under thepretended laws of the extinct States by any officerof the United States, civil or military, is a recognitionof the pretended governments, to the exclusionof the jurisdiction of Congress under the Constitution,and is in the nature of aid and comfort to therebellion that has been organized. 7. Resolved, That any such recognition of slaveryor surrender of pretended slaves, besides being arecognition of the pretended governments, givingthem aid and comfort, is a denial of the rights ofpersons who, by the extinction of the States, havebecome free, so that, under the Constitution, theycannot again be enslaved. 8. Resolved, That allegiance from the inhabitantand protection from use Government are correspondingobligations, dependent upon each other, sothat while the allegiance of every inhabitant of thisterritory, without distinction of color or class, is dueto the United States, and cannot in any war be defeatedby the action of any pretended government,or by any pretence of property or claim to service,the corresponding obligation of protection is at thesame time doe by the United States to every suchinhabitant, without distinction of color or class; andit follows that inhabitants held as slaves, whose paramountallegiance is due to the United States, mayjustly look, to the National Government for protection. 9. Resolved, That the duty directly east uponCongress by the extinction of the States is reinforcedby the positive prohibition of the Constitution, that\"no State shall enter into nay confederation,\" or\"without the consent of Congress keep troops orships-of-war in times of peace, or enter into anyagreement or compact with another State,\" or\"grant letters of marque and reprisal,\" or \"coinmoney,\" or \"emit bills of credit,\" or \"without theconsent of Congress lay any duties on exports or imports,\"all of which has been dose by these pretendedgovernments, and also by the positive injunctionof the Constitution, addressed to the nation, that\"the United States shall guarantee to every Statein this Union a republican form of government;\"and that in pursuance of this duty cast upon Congress,and further enjoined by the Constitution,Congress will consume complete jurisdiction of suchvacated territory where such unconstitutional andillegal things have been attempted, and will proceedto establish therein republican forms of governmentunder the Constitution; and in the execution of thistrust will provide carefully for the protection of allthe inhabitants thereof, for the security of families,the organization of labor, the encouragement of industry,and the welfare of society, and will in everyway discharge the duties of a just, merciful and paternalgovernment. \\n']\n"
     ]
    }
   ],
   "source": [
    "#my run\n",
    "for filenum in top_docs:\n",
    "    with open (files[filenum]) as fin:\n",
    "        print(files[filenum],fin.readlines())"
   ]
  },
  {
   "cell_type": "code",
   "execution_count": 22,
   "metadata": {},
   "outputs": [
    {
     "name": "stdout",
     "output_type": "stream",
     "text": [
      "Issue of March 31, 1865/story001.txt [' \"I lay this down as the low of nations. I say that militaryauthority takes, for the time the place of all municipalinstitutions, and SLAVERY AMONG THE REST;and that, under that state of things, so far from its beingtrue that the States where slavery exists have the exclusivemanagement of the subject, not only the PRESIDENT OFTHE UNITED STATES, but the COMMANDER OFTHE ARMY,HAS POWER TO ORDER THE UNIVERSAL EMANCIPATIONOF THE SLAVES . . . . From the instantthat the slaveholding States become the theatre of a war,CIVIL, servile, or foreign, from that instant the war powersof CONGRESS extend to interference institution ofslavery, IN EVERY WAY IN WHICH IT CAN BE INTERFEREDWITH, from a claim of indemnity for slaves taken or destroyed,to the cession of States, burdened with slavery, toa foreign power. . . . It is a war power. I say it in a wpower; and when your country is actually in war, whetherit be a war of invasion or a war of insurrection, Congresshas power to  on the war, and MUST CARRY IT ON, ACCORDINGTO THE LAWS OF WAR; and by the laws of war,an invaded country has all its laws and municipal institutionsswept by the board, and MARTIAL POWER TAKES THEPLACE OF THEM. When two hostile armies are set in martialarray, the commanders of both armies have power to emancipateall the slaves in the invaded territory.\"—J.Q. ADAMS. RESIDENT OFTHE NITED TATES OMMANDER OFTHE RMY ONGRESS   DAMS. \\n']\n",
      "Issue of November 11, 1864/story001.txt [' \"I lay this down as the law of nations. I say that militaryauthority takes, for the time, the place of all municipalinstitutions, and SLAVERY AMONG THE REST;and that, under that state of things, so far from its beingtrue that the States where slavery exists have the exclusivemanagement of the subject, not only the PRESIDENT OFTHE UNITED STATES, but the COMMANDER OF THE ARMY,HAS POWER TO ORDER THE UNIVERSAL EMANCIPATIONOF THE SLAVES... From the instantthat the slaveholding States become the theatre of a war,CIVIL, servile, or foreign, from that instant the war powersof CONGRESS extend to interference with the institution ofslavery, IN EVERY WAY IN WHICH IT CAN BE INTERFEREDWITH, from a claim of indemnity for slaves taken or destroyed,to the cession of States, burdened with slavery, toa foreign power... It is a war power. I say it is a warpower; and when your country is actually in war, whetherit be a war of invasion or a war of insurrection, Congresshas power to carry on the war, and MUST CARRY IT ON, ACCORDINGTO THE LAWS OF WAR; and by the laws of war,an invaded country has all its laws and municipal institutionsswept by the board, and MARTIAL POWER TAKES THEPLACE OF THEM. When two hostile armies are set in martialarray, the commanders of both armies have power to emancipateall the slaves in the invaded territory.\"—.J.Q ADAMS. RESIDENT OFTHE NITED TATES OMMANDER OF THE RMY ONGRESS DAMS. \\n']\n",
      "Issue of July 11, 1862/story001.txt [' \"I lay this down as the law of nations. I say that militaryauthority takes, for the time, the place of all municipalinstitutions, and SLAVERY AMONG THE REST;and that, under the state of things, so far from its beingtrue that the States where slavery exists have the exclusivemanagement of the subject, not only the PRESIDENT OFTHE UNITED STATES, but the COMMANDER OF THE ARMY,HAS POWER TO ORDER THE UNIVERSAL EMANCIPATIONOF THE SLAVES. . . From the instantthat the slaveholding States become the theatre of a war,CIVIL, servile, or foreign, from that instant the war powersof CONGRESS extend to interference with the institution ofslavery, IN EVERY WAY IN WHICH IT CAN BE WITH, from a claim of indemnity for slaves taken or destroyed,to the cession of States, burdened with slavery, toa foreign power... It is a war power. I say it is a warpower; and when your country is actually in war, whetherit be a war of invasion or a war of insurrection, Congresshas power to carry on the war, and MUST CARRY IT ON, ACCORDINGTO THE LAWS OF WAR; and by the laws of war,an invaded country has all its laws and municipal institutionsswept by the board, and MARTIAL POWER TAKES THEPLACE OF THEM. When two hostile armies are set in martialarray, the commanders of both armies have power to emancipateall the slaves in the invaded territory.\"—J.Q. ADAMS. RESIDENT OFTHE NITED TATES OMMANDER OF THE RMY ONGRESS  DAMS. \\n']\n"
     ]
    }
   ],
   "source": [
    "for filenum in top_docs:\n",
    "    with open (files[filenum]) as fin:\n",
    "        print(files[filenum],fin.readlines())"
   ]
  },
  {
   "cell_type": "markdown",
   "metadata": {},
   "source": [
    "It's the same story every time! (At least the story really is about war...) \n",
    "\n",
    "At this point, it would be helpful to understand why this story appears multiple times in the corpus: was it really reprinted in each of these issues, or was there a mistake in the data entry or pipeline?"
   ]
  },
  {
   "cell_type": "markdown",
   "metadata": {},
   "source": [
    "## Topic strength over time\n",
    "\n",
    "Let's try to plot the strength of the war topic over time"
   ]
  },
  {
   "cell_type": "code",
   "execution_count": 86,
   "metadata": {},
   "outputs": [
    {
     "data": {
      "image/png": "[encoded data removed]",
      "text/plain": [
       "<matplotlib.figure.Figure at 0x118b0e898>"
      ]
     },
     "metadata": {},
     "output_type": "display_data"
    }
   ],
   "source": [
    "#plt.scatter([date.year for date in dates],theta[:,0],alpha=0.5);\n",
    "plt.scatter([date.year for date in dates],theta_longrun[:,war_topic],alpha=0.5);\n",
    "plt.ylabel('strength of war topic')\n",
    "plt.xlabel('year');"
   ]
  },
  {
   "cell_type": "code",
   "execution_count": 1,
   "metadata": {},
   "outputs": [
    {
     "ename": "NameError",
     "evalue": "name 'plt' is not defined",
     "output_type": "error",
     "traceback": [
      "\u001b[0;31m---------------------------------------------------------------------------\u001b[0m",
      "\u001b[0;31mNameError\u001b[0m                                 Traceback (most recent call last)",
      "\u001b[0;32m<ipython-input-1-7cef1335104a>\u001b[0m in \u001b[0;36m<module>\u001b[0;34m()\u001b[0m\n\u001b[1;32m      1\u001b[0m \u001b[0;31m#plt.scatter([date.year for date in dates],theta[:,0],alpha=0.5);\u001b[0m\u001b[0;34m\u001b[0m\u001b[0;34m\u001b[0m\u001b[0m\n\u001b[0;32m----> 2\u001b[0;31m \u001b[0mplt\u001b[0m\u001b[0;34m.\u001b[0m\u001b[0mscatter\u001b[0m\u001b[0;34m(\u001b[0m\u001b[0;34m[\u001b[0m\u001b[0mdate\u001b[0m\u001b[0;34m.\u001b[0m\u001b[0myear\u001b[0m \u001b[0;32mfor\u001b[0m \u001b[0mdate\u001b[0m \u001b[0;32min\u001b[0m \u001b[0mdates\u001b[0m\u001b[0;34m]\u001b[0m\u001b[0;34m,\u001b[0m\u001b[0mtheta_longrun\u001b[0m\u001b[0;34m[\u001b[0m\u001b[0;34m:\u001b[0m\u001b[0;34m,\u001b[0m\u001b[0mwar_topic\u001b[0m\u001b[0;34m]\u001b[0m\u001b[0;34m,\u001b[0m\u001b[0malpha\u001b[0m\u001b[0;34m=\u001b[0m\u001b[0;36m0.5\u001b[0m\u001b[0;34m)\u001b[0m\u001b[0;34m;\u001b[0m\u001b[0;34m\u001b[0m\u001b[0m\n\u001b[0m\u001b[1;32m      3\u001b[0m \u001b[0mplt\u001b[0m\u001b[0;34m.\u001b[0m\u001b[0mylabel\u001b[0m\u001b[0;34m(\u001b[0m\u001b[0;34m'strength of war topic'\u001b[0m\u001b[0;34m)\u001b[0m\u001b[0;34m\u001b[0m\u001b[0m\n\u001b[1;32m      4\u001b[0m \u001b[0mplt\u001b[0m\u001b[0;34m.\u001b[0m\u001b[0mxlabel\u001b[0m\u001b[0;34m(\u001b[0m\u001b[0;34m'year'\u001b[0m\u001b[0;34m)\u001b[0m\u001b[0;34m;\u001b[0m\u001b[0;34m\u001b[0m\u001b[0m\n",
      "\u001b[0;31mNameError\u001b[0m: name 'plt' is not defined"
     ]
    }
   ],
   "source": [
    "#plt.scatter([date.year for date in dates],theta[:,0],alpha=0.5);\n",
    "plt.scatter([date.year for date in dates],theta_longrun[:,war_topic],alpha=0.5);\n",
    "plt.ylabel('strength of war topic')\n",
    "plt.xlabel('year');"
   ]
  },
  {
   "cell_type": "markdown",
   "metadata": {},
   "source": [
    "**Your turn**: In my opinion, this visualization isn't great. Can you think of a graphical way to more clearly show the strength of this topic over time? You may want to transform the data before doing this.\n",
    "\n",
    "Consider using [seaborn](https://seaborn.pydata.org/). To do this, you'll need to import pandas and make the data into a dataframe."
   ]
  },
  {
   "cell_type": "code",
   "execution_count": null,
   "metadata": {
    "collapsed": true
   },
   "outputs": [],
   "source": []
  }
 ],
 "metadata": {
  "kernelspec": {
   "display_name": "Python 3",
   "language": "python",
   "name": "python3"
  },
  "language_info": {
   "codemirror_mode": {
    "name": "ipython",
    "version": 3
   },
   "file_extension": ".py",
   "mimetype": "text/x-python",
   "name": "python",
   "nbconvert_exporter": "python",
   "pygments_lexer": "ipython3",
   "version": "3.6.1"
  }
 },
 "nbformat": 4,
 "nbformat_minor": 2
}
